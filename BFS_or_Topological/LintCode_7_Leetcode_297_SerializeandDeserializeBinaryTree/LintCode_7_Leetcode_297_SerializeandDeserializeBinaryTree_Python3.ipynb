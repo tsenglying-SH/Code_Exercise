{
 "cells": [
  {
   "cell_type": "markdown",
   "metadata": {},
   "source": [
    "## My version, just BFS, a little messy"
   ]
  },
  {
   "cell_type": "code",
   "execution_count": null,
   "metadata": {},
   "outputs": [],
   "source": [
    "# Definition for a binary tree node.\n",
    "# class TreeNode(object):\n",
    "#     def __init__(self, x):\n",
    "#         self.val = x\n",
    "#         self.left = None\n",
    "#         self.right = None\n",
    "\n",
    "class Codec:\n",
    "\n",
    "    def serialize(self, root):\n",
    "        \"\"\"Encodes a tree to a single string.\n",
    "        \n",
    "        :type root: TreeNode\n",
    "        :rtype: str\n",
    "        \"\"\"\n",
    "        if not root:\n",
    "            return []\n",
    "            \n",
    "        queue = [root]\n",
    "        res = [str(root.val)]\n",
    "        while queue:\n",
    "            node = queue.pop(0)\n",
    "            if node.left:\n",
    "                queue.append(node.left)\n",
    "                res.append(str(node.left.val))\n",
    "            else:\n",
    "                res.append('#')\n",
    "            if node.right:\n",
    "                queue.append(node.right)\n",
    "                res.append(str(node.right.val))\n",
    "            else:\n",
    "                res.append(\"#\")\n",
    "        while res[-1] == \"#\":\n",
    "            res.pop()\n",
    "        return ' '.join(res)\n",
    "        \n",
    "    def deserialize(self, data):\n",
    "        \"\"\"Decodes your encoded data to tree.\n",
    "        \n",
    "        :type data: str\n",
    "        :rtype: TreeNode\n",
    "        \"\"\"\n",
    "        # write your code here\n",
    "        if not data:\n",
    "            return\n",
    "        \n",
    "        bfs_order = [int(e) if e != '#' else None for e in data.split()]\n",
    "        \n",
    "        root = TreeNode(int(bfs_order[0]))\n",
    "        queue = [root]\n",
    "        i = 1\n",
    "        while i <  len(bfs_order) and queue:\n",
    "            node = queue.pop(0)\n",
    "\n",
    "            if i < len(bfs_order) and bfs_order[i] != None:\n",
    "                node.left = TreeNode(bfs_order[i])\n",
    "                queue.append(node.left)\n",
    "            i += 1\n",
    "            \n",
    "            if i < len(bfs_order) and bfs_order[i] != None:\n",
    "                node.right = TreeNode(bfs_order[i])\n",
    "                queue.append(node.right)\n",
    "            i += 1\n",
    "        \n",
    "        return root"
   ]
  }
 ],
 "metadata": {
  "kernelspec": {
   "display_name": "Python 3",
   "language": "python",
   "name": "python3"
  },
  "language_info": {
   "codemirror_mode": {
    "name": "ipython",
    "version": 3
   },
   "file_extension": ".py",
   "mimetype": "text/x-python",
   "name": "python",
   "nbconvert_exporter": "python",
   "pygments_lexer": "ipython3",
   "version": "3.7.3"
  }
 },
 "nbformat": 4,
 "nbformat_minor": 2
}
