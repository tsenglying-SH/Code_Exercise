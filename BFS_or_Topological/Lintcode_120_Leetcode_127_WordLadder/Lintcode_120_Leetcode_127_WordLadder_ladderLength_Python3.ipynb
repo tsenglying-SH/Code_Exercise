{
 "cells": [
  {
   "cell_type": "markdown",
   "metadata": {},
   "source": [
    "## my BFS version, order travesal the word can reach, O(26 L * L * n)"
   ]
  },
  {
   "cell_type": "code",
   "execution_count": 14,
   "metadata": {},
   "outputs": [],
   "source": [
    "# this is solution for Lintcode, Leetcode solution may be a little different\n",
    "def ladderlength(start, end, word_pool):\n",
    "    # write your code here\n",
    "    if end not in word_pool: return 0\n",
    "    if start == end: return 1\n",
    "    count = 1\n",
    "    queue = [start]\n",
    "    # add end in word_pool, it may be not available at the beginning\n",
    "    # must use set， list is too slow when search in pool\n",
    "    word_pool.add(end)\n",
    "    while queue:\n",
    "        size = len(queue)\n",
    "\n",
    "        for _ in range(size):\n",
    "            word = queue.pop(0)\n",
    "            if word == end:\n",
    "                return count\n",
    "            for i in range(len(word)):\n",
    "                for char in \"abcdefghijklmnopqrstuvwxyz\":\n",
    "                    new_word = word[:i] + char + word[i + 1:]\n",
    "                    if new_word in word_pool:\n",
    "                        queue.append(new_word)\n",
    "                        word_pool.remove(new_word)\n",
    "        count += 1\n",
    "    return -1"
   ]
  },
  {
   "cell_type": "code",
   "execution_count": 10,
   "metadata": {},
   "outputs": [],
   "source": [
    "start = \"a\"\n",
    "end = \"c\"\n",
    "dict1 ={\"a\",\"b\",\"c\"}"
   ]
  },
  {
   "cell_type": "code",
   "execution_count": 11,
   "metadata": {},
   "outputs": [
    {
     "data": {
      "text/plain": [
       "2"
      ]
     },
     "execution_count": 11,
     "metadata": {},
     "output_type": "execute_result"
    }
   ],
   "source": [
    "ladderlength(start, end, dict1)"
   ]
  },
  {
   "cell_type": "code",
   "execution_count": 12,
   "metadata": {},
   "outputs": [],
   "source": [
    "start =\"hit\"\n",
    "end = \"cog\"\n",
    "dict1 ={\"hot\",\"dot\",\"dog\",\"lot\",\"log\"}"
   ]
  },
  {
   "cell_type": "code",
   "execution_count": 13,
   "metadata": {},
   "outputs": [
    {
     "data": {
      "text/plain": [
       "5"
      ]
     },
     "execution_count": 13,
     "metadata": {},
     "output_type": "execute_result"
    }
   ],
   "source": [
    "ladderlength(start, end, dict1)"
   ]
  },
  {
   "cell_type": "code",
   "execution_count": null,
   "metadata": {},
   "outputs": [],
   "source": []
  },
  {
   "cell_type": "code",
   "execution_count": null,
   "metadata": {},
   "outputs": [],
   "source": []
  }
 ],
 "metadata": {
  "kernelspec": {
   "display_name": "Python 3",
   "language": "python",
   "name": "python3"
  },
  "language_info": {
   "codemirror_mode": {
    "name": "ipython",
    "version": 3
   },
   "file_extension": ".py",
   "mimetype": "text/x-python",
   "name": "python",
   "nbconvert_exporter": "python",
   "pygments_lexer": "ipython3",
   "version": "3.7.3"
  }
 },
 "nbformat": 4,
 "nbformat_minor": 2
}
