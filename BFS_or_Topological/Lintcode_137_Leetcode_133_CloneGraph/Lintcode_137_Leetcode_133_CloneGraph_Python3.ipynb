{
 "cells": [
  {
   "cell_type": "markdown",
   "metadata": {},
   "source": [
    "### BFS，looks simple, but took me so much time"
   ]
  },
  {
   "cell_type": "code",
   "execution_count": 1,
   "metadata": {},
   "outputs": [],
   "source": [
    "\"\"\"\n",
    "# Definition for a Node.\n",
    "class Node:\n",
    "    def __init__(self, val, neighbors):\n",
    "        self.val = val\n",
    "        self.neighbors = neighbors\n",
    "\"\"\"\n",
    "class Solution:\n",
    "    def cloneGraph(self, node: 'Node') -> 'Node':\n",
    "        if not node:\n",
    "            return\n",
    "        # ensure node is saved in dict before joining the queue\n",
    "        old_new = {node: Node(node.val, [])}\n",
    "        queue = [node]\n",
    "        \n",
    "        while queue:\n",
    "            old_node = queue.pop(0)\n",
    "            for old_neigh in old_node.neighbors:\n",
    "                # if new_neigh is available, just link to it, don't create the new_neigh again\n",
    "                if old_neigh not in old_new:\n",
    "                    new_neigh = Node(old_neigh.val, [])\n",
    "                    old_new[old_neigh] = new_neigh\n",
    "                    # ensure node is saved in dict before joining the queue\n",
    "                    old_new[old_node].neighbors.append(new_neigh)\n",
    "                    queue.append(old_neigh)\n",
    "                else:\n",
    "                    old_new[old_node].neighbors.append(old_new[old_neigh])\n",
    "        \n",
    "        return old_new[node]"
   ]
  },
  {
   "cell_type": "markdown",
   "metadata": {},
   "source": [
    "### Change pop(0) to pop(), then it's Iteration DFS"
   ]
  },
  {
   "cell_type": "code",
   "execution_count": null,
   "metadata": {},
   "outputs": [],
   "source": [
    "\"\"\"\n",
    "# Definition for a Node.\n",
    "class Node:\n",
    "    def __init__(self, val, neighbors):\n",
    "        self.val = val\n",
    "        self.neighbors = neighbors\n",
    "\"\"\"\n",
    "class Solution:\n",
    "    def cloneGraph(self, node: 'Node') -> 'Node':\n",
    "        if not node:\n",
    "            return\n",
    "        \n",
    "        old_new = {node: Node(node.val, [])}\n",
    "        queue = [node]\n",
    "        \n",
    "        while queue:\n",
    "            old_node = queue.pop()\n",
    "            for old_neigh in old_node.neighbors:\n",
    "                if old_neigh not in old_new:\n",
    "                    new_neigh = Node(old_neigh.val, [])\n",
    "                    old_new[old_neigh] = new_neigh\n",
    "                    old_new[old_node].neighbors.append(new_neigh)\n",
    "                    queue.append(old_neigh)\n",
    "                else:\n",
    "                    old_new[old_node].neighbors.append(old_new[old_neigh])\n",
    "        \n",
    "        return old_new[node]"
   ]
  },
  {
   "cell_type": "markdown",
   "metadata": {},
   "source": [
    "### recursive，so tricky, so had better use Iteration version during interview"
   ]
  },
  {
   "cell_type": "code",
   "execution_count": 2,
   "metadata": {},
   "outputs": [],
   "source": [
    "\"\"\"\n",
    "# Definition for a Node.\n",
    "class Node:\n",
    "    def __init__(self, val, neighbors):\n",
    "        self.val = val\n",
    "        self.neighbors = neighbors\n",
    "\"\"\"\n",
    "class Solution:\n",
    "    def cloneGraph(self, node: 'Node') -> 'Node':\n",
    "        if not node:\n",
    "            return\n",
    "        \n",
    "        old_to_new = {node : Node(node.val, [])}\n",
    "        self.dfs(node, old_to_new)\n",
    "        return old_to_new[node]\n",
    "    \n",
    "    def dfs(self, node, old_to_new):\n",
    "        if not node:\n",
    "            return\n",
    "        for neighbor in node.neighbors:\n",
    "            if neighbor not in old_to_new:\n",
    "                old_to_new[neighbor] = Node(neighbor.val, [])\n",
    "                self.dfs(neighbor, old_to_new)\n",
    "            old_to_new[node].neighbors.append(old_to_new[neighbor])"
   ]
  },
  {
   "cell_type": "code",
   "execution_count": null,
   "metadata": {},
   "outputs": [],
   "source": []
  }
 ],
 "metadata": {
  "kernelspec": {
   "display_name": "Python 3",
   "language": "python",
   "name": "python3"
  },
  "language_info": {
   "codemirror_mode": {
    "name": "ipython",
    "version": 3
   },
   "file_extension": ".py",
   "mimetype": "text/x-python",
   "name": "python",
   "nbconvert_exporter": "python",
   "pygments_lexer": "ipython3",
   "version": "3.7.3"
  }
 },
 "nbformat": 4,
 "nbformat_minor": 2
}
