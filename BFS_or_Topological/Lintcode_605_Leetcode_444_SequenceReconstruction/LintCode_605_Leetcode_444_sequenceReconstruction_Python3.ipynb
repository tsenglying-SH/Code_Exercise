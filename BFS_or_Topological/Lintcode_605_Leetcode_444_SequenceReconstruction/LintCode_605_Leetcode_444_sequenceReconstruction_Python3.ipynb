{
 "cells": [
  {
   "cell_type": "markdown",
   "metadata": {},
   "source": [
    "## Method 1\n",
    "Mistakes are easy to make during building here graph and indegree here\n",
    "\n",
    "After finish the graph, indegree, do the classical topological sort and ensure the queue contains only 1 element"
   ]
  },
  {
   "cell_type": "code",
   "execution_count": 12,
   "metadata": {},
   "outputs": [],
   "source": [
    "def sequenceReconstruction(org, seqs):\n",
    "    # write your code here\n",
    "    graph = {}\n",
    "    indegree = {}\n",
    "    \n",
    "    # initialize the graph and indegree\n",
    "    for seq in seqs:\n",
    "        for node in seq:\n",
    "            graph[node] = set()\n",
    "            indegree[node] = 0\n",
    "    \n",
    "    # update the graph across the seqs\n",
    "    for seq in seqs:\n",
    "        for i in range(len(seq)):\n",
    "            if i < len(seq) - 1:\n",
    "                graph[seq[i]].add(seq[i + 1])\n",
    "    \n",
    "    # update the indegree according to the graph, or it'll be easy to make mistakes!\n",
    "    for tail in graph:\n",
    "        for head in graph[tail]:\n",
    "            indegree[head] += 1\n",
    "\n",
    "    #print(graph, indegree)\n",
    "    \n",
    "    # build the queue and start BFS\n",
    "    queue = []\n",
    "    for node in indegree:\n",
    "        if indegree[node] == 0:\n",
    "            queue.append(node)\n",
    "\n",
    "    order = []\n",
    "    while queue:\n",
    "        if len(queue) > 1:\n",
    "            return False\n",
    "\n",
    "        tail = queue.pop(0)\n",
    "        order.append(tail)\n",
    "\n",
    "        for head in graph[tail]:\n",
    "            indegree[head] -= 1\n",
    "            if indegree[head] == 0:\n",
    "                queue.append(head)\n",
    "\n",
    "    return org == order, order"
   ]
  },
  {
   "cell_type": "code",
   "execution_count": 13,
   "metadata": {},
   "outputs": [
    {
     "data": {
      "text/plain": [
       "False"
      ]
     },
     "execution_count": 13,
     "metadata": {},
     "output_type": "execute_result"
    }
   ],
   "source": [
    "org = [1,2,3]\n",
    "seqs = [[1,2],[1,3]]\n",
    "sequenceReconstruction(org, seqs) #False"
   ]
  },
  {
   "cell_type": "code",
   "execution_count": 14,
   "metadata": {},
   "outputs": [
    {
     "data": {
      "text/plain": [
       "(False, [1, 2])"
      ]
     },
     "execution_count": 14,
     "metadata": {},
     "output_type": "execute_result"
    }
   ],
   "source": [
    "org = [1,2,3]\n",
    "seqs = [[1,2]]\n",
    "sequenceReconstruction(org, seqs) #False"
   ]
  },
  {
   "cell_type": "code",
   "execution_count": 15,
   "metadata": {},
   "outputs": [
    {
     "data": {
      "text/plain": [
       "(True, [1, 2, 3])"
      ]
     },
     "execution_count": 15,
     "metadata": {},
     "output_type": "execute_result"
    }
   ],
   "source": [
    "org = [1,2,3]\n",
    "seqs = [[1,2],[1,3],[2,3]]\n",
    "sequenceReconstruction(org, seqs) #True"
   ]
  },
  {
   "cell_type": "code",
   "execution_count": 16,
   "metadata": {},
   "outputs": [
    {
     "data": {
      "text/plain": [
       "(True, [4, 1, 5, 2, 6, 3])"
      ]
     },
     "execution_count": 16,
     "metadata": {},
     "output_type": "execute_result"
    }
   ],
   "source": [
    "org = [4,1,5,2,6,3]\n",
    "seqs = [[5,2,6,3],[4,1,5,2]]\n",
    "sequenceReconstruction(org, seqs) #True"
   ]
  },
  {
   "cell_type": "markdown",
   "metadata": {},
   "source": [
    "## Method 2\n",
    "A tricky way, check the priority of the elements"
   ]
  },
  {
   "cell_type": "code",
   "execution_count": 31,
   "metadata": {},
   "outputs": [],
   "source": [
    "def sequenceReconstruction(org, seqs):\n",
    "    # write your code here\n",
    "    position = {org[i]:i for i in range(len(org))}\n",
    "    pre = {}\n",
    "\n",
    "    for seq in seqs:\n",
    "        for i in range(len(seq)):\n",
    "            # check whether there are some strange elements\n",
    "            if seq[i] not in position:\n",
    "                return False\n",
    "\n",
    "            # check the order\n",
    "            if i > 0 and position[seq[i]] <= position[seq[i - 1]]:\n",
    "                return False\n",
    "\n",
    "            if seq[i] not in pre:\n",
    "                pre[seq[i]] = position[seq[i - 1]] if i > 0 else -1\n",
    "            else:\n",
    "                tmp = position[seq[i - 1]] if i > 0 else -1\n",
    "                pre[seq[i]] = max(pre[seq[i]], tmp)\n",
    "            print(position, pre)\n",
    "    for i in range(len(org)):\n",
    "        if org[i] not in pre or pre[org[i]] != i - 1:\n",
    "            return False\n",
    "\n",
    "    return True"
   ]
  },
  {
   "cell_type": "code",
   "execution_count": 32,
   "metadata": {},
   "outputs": [
    {
     "name": "stdout",
     "output_type": "stream",
     "text": [
      "{1: 0, 2: 1, 3: 2} {1: -1}\n",
      "{1: 0, 2: 1, 3: 2} {1: -1, 2: 0}\n",
      "{1: 0, 2: 1, 3: 2} {1: -1, 2: 0}\n",
      "{1: 0, 2: 1, 3: 2} {1: -1, 2: 0, 3: 0}\n"
     ]
    },
    {
     "data": {
      "text/plain": [
       "False"
      ]
     },
     "execution_count": 32,
     "metadata": {},
     "output_type": "execute_result"
    }
   ],
   "source": [
    "org = [1,2,3]\n",
    "seqs = [[1,2],[1,3]]\n",
    "sequenceReconstruction(org, seqs) #False"
   ]
  },
  {
   "cell_type": "code",
   "execution_count": 33,
   "metadata": {},
   "outputs": [
    {
     "name": "stdout",
     "output_type": "stream",
     "text": [
      "{1: 0, 2: 1, 3: 2} {1: -1}\n",
      "{1: 0, 2: 1, 3: 2} {1: -1, 2: 0}\n"
     ]
    },
    {
     "data": {
      "text/plain": [
       "False"
      ]
     },
     "execution_count": 33,
     "metadata": {},
     "output_type": "execute_result"
    }
   ],
   "source": [
    "org = [1,2,3]\n",
    "seqs = [[1,2]]\n",
    "sequenceReconstruction(org, seqs) #False"
   ]
  },
  {
   "cell_type": "code",
   "execution_count": 34,
   "metadata": {},
   "outputs": [
    {
     "name": "stdout",
     "output_type": "stream",
     "text": [
      "{1: 0, 2: 1, 3: 2} {1: -1}\n",
      "{1: 0, 2: 1, 3: 2} {1: -1, 2: 0}\n",
      "{1: 0, 2: 1, 3: 2} {1: -1, 2: 0}\n",
      "{1: 0, 2: 1, 3: 2} {1: -1, 2: 0, 3: 0}\n",
      "{1: 0, 2: 1, 3: 2} {1: -1, 2: 0, 3: 0}\n",
      "{1: 0, 2: 1, 3: 2} {1: -1, 2: 0, 3: 1}\n"
     ]
    },
    {
     "data": {
      "text/plain": [
       "True"
      ]
     },
     "execution_count": 34,
     "metadata": {},
     "output_type": "execute_result"
    }
   ],
   "source": [
    "org = [1,2,3]\n",
    "seqs = [[1,2],[1,3],[2,3]]\n",
    "sequenceReconstruction(org, seqs) #True"
   ]
  },
  {
   "cell_type": "code",
   "execution_count": 35,
   "metadata": {},
   "outputs": [
    {
     "name": "stdout",
     "output_type": "stream",
     "text": [
      "{4: 0, 1: 1, 5: 2, 2: 3, 6: 4, 3: 5} {5: -1}\n",
      "{4: 0, 1: 1, 5: 2, 2: 3, 6: 4, 3: 5} {5: -1, 2: 2}\n",
      "{4: 0, 1: 1, 5: 2, 2: 3, 6: 4, 3: 5} {5: -1, 2: 2, 6: 3}\n",
      "{4: 0, 1: 1, 5: 2, 2: 3, 6: 4, 3: 5} {5: -1, 2: 2, 6: 3, 3: 4}\n",
      "{4: 0, 1: 1, 5: 2, 2: 3, 6: 4, 3: 5} {5: -1, 2: 2, 6: 3, 3: 4, 4: -1}\n",
      "{4: 0, 1: 1, 5: 2, 2: 3, 6: 4, 3: 5} {5: -1, 2: 2, 6: 3, 3: 4, 4: -1, 1: 0}\n",
      "{4: 0, 1: 1, 5: 2, 2: 3, 6: 4, 3: 5} {5: 1, 2: 2, 6: 3, 3: 4, 4: -1, 1: 0}\n",
      "{4: 0, 1: 1, 5: 2, 2: 3, 6: 4, 3: 5} {5: 1, 2: 2, 6: 3, 3: 4, 4: -1, 1: 0}\n"
     ]
    },
    {
     "data": {
      "text/plain": [
       "True"
      ]
     },
     "execution_count": 35,
     "metadata": {},
     "output_type": "execute_result"
    }
   ],
   "source": [
    "org = [4,1,5,2,6,3]\n",
    "seqs = [[5,2,6,3],[4,1,5,2]]\n",
    "sequenceReconstruction(org, seqs) #True"
   ]
  },
  {
   "cell_type": "code",
   "execution_count": null,
   "metadata": {},
   "outputs": [],
   "source": []
  }
 ],
 "metadata": {
  "kernelspec": {
   "display_name": "Python 3",
   "language": "python",
   "name": "python3"
  },
  "language_info": {
   "codemirror_mode": {
    "name": "ipython",
    "version": 3
   },
   "file_extension": ".py",
   "mimetype": "text/x-python",
   "name": "python",
   "nbconvert_exporter": "python",
   "pygments_lexer": "ipython3",
   "version": "3.7.3"
  }
 },
 "nbformat": 4,
 "nbformat_minor": 2
}
