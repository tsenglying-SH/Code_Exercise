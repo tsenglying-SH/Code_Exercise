{
 "cells": [
  {
   "cell_type": "markdown",
   "metadata": {},
   "source": [
    "## BFS to find path, use hash to save the destination"
   ]
  },
  {
   "cell_type": "code",
   "execution_count": 7,
   "metadata": {},
   "outputs": [],
   "source": [
    "class Point:\n",
    "    def __init__(self, a=0, b=0):\n",
    "        self.x = a\n",
    "        self.y = b\n",
    "\n",
    "def shortestPath(grid, source, destination):\n",
    "    \"\"\"\n",
    "    @param grid: a chessboard included 0 (false) and 1 (true)\n",
    "    @param source: a point\n",
    "    @param destination: a point\n",
    "    @return: the shortest path \n",
    "    \"\"\"\n",
    "    # write your code here\n",
    "    # corner case: invalid grid\n",
    "    if not grid or not grid[0]:\n",
    "        return -1\n",
    "\n",
    "    r, c = len(grid), len(grid[0])\n",
    "    sr, sc, er, ec = source.x, source.y, destination.x, destination.y\n",
    "\n",
    "    # corner case: invalid source or destination\n",
    "    if sr < 0 or sr >= r or er < 0 or er >= r or sc < 0 or sc >= c or ec < 0\\\n",
    "    or ec >= c:\n",
    "        return -1\n",
    "\n",
    "    # initialize the queue and visited dict\n",
    "    queue = [(sr, sc)]\n",
    "    visited = {(sr, sc): 0}\n",
    "    # movements\n",
    "    movements = ((1, 2), (1, -2), (-1, 2), (-1, -2), (2, 1), (2, -1), \\\n",
    "    (-2, 1), (-2, -1))\n",
    "\n",
    "    while queue:\n",
    "        node = queue.pop(0)\n",
    "\n",
    "        if node == (er, ec):\n",
    "            return visited[node]\n",
    "\n",
    "        for movement in movements:\n",
    "            dr, dc = movement\n",
    "            nr, nc = node[0] + dr, node[1] + dc\n",
    "            # check if new point is valid, if valid, add it to visited and queue\n",
    "            if 0 <= nr < r and 0 <= nc < c and grid[nr][nc] != 1 and (nr, nc) not in visited:\n",
    "                queue.append((nr, nc))\n",
    "                visited[(nr, nc)] = visited[node] + 1\n",
    "\n",
    "    return -1"
   ]
  },
  {
   "cell_type": "code",
   "execution_count": 8,
   "metadata": {},
   "outputs": [],
   "source": [
    "grid = [[0,0,0],\n",
    " [0,0,0],\n",
    " [0,0,0]]\n",
    "source = Point(2, 0)\n",
    "destination = Point(2, 2)"
   ]
  },
  {
   "cell_type": "code",
   "execution_count": 9,
   "metadata": {},
   "outputs": [
    {
     "data": {
      "text/plain": [
       "2"
      ]
     },
     "execution_count": 9,
     "metadata": {},
     "output_type": "execute_result"
    }
   ],
   "source": [
    "shortestPath(grid, source, destination)"
   ]
  },
  {
   "cell_type": "code",
   "execution_count": 10,
   "metadata": {},
   "outputs": [],
   "source": [
    "grid = [[0,1,0],\n",
    " [0,0,0],\n",
    " [0,0,1]]\n",
    "source = Point(2, 0)\n",
    "destination = Point(2, 2)"
   ]
  },
  {
   "cell_type": "code",
   "execution_count": 11,
   "metadata": {},
   "outputs": [
    {
     "data": {
      "text/plain": [
       "-1"
      ]
     },
     "execution_count": 11,
     "metadata": {},
     "output_type": "execute_result"
    }
   ],
   "source": [
    "shortestPath(grid, source, destination)"
   ]
  },
  {
   "cell_type": "code",
   "execution_count": null,
   "metadata": {},
   "outputs": [],
   "source": []
  }
 ],
 "metadata": {
  "kernelspec": {
   "display_name": "Python 3",
   "language": "python",
   "name": "python3"
  },
  "language_info": {
   "codemirror_mode": {
    "name": "ipython",
    "version": 3
   },
   "file_extension": ".py",
   "mimetype": "text/x-python",
   "name": "python",
   "nbconvert_exporter": "python",
   "pygments_lexer": "ipython3",
   "version": "3.7.3"
  }
 },
 "nbformat": 4,
 "nbformat_minor": 2
}
