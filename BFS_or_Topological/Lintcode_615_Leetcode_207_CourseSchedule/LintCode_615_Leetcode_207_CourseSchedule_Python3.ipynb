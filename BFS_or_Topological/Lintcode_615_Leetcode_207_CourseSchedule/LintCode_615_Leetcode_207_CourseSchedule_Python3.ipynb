{
 "cells": [
  {
   "cell_type": "markdown",
   "metadata": {},
   "source": [
    "## BFS Topological sort Template, Indegree + graph， Time O(V+E)"
   ]
  },
  {
   "cell_type": "code",
   "execution_count": 5,
   "metadata": {},
   "outputs": [],
   "source": [
    "def canFinish(numCourses, prerequisites):\n",
    "    # write your code here\n",
    "    graph = {i:[] for i in range(numCourses)}\n",
    "    indegree = {i: 0 for i in range(numCourses)}\n",
    "\n",
    "    for post_pre in prerequisites:\n",
    "        post = post_pre[0]\n",
    "        pre = post_pre[1]\n",
    "\n",
    "        graph[pre].append(post)\n",
    "        indegree[post] += 1\n",
    "\n",
    "    queue = []\n",
    "    for node in indegree:\n",
    "        if indegree[node] == 0:\n",
    "            queue.append(node)\n",
    "\n",
    "    print(queue)\n",
    "\n",
    "    count = 0\n",
    "    while queue:\n",
    "        tail = queue.pop(0)\n",
    "        count += 1\n",
    "\n",
    "        for head in graph[tail]:\n",
    "            indegree[head] -= 1\n",
    "            if indegree[head] == 0:\n",
    "                queue.append(head)\n",
    "    print(count)\n",
    "    return count == numCourses"
   ]
  },
  {
   "cell_type": "code",
   "execution_count": 6,
   "metadata": {},
   "outputs": [
    {
     "name": "stdout",
     "output_type": "stream",
     "text": [
      "[1]\n",
      "2\n"
     ]
    },
    {
     "data": {
      "text/plain": [
       "True"
      ]
     },
     "execution_count": 6,
     "metadata": {},
     "output_type": "execute_result"
    }
   ],
   "source": [
    "canFinish(2, [[0,1]])"
   ]
  },
  {
   "cell_type": "code",
   "execution_count": 7,
   "metadata": {
    "scrolled": true
   },
   "outputs": [
    {
     "name": "stdout",
     "output_type": "stream",
     "text": [
      "[]\n",
      "0\n"
     ]
    },
    {
     "data": {
      "text/plain": [
       "False"
      ]
     },
     "execution_count": 7,
     "metadata": {},
     "output_type": "execute_result"
    }
   ],
   "source": [
    "canFinish(2, [[0,1], [1, 0]])"
   ]
  },
  {
   "cell_type": "code",
   "execution_count": 8,
   "metadata": {},
   "outputs": [
    {
     "name": "stdout",
     "output_type": "stream",
     "text": [
      "[2, 6, 8, 9]\n",
      "10\n"
     ]
    },
    {
     "data": {
      "text/plain": [
       "True"
      ]
     },
     "execution_count": 8,
     "metadata": {},
     "output_type": "execute_result"
    }
   ],
   "source": [
    "canFinish(10, [[5,8],[3,5],[1,9],[4,5],[0,2],[1,9],[7,8],[4,9]])"
   ]
  },
  {
   "cell_type": "code",
   "execution_count": null,
   "metadata": {},
   "outputs": [],
   "source": []
  }
 ],
 "metadata": {
  "kernelspec": {
   "display_name": "Python 3",
   "language": "python",
   "name": "python3"
  },
  "language_info": {
   "codemirror_mode": {
    "name": "ipython",
    "version": 3
   },
   "file_extension": ".py",
   "mimetype": "text/x-python",
   "name": "python",
   "nbconvert_exporter": "python",
   "pygments_lexer": "ipython3",
   "version": "3.7.3"
  }
 },
 "nbformat": 4,
 "nbformat_minor": 2
}
