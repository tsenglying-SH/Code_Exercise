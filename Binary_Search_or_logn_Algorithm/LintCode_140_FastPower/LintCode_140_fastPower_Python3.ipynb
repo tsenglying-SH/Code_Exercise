{
 "cells": [
  {
   "cell_type": "markdown",
   "metadata": {},
   "source": [
    "## Basic Math Knowledge"
   ]
  },
  {
   "cell_type": "markdown",
   "metadata": {},
   "source": [
    "(a + b) % p = (a % p + b % p) % p （1）\n",
    "\n",
    "(a - b) % p = (a % p - b % p) % p （2）\n",
    "\n",
    "(a * b) % p = (a % p * b % p) % p （3）\n",
    "\n",
    "a ^ b % p = ((a % p)^b) % p （4）\n",
    "\n",
    "\n",
    "\n",
    "((a+b) % p + c) % p = (a + (b+c) % p) % p （5）\n",
    "\n",
    "((a*b) % p * c)% p = (a * (b*c) % p) % p （6）\n",
    "\n",
    "\n",
    "\n",
    "(a + b) % p = (b+a) % p （7）\n",
    "\n",
    "(a * b) % p = (b * a) % p （8）\n",
    "\n",
    "\n",
    "\n",
    "(a+b) % p = ( a % p + b % p ) % p （9）\n",
    "\n",
    "((a +b)% p * c) % p = ((a * c) % p + (b * c) % p) % p （10）"
   ]
  },
  {
   "cell_type": "markdown",
   "metadata": {},
   "source": [
    "## Iterative Method, Time O(logn)"
   ]
  },
  {
   "cell_type": "code",
   "execution_count": 10,
   "metadata": {},
   "outputs": [],
   "source": [
    "def fastPower(a, b, n):\n",
    "    # write your code here\n",
    "    if n == 0 or a == 1:\n",
    "        return 1 % b\n",
    "\n",
    "    if a == 0:\n",
    "        return 0\n",
    "\n",
    "    res = 1 % b\n",
    "    while n > 0:\n",
    "        if n & 1:\n",
    "            res = (res * (a % b)) % b\n",
    "        a = a % b * a % b\n",
    "        n >>= 1\n",
    "    return res % b"
   ]
  },
  {
   "cell_type": "code",
   "execution_count": 11,
   "metadata": {},
   "outputs": [
    {
     "data": {
      "text/plain": [
       "2"
      ]
     },
     "execution_count": 11,
     "metadata": {},
     "output_type": "execute_result"
    }
   ],
   "source": [
    "fastPower(2,3,31)"
   ]
  },
  {
   "cell_type": "code",
   "execution_count": 12,
   "metadata": {},
   "outputs": [
    {
     "data": {
      "text/plain": [
       "0"
      ]
     },
     "execution_count": 12,
     "metadata": {},
     "output_type": "execute_result"
    }
   ],
   "source": [
    "fastPower(100,1000,1000)"
   ]
  },
  {
   "cell_type": "markdown",
   "metadata": {},
   "source": [
    "## Recursive really slow"
   ]
  },
  {
   "cell_type": "code",
   "execution_count": 1,
   "metadata": {},
   "outputs": [],
   "source": [
    "def fastPower(a,b,n):\n",
    "    if n == 0:\n",
    "        return 1 % b\n",
    "    if n == 1:\n",
    "        return a % b\n",
    "    if n % 2 == 1:\n",
    "        return (fastPower(a,b,n // 2) * fastPower(a,b,n//2 + 1)) % b\n",
    "    else:\n",
    "        return (fastPower(a,b,n // 2) * fastPower(a,b,n//2)) % b"
   ]
  },
  {
   "cell_type": "code",
   "execution_count": 2,
   "metadata": {},
   "outputs": [
    {
     "data": {
      "text/plain": [
       "2"
      ]
     },
     "execution_count": 2,
     "metadata": {},
     "output_type": "execute_result"
    }
   ],
   "source": [
    "fastPower(2,3,31)"
   ]
  },
  {
   "cell_type": "code",
   "execution_count": 3,
   "metadata": {},
   "outputs": [
    {
     "data": {
      "text/plain": [
       "0"
      ]
     },
     "execution_count": 3,
     "metadata": {},
     "output_type": "execute_result"
    }
   ],
   "source": [
    "fastPower(100,1000,1000)"
   ]
  },
  {
   "cell_type": "code",
   "execution_count": null,
   "metadata": {},
   "outputs": [],
   "source": []
  }
 ],
 "metadata": {
  "kernelspec": {
   "display_name": "Python 3",
   "language": "python",
   "name": "python3"
  },
  "language_info": {
   "codemirror_mode": {
    "name": "ipython",
    "version": 3
   },
   "file_extension": ".py",
   "mimetype": "text/x-python",
   "name": "python",
   "nbconvert_exporter": "python",
   "pygments_lexer": "ipython3",
   "version": "3.7.3"
  }
 },
 "nbformat": 4,
 "nbformat_minor": 2
}
