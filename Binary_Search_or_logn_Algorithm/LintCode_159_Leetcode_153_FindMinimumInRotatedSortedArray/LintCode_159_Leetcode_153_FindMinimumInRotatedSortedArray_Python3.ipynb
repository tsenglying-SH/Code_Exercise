{
 "cells": [
  {
   "cell_type": "markdown",
   "metadata": {},
   "source": [
    "## no duplicate in array, so it's easy to solve via binary search, time O(logn)"
   ]
  },
  {
   "cell_type": "code",
   "execution_count": 7,
   "metadata": {},
   "outputs": [],
   "source": [
    "def findMin(nums):\n",
    "    # write your code here\n",
    "    if not nums:\n",
    "        return -1\n",
    "\n",
    "    if len(nums) == 1:\n",
    "        return nums[0]\n",
    "    \n",
    "    # this is an important corner case\n",
    "    if nums[0] < nums[-1]:\n",
    "        return nums[0]\n",
    "\n",
    "    anchor = nums[-1]\n",
    "    start, end = 0, len(nums) - 1\n",
    "\n",
    "    while start + 1 < end:\n",
    "        mid = start + (end - start) // 2\n",
    "        if nums[mid] > anchor:\n",
    "            start = mid\n",
    "        else:\n",
    "            end = mid\n",
    "\n",
    "    return nums[end]"
   ]
  },
  {
   "cell_type": "code",
   "execution_count": 4,
   "metadata": {},
   "outputs": [
    {
     "data": {
      "text/plain": [
       "0"
      ]
     },
     "execution_count": 4,
     "metadata": {},
     "output_type": "execute_result"
    }
   ],
   "source": [
    "findMin([4,5,6,7,0,1,2])"
   ]
  },
  {
   "cell_type": "code",
   "execution_count": 5,
   "metadata": {},
   "outputs": [
    {
     "data": {
      "text/plain": [
       "1"
      ]
     },
     "execution_count": 5,
     "metadata": {},
     "output_type": "execute_result"
    }
   ],
   "source": [
    "findMin([2,1])"
   ]
  },
  {
   "cell_type": "code",
   "execution_count": 6,
   "metadata": {},
   "outputs": [
    {
     "data": {
      "text/plain": [
       "1"
      ]
     },
     "execution_count": 6,
     "metadata": {},
     "output_type": "execute_result"
    }
   ],
   "source": [
    "findMin([1,2,3])"
   ]
  },
  {
   "cell_type": "code",
   "execution_count": null,
   "metadata": {},
   "outputs": [],
   "source": []
  }
 ],
 "metadata": {
  "kernelspec": {
   "display_name": "Python 3",
   "language": "python",
   "name": "python3"
  },
  "language_info": {
   "codemirror_mode": {
    "name": "ipython",
    "version": 3
   },
   "file_extension": ".py",
   "mimetype": "text/x-python",
   "name": "python",
   "nbconvert_exporter": "python",
   "pygments_lexer": "ipython3",
   "version": "3.7.3"
  }
 },
 "nbformat": 4,
 "nbformat_minor": 2
}
