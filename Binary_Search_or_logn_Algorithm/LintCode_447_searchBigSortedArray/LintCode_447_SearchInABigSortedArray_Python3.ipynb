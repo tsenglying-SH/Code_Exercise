{
 "cells": [
  {
   "cell_type": "markdown",
   "metadata": {},
   "source": [
    "#### not available to test in jupter Notebook，time O(log n), first keep doubling to bigger than target, then binary search it."
   ]
  },
  {
   "cell_type": "code",
   "execution_count": 1,
   "metadata": {},
   "outputs": [],
   "source": [
    "\"\"\"\n",
    "Definition of ArrayReader\n",
    "class ArrayReader(object):\n",
    "    def get(self, index):\n",
    "    \t# return the number on given index, \n",
    "        # return 2147483647 if the index is invalid.\n",
    "\"\"\"\n",
    "class Solution:\n",
    "    \"\"\"\n",
    "    @param: reader: An instance of ArrayReader.\n",
    "    @param: target: An integer\n",
    "    @return: An integer which is the first index of target.\n",
    "    \"\"\"\n",
    "    def searchBigSortedArray(self, reader, target):\n",
    "        # write your code here\n",
    "        if reader.get(0) == target:\n",
    "            return 0\n",
    "        # in case the empty array\n",
    "        if reader.get(0) > 2147483647:\n",
    "            return -1\n",
    "        \n",
    "        start, end = 0, 0\n",
    "        while reader.get(end) < target:\n",
    "            end = 2 * end + 1\n",
    "        #print(reader.get(7))\n",
    "\n",
    "        while start + 1 < end:\n",
    "            mid = start + ((end - start) >> 1)\n",
    "            if reader.get(mid) >= target:\n",
    "                end = mid\n",
    "            else:\n",
    "                start = mid\n",
    "        \n",
    "        if reader.get(start) == target:\n",
    "            return start\n",
    "        elif reader.get(end) == target:\n",
    "            return end\n",
    "        return -1"
   ]
  },
  {
   "cell_type": "code",
   "execution_count": null,
   "metadata": {},
   "outputs": [],
   "source": []
  }
 ],
 "metadata": {
  "kernelspec": {
   "display_name": "Python 3",
   "language": "python",
   "name": "python3"
  },
  "language_info": {
   "codemirror_mode": {
    "name": "ipython",
    "version": 3
   },
   "file_extension": ".py",
   "mimetype": "text/x-python",
   "name": "python",
   "nbconvert_exporter": "python",
   "pygments_lexer": "ipython3",
   "version": "3.7.3"
  }
 },
 "nbformat": 4,
 "nbformat_minor": 2
}
