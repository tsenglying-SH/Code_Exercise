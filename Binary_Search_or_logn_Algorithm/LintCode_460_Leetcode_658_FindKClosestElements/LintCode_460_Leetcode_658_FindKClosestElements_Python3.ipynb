{
 "cells": [
  {
   "cell_type": "markdown",
   "metadata": {},
   "source": [
    "## Lintcode Solution , Time O(logn + k)"
   ]
  },
  {
   "cell_type": "code",
   "execution_count": 15,
   "metadata": {},
   "outputs": [],
   "source": [
    "def kClosestNumbers(A, target, k):\n",
    "    # write your code here\n",
    "    if not A or k == 0 or k > len(A):\n",
    "        return []\n",
    "\n",
    "    start, end = 0, len(A) - 1\n",
    "    while start + 1 < end:\n",
    "        mid = start + (end - start) // 2\n",
    "        if A[mid] > target:\n",
    "            end = mid\n",
    "        else:\n",
    "            start = mid\n",
    "\n",
    "    result = []\n",
    "    for _ in range(k):\n",
    "        if start < 0:\n",
    "            result.append(A[end])\n",
    "            end += 1\n",
    "        elif end > len(A) - 1:\n",
    "            result.append(A[start])\n",
    "            start -= 1\n",
    "        else:\n",
    "            if target - A[start] <= A[end] - target:\n",
    "                result.append(A[start])\n",
    "                start -= 1\n",
    "            else:\n",
    "                result.append(A[end])\n",
    "                end += 1\n",
    "    return result"
   ]
  },
  {
   "cell_type": "code",
   "execution_count": 16,
   "metadata": {},
   "outputs": [],
   "source": [
    "A = [1, 2, 3]\n",
    "target = 2\n",
    "k = 3"
   ]
  },
  {
   "cell_type": "code",
   "execution_count": 17,
   "metadata": {},
   "outputs": [
    {
     "data": {
      "text/plain": [
       "[2, 1, 3]"
      ]
     },
     "execution_count": 17,
     "metadata": {},
     "output_type": "execute_result"
    }
   ],
   "source": [
    "kClosestNumbers(A,target,k)"
   ]
  },
  {
   "cell_type": "code",
   "execution_count": 18,
   "metadata": {},
   "outputs": [],
   "source": [
    "A = [1, 4, 6, 8]\n",
    "target = 3\n",
    "k = 3"
   ]
  },
  {
   "cell_type": "code",
   "execution_count": 19,
   "metadata": {},
   "outputs": [
    {
     "data": {
      "text/plain": [
       "[4, 1, 6]"
      ]
     },
     "execution_count": 19,
     "metadata": {},
     "output_type": "execute_result"
    }
   ],
   "source": [
    "kClosestNumbers(A,target,k)"
   ]
  },
  {
   "cell_type": "code",
   "execution_count": 20,
   "metadata": {},
   "outputs": [],
   "source": [
    "A = [100,156,189,298,299,300,1001,1002,1003,1004]\n",
    "target = 1000\n",
    "k = 6"
   ]
  },
  {
   "cell_type": "code",
   "execution_count": 21,
   "metadata": {
    "scrolled": false
   },
   "outputs": [
    {
     "data": {
      "text/plain": [
       "[1001, 1002, 1003, 1004, 300, 299]"
      ]
     },
     "execution_count": 21,
     "metadata": {},
     "output_type": "execute_result"
    }
   ],
   "source": [
    "kClosestNumbers(A,target,k)"
   ]
  },
  {
   "cell_type": "markdown",
   "metadata": {},
   "source": [
    "## Leetcode Solution , Time O(logn + k)"
   ]
  },
  {
   "cell_type": "code",
   "execution_count": 30,
   "metadata": {},
   "outputs": [],
   "source": [
    "def findClosestElements(A, k, target):\n",
    "        # write your code here\n",
    "        if not A or k == 0 or k > len(A):\n",
    "            return []\n",
    "        # here's a corner case, start == end\n",
    "        if len(A) == 1:\n",
    "            return A\n",
    "        \n",
    "        start, end = 0, len(A) - 1\n",
    "        while start + 1 < end:\n",
    "            mid = start + (end - start) // 2\n",
    "            if A[mid] > target:\n",
    "                end = mid\n",
    "            else:\n",
    "                start = mid\n",
    "        \n",
    "        # result = []\n",
    "        for _ in range(k):\n",
    "            if start < 0:\n",
    "                # result.append(A[end])\n",
    "                end += 1\n",
    "            elif end > len(A) - 1:\n",
    "                # result.append(A[start])\n",
    "                start -= 1\n",
    "            else:\n",
    "                if target - A[start] <= A[end] - target:\n",
    "                    # result.append(A[start])\n",
    "                    start -= 1\n",
    "                else:\n",
    "                    # result.append(A[end])\n",
    "                    end += 1\n",
    "        return A[start + 1: end]"
   ]
  },
  {
   "cell_type": "code",
   "execution_count": 31,
   "metadata": {},
   "outputs": [],
   "source": [
    "A = [1, 2, 3]\n",
    "target = 2\n",
    "k = 3"
   ]
  },
  {
   "cell_type": "code",
   "execution_count": 32,
   "metadata": {},
   "outputs": [
    {
     "data": {
      "text/plain": [
       "[1, 2, 3]"
      ]
     },
     "execution_count": 32,
     "metadata": {},
     "output_type": "execute_result"
    }
   ],
   "source": [
    "findClosestElements(A,k,target)"
   ]
  },
  {
   "cell_type": "code",
   "execution_count": 33,
   "metadata": {},
   "outputs": [],
   "source": [
    "A = [1, 4, 6, 8]\n",
    "target = 3\n",
    "k = 3"
   ]
  },
  {
   "cell_type": "code",
   "execution_count": 34,
   "metadata": {},
   "outputs": [
    {
     "data": {
      "text/plain": [
       "[1, 4, 6]"
      ]
     },
     "execution_count": 34,
     "metadata": {},
     "output_type": "execute_result"
    }
   ],
   "source": [
    "findClosestElements(A,k,target)"
   ]
  },
  {
   "cell_type": "code",
   "execution_count": 35,
   "metadata": {},
   "outputs": [],
   "source": [
    "A = [100,156,189,298,299,300,1001,1002,1003,1004]\n",
    "target = 1000\n",
    "k = 6"
   ]
  },
  {
   "cell_type": "code",
   "execution_count": 36,
   "metadata": {
    "scrolled": false
   },
   "outputs": [
    {
     "data": {
      "text/plain": [
       "[299, 300, 1001, 1002, 1003, 1004]"
      ]
     },
     "execution_count": 36,
     "metadata": {},
     "output_type": "execute_result"
    }
   ],
   "source": [
    "findClosestElements(A,k,target)"
   ]
  },
  {
   "cell_type": "code",
   "execution_count": null,
   "metadata": {},
   "outputs": [],
   "source": []
  }
 ],
 "metadata": {
  "kernelspec": {
   "display_name": "Python 3",
   "language": "python",
   "name": "python3"
  },
  "language_info": {
   "codemirror_mode": {
    "name": "ipython",
    "version": 3
   },
   "file_extension": ".py",
   "mimetype": "text/x-python",
   "name": "python",
   "nbconvert_exporter": "python",
   "pygments_lexer": "ipython3",
   "version": "3.7.3"
  }
 },
 "nbformat": 4,
 "nbformat_minor": 2
}
