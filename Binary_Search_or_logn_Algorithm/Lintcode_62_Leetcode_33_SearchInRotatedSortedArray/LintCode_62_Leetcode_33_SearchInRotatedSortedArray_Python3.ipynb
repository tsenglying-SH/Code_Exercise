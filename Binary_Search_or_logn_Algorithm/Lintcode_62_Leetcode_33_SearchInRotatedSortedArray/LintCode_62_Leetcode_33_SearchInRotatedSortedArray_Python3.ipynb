{
 "cells": [
  {
   "cell_type": "markdown",
   "metadata": {},
   "source": [
    "## Own method O(logn)"
   ]
  },
  {
   "cell_type": "code",
   "execution_count": 2,
   "metadata": {},
   "outputs": [],
   "source": [
    "def search(A, target):\n",
    "    # write your code here\n",
    "    if not A:\n",
    "        return -1\n",
    "\n",
    "\n",
    "    start, end = 0, len(A) - 1\n",
    "    while start + 1 < end:\n",
    "        mid = start + (end - start) // 2\n",
    "        if target >= A[0]:\n",
    "            if A[mid] > target or A[mid] < A[0]:\n",
    "                end = mid\n",
    "            else:\n",
    "                start = mid\n",
    "        else:\n",
    "            if A[mid] < target or A[mid] >= A[0]:\n",
    "                start = mid\n",
    "            else:\n",
    "                end = mid\n",
    "\n",
    "    if A[start] == target:\n",
    "        return start\n",
    "    if A[end] == target:\n",
    "        return end\n",
    "    return -1"
   ]
  },
  {
   "cell_type": "code",
   "execution_count": 3,
   "metadata": {
    "scrolled": false
   },
   "outputs": [
    {
     "data": {
      "text/plain": [
       "2"
      ]
     },
     "execution_count": 3,
     "metadata": {},
     "output_type": "execute_result"
    }
   ],
   "source": [
    "search([4,5,1,2,3],1)"
   ]
  },
  {
   "cell_type": "code",
   "execution_count": 4,
   "metadata": {},
   "outputs": [
    {
     "data": {
      "text/plain": [
       "-1"
      ]
     },
     "execution_count": 4,
     "metadata": {},
     "output_type": "execute_result"
    }
   ],
   "source": [
    "search([4,5,1,2,3],0)"
   ]
  },
  {
   "cell_type": "code",
   "execution_count": 5,
   "metadata": {},
   "outputs": [
    {
     "data": {
      "text/plain": [
       "5"
      ]
     },
     "execution_count": 5,
     "metadata": {},
     "output_type": "execute_result"
    }
   ],
   "source": [
    "search([6,8,9,1,3,5],5)"
   ]
  },
  {
   "cell_type": "code",
   "execution_count": 6,
   "metadata": {
    "scrolled": true
   },
   "outputs": [
    {
     "data": {
      "text/plain": [
       "5"
      ]
     },
     "execution_count": 6,
     "metadata": {},
     "output_type": "execute_result"
    }
   ],
   "source": [
    "search([1,2,3,4,5,9],9)"
   ]
  },
  {
   "cell_type": "markdown",
   "metadata": {},
   "source": [
    "#### lintcode method"
   ]
  },
  {
   "cell_type": "code",
   "execution_count": 7,
   "metadata": {},
   "outputs": [],
   "source": [
    "def search(A,target):\n",
    "    if not A:\n",
    "            return -1\n",
    "    leng = len(A)\n",
    "    i,j = 0,leng - 1\n",
    "    left,right = A[0], A[j]\n",
    "    while i + 1 < j:\n",
    "        mid = (i + j) // 2\n",
    "        if A[mid] >= left:\n",
    "            if left <= target <= A[mid]:\n",
    "                j = mid\n",
    "            else:\n",
    "                i = mid\n",
    "        elif A[mid] <= right:\n",
    "            if A[mid] <= target <= right:\n",
    "                i = mid\n",
    "            else:\n",
    "                j = mid\n",
    "    if A[i] == target:\n",
    "        return i\n",
    "    elif A[j] == target:\n",
    "        return j\n",
    "    else:\n",
    "        return -1\n",
    "    "
   ]
  },
  {
   "cell_type": "code",
   "execution_count": 8,
   "metadata": {
    "scrolled": false
   },
   "outputs": [
    {
     "data": {
      "text/plain": [
       "2"
      ]
     },
     "execution_count": 8,
     "metadata": {},
     "output_type": "execute_result"
    }
   ],
   "source": [
    "search([4,5,1,2,3],1)"
   ]
  },
  {
   "cell_type": "code",
   "execution_count": 9,
   "metadata": {},
   "outputs": [
    {
     "data": {
      "text/plain": [
       "-1"
      ]
     },
     "execution_count": 9,
     "metadata": {},
     "output_type": "execute_result"
    }
   ],
   "source": [
    "search([4,5,1,2,3],0)"
   ]
  },
  {
   "cell_type": "code",
   "execution_count": 10,
   "metadata": {},
   "outputs": [
    {
     "data": {
      "text/plain": [
       "5"
      ]
     },
     "execution_count": 10,
     "metadata": {},
     "output_type": "execute_result"
    }
   ],
   "source": [
    "search([6,8,9,1,3,5],5)"
   ]
  },
  {
   "cell_type": "code",
   "execution_count": 11,
   "metadata": {
    "scrolled": true
   },
   "outputs": [
    {
     "data": {
      "text/plain": [
       "5"
      ]
     },
     "execution_count": 11,
     "metadata": {},
     "output_type": "execute_result"
    }
   ],
   "source": [
    "search([1,2,3,4,5,9],9)"
   ]
  },
  {
   "cell_type": "markdown",
   "metadata": {},
   "source": [
    "#### two round binary search"
   ]
  },
  {
   "cell_type": "code",
   "execution_count": 12,
   "metadata": {},
   "outputs": [],
   "source": [
    "def search(A,target):\n",
    "    if not A:\n",
    "            return -1\n",
    "    leng = len(A)\n",
    "    i,j = 0,leng - 1\n",
    "    left,right = A[0], A[j]\n",
    "    while i + 1 < j:\n",
    "        mid = (i + j) // 2\n",
    "        if A[mid] >= left:\n",
    "            i = mid\n",
    "        elif A[mid] <= right:\n",
    "            j = mid\n",
    "    print('i',i,'j',j)\n",
    "    if target >= left:\n",
    "        a = 0\n",
    "        b = j\n",
    "    else:\n",
    "        a = i\n",
    "        b = leng - 1\n",
    "    print('a',a,'b',b)\n",
    "    while a + 1 < b:\n",
    "        mid = (a + b) // 2\n",
    "        if A[mid] > target:\n",
    "            b = mid\n",
    "        else:\n",
    "            a = mid\n",
    "    print('a',a,'b',b)\n",
    "    if A[a] == target : return a\n",
    "    elif A[b] == target: return b\n",
    "    return -1"
   ]
  },
  {
   "cell_type": "code",
   "execution_count": 13,
   "metadata": {
    "scrolled": false
   },
   "outputs": [
    {
     "name": "stdout",
     "output_type": "stream",
     "text": [
      "i 1 j 2\n",
      "a 1 b 4\n",
      "a 2 b 3\n"
     ]
    },
    {
     "data": {
      "text/plain": [
       "2"
      ]
     },
     "execution_count": 13,
     "metadata": {},
     "output_type": "execute_result"
    }
   ],
   "source": [
    "search([4,5,1,2,3],1)"
   ]
  },
  {
   "cell_type": "code",
   "execution_count": 14,
   "metadata": {},
   "outputs": [
    {
     "name": "stdout",
     "output_type": "stream",
     "text": [
      "i 1 j 2\n",
      "a 1 b 4\n",
      "a 1 b 2\n"
     ]
    },
    {
     "data": {
      "text/plain": [
       "-1"
      ]
     },
     "execution_count": 14,
     "metadata": {},
     "output_type": "execute_result"
    }
   ],
   "source": [
    "search([4,5,1,2,3],0)"
   ]
  },
  {
   "cell_type": "code",
   "execution_count": 15,
   "metadata": {},
   "outputs": [
    {
     "name": "stdout",
     "output_type": "stream",
     "text": [
      "i 2 j 3\n",
      "a 2 b 5\n",
      "a 4 b 5\n"
     ]
    },
    {
     "data": {
      "text/plain": [
       "5"
      ]
     },
     "execution_count": 15,
     "metadata": {},
     "output_type": "execute_result"
    }
   ],
   "source": [
    "search([6,8,9,1,3,5],5)"
   ]
  },
  {
   "cell_type": "code",
   "execution_count": 16,
   "metadata": {},
   "outputs": [
    {
     "name": "stdout",
     "output_type": "stream",
     "text": [
      "i 4 j 5\n",
      "a 0 b 5\n",
      "a 4 b 5\n"
     ]
    },
    {
     "data": {
      "text/plain": [
       "5"
      ]
     },
     "execution_count": 16,
     "metadata": {},
     "output_type": "execute_result"
    }
   ],
   "source": [
    "search([1,2,3,4,5,9],9)"
   ]
  },
  {
   "cell_type": "code",
   "execution_count": null,
   "metadata": {},
   "outputs": [],
   "source": []
  }
 ],
 "metadata": {
  "kernelspec": {
   "display_name": "Python 3",
   "language": "python",
   "name": "python3"
  },
  "language_info": {
   "codemirror_mode": {
    "name": "ipython",
    "version": 3
   },
   "file_extension": ".py",
   "mimetype": "text/x-python",
   "name": "python",
   "nbconvert_exporter": "python",
   "pygments_lexer": "ipython3",
   "version": "3.7.3"
  }
 },
 "nbformat": 4,
 "nbformat_minor": 2
}
