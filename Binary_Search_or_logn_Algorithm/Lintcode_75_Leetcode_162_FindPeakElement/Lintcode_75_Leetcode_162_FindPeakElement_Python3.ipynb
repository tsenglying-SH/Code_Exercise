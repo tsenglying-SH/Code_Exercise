{
 "cells": [
  {
   "cell_type": "markdown",
   "metadata": {},
   "source": [
    "## binary search time O(logn)"
   ]
  },
  {
   "cell_type": "code",
   "execution_count": 1,
   "metadata": {},
   "outputs": [],
   "source": [
    "def findPeak(A):\n",
    "    # write your code here\n",
    "    if not A:\n",
    "        return -1\n",
    "\n",
    "    start, end = 0, len(A) - 1\n",
    "    while start + 1 < end:\n",
    "        mid = start + (end - start) // 2\n",
    "        if A[mid] > A[mid + 1]:\n",
    "            end = mid\n",
    "        else:\n",
    "            start = mid\n",
    "    return end if A[end] > A[start] else start"
   ]
  },
  {
   "cell_type": "code",
   "execution_count": 2,
   "metadata": {},
   "outputs": [
    {
     "data": {
      "text/plain": [
       "6"
      ]
     },
     "execution_count": 2,
     "metadata": {},
     "output_type": "execute_result"
    }
   ],
   "source": [
    "findPeak([1, 2, 1, 4, 5, 6, 7, 4])"
   ]
  },
  {
   "cell_type": "code",
   "execution_count": null,
   "metadata": {},
   "outputs": [],
   "source": []
  }
 ],
 "metadata": {
  "kernelspec": {
   "display_name": "Python 3",
   "language": "python",
   "name": "python3"
  },
  "language_info": {
   "codemirror_mode": {
    "name": "ipython",
    "version": 3
   },
   "file_extension": ".py",
   "mimetype": "text/x-python",
   "name": "python",
   "nbconvert_exporter": "python",
   "pygments_lexer": "ipython3",
   "version": "3.7.3"
  }
 },
 "nbformat": 4,
 "nbformat_minor": 2
}
