{
 "cells": [
  {
   "cell_type": "markdown",
   "metadata": {},
   "source": [
    "## dfs with backtracking, O(C(n, k))"
   ]
  },
  {
   "cell_type": "code",
   "execution_count": 1,
   "metadata": {},
   "outputs": [],
   "source": [
    "def combine(n, k):\n",
    "    # write your code here\n",
    "    if n <= 0 or k <= 0 or n < k:\n",
    "        return [[]]\n",
    "\n",
    "    def dfs(n, k, path, res, idx):\n",
    "        if k == 0:\n",
    "            res.append(path[:])\n",
    "            return\n",
    "\n",
    "        if k < 0:\n",
    "            return\n",
    "\n",
    "        for i in range(idx, n + 1):\n",
    "            path.append(i)\n",
    "            dfs(n, k - 1, path, res, i + 1)\n",
    "            del path[-1]\n",
    "\n",
    "    path = []\n",
    "    res = []\n",
    "    dfs(n, k, path, res, 1)\n",
    "    return res"
   ]
  },
  {
   "cell_type": "code",
   "execution_count": 2,
   "metadata": {},
   "outputs": [
    {
     "data": {
      "text/plain": [
       "[[1, 2], [1, 3], [1, 4], [2, 3], [2, 4], [3, 4]]"
      ]
     },
     "execution_count": 2,
     "metadata": {},
     "output_type": "execute_result"
    }
   ],
   "source": [
    "combine(4, 2)"
   ]
  },
  {
   "cell_type": "code",
   "execution_count": 3,
   "metadata": {},
   "outputs": [
    {
     "data": {
      "text/plain": [
       "[[1, 2, 3], [1, 2, 4], [1, 3, 4], [2, 3, 4]]"
      ]
     },
     "execution_count": 3,
     "metadata": {},
     "output_type": "execute_result"
    }
   ],
   "source": [
    "combine(4, 3)"
   ]
  },
  {
   "cell_type": "code",
   "execution_count": null,
   "metadata": {},
   "outputs": [],
   "source": []
  }
 ],
 "metadata": {
  "kernelspec": {
   "display_name": "Python 3",
   "language": "python",
   "name": "python3"
  },
  "language_info": {
   "codemirror_mode": {
    "name": "ipython",
    "version": 3
   },
   "file_extension": ".py",
   "mimetype": "text/x-python",
   "name": "python",
   "nbconvert_exporter": "python",
   "pygments_lexer": "ipython3",
   "version": "3.7.3"
  }
 },
 "nbformat": 4,
 "nbformat_minor": 2
}
