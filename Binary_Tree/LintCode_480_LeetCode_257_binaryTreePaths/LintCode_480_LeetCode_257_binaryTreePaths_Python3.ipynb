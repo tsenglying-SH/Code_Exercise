{
 "cells": [
  {
   "cell_type": "markdown",
   "metadata": {},
   "source": [
    "## Recursive DFS to traverse all path and record them"
   ]
  },
  {
   "cell_type": "code",
   "execution_count": null,
   "metadata": {},
   "outputs": [],
   "source": [
    "\"\"\"\n",
    "Definition of TreeNode:\n",
    "class TreeNode:\n",
    "    def __init__(self, val):\n",
    "        self.val = val\n",
    "        self.left, self.right = None, None\n",
    "\"\"\"\n",
    "\n",
    "class Solution:\n",
    "    \"\"\"\n",
    "    @param root: the root of the binary tree\n",
    "    @return: all root-to-leaf paths\n",
    "    \"\"\"\n",
    "    def binaryTreePaths(self, root):\n",
    "        # write your code here\n",
    "        if not root:\n",
    "            return []\n",
    "        \n",
    "        all_path = []\n",
    "        path = []\n",
    "        self.dfs(root, path, all_path)\n",
    "        print(all_path, path)\n",
    "        return all_path\n",
    "    \n",
    "    def dfs(self, root, path, all_path):\n",
    "        if not root:\n",
    "            return\n",
    "        # add the new node value\n",
    "        path.append(str(root.val))\n",
    "        # if it's tha last node, add the path to result\n",
    "        if not root.left and not root.right:\n",
    "            all_path.append('->'.join(path[:]))\n",
    "        # if necessary, continue the DFS\n",
    "        if root.left:\n",
    "            self.dfs(root.left, path, all_path)\n",
    "        if root.right:\n",
    "            self.dfs(root.right, path, all_path)\n",
    "        # Backtracking\n",
    "        path.pop()"
   ]
  }
 ],
 "metadata": {
  "kernelspec": {
   "display_name": "Python 3",
   "language": "python",
   "name": "python3"
  },
  "language_info": {
   "codemirror_mode": {
    "name": "ipython",
    "version": 3
   },
   "file_extension": ".py",
   "mimetype": "text/x-python",
   "name": "python",
   "nbconvert_exporter": "python",
   "pygments_lexer": "ipython3",
   "version": "3.7.3"
  }
 },
 "nbformat": 4,
 "nbformat_minor": 2
}
