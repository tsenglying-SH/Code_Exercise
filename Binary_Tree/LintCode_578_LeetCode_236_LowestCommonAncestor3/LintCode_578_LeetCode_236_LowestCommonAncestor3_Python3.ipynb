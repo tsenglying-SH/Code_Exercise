{
 "cells": [
  {
   "cell_type": "markdown",
   "metadata": {},
   "source": [
    "## LeetCode Answer\n",
    "\n",
    "https://leetcode-cn.com/problems/lowest-common-ancestor-of-a-binary-tree/solution/er-cha-shu-de-zui-jin-gong-gong-zu-xian-by-leetcod/"
   ]
  },
  {
   "cell_type": "markdown",
   "metadata": {},
   "source": [
    "### Recursive, postorder traverse"
   ]
  },
  {
   "cell_type": "code",
   "execution_count": null,
   "metadata": {},
   "outputs": [],
   "source": [
    "# Definition for a binary tree node.\n",
    "# class TreeNode:\n",
    "#     def __init__(self, x):\n",
    "#         self.val = x\n",
    "#         self.left = None\n",
    "#         self.right = None\n",
    "\n",
    "class Solution:\n",
    "    def lowestCommonAncestor(self, root: 'TreeNode', p: 'TreeNode', q: 'TreeNode') -> 'TreeNode':\n",
    "        if not root:\n",
    "            return\n",
    "        self.ans = None\n",
    "        self.search_in_tree(root, p, q)\n",
    "        return self.ans\n",
    "    \n",
    "    def search_in_tree(self, root, p, q):\n",
    "        if not root:\n",
    "            return False\n",
    "        # all elements in the tree are different, so left, mid and right cannot be set to true because 1 node.\n",
    "        left = self.search_in_tree(root.left, p, q)\n",
    "        right = self.search_in_tree(root.right, p, q)\n",
    "        mid = root == p or root == q\n",
    "        \n",
    "        if mid + left + right >= 2:\n",
    "            self.ans = root\n",
    "        \n",
    "        return left or mid or right"
   ]
  },
  {
   "cell_type": "markdown",
   "metadata": {},
   "source": [
    "### Iterative method, use DFS/BFS and record the parent of all node in dict, then just search the LCA"
   ]
  },
  {
   "cell_type": "code",
   "execution_count": null,
   "metadata": {},
   "outputs": [],
   "source": [
    "# Definition for a binary tree node.\n",
    "# class TreeNode:\n",
    "#     def __init__(self, x):\n",
    "#         self.val = x\n",
    "#         self.left = None\n",
    "#         self.right = None\n",
    "\n",
    "class Solution:\n",
    "    def lowestCommonAncestor(self, root: 'TreeNode', p: 'TreeNode', q: 'TreeNode') -> 'TreeNode':\n",
    "        if not root:\n",
    "            return\n",
    "        \n",
    "        stack = [root]\n",
    "        parent = {root: None}\n",
    "        \n",
    "        while stack:\n",
    "            node = stack.pop()\n",
    "            if node.left:\n",
    "                parent[node.left] = node\n",
    "                stack.append(node.left)\n",
    "            \n",
    "            if node.right:\n",
    "                parent[node.right] = node\n",
    "                stack.append(node.right)\n",
    "                \n",
    "        p_parent = set()\n",
    "        # here is a corner case where p, q not in tree actually\n",
    "        if p not in parent or q not in parent:\n",
    "            return \n",
    "        \n",
    "        while p:\n",
    "            p_parent.add(p)\n",
    "            p = parent[p]\n",
    "            \n",
    "        while q:\n",
    "            if q in p_parent:\n",
    "                return q\n",
    "            q = parent[q]\n",
    "            \n",
    "        return "
   ]
  }
 ],
 "metadata": {
  "kernelspec": {
   "display_name": "Python 3",
   "language": "python",
   "name": "python3"
  },
  "language_info": {
   "codemirror_mode": {
    "name": "ipython",
    "version": 3
   },
   "file_extension": ".py",
   "mimetype": "text/x-python",
   "name": "python",
   "nbconvert_exporter": "python",
   "pygments_lexer": "ipython3",
   "version": "3.7.3"
  }
 },
 "nbformat": 4,
 "nbformat_minor": 2
}
