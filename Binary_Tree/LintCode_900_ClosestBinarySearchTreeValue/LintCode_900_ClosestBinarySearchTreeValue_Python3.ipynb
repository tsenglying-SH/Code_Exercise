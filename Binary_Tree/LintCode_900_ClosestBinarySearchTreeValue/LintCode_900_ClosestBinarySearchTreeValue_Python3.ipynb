{
 "cells": [
  {
   "cell_type": "markdown",
   "metadata": {},
   "source": [
    "## search the target and update the answer along the way, time O(h)"
   ]
  },
  {
   "cell_type": "code",
   "execution_count": 1,
   "metadata": {},
   "outputs": [],
   "source": [
    "def closestValue(root, target):\n",
    "    # write your code here\n",
    "    ans_val = root.val\n",
    "\n",
    "    while (root):\n",
    "        if abs(root.val - target) < abs(ans_val - target):\n",
    "            ans_val = root.val\n",
    "\n",
    "        if target > root.val:\n",
    "            root = root.right\n",
    "        else:\n",
    "            root = root.left\n",
    "    return ans_val"
   ]
  },
  {
   "cell_type": "code",
   "execution_count": null,
   "metadata": {},
   "outputs": [],
   "source": []
  }
 ],
 "metadata": {
  "kernelspec": {
   "display_name": "Python 3",
   "language": "python",
   "name": "python3"
  },
  "language_info": {
   "codemirror_mode": {
    "name": "ipython",
    "version": 3
   },
   "file_extension": ".py",
   "mimetype": "text/x-python",
   "name": "python",
   "nbconvert_exporter": "python",
   "pygments_lexer": "ipython3",
   "version": "3.7.3"
  }
 },
 "nbformat": 4,
 "nbformat_minor": 2
}
