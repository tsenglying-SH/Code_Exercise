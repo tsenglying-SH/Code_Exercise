{
 "cells": [
  {
   "cell_type": "markdown",
   "metadata": {},
   "source": [
    "## Recursive Method 1, inorder traverse and record the lastNode to check validation"
   ]
  },
  {
   "cell_type": "code",
   "execution_count": 2,
   "metadata": {},
   "outputs": [],
   "source": [
    "# Definition for a binary tree node.\n",
    "# class TreeNode:\n",
    "#     def __init__(self, x):\n",
    "#         self.val = x\n",
    "#         self.left = None\n",
    "#         self.right = None\n",
    "\n",
    "class Solution:\n",
    "    def isValidBST(self, root: TreeNode) -> bool:\n",
    "        if not root:\n",
    "            return True\n",
    "        self.valid = True\n",
    "        self.lastNode = None\n",
    "        self.validation(root)\n",
    "        return self.valid\n",
    "    \n",
    "    def validation(self, root):\n",
    "        if not root:\n",
    "            return\n",
    "        self.validation(root.left)\n",
    "        if self.lastNode and self.lastNode.val >= root.val:\n",
    "            self.valid = False\n",
    "            return\n",
    "        self.lastNode = root\n",
    "        self.validation(root.right)"
   ]
  },
  {
   "cell_type": "markdown",
   "metadata": {},
   "source": [
    "## Recursive Method 2, recursively check every node with bound"
   ]
  },
  {
   "cell_type": "code",
   "execution_count": null,
   "metadata": {},
   "outputs": [],
   "source": [
    "# Definition for a binary tree node.\n",
    "# class TreeNode:\n",
    "#     def __init__(self, x):\n",
    "#         self.val = x\n",
    "#         self.left = None\n",
    "#         self.right = None\n",
    "\n",
    "class Solution:\n",
    "    def isValidBST(self, root: TreeNode) -> bool:\n",
    "        return self.validation(root)\n",
    "    \n",
    "    def validation(self, root, low=float('-inf'), up=float('inf')):\n",
    "        if not root:\n",
    "            return True\n",
    "        \n",
    "        if root.val <= low or root.val >= up:\n",
    "            return False\n",
    "        \n",
    "        if not self.validation(root.left, low, root.val):\n",
    "            return False\n",
    "        \n",
    "        if not self.validation(root.right, root.val, up):\n",
    "            return False\n",
    "        \n",
    "        return True"
   ]
  },
  {
   "cell_type": "markdown",
   "metadata": {},
   "source": [
    "## Iterative Method, if last value >= root.val, false, if stack is empty, that's ok to return True"
   ]
  },
  {
   "cell_type": "code",
   "execution_count": 1,
   "metadata": {},
   "outputs": [],
   "source": [
    "# Definition for a binary tree node.\n",
    "# class TreeNode:\n",
    "#     def __init__(self, x):\n",
    "#         self.val = x\n",
    "#         self.left = None\n",
    "#         self.right = None\n",
    "\n",
    "class Solution:\n",
    "    def isValidBST(self, root: TreeNode) -> bool:\n",
    "        if not root:\n",
    "            return True\n",
    "        \n",
    "        stack = []\n",
    "        lastNode = None\n",
    "        \n",
    "        while True:\n",
    "            while root:\n",
    "                stack.append(root)\n",
    "                root = root.left\n",
    "            \n",
    "            if not stack:\n",
    "                break\n",
    "            \n",
    "            root = stack.pop()\n",
    "            \n",
    "            if lastNode and lastNode.val >= root.val:\n",
    "                return False\n",
    "            lastNode = root\n",
    "            \n",
    "            root = root.right\n",
    "        \n",
    "        return True\n",
    "        "
   ]
  },
  {
   "cell_type": "code",
   "execution_count": null,
   "metadata": {},
   "outputs": [],
   "source": []
  }
 ],
 "metadata": {
  "kernelspec": {
   "display_name": "Python 3",
   "language": "python",
   "name": "python3"
  },
  "language_info": {
   "codemirror_mode": {
    "name": "ipython",
    "version": 3
   },
   "file_extension": ".py",
   "mimetype": "text/x-python",
   "name": "python",
   "nbconvert_exporter": "python",
   "pygments_lexer": "ipython3",
   "version": "3.7.3"
  }
 },
 "nbformat": 4,
 "nbformat_minor": 2
}
