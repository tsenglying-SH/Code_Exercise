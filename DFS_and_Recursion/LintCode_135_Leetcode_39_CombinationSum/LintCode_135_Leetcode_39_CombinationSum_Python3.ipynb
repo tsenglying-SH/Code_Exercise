{
 "cells": [
  {
   "cell_type": "markdown",
   "metadata": {},
   "source": [
    "## dfs with backtracking template, use set to deduplicate"
   ]
  },
  {
   "cell_type": "code",
   "execution_count": 6,
   "metadata": {},
   "outputs": [],
   "source": [
    "def combinationSum(candidates, target):\n",
    "    if not candidates:\n",
    "        return []\n",
    "\n",
    "    res = []\n",
    "    path = []\n",
    "    # if there are duplicate in candidates, remove them\n",
    "    candidates = set(candidates)\n",
    "\n",
    "    def dfs(candidates, target, path, res):\n",
    "        if target == 0:\n",
    "            res.append(path[:])\n",
    "            return\n",
    "\n",
    "        if target < 0:\n",
    "            return\n",
    "\n",
    "        for num in candidates:\n",
    "            # all number are positive, so check num <= target\n",
    "            # part after and avoid duplicate combination in the res\n",
    "            if num <= target and (not path or path[-1] <= num):\n",
    "                path.append(num)\n",
    "                dfs(candidates, target - num, path, res)\n",
    "                del path[-1]\n",
    "\n",
    "    dfs(candidates, target, path, res)\n",
    "    return res"
   ]
  },
  {
   "cell_type": "code",
   "execution_count": 7,
   "metadata": {},
   "outputs": [
    {
     "data": {
      "text/plain": [
       "[[1, 1]]"
      ]
     },
     "execution_count": 7,
     "metadata": {},
     "output_type": "execute_result"
    }
   ],
   "source": [
    "combinationSum([1, 1, 1], 2)"
   ]
  },
  {
   "cell_type": "code",
   "execution_count": 8,
   "metadata": {},
   "outputs": [
    {
     "data": {
      "text/plain": [
       "[[2, 3]]"
      ]
     },
     "execution_count": 8,
     "metadata": {},
     "output_type": "execute_result"
    }
   ],
   "source": [
    "combinationSum([2, 2, 3], 5)"
   ]
  },
  {
   "cell_type": "code",
   "execution_count": 9,
   "metadata": {},
   "outputs": [
    {
     "data": {
      "text/plain": [
       "[[2, 2, 3], [7]]"
      ]
     },
     "execution_count": 9,
     "metadata": {},
     "output_type": "execute_result"
    }
   ],
   "source": [
    "combinationSum([2, 3, 6, 7], 7)"
   ]
  },
  {
   "cell_type": "markdown",
   "metadata": {},
   "source": [
    "## leetcode method, input always no duplicate"
   ]
  },
  {
   "cell_type": "code",
   "execution_count": 1,
   "metadata": {},
   "outputs": [],
   "source": [
    "def combinationSum(candidates, target):\n",
    "    if not candidates:\n",
    "        return []\n",
    "\n",
    "    res = []\n",
    "    path = []\n",
    "    candidates.sort()\n",
    "\n",
    "    def dfs(candidates, target, path, res, idx):\n",
    "        if target == 0:\n",
    "            res.append(path[:])\n",
    "            return\n",
    "\n",
    "        if target < 0:\n",
    "            return\n",
    "\n",
    "        for i in range(idx, len(candidates)):\n",
    "            # avoid useless search!\n",
    "            if candidates[i] > target: break\n",
    "            path.append(candidates[i])\n",
    "            dfs(candidates, target - candidates[i], path, res, i)\n",
    "            del path[-1]\n",
    "\n",
    "    dfs(candidates, target, path, res, 0)\n",
    "    return res"
   ]
  },
  {
   "cell_type": "code",
   "execution_count": null,
   "metadata": {},
   "outputs": [],
   "source": []
  }
 ],
 "metadata": {
  "kernelspec": {
   "display_name": "Python 3",
   "language": "python",
   "name": "python3"
  },
  "language_info": {
   "codemirror_mode": {
    "name": "ipython",
    "version": 3
   },
   "file_extension": ".py",
   "mimetype": "text/x-python",
   "name": "python",
   "nbconvert_exporter": "python",
   "pygments_lexer": "ipython3",
   "version": "3.7.3"
  }
 },
 "nbformat": 4,
 "nbformat_minor": 2
}
