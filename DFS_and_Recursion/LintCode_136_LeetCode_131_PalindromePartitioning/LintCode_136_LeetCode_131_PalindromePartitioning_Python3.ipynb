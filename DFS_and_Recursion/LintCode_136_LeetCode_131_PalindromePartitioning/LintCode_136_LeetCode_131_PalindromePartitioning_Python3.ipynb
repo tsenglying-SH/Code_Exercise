{
 "cells": [
  {
   "cell_type": "markdown",
   "metadata": {},
   "source": [
    "## DFS with backtracking"
   ]
  },
  {
   "cell_type": "code",
   "execution_count": 1,
   "metadata": {},
   "outputs": [],
   "source": [
    "def partition(s):\n",
    "    # write your code here\n",
    "    if not s:\n",
    "        return [[]]\n",
    "\n",
    "    path = []\n",
    "    res = []\n",
    "    dfs(s, 0, path, res)\n",
    "    return res\n",
    "\n",
    "def dfs(s, i, path, res):\n",
    "    if i >= len(s):\n",
    "        res.append(path[:])\n",
    "        return\n",
    "\n",
    "    for end_idx in range(i + 1, len(s) + 1):\n",
    "        if is_palindrome(s[i: end_idx]):\n",
    "            path.append(s[i:end_idx])\n",
    "            dfs(s, end_idx, path, res)\n",
    "            del path[-1]\n",
    "\n",
    "def is_palindrome(s):\n",
    "    if not s:\n",
    "        return True\n",
    "\n",
    "    i, j = 0, len(s) - 1\n",
    "\n",
    "    while i <= j:\n",
    "        if s[i] != s[j]:\n",
    "            return False\n",
    "        i += 1\n",
    "        j -= 1\n",
    "    return True"
   ]
  },
  {
   "cell_type": "code",
   "execution_count": 2,
   "metadata": {},
   "outputs": [
    {
     "data": {
      "text/plain": [
       "[['a', 'b', 'b', 'c', 'c'],\n",
       " ['a', 'b', 'b', 'cc'],\n",
       " ['a', 'bb', 'c', 'c'],\n",
       " ['a', 'bb', 'cc']]"
      ]
     },
     "execution_count": 2,
     "metadata": {},
     "output_type": "execute_result"
    }
   ],
   "source": [
    "partition(\"abbcc\")"
   ]
  },
  {
   "cell_type": "code",
   "execution_count": null,
   "metadata": {},
   "outputs": [],
   "source": []
  }
 ],
 "metadata": {
  "kernelspec": {
   "display_name": "Python 3",
   "language": "python",
   "name": "python3"
  },
  "language_info": {
   "codemirror_mode": {
    "name": "ipython",
    "version": 3
   },
   "file_extension": ".py",
   "mimetype": "text/x-python",
   "name": "python",
   "nbconvert_exporter": "python",
   "pygments_lexer": "ipython3",
   "version": "3.7.3"
  }
 },
 "nbformat": 4,
 "nbformat_minor": 2
}
