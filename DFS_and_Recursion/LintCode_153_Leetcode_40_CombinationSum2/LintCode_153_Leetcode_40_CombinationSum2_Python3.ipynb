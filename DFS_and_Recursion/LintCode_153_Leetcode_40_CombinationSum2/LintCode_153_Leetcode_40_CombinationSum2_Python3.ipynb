{
 "cells": [
  {
   "cell_type": "markdown",
   "metadata": {},
   "source": [
    "## dfs with backtracking"
   ]
  },
  {
   "cell_type": "code",
   "execution_count": 1,
   "metadata": {},
   "outputs": [],
   "source": [
    "def combinationSum2(candidates, target):\n",
    "    if not candidates:\n",
    "        return [[]]\n",
    "\n",
    "    candidates.sort()\n",
    "    path = []\n",
    "    res = []\n",
    "\n",
    "    def dfs(candidates, target, path, res, idx):\n",
    "        if target == 0:\n",
    "            res.append(path[:])\n",
    "            return\n",
    "\n",
    "        if target < 0:\n",
    "            return\n",
    "\n",
    "        for i in range(idx, len(candidates)):\n",
    "            # deduplicate key!\n",
    "            if i > idx and candidates[i] == candidates[i - 1]:\n",
    "                continue\n",
    "            # avoid useless search\n",
    "            if candidates[i] > target:\n",
    "                break\n",
    "            path.append(candidates[i])\n",
    "            # change the target and idx to continue the recursion\n",
    "            dfs(candidates, target - candidates[i], path, res, i + 1)\n",
    "            del path[-1]\n",
    "\n",
    "    dfs(candidates, target, path, res, 0)\n",
    "    return res"
   ]
  },
  {
   "cell_type": "code",
   "execution_count": 2,
   "metadata": {},
   "outputs": [
    {
     "data": {
      "text/plain": [
       "[[1, 2], [3]]"
      ]
     },
     "execution_count": 2,
     "metadata": {},
     "output_type": "execute_result"
    }
   ],
   "source": [
    "combinationSum2([1,1,2,3],3)"
   ]
  },
  {
   "cell_type": "code",
   "execution_count": null,
   "metadata": {},
   "outputs": [],
   "source": []
  },
  {
   "cell_type": "code",
   "execution_count": null,
   "metadata": {},
   "outputs": [],
   "source": []
  }
 ],
 "metadata": {
  "kernelspec": {
   "display_name": "Python 3",
   "language": "python",
   "name": "python3"
  },
  "language_info": {
   "codemirror_mode": {
    "name": "ipython",
    "version": 3
   },
   "file_extension": ".py",
   "mimetype": "text/x-python",
   "name": "python",
   "nbconvert_exporter": "python",
   "pygments_lexer": "ipython3",
   "version": "3.7.3"
  }
 },
 "nbformat": 4,
 "nbformat_minor": 2
}
