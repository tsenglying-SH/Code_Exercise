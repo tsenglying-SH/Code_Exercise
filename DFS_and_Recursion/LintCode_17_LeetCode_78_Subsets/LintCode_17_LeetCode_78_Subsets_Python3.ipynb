{
 "cells": [
  {
   "cell_type": "markdown",
   "metadata": {},
   "source": [
    "## piggy back on dfs with backtracking to find combination, time O(n* 2^n)"
   ]
  },
  {
   "cell_type": "code",
   "execution_count": 1,
   "metadata": {},
   "outputs": [],
   "source": [
    "def subsets(nums):\n",
    "        # write your code here\n",
    "        result = []\n",
    "        nums.sort() # the problems ask for the ascending order\n",
    "        def dfs(result, subset, nums, idx):\n",
    "            # here append every combination along the way\n",
    "            result.append(subset[:])\n",
    "            if idx == len(nums):\n",
    "                return\n",
    "            if idx > len(nums):    \n",
    "                return\n",
    "            \n",
    "            for i in range(idx, len(nums)):\n",
    "                subset.append(nums[i])\n",
    "                dfs(result, subset, nums, i + 1)\n",
    "                del subset[-1]\n",
    "                \n",
    "        dfs(result, [], nums, 0)\n",
    "        return result"
   ]
  },
  {
   "cell_type": "code",
   "execution_count": 2,
   "metadata": {},
   "outputs": [
    {
     "data": {
      "text/plain": [
       "[[], [1], [1, 2], [1, 2, 3], [1, 3], [2], [2, 3], [3]]"
      ]
     },
     "execution_count": 2,
     "metadata": {},
     "output_type": "execute_result"
    }
   ],
   "source": [
    "subsets([1,2,3])"
   ]
  },
  {
   "cell_type": "markdown",
   "metadata": {},
   "source": [
    "## compare the method above and below, the method below only output the combination at the end of the path"
   ]
  },
  {
   "cell_type": "code",
   "execution_count": 7,
   "metadata": {},
   "outputs": [],
   "source": [
    "def subsets(nums):\n",
    "    # write your code here\n",
    "    result = []\n",
    "    nums.sort()\n",
    "    def dfs(result, subset, nums, idx):\n",
    "        #print(\"call:result\", result, \"subset\", subset, \"idx\", idx)\n",
    "        if idx == len(nums):\n",
    "            result.append(subset[:])\n",
    "            return\n",
    "        if idx > len(nums):    \n",
    "            return\n",
    "\n",
    "        for i in range(idx, len(nums)):\n",
    "            subset.append(nums[i])\n",
    "            dfs(result, subset, nums, i + 1)\n",
    "            del subset[-1]\n",
    "            #print(\"back:result\", result, \"subset\", subset, \"idx\", idx)\n",
    "    dfs(result, [], nums, 0)\n",
    "    return result"
   ]
  },
  {
   "cell_type": "code",
   "execution_count": 8,
   "metadata": {},
   "outputs": [
    {
     "data": {
      "text/plain": [
       "[[1, 2, 3], [1, 3], [2, 3], [3]]"
      ]
     },
     "execution_count": 8,
     "metadata": {},
     "output_type": "execute_result"
    }
   ],
   "source": [
    "subsets([1,2,3])"
   ]
  },
  {
   "cell_type": "markdown",
   "metadata": {},
   "source": [
    "## iterative method, , time O(n* 2^n)\n",
    "example: [[ ]] --> [[ ], [1]] --> [[ ], [1], [2], [1, 2]] --> [[ ], [1], [2], [1, 2], [3], [1, 3], [2, 3], [1, 2, 3]]"
   ]
  },
  {
   "cell_type": "code",
   "execution_count": 22,
   "metadata": {},
   "outputs": [],
   "source": [
    "def subsets(nums):\n",
    "    if not nums:\n",
    "        return [[]]\n",
    "\n",
    "    nums.sort()\n",
    "    res = [[]]\n",
    "    for num in nums:\n",
    "        n = len(res)\n",
    "        for i in range(n):\n",
    "            print(res)\n",
    "            res.append(res[i] + [num])\n",
    "\n",
    "    return res"
   ]
  },
  {
   "cell_type": "code",
   "execution_count": 23,
   "metadata": {
    "scrolled": true
   },
   "outputs": [
    {
     "name": "stdout",
     "output_type": "stream",
     "text": [
      "[[]]\n",
      "[[], [1]]\n",
      "[[], [1], [2]]\n",
      "[[], [1], [2], [1, 2]]\n",
      "[[], [1], [2], [1, 2], [3]]\n",
      "[[], [1], [2], [1, 2], [3], [1, 3]]\n",
      "[[], [1], [2], [1, 2], [3], [1, 3], [2, 3]]\n"
     ]
    },
    {
     "data": {
      "text/plain": [
       "[[], [1], [2], [1, 2], [3], [1, 3], [2, 3], [1, 2, 3]]"
      ]
     },
     "execution_count": 23,
     "metadata": {},
     "output_type": "execute_result"
    }
   ],
   "source": [
    "subsets([1,2,3])"
   ]
  },
  {
   "cell_type": "markdown",
   "metadata": {},
   "source": [
    "## Bit Operation Method, , time O(n* 2^n)"
   ]
  },
  {
   "cell_type": "code",
   "execution_count": 5,
   "metadata": {},
   "outputs": [],
   "source": [
    "def subsets(nums):\n",
    "    if not nums:\n",
    "        return [[]]\n",
    "\n",
    "    nums.sort()\n",
    "    n = len(nums)\n",
    "    p = 1 << n # 2 ^ n\n",
    "    res = [[] for _ in range(p)] # [] * 8 is [], [1] * 8 is {1, 1, 1, 1, 1, 1, 1, 1}\n",
    "    for j in range(n):\n",
    "        for i in range(p):\n",
    "            if (i >> j) & 1:\n",
    "                res[i].append(nums[j])\n",
    "            # print(res)\n",
    "    return res"
   ]
  },
  {
   "cell_type": "code",
   "execution_count": 6,
   "metadata": {},
   "outputs": [
    {
     "data": {
      "text/plain": [
       "[[], [1], [2], [1, 2], [3], [1, 3], [2, 3], [1, 2, 3]]"
      ]
     },
     "execution_count": 6,
     "metadata": {},
     "output_type": "execute_result"
    }
   ],
   "source": [
    "subsets([1,2,3])"
   ]
  },
  {
   "cell_type": "code",
   "execution_count": null,
   "metadata": {},
   "outputs": [],
   "source": []
  }
 ],
 "metadata": {
  "kernelspec": {
   "display_name": "Python 3",
   "language": "python",
   "name": "python3"
  },
  "language_info": {
   "codemirror_mode": {
    "name": "ipython",
    "version": 3
   },
   "file_extension": ".py",
   "mimetype": "text/x-python",
   "name": "python",
   "nbconvert_exporter": "python",
   "pygments_lexer": "ipython3",
   "version": "3.7.3"
  }
 },
 "nbformat": 4,
 "nbformat_minor": 2
}
