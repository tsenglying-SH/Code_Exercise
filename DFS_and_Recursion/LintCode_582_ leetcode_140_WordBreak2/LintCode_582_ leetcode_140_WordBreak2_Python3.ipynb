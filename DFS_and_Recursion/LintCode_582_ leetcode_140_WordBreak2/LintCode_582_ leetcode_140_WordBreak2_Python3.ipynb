{
 "cells": [
  {
   "cell_type": "markdown",
   "metadata": {},
   "source": [
    "## BF dfs with backtracking, TLE, time O(n^n), space O(n^n)"
   ]
  },
  {
   "cell_type": "code",
   "execution_count": 2,
   "metadata": {},
   "outputs": [],
   "source": [
    "def wordBreak(s, wordDict):\n",
    "    # write your code here\n",
    "    if not s:\n",
    "        return []\n",
    "\n",
    "    def dfs(s, wordDict, path, res, i):\n",
    "        if i == len(s):\n",
    "            res.append(\" \".join(path[:]))\n",
    "\n",
    "        if i > len(s):\n",
    "            return\n",
    "\n",
    "        for idx in range(i + 1, len(s) + 1):\n",
    "            substr = s[i : idx]\n",
    "            if substr in wordDict:\n",
    "                path.append(substr)\n",
    "                dfs(s, wordDict, path, res, idx)\n",
    "                del path[-1]\n",
    "\n",
    "    path = []\n",
    "    res = []\n",
    "    dfs(s, wordDict, path, res, 0)\n",
    "\n",
    "    return res"
   ]
  },
  {
   "cell_type": "code",
   "execution_count": 3,
   "metadata": {},
   "outputs": [
    {
     "data": {
      "text/plain": [
       "['cat sand dog', 'cats and dog']"
      ]
     },
     "execution_count": 3,
     "metadata": {},
     "output_type": "execute_result"
    }
   ],
   "source": [
    "wordBreak(\"catsanddog\", [\"cat\",\"cats\",\"and\",\"sand\",\"dog\"])"
   ]
  },
  {
   "cell_type": "markdown",
   "metadata": {},
   "source": [
    "## Search with memory"
   ]
  },
  {
   "cell_type": "code",
   "execution_count": 32,
   "metadata": {},
   "outputs": [],
   "source": [
    "def wordBreak2(s, wordDict):\n",
    "    return memo_search(s, wordDict, {})\n",
    "\n",
    "def memo_search(s, wordDict, memo):\n",
    "    if s in memo:\n",
    "        return memo[s]\n",
    "\n",
    "    if not s:\n",
    "        return []\n",
    "\n",
    "    partition = []\n",
    "    \n",
    "    # here i must begin from 1, or prefix will be \"\" , which may casusing some errors\n",
    "    for i in range(1, len(s) + 1):\n",
    "        prefix = s[:i]\n",
    "\n",
    "        if prefix not in wordDict:\n",
    "            continue\n",
    "\n",
    "        suffixes = memo_search(s[i:], wordDict, memo)\n",
    "\n",
    "        for suffix in suffixes:\n",
    "            partition.append(prefix + \" \" + suffix)\n",
    "\n",
    "    if s in wordDict:\n",
    "        partition.append(s)\n",
    "\n",
    "    memo[s] = partition\n",
    "\n",
    "    return partition"
   ]
  },
  {
   "cell_type": "code",
   "execution_count": 33,
   "metadata": {},
   "outputs": [
    {
     "data": {
      "text/plain": [
       "['cat sand dog', 'cats and dog']"
      ]
     },
     "execution_count": 33,
     "metadata": {},
     "output_type": "execute_result"
    }
   ],
   "source": [
    "wordBreak2(\"catsanddog\", [\"cat\",\"cats\",\"and\",\"sand\",\"dog\"])"
   ]
  },
  {
   "cell_type": "code",
   "execution_count": 34,
   "metadata": {},
   "outputs": [
    {
     "data": {
      "text/plain": [
       "[]"
      ]
     },
     "execution_count": 34,
     "metadata": {},
     "output_type": "execute_result"
    }
   ],
   "source": [
    "wordBreak2(\"a\", [\"\"])"
   ]
  },
  {
   "cell_type": "code",
   "execution_count": null,
   "metadata": {},
   "outputs": [],
   "source": []
  }
 ],
 "metadata": {
  "kernelspec": {
   "display_name": "Python 3",
   "language": "python",
   "name": "python3"
  },
  "language_info": {
   "codemirror_mode": {
    "name": "ipython",
    "version": 3
   },
   "file_extension": ".py",
   "mimetype": "text/x-python",
   "name": "python",
   "nbconvert_exporter": "python",
   "pygments_lexer": "ipython3",
   "version": "3.7.3"
  }
 },
 "nbformat": 4,
 "nbformat_minor": 2
}
