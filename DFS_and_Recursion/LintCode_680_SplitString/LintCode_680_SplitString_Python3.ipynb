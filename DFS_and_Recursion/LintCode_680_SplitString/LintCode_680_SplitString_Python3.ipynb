{
 "cells": [
  {
   "cell_type": "markdown",
   "metadata": {},
   "source": [
    "## DFS with Backtracking"
   ]
  },
  {
   "cell_type": "code",
   "execution_count": 3,
   "metadata": {},
   "outputs": [],
   "source": [
    "def splitString(s):\n",
    "    # write your code here\n",
    "    if not s:\n",
    "        return [[]]\n",
    "    path = []    \n",
    "    res = []\n",
    "    dfs(s, 0, path, res)\n",
    "    return res\n",
    "        \n",
    "def dfs(s, i, path, res):\n",
    "    if i >= len(s):\n",
    "        res.append(path[:])\n",
    "        return\n",
    "\n",
    "    for end_idx in range(i + 1, i + 3):\n",
    "        if end_idx <= len(s):\n",
    "            path.append(s[i: end_idx])\n",
    "            dfs(s, end_idx, path, res)\n",
    "            del path[-1]"
   ]
  },
  {
   "cell_type": "code",
   "execution_count": 4,
   "metadata": {},
   "outputs": [
    {
     "data": {
      "text/plain": [
       "[['1', '2', '3', '4', '5', '6'],\n",
       " ['1', '2', '3', '4', '56'],\n",
       " ['1', '2', '3', '45', '6'],\n",
       " ['1', '2', '34', '5', '6'],\n",
       " ['1', '2', '34', '56'],\n",
       " ['1', '23', '4', '5', '6'],\n",
       " ['1', '23', '4', '56'],\n",
       " ['1', '23', '45', '6'],\n",
       " ['12', '3', '4', '5', '6'],\n",
       " ['12', '3', '4', '56'],\n",
       " ['12', '3', '45', '6'],\n",
       " ['12', '34', '5', '6'],\n",
       " ['12', '34', '56']]"
      ]
     },
     "execution_count": 4,
     "metadata": {},
     "output_type": "execute_result"
    }
   ],
   "source": [
    "splitString(\"123456\")"
   ]
  },
  {
   "cell_type": "code",
   "execution_count": null,
   "metadata": {},
   "outputs": [],
   "source": []
  }
 ],
 "metadata": {
  "kernelspec": {
   "display_name": "Python 3",
   "language": "python",
   "name": "python3"
  },
  "language_info": {
   "codemirror_mode": {
    "name": "ipython",
    "version": 3
   },
   "file_extension": ".py",
   "mimetype": "text/x-python",
   "name": "python",
   "nbconvert_exporter": "python",
   "pygments_lexer": "ipython3",
   "version": "3.7.3"
  }
 },
 "nbformat": 4,
 "nbformat_minor": 2
}
