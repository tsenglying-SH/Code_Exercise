{
 "cells": [
  {
   "cell_type": "markdown",
   "metadata": {},
   "source": [
    "## BFS to build graph and calculate the max_distance, DFS to search all path, time O(n^2 + n + 2^n * n)"
   ]
  },
  {
   "cell_type": "code",
   "execution_count": 1,
   "metadata": {},
   "outputs": [],
   "source": [
    "# lintcode solution, leetcode a little different\n",
    "from collections import deque\n",
    "def findLadders(start, end, dict_):\n",
    "    # write your code here\n",
    "    if not start and not end:\n",
    "        return []\n",
    "    dict_.add(start)\n",
    "    dict_.add(end)\n",
    "    queue = deque([start])\n",
    "    graph = {start: set()}\n",
    "    distance = {start: 0}\n",
    "    dist = 0\n",
    "    found = False\n",
    "    # BFS to build the graph and  found the shortest distance\n",
    "    while queue:\n",
    "        size = len(queue)\n",
    "        dist += 1\n",
    "        used = set()\n",
    "        for i in range(size):\n",
    "            tail = queue.popleft()\n",
    "            used.add(tail)\n",
    "            if tail == end:\n",
    "                found = True\n",
    "            for j in range(len(tail)):\n",
    "                for char in \"abcdefghijklmnopqrstuvwxyz\":\n",
    "                    head = tail[:j] + char + tail[j + 1:]\n",
    "                    if head == tail:\n",
    "                        continue\n",
    "                    if head in dict_:\n",
    "                        graph[tail].add(head)\n",
    "                        if head not in graph:\n",
    "                            graph[head] = set()\n",
    "                        if head not in distance:\n",
    "                            distance[head] = dist\n",
    "                            queue.append(head)\n",
    "        dict_ = dict_ - used\n",
    "        if found == True:\n",
    "            break\n",
    "    # print(graph, distance)\n",
    "    max_step = dist - 1\n",
    "    res = []\n",
    "    \n",
    "    # dfs to record all paths\n",
    "    dfs(max_step, end, graph, distance, 0, [start], res)\n",
    "\n",
    "    return res\n",
    "        \n",
    "def dfs(limit, target, graph, distance, cur_dist, path, res):\n",
    "    if cur_dist == limit:\n",
    "        if path[-1] == target:\n",
    "            res.append(path[:])\n",
    "        return\n",
    "\n",
    "    tail = path[-1]\n",
    "    for head in graph[tail]:\n",
    "        if distance[head] == distance[tail] + 1:\n",
    "            path.append(head)\n",
    "            dfs(limit, target, graph, distance, cur_dist + 1, path, res)\n",
    "            del path[-1]"
   ]
  },
  {
   "cell_type": "code",
   "execution_count": 3,
   "metadata": {},
   "outputs": [
    {
     "data": {
      "text/plain": [
       "[['hit', 'hot', 'dot', 'dog', 'cog'], ['hit', 'hot', 'lot', 'log', 'cog']]"
      ]
     },
     "execution_count": 3,
     "metadata": {},
     "output_type": "execute_result"
    }
   ],
   "source": [
    "findLadders(\"hit\", \"cog\", {\"hot\",\"dot\",\"dog\",\"lot\",\"log\"})"
   ]
  },
  {
   "cell_type": "code",
   "execution_count": null,
   "metadata": {},
   "outputs": [],
   "source": []
  }
 ],
 "metadata": {
  "kernelspec": {
   "display_name": "Python 3",
   "language": "python",
   "name": "python3"
  },
  "language_info": {
   "codemirror_mode": {
    "name": "ipython",
    "version": 3
   },
   "file_extension": ".py",
   "mimetype": "text/x-python",
   "name": "python",
   "nbconvert_exporter": "python",
   "pygments_lexer": "ipython3",
   "version": "3.7.3"
  }
 },
 "nbformat": 4,
 "nbformat_minor": 2
}
