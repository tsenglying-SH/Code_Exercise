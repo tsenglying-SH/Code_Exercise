{
 "cells": [
  {
   "cell_type": "markdown",
   "metadata": {},
   "source": [
    "## Trie + DFS, difficult! Time O()"
   ]
  },
  {
   "cell_type": "code",
   "execution_count": 2,
   "metadata": {},
   "outputs": [],
   "source": [
    "# define the Trie Node\n",
    "class TrieNode():\n",
    "    def __init__(self):\n",
    "        self.post_node = {}\n",
    "        self.isWord = False\n",
    "        self.word = \"\""
   ]
  },
  {
   "cell_type": "code",
   "execution_count": 3,
   "metadata": {},
   "outputs": [],
   "source": [
    "# build the trie acoording to words list\n",
    "def buildTrie(words):\n",
    "    root = TrieNode()\n",
    "    for word in words:\n",
    "        node = root\n",
    "        for char in word:\n",
    "            if char not in node.post_node:\n",
    "                node.post_node[char] = TrieNode()\n",
    "            node = node.post_node[char]\n",
    "        node.isWord = True\n",
    "        node.word = word\n",
    "    return root"
   ]
  },
  {
   "cell_type": "code",
   "execution_count": 4,
   "metadata": {},
   "outputs": [],
   "source": [
    "# DFS\n",
    "def search(root, board, i, j, visited, res):\n",
    "    if root.isWord:\n",
    "        res.add(root.word)\n",
    "    # print(i, j, visited, res)\n",
    "    dx = [0, -1, 0, 1]\n",
    "    dy = [1, 0, -1, 0]\n",
    "    m, n = len(board), len(board[0])\n",
    "    for idx in range(len(dx)):\n",
    "        new_x = i + dx[idx]\n",
    "        new_y = j + dy[idx]\n",
    "        # print(new_x, new_y, visited, root.post_node)\n",
    "        if 0 <= new_x < m and 0 <= new_y < n and (new_x, new_y) not in visited and board[new_x][new_y] in root.post_node:\n",
    "            visited.add((new_x, new_y))\n",
    "            search(root.post_node[board[new_x][new_y]], board, new_x, new_y, visited, res)\n",
    "            visited.remove((new_x, new_y))"
   ]
  },
  {
   "cell_type": "code",
   "execution_count": 5,
   "metadata": {},
   "outputs": [],
   "source": [
    "def word_search(board, words):\n",
    "    if not words:\n",
    "        return []\n",
    "    \n",
    "    if not board or not board[0]:\n",
    "        return False\n",
    "    \n",
    "    m, n = len(board), len(board[0])\n",
    "    res = set()\n",
    "    TrieRoot = buildTrie(words)\n",
    "    # print(TrieRoot.post_node)\n",
    "    for i in range(m):\n",
    "        for j in range(n):\n",
    "            if board[i][j] in TrieRoot.post_node:\n",
    "                node = TrieRoot.post_node[board[i][j]]\n",
    "                search(node, board, i, j, set([(i, j)]), res)\n",
    "    # search(TrieRoot, board, 0, 0, set(), res)\n",
    "    return res"
   ]
  },
  {
   "cell_type": "code",
   "execution_count": 6,
   "metadata": {},
   "outputs": [
    {
     "data": {
      "text/plain": [
       "{'again', 'can', 'dad', 'dog'}"
      ]
     },
     "execution_count": 6,
     "metadata": {},
     "output_type": "execute_result"
    }
   ],
   "source": [
    "board = [\"doaf\",\"agai\",\"dcan\"]\n",
    "words = [\"dog\",\"dad\",\"dgdg\",\"can\",\"again\"]\n",
    "word_search(board, words)"
   ]
  },
  {
   "cell_type": "code",
   "execution_count": 7,
   "metadata": {},
   "outputs": [
    {
     "data": {
      "text/plain": [
       "{'d'}"
      ]
     },
     "execution_count": 7,
     "metadata": {},
     "output_type": "execute_result"
    }
   ],
   "source": [
    "word_search([\"d\"], [\"d\"])"
   ]
  },
  {
   "cell_type": "code",
   "execution_count": 8,
   "metadata": {},
   "outputs": [
    {
     "data": {
      "text/plain": [
       "{'a', 'b', 'ba'}"
      ]
     },
     "execution_count": 8,
     "metadata": {},
     "output_type": "execute_result"
    }
   ],
   "source": [
    "board = [\"b\",\"a\",\"b\",\"b\",\"a\"]\n",
    "words = [\"babbab\",\"b\",\"a\",\"ba\"]\n",
    "word_search(board, words)"
   ]
  },
  {
   "cell_type": "code",
   "execution_count": 9,
   "metadata": {},
   "outputs": [
    {
     "data": {
      "text/plain": [
       "{'eat', 'oath'}"
      ]
     },
     "execution_count": 9,
     "metadata": {},
     "output_type": "execute_result"
    }
   ],
   "source": [
    "board = [\n",
    "  ['o','a','a','n'],\n",
    "  ['e','t','a','e'],\n",
    "  ['i','h','k','r'],\n",
    "  ['i','f','l','v']\n",
    "]\n",
    "words = [\"oath\",\"pea\",\"eat\",\"rain\"]\n",
    "word_search(board, words)"
   ]
  },
  {
   "cell_type": "code",
   "execution_count": null,
   "metadata": {},
   "outputs": [],
   "source": []
  },
  {
   "cell_type": "code",
   "execution_count": null,
   "metadata": {},
   "outputs": [],
   "source": []
  },
  {
   "cell_type": "code",
   "execution_count": null,
   "metadata": {},
   "outputs": [],
   "source": []
  }
 ],
 "metadata": {
  "kernelspec": {
   "display_name": "Python 3",
   "language": "python",
   "name": "python3"
  },
  "language_info": {
   "codemirror_mode": {
    "name": "ipython",
    "version": 3
   },
   "file_extension": ".py",
   "mimetype": "text/x-python",
   "name": "python",
   "nbconvert_exporter": "python",
   "pygments_lexer": "ipython3",
   "version": "3.7.3"
  }
 },
 "nbformat": 4,
 "nbformat_minor": 2
}
