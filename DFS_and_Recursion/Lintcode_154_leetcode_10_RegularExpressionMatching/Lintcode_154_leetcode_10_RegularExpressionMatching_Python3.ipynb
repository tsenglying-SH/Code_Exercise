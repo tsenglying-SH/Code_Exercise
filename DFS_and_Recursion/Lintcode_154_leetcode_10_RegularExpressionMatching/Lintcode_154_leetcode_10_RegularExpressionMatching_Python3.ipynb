{
 "cells": [
  {
   "cell_type": "markdown",
   "metadata": {},
   "source": [
    "## recursion, search with memo"
   ]
  },
  {
   "cell_type": "code",
   "execution_count": 7,
   "metadata": {},
   "outputs": [],
   "source": [
    "def isMatch(s: str, p: str) -> bool:\n",
    "    return helper(s, 0, p, 0, {})\n",
    "    \n",
    "def char_match(s, p):\n",
    "    return s == p or p == \".\"\n",
    "\n",
    "def is_empty(p):\n",
    "    if len(p) & 1 == 1:\n",
    "        return False\n",
    "\n",
    "    for idx in range(0, len(p) // 2):\n",
    "        if p[2 * idx + 1] != \"*\":\n",
    "            return False\n",
    "    return True\n",
    "\n",
    "def helper(s, i, p, j, memo):\n",
    "    if (i, j) in memo:\n",
    "        return memo[(i, j)]\n",
    "\n",
    "    if i == len(s):\n",
    "        return is_empty(p[j:])\n",
    "\n",
    "    if j == len(p):\n",
    "        return False\n",
    "\n",
    "    if j + 1 < len(p) and p[j + 1] == \"*\":\n",
    "        matched = char_match(s[i], p[j]) and helper(s, i + 1, p, j, memo) or  helper(s, i, p, j + 2, memo)\n",
    "    else:\n",
    "        matched = char_match(s[i], p[j]) and helper(s, i + 1, p, j + 1, memo)\n",
    "        # matched = (s[i] == p[j] or p[j] == \".\") and self.helper(s, i + 1, p, j + 1, memo)\n",
    "    memo[(i, j)] = matched\n",
    "    return matched"
   ]
  },
  {
   "cell_type": "code",
   "execution_count": 8,
   "metadata": {},
   "outputs": [
    {
     "data": {
      "text/plain": [
       "True"
      ]
     },
     "execution_count": 8,
     "metadata": {},
     "output_type": "execute_result"
    }
   ],
   "source": [
    "isMatch(\"ab\",\".*\")"
   ]
  },
  {
   "cell_type": "code",
   "execution_count": 9,
   "metadata": {},
   "outputs": [
    {
     "data": {
      "text/plain": [
       "False"
      ]
     },
     "execution_count": 9,
     "metadata": {},
     "output_type": "execute_result"
    }
   ],
   "source": [
    "isMatch(\"aa\",\"a\")"
   ]
  },
  {
   "cell_type": "code",
   "execution_count": 41,
   "metadata": {},
   "outputs": [
    {
     "data": {
      "text/plain": [
       "False"
      ]
     },
     "execution_count": 41,
     "metadata": {},
     "output_type": "execute_result"
    }
   ],
   "source": [
    "isMatch(\"abab\",\"a*b*\")"
   ]
  },
  {
   "cell_type": "markdown",
   "metadata": {},
   "source": [
    "## DP time O(mn)"
   ]
  },
  {
   "cell_type": "code",
   "execution_count": 1,
   "metadata": {},
   "outputs": [],
   "source": [
    "def isMatch(s, p):\n",
    "    dp = [[False] * (len(p) + 1)for _ in range(len(s) + 1)]\n",
    "\n",
    "    dp[0][0] = True\n",
    "\n",
    "    for j in range(1, len(p) + 1):\n",
    "        if p[j - 1] == \"*\":\n",
    "            dp[0][j] = j >= 2 and dp[0][j - 2] # initialize the first row\n",
    "    for i in range(1, len(s) + 1):\n",
    "        for j in range(1, len(p) + 1):\n",
    "            # attention the index not out of the bound\n",
    "            if p[j - 1] == \"*\":\n",
    "                # attention the priority of \"and\" and \"or\"\n",
    "                dp[i][j] = j >= 2 and (((s[i - 1] == p[j - 2] or p[j - 2] == \".\") and dp[i - 1][j]) or dp[i][j - 2])\n",
    "            else:\n",
    "                dp[i][j] = dp[i - 1][j - 1] and (s[i - 1] == p[j - 1] or p[j - 1] == \".\")\n",
    "    return dp[-1][-1]"
   ]
  },
  {
   "cell_type": "code",
   "execution_count": 2,
   "metadata": {},
   "outputs": [
    {
     "data": {
      "text/plain": [
       "True"
      ]
     },
     "execution_count": 2,
     "metadata": {},
     "output_type": "execute_result"
    }
   ],
   "source": [
    "isMatch(\"bba\",\"c*b*a\")"
   ]
  },
  {
   "cell_type": "code",
   "execution_count": 3,
   "metadata": {},
   "outputs": [
    {
     "data": {
      "text/plain": [
       "False"
      ]
     },
     "execution_count": 3,
     "metadata": {},
     "output_type": "execute_result"
    }
   ],
   "source": [
    "isMatch(\"aa\",\"a\")"
   ]
  },
  {
   "cell_type": "code",
   "execution_count": 4,
   "metadata": {},
   "outputs": [
    {
     "data": {
      "text/plain": [
       "False"
      ]
     },
     "execution_count": 4,
     "metadata": {},
     "output_type": "execute_result"
    }
   ],
   "source": [
    "isMatch(\"abab\",\"a*b*\")"
   ]
  },
  {
   "cell_type": "code",
   "execution_count": 5,
   "metadata": {},
   "outputs": [
    {
     "data": {
      "text/plain": [
       "True"
      ]
     },
     "execution_count": 5,
     "metadata": {},
     "output_type": "execute_result"
    }
   ],
   "source": [
    "isMatch(\"aa\",\"aa\")"
   ]
  },
  {
   "cell_type": "code",
   "execution_count": 6,
   "metadata": {},
   "outputs": [
    {
     "data": {
      "text/plain": [
       "True"
      ]
     },
     "execution_count": 6,
     "metadata": {},
     "output_type": "execute_result"
    }
   ],
   "source": [
    "isMatch(\"\",\".*\")"
   ]
  },
  {
   "cell_type": "code",
   "execution_count": null,
   "metadata": {},
   "outputs": [],
   "source": []
  }
 ],
 "metadata": {
  "kernelspec": {
   "display_name": "Python 3",
   "language": "python",
   "name": "python3"
  },
  "language_info": {
   "codemirror_mode": {
    "name": "ipython",
    "version": 3
   },
   "file_extension": ".py",
   "mimetype": "text/x-python",
   "name": "python",
   "nbconvert_exporter": "python",
   "pygments_lexer": "ipython3",
   "version": "3.7.3"
  }
 },
 "nbformat": 4,
 "nbformat_minor": 2
}
