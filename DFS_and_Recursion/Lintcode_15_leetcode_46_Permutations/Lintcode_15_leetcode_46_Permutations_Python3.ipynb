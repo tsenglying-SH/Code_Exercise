{
 "cells": [
  {
   "cell_type": "markdown",
   "metadata": {},
   "source": [
    "## Permutations without duplicate"
   ]
  },
  {
   "cell_type": "code",
   "execution_count": 1,
   "metadata": {},
   "outputs": [],
   "source": [
    "def permute(nums):\n",
    "    # write your code here\n",
    "    if not nums:\n",
    "        return [[]]\n",
    "\n",
    "    def dfs(nums, path, res):\n",
    "        if not nums:\n",
    "            res.append(path[:])\n",
    "            return\n",
    "\n",
    "        for i in range(len(nums)):\n",
    "            path.append(nums[i])\n",
    "            dfs(nums[:i] + nums[i + 1:], path, res)\n",
    "            path.pop()\n",
    "\n",
    "    path = []\n",
    "    res = []\n",
    "    dfs(nums, path, res)\n",
    "    return res"
   ]
  },
  {
   "cell_type": "code",
   "execution_count": 2,
   "metadata": {},
   "outputs": [
    {
     "data": {
      "text/plain": [
       "[[1, 2, 3], [1, 3, 2], [2, 1, 3], [2, 3, 1], [3, 1, 2], [3, 2, 1]]"
      ]
     },
     "execution_count": 2,
     "metadata": {},
     "output_type": "execute_result"
    }
   ],
   "source": [
    "permute([1, 2, 3])"
   ]
  },
  {
   "cell_type": "markdown",
   "metadata": {},
   "source": [
    "## compared to Combination!"
   ]
  },
  {
   "cell_type": "code",
   "execution_count": 3,
   "metadata": {},
   "outputs": [],
   "source": [
    "def combine(nums):\n",
    "    # write your code here\n",
    "    nums.sort()\n",
    "    result = []\n",
    "\n",
    "    def dfs(result, path, nums, idx):\n",
    "        if idx == len(nums):\n",
    "            result.append(path[:])\n",
    "            return \n",
    "        if idx > len(nums):\n",
    "            return\n",
    "\n",
    "        for i in range(idx, len(nums)):\n",
    "            dfs(result, path + [nums[i]], nums, i + 1)\n",
    "            \n",
    "    dfs(result, [], nums, 0)\n",
    "    return result"
   ]
  },
  {
   "cell_type": "code",
   "execution_count": 4,
   "metadata": {},
   "outputs": [
    {
     "data": {
      "text/plain": [
       "[[1, 2, 3], [1, 3], [2, 3], [3]]"
      ]
     },
     "execution_count": 4,
     "metadata": {},
     "output_type": "execute_result"
    }
   ],
   "source": [
    "combine([1, 2, 3])"
   ]
  },
  {
   "cell_type": "code",
   "execution_count": null,
   "metadata": {},
   "outputs": [],
   "source": []
  }
 ],
 "metadata": {
  "kernelspec": {
   "display_name": "Python 3",
   "language": "python",
   "name": "python3"
  },
  "language_info": {
   "codemirror_mode": {
    "name": "ipython",
    "version": 3
   },
   "file_extension": ".py",
   "mimetype": "text/x-python",
   "name": "python",
   "nbconvert_exporter": "python",
   "pygments_lexer": "ipython3",
   "version": "3.7.3"
  }
 },
 "nbformat": 4,
 "nbformat_minor": 2
}
