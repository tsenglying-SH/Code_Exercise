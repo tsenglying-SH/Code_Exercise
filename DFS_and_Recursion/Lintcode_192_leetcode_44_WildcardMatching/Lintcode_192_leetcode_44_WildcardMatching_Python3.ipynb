{
 "cells": [
  {
   "cell_type": "markdown",
   "metadata": {},
   "source": [
    "## Recursive way, search with memo"
   ]
  },
  {
   "cell_type": "code",
   "execution_count": 10,
   "metadata": {},
   "outputs": [],
   "source": [
    "def isMatch(s, p):\n",
    "    return helper(s, 0, p, 0, {})\n",
    "    \n",
    "def helper(s, i, p, j, memo):\n",
    "    if (i, j) in memo:\n",
    "        return memo[(i, j)]\n",
    "\n",
    "    if i >= len(s):\n",
    "        while j < len(p):\n",
    "            if p[j] != \"*\":\n",
    "                return False\n",
    "            j += 1\n",
    "        return True\n",
    "\n",
    "    if j >= len(p):\n",
    "        return i >= len(s)\n",
    "\n",
    "    if p[j] != \"*\":\n",
    "        ismatch = (p[j] == s[i] or p[j] == \"?\") and helper(s, i + 1, p, j + 1, memo)\n",
    "    else:\n",
    "        ismatch = helper(s, i + 1, p, j, memo) or helper(s, i, p, j + 1, memo)\n",
    "\n",
    "    memo[(i, j)] = ismatch\n",
    "\n",
    "    return ismatch"
   ]
  },
  {
   "cell_type": "code",
   "execution_count": 11,
   "metadata": {},
   "outputs": [
    {
     "data": {
      "text/plain": [
       "False"
      ]
     },
     "execution_count": 11,
     "metadata": {},
     "output_type": "execute_result"
    }
   ],
   "source": [
    "isMatch('aa', 'a')"
   ]
  },
  {
   "cell_type": "code",
   "execution_count": 12,
   "metadata": {},
   "outputs": [
    {
     "data": {
      "text/plain": [
       "True"
      ]
     },
     "execution_count": 12,
     "metadata": {},
     "output_type": "execute_result"
    }
   ],
   "source": [
    "isMatch('aa', 'a*?')"
   ]
  },
  {
   "cell_type": "markdown",
   "metadata": {},
   "source": [
    "## DP, recommended used in interview, time O(mn)"
   ]
  },
  {
   "cell_type": "code",
   "execution_count": 16,
   "metadata": {},
   "outputs": [],
   "source": [
    "def isMatch(s, p):\n",
    "    # write your code here\n",
    "    m = len(s)\n",
    "    n = len(p)\n",
    "\n",
    "    dp = [[False] * (n + 1) for _ in range(m + 1)]\n",
    "    dp[0][0] = True\n",
    "\n",
    "    for j in range(1, n + 1):\n",
    "        dp[0][j] = dp[0][j - 1] and p[j - 1] == '*'\n",
    "\n",
    "    for i in range(1, m + 1):\n",
    "        for j in range(1, n + 1):\n",
    "            if p[j - 1] != '*':\n",
    "                dp[i][j] = dp[i - 1][j - 1] and (p[j - 1] == '?' or p[j - 1] == s[i - 1])\n",
    "            else:\n",
    "                dp[i][j] = dp[i - 1][j] or dp[i][j - 1]\n",
    "    return dp[-1][-1]"
   ]
  },
  {
   "cell_type": "code",
   "execution_count": 17,
   "metadata": {},
   "outputs": [
    {
     "data": {
      "text/plain": [
       "False"
      ]
     },
     "execution_count": 17,
     "metadata": {},
     "output_type": "execute_result"
    }
   ],
   "source": [
    "isMatch('aa', 'a')"
   ]
  },
  {
   "cell_type": "code",
   "execution_count": 18,
   "metadata": {},
   "outputs": [
    {
     "data": {
      "text/plain": [
       "True"
      ]
     },
     "execution_count": 18,
     "metadata": {},
     "output_type": "execute_result"
    }
   ],
   "source": [
    "isMatch('aa', 'a*?')"
   ]
  },
  {
   "cell_type": "markdown",
   "metadata": {},
   "source": [
    "## Iterative Version， a tricky way on Leetcode, I don't want to understand it -。-"
   ]
  },
  {
   "cell_type": "code",
   "execution_count": 4,
   "metadata": {},
   "outputs": [],
   "source": [
    "def isMatch(s, p):\n",
    "    i = 0\n",
    "    j = 0\n",
    "    start = -1\n",
    "    match = -1\n",
    "    while i < len(s):\n",
    "        # 1 match 1 successfully\n",
    "        if j < len(p) and (s[i] == p[j] or p[j] == \"?\"):\n",
    "            i += 1\n",
    "            j += 1\n",
    "            \n",
    "        # 记录p的\"*\"的位置,还有s的位置\n",
    "        elif j < len(p) and p[j] == \"*\":\n",
    "            start = j\n",
    "            match = i\n",
    "            j += 1\n",
    "            \n",
    "        # j 回到 记录的下一个位置\n",
    "        # match 更新下一个位置\n",
    "        # 这不代表用*匹配一个字符\n",
    "        elif start != -1:\n",
    "            j = start + 1\n",
    "            match += 1\n",
    "            i = match\n",
    "        else:\n",
    "            return False\n",
    "    \n",
    "    while j < len(p) and p[j] == \"*\":\n",
    "        j += 1\n",
    "    return j == len(p)"
   ]
  },
  {
   "cell_type": "code",
   "execution_count": 5,
   "metadata": {},
   "outputs": [
    {
     "data": {
      "text/plain": [
       "False"
      ]
     },
     "execution_count": 5,
     "metadata": {},
     "output_type": "execute_result"
    }
   ],
   "source": [
    "isMatch('aa', 'a')"
   ]
  },
  {
   "cell_type": "code",
   "execution_count": 6,
   "metadata": {},
   "outputs": [
    {
     "data": {
      "text/plain": [
       "True"
      ]
     },
     "execution_count": 6,
     "metadata": {},
     "output_type": "execute_result"
    }
   ],
   "source": [
    "isMatch('aa', 'a*?')"
   ]
  },
  {
   "cell_type": "code",
   "execution_count": null,
   "metadata": {},
   "outputs": [],
   "source": []
  },
  {
   "cell_type": "code",
   "execution_count": null,
   "metadata": {},
   "outputs": [],
   "source": []
  }
 ],
 "metadata": {
  "kernelspec": {
   "display_name": "Python 3",
   "language": "python",
   "name": "python3"
  },
  "language_info": {
   "codemirror_mode": {
    "name": "ipython",
    "version": 3
   },
   "file_extension": ".py",
   "mimetype": "text/x-python",
   "name": "python",
   "nbconvert_exporter": "python",
   "pygments_lexer": "ipython3",
   "version": "3.7.3"
  }
 },
 "nbformat": 4,
 "nbformat_minor": 2
}
