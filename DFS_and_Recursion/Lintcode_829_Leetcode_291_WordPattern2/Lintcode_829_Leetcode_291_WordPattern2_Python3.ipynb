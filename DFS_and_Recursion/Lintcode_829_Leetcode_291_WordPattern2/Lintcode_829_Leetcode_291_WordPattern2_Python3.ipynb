{
 "cells": [
  {
   "cell_type": "markdown",
   "metadata": {},
   "source": [
    "## DFS with backtracking"
   ]
  },
  {
   "cell_type": "code",
   "execution_count": 16,
   "metadata": {},
   "outputs": [],
   "source": [
    "def wordPatternMatch(pattern, string):\n",
    "    # write your code here\n",
    "    # Corner Case\n",
    "    if not pattern and not string:\n",
    "        return True\n",
    "\n",
    "    if not pattern or not string:\n",
    "        return False\n",
    "    \n",
    "    # Normal Case\n",
    "    return match(string, 0, pattern, 0, {}, set())\n",
    "\n",
    "def match(string, i, pattern, j, char_to_string, string_used):\n",
    "    print(string, i, pattern, j, char_to_string, string_used)\n",
    "    # Base Cases\n",
    "    if i >= len(string) and j >= len(pattern):\n",
    "        return True\n",
    "\n",
    "    if i >= len(string) or j >= len(pattern):\n",
    "        return False\n",
    "    \n",
    "    # if pattern[j] has some match string, check whether s and p are matched know\n",
    "    if pattern[j] in char_to_string:\n",
    "        p_j_str = char_to_string[pattern[j]]\n",
    "        # not match\n",
    "        if p_j_str != string[i: i + len(p_j_str)]:\n",
    "            return False\n",
    "        return match(string, i + len(p_j_str), pattern, j + 1, char_to_string, string_used)\n",
    "    \n",
    "    else:\n",
    "        for idx in range(i + 1, len(string) + 1):\n",
    "            if string[i: idx] not in string_used:\n",
    "                char_to_string[pattern[j]] = string[i: idx]\n",
    "                string_used.add(string[i: idx])\n",
    "                if match(string, idx, pattern, j + 1, char_to_string, string_used):\n",
    "                    return True\n",
    "                del char_to_string[pattern[j]]\n",
    "                string_used.remove(string[i: idx])\n",
    "\n",
    "    return False"
   ]
  },
  {
   "cell_type": "code",
   "execution_count": 18,
   "metadata": {},
   "outputs": [
    {
     "name": "stdout",
     "output_type": "stream",
     "text": [
      "abcabcabc 0 aaa 0 {} set()\n",
      "abcabcabc 1 aaa 1 {'a': 'a'} {'a'}\n",
      "abcabcabc 2 aaa 1 {'a': 'ab'} {'ab'}\n",
      "abcabcabc 3 aaa 1 {'a': 'abc'} {'abc'}\n",
      "abcabcabc 6 aaa 2 {'a': 'abc'} {'abc'}\n",
      "abcabcabc 9 aaa 3 {'a': 'abc'} {'abc'}\n"
     ]
    },
    {
     "data": {
      "text/plain": [
       "True"
      ]
     },
     "execution_count": 18,
     "metadata": {},
     "output_type": "execute_result"
    }
   ],
   "source": [
    "wordPatternMatch(\"aaa\", \"abcabcabc\")"
   ]
  },
  {
   "cell_type": "code",
   "execution_count": 15,
   "metadata": {},
   "outputs": [
    {
     "data": {
      "text/plain": [
       "True"
      ]
     },
     "execution_count": 15,
     "metadata": {},
     "output_type": "execute_result"
    }
   ],
   "source": [
    "wordPatternMatch(\"d\", \"ef\")"
   ]
  },
  {
   "cell_type": "code",
   "execution_count": null,
   "metadata": {},
   "outputs": [],
   "source": []
  },
  {
   "cell_type": "code",
   "execution_count": null,
   "metadata": {},
   "outputs": [],
   "source": []
  }
 ],
 "metadata": {
  "kernelspec": {
   "display_name": "Python 3",
   "language": "python",
   "name": "python3"
  },
  "language_info": {
   "codemirror_mode": {
    "name": "ipython",
    "version": 3
   },
   "file_extension": ".py",
   "mimetype": "text/x-python",
   "name": "python",
   "nbconvert_exporter": "python",
   "pygments_lexer": "ipython3",
   "version": "3.7.3"
  }
 },
 "nbformat": 4,
 "nbformat_minor": 2
}
