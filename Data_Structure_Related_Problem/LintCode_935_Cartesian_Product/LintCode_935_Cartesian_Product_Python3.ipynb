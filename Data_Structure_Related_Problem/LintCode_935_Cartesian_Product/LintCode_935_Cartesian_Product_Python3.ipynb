{
 "cells": [
  {
   "cell_type": "markdown",
   "metadata": {},
   "source": [
    "## DFS for Cartesian_Product"
   ]
  },
  {
   "cell_type": "code",
   "execution_count": 3,
   "metadata": {},
   "outputs": [],
   "source": [
    "def getSet(setList):\n",
    "        # Write your code here\n",
    "        if not setList:\n",
    "            return []\n",
    "        \n",
    "        max_step = len(setList)    \n",
    "        res = []\n",
    "        path = []\n",
    "        dfs(setList, 0, max_step, path, res)\n",
    "        return res\n",
    "    \n",
    "def dfs(setList, cur_step, max_step, path, res):\n",
    "    if cur_step == max_step:\n",
    "        res.append(path[:])\n",
    "        return\n",
    "\n",
    "    if cur_step > max_step:\n",
    "        return\n",
    "\n",
    "    for element in setList[cur_step]:\n",
    "        path.append(element)\n",
    "        dfs(setList, cur_step + 1, max_step, path, res)\n",
    "        del path[-1]"
   ]
  },
  {
   "cell_type": "code",
   "execution_count": 4,
   "metadata": {},
   "outputs": [
    {
     "data": {
      "text/plain": [
       "[[1, 4], [2, 4], [3, 4]]"
      ]
     },
     "execution_count": 4,
     "metadata": {},
     "output_type": "execute_result"
    }
   ],
   "source": [
    "setList = [[1,2,3],[4]]\n",
    "getSet(setList)"
   ]
  },
  {
   "cell_type": "code",
   "execution_count": 5,
   "metadata": {},
   "outputs": [
    {
     "data": {
      "text/plain": [
       "[[1, 4, 5], [1, 4, 6], [2, 4, 5], [2, 4, 6], [3, 4, 5], [3, 4, 6]]"
      ]
     },
     "execution_count": 5,
     "metadata": {},
     "output_type": "execute_result"
    }
   ],
   "source": [
    "setList = [[1,2,3],[4],[5,6]]\n",
    "getSet(setList)"
   ]
  },
  {
   "cell_type": "code",
   "execution_count": null,
   "metadata": {},
   "outputs": [],
   "source": []
  }
 ],
 "metadata": {
  "kernelspec": {
   "display_name": "Python 3",
   "language": "python",
   "name": "python3"
  },
  "language_info": {
   "codemirror_mode": {
    "name": "ipython",
    "version": 3
   },
   "file_extension": ".py",
   "mimetype": "text/x-python",
   "name": "python",
   "nbconvert_exporter": "python",
   "pygments_lexer": "ipython3",
   "version": "3.7.3"
  }
 },
 "nbformat": 4,
 "nbformat_minor": 2
}
