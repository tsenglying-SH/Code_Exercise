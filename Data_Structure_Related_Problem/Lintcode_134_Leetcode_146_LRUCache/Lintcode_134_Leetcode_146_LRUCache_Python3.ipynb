{
 "cells": [
  {
   "cell_type": "code",
   "execution_count": 12,
   "metadata": {},
   "outputs": [],
   "source": [
    "class Node():\n",
    "    def __init__(self, key, value):\n",
    "        self.key = key\n",
    "        self.value = value\n",
    "        self.prev = None\n",
    "        self.next = None\n",
    "        \n",
    "class LRUCache:\n",
    "\n",
    "    def __init__(self, capacity: int):\n",
    "        self.cap = capacity\n",
    "        self.head = Node(-1, '#')\n",
    "        self.tail = Node(-2, '$')\n",
    "        self.head.next = self.tail\n",
    "        self.tail.prev = self.head\n",
    "        self.key_to_node = {}\n",
    "    \n",
    "    def move_to_head(self, node):\n",
    "        node.next = self.head.next\n",
    "        node.prev = self.head\n",
    "        self.head.next = node\n",
    "        node.next.prev = node\n",
    "    \n",
    "    def get(self, key: int) -> int:\n",
    "        if key not in self.key_to_node:\n",
    "            return -1\n",
    "        \n",
    "        node = self.key_to_node[key]\n",
    "        node.next.prev = node.prev\n",
    "        node.prev.next = node.next\n",
    "        self.move_to_head(node)\n",
    "        return node.value\n",
    "        \n",
    "    def put(self, key: int, value: int) -> None:\n",
    "        if key in self.key_to_node:\n",
    "            node = self.key_to_node[key]\n",
    "            node.next.prev = node.prev\n",
    "            node.prev.next = node.next\n",
    "            self.move_to_head(node)\n",
    "            node.value = value\n",
    "        else:\n",
    "            node = Node(key, value)\n",
    "            self.move_to_head(node)\n",
    "            self.key_to_node[key] = node\n",
    "            \n",
    "        if len(self.key_to_node) > self.cap:\n",
    "            remove_node = self.tail.prev\n",
    "            self.tail.prev = remove_node.prev\n",
    "            remove_node.prev.next = self.tail\n",
    "            \n",
    "            del self.key_to_node[remove_node.key]\n",
    "            del remove_node\n",
    "            \n",
    "\n",
    "# Your LRUCache object will be instantiated and called as such:\n",
    "# obj = LRUCache(capacity)\n",
    "# param_1 = obj.get(key)\n",
    "# obj.put(key,value)"
   ]
  },
  {
   "cell_type": "code",
   "execution_count": 13,
   "metadata": {},
   "outputs": [],
   "source": [
    "a = LRUCache(2)"
   ]
  },
  {
   "cell_type": "code",
   "execution_count": 14,
   "metadata": {},
   "outputs": [
    {
     "data": {
      "text/plain": [
       "{}"
      ]
     },
     "execution_count": 14,
     "metadata": {},
     "output_type": "execute_result"
    }
   ],
   "source": [
    "a.key_to_node"
   ]
  },
  {
   "cell_type": "code",
   "execution_count": 17,
   "metadata": {},
   "outputs": [],
   "source": [
    "a.put(2, 1)"
   ]
  },
  {
   "cell_type": "code",
   "execution_count": 19,
   "metadata": {},
   "outputs": [],
   "source": [
    "a.put(1, 1)"
   ]
  },
  {
   "cell_type": "code",
   "execution_count": 20,
   "metadata": {},
   "outputs": [
    {
     "data": {
      "text/plain": [
       "1"
      ]
     },
     "execution_count": 20,
     "metadata": {},
     "output_type": "execute_result"
    }
   ],
   "source": [
    "a.get(2)"
   ]
  },
  {
   "cell_type": "code",
   "execution_count": 21,
   "metadata": {},
   "outputs": [
    {
     "data": {
      "text/plain": [
       "{2: <__main__.Node at 0x277af0ecb00>, 1: <__main__.Node at 0x277af0fb278>}"
      ]
     },
     "execution_count": 21,
     "metadata": {},
     "output_type": "execute_result"
    }
   ],
   "source": [
    "a.key_to_node"
   ]
  },
  {
   "cell_type": "code",
   "execution_count": 23,
   "metadata": {},
   "outputs": [],
   "source": [
    "a.put(4, 1)"
   ]
  },
  {
   "cell_type": "code",
   "execution_count": 24,
   "metadata": {},
   "outputs": [
    {
     "data": {
      "text/plain": [
       "{2: <__main__.Node at 0x277af0ecb00>, 4: <__main__.Node at 0x277af0fbcf8>}"
      ]
     },
     "execution_count": 24,
     "metadata": {},
     "output_type": "execute_result"
    }
   ],
   "source": [
    "a.key_to_node"
   ]
  },
  {
   "cell_type": "code",
   "execution_count": 25,
   "metadata": {},
   "outputs": [
    {
     "data": {
      "text/plain": [
       "-1"
      ]
     },
     "execution_count": 25,
     "metadata": {},
     "output_type": "execute_result"
    }
   ],
   "source": [
    "a.get(1)"
   ]
  },
  {
   "cell_type": "code",
   "execution_count": 26,
   "metadata": {},
   "outputs": [
    {
     "data": {
      "text/plain": [
       "1"
      ]
     },
     "execution_count": 26,
     "metadata": {},
     "output_type": "execute_result"
    }
   ],
   "source": [
    "a.get(2)"
   ]
  },
  {
   "cell_type": "code",
   "execution_count": null,
   "metadata": {},
   "outputs": [],
   "source": []
  }
 ],
 "metadata": {
  "kernelspec": {
   "display_name": "Python 3",
   "language": "python",
   "name": "python3"
  },
  "language_info": {
   "codemirror_mode": {
    "name": "ipython",
    "version": 3
   },
   "file_extension": ".py",
   "mimetype": "text/x-python",
   "name": "python",
   "nbconvert_exporter": "python",
   "pygments_lexer": "ipython3",
   "version": "3.7.3"
  }
 },
 "nbformat": 4,
 "nbformat_minor": 2
}
