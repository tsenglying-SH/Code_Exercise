{
 "cells": [
  {
   "cell_type": "markdown",
   "metadata": {},
   "source": [
    "## use hashtable to count, time O(n), space O(n)"
   ]
  },
  {
   "cell_type": "code",
   "execution_count": 1,
   "metadata": {},
   "outputs": [],
   "source": [
    "def firstUniqChar(s):\n",
    "    # Write your code here\n",
    "    if not s: return None\n",
    "    dic = {}\n",
    "    for c in s:\n",
    "        if c in dic:\n",
    "            dic[c] += 1\n",
    "        else:\n",
    "            dic[c] = 1\n",
    "    # here lintcode ask for the char and leetcode ask for the index\n",
    "    # if the string is so long, the second traverse can be optimized, just traverse the hash map, not the string\n",
    "    for c in s:\n",
    "        if c in dic and dic[c] == 1:\n",
    "            return c\n",
    "    # here lintcode ask for None, leetcode ask for -1\n",
    "    return None"
   ]
  },
  {
   "cell_type": "code",
   "execution_count": 4,
   "metadata": {},
   "outputs": [
    {
     "data": {
      "text/plain": [
       "'b'"
      ]
     },
     "execution_count": 4,
     "metadata": {},
     "output_type": "execute_result"
    }
   ],
   "source": [
    "firstUniqChar(\"abaccdeff\")"
   ]
  },
  {
   "cell_type": "code",
   "execution_count": null,
   "metadata": {},
   "outputs": [],
   "source": []
  }
 ],
 "metadata": {
  "kernelspec": {
   "display_name": "Python 3",
   "language": "python",
   "name": "python3"
  },
  "language_info": {
   "codemirror_mode": {
    "name": "ipython",
    "version": 3
   },
   "file_extension": ".py",
   "mimetype": "text/x-python",
   "name": "python",
   "nbconvert_exporter": "python",
   "pygments_lexer": "ipython3",
   "version": "3.7.3"
  }
 },
 "nbformat": 4,
 "nbformat_minor": 2
}
