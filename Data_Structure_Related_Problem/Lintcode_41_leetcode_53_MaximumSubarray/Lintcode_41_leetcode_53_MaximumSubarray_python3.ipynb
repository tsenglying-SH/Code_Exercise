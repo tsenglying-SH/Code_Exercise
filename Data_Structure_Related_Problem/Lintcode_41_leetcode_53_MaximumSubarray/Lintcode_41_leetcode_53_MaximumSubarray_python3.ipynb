{
 "cells": [
  {
   "cell_type": "markdown",
   "metadata": {},
   "source": [
    "## DP method, with space optimized, time O(n), space O(1)\n",
    "## example: [-2,2,-3,4,-1,2,1,-5,3], corresponding dp array is [-2, 2, -1, 4, 3, 5, 6, 1, 4]"
   ]
  },
  {
   "cell_type": "code",
   "execution_count": 3,
   "metadata": {},
   "outputs": [],
   "source": [
    "def maxSubArray(nums):\n",
    "    # write your code here\n",
    "    if not nums:\n",
    "        return 0\n",
    "\n",
    "    cur_sum = nums[0]\n",
    "    max_sum = nums[0]\n",
    "\n",
    "    for i in range(1, len(nums)):\n",
    "        if cur_sum < 0:\n",
    "            cur_sum = nums[i]\n",
    "        else:\n",
    "            cur_sum += nums[i]\n",
    "        if cur_sum > max_sum:\n",
    "            max_sum = cur_sum\n",
    "\n",
    "    return max_sum"
   ]
  },
  {
   "cell_type": "code",
   "execution_count": 4,
   "metadata": {},
   "outputs": [
    {
     "data": {
      "text/plain": [
       "6"
      ]
     },
     "execution_count": 4,
     "metadata": {},
     "output_type": "execute_result"
    }
   ],
   "source": [
    "maxSubArray([-2,2,-3,4,-1,2,1,-5,3])"
   ]
  },
  {
   "cell_type": "code",
   "execution_count": null,
   "metadata": {},
   "outputs": [],
   "source": []
  }
 ],
 "metadata": {
  "kernelspec": {
   "display_name": "Python 3",
   "language": "python",
   "name": "python3"
  },
  "language_info": {
   "codemirror_mode": {
    "name": "ipython",
    "version": 3
   },
   "file_extension": ".py",
   "mimetype": "text/x-python",
   "name": "python",
   "nbconvert_exporter": "python",
   "pygments_lexer": "ipython3",
   "version": "3.7.3"
  }
 },
 "nbformat": 4,
 "nbformat_minor": 2
}
