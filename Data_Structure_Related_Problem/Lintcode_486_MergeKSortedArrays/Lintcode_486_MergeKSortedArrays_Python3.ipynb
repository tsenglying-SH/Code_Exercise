{
 "cells": [
  {
   "cell_type": "markdown",
   "metadata": {},
   "source": [
    "## heap based method, time O(nlogk), space O(k)"
   ]
  },
  {
   "cell_type": "code",
   "execution_count": 4,
   "metadata": {},
   "outputs": [],
   "source": [
    "import heapq\n",
    "def mergekSortedArrays(arrays):\n",
    "    # write your code here\n",
    "    if not arrays:\n",
    "        return []\n",
    "\n",
    "    heap = []\n",
    "    res = []\n",
    "    for i in range(len(arrays)):\n",
    "        if arrays[i]:\n",
    "            heapq.heappush(heap, (arrays[i][0], i, 0))\n",
    "\n",
    "    while heap:\n",
    "        val, idx1, idx2 = heapq.heappop(heap)\n",
    "        res.append(val)\n",
    "        if idx2 + 1 < len(arrays[idx1]):\n",
    "            heapq.heappush(heap, (arrays[idx1][idx2 + 1], idx1, idx2 + 1))\n",
    "\n",
    "    return res"
   ]
  },
  {
   "cell_type": "code",
   "execution_count": 5,
   "metadata": {},
   "outputs": [],
   "source": [
    "arrays = [\n",
    "    [1, 3, 5, 7],\n",
    "    [2, 4, 6],\n",
    "    [0, 8, 9, 10, 11]\n",
    "  ]"
   ]
  },
  {
   "cell_type": "code",
   "execution_count": 6,
   "metadata": {},
   "outputs": [
    {
     "data": {
      "text/plain": [
       "[0, 1, 2, 3, 4, 5, 6, 7, 8, 9, 10, 11]"
      ]
     },
     "execution_count": 6,
     "metadata": {},
     "output_type": "execute_result"
    }
   ],
   "source": [
    "mergekSortedArrays(arrays)"
   ]
  },
  {
   "cell_type": "markdown",
   "metadata": {},
   "source": [
    "## Divide and Conquer, time O(nlogk), space O(2 * n / k)(extra space when merge 2 arrays)"
   ]
  },
  {
   "cell_type": "code",
   "execution_count": 7,
   "metadata": {},
   "outputs": [],
   "source": [
    "def mergekSortedArrays(arrays):\n",
    "    # write your code here\n",
    "    if not arrays:\n",
    "        return []\n",
    "\n",
    "    step = 1\n",
    "    amount = len(arrays)\n",
    "    while step < amount:\n",
    "        for i in range(0, amount - step, step * 2):\n",
    "            arrays[i] = merge2SortedArrays(arrays[i], arrays[i + step])\n",
    "        step *= 2\n",
    "    return arrays[0]\n",
    "\n",
    "\n",
    "def merge2SortedArrays(array1, array2):\n",
    "    if not array1:\n",
    "        return array2\n",
    "\n",
    "    if not array2:\n",
    "        return array1\n",
    "\n",
    "    res = []\n",
    "    i, j, m, n = 0, 0, len(array1), len(array2)\n",
    "\n",
    "    while i < m  and j < n:\n",
    "        if array1[i] <= array2[j]:\n",
    "            res.append(array1[i])\n",
    "            i += 1\n",
    "        else:\n",
    "            res.append(array2[j])\n",
    "            j += 1\n",
    "\n",
    "    while i < m:\n",
    "        res.append(array1[i])\n",
    "        i += 1\n",
    "\n",
    "    while j < n:\n",
    "        res.append(array2[j])\n",
    "        j += 1\n",
    "\n",
    "    return res"
   ]
  },
  {
   "cell_type": "code",
   "execution_count": 8,
   "metadata": {},
   "outputs": [],
   "source": [
    "arrays = [\n",
    "    [1, 3, 5, 7],\n",
    "    [2, 4, 6],\n",
    "    [0, 8, 9, 10, 11]\n",
    "  ]"
   ]
  },
  {
   "cell_type": "code",
   "execution_count": 9,
   "metadata": {},
   "outputs": [
    {
     "data": {
      "text/plain": [
       "[0, 1, 2, 3, 4, 5, 6, 7, 8, 9, 10, 11]"
      ]
     },
     "execution_count": 9,
     "metadata": {},
     "output_type": "execute_result"
    }
   ],
   "source": [
    "mergekSortedArrays(arrays)"
   ]
  }
 ],
 "metadata": {
  "kernelspec": {
   "display_name": "Python 3",
   "language": "python",
   "name": "python3"
  },
  "language_info": {
   "codemirror_mode": {
    "name": "ipython",
    "version": 3
   },
   "file_extension": ".py",
   "mimetype": "text/x-python",
   "name": "python",
   "nbconvert_exporter": "python",
   "pygments_lexer": "ipython3",
   "version": "3.7.3"
  }
 },
 "nbformat": 4,
 "nbformat_minor": 2
}
