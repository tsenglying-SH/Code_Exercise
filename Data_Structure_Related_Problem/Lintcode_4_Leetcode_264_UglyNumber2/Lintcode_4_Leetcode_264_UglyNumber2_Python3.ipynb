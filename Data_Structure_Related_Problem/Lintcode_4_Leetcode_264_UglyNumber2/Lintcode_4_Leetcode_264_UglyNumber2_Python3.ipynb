{
 "cells": [
  {
   "cell_type": "markdown",
   "metadata": {},
   "source": [
    "## heap based method, Time O(nlogn), space O(n)"
   ]
  },
  {
   "cell_type": "code",
   "execution_count": 1,
   "metadata": {},
   "outputs": [],
   "source": [
    "import heapq"
   ]
  },
  {
   "cell_type": "code",
   "execution_count": 5,
   "metadata": {},
   "outputs": [],
   "source": [
    "def nthUglyNumber(n):\n",
    "    heap = [1]\n",
    "    res = 0\n",
    "    for _ in range(n):\n",
    "        print(\"heap:\", heap)\n",
    "        print(\"res:\", res)\n",
    "        res = heapq.heappop(heap)\n",
    "        # deduplicate\n",
    "        while heap and heap[0] == res:\n",
    "            heapq.heappop(heap)\n",
    "        \n",
    "        heapq.heappush(heap, res * 2)\n",
    "        heapq.heappush(heap, res * 3)\n",
    "        heapq.heappush(heap, res * 5)\n",
    "    \n",
    "    return res"
   ]
  },
  {
   "cell_type": "code",
   "execution_count": 6,
   "metadata": {},
   "outputs": [
    {
     "name": "stdout",
     "output_type": "stream",
     "text": [
      "heap: [1]\n",
      "res: 0\n",
      "heap: [2, 3, 5]\n",
      "res: 1\n",
      "heap: [3, 5, 4, 6, 10]\n",
      "res: 2\n",
      "heap: [4, 5, 9, 6, 6, 10, 15]\n",
      "res: 3\n",
      "heap: [5, 6, 8, 6, 15, 10, 9, 12, 20]\n",
      "res: 4\n",
      "heap: [6, 6, 8, 10, 15, 10, 9, 20, 12, 15, 25]\n",
      "res: 5\n",
      "heap: [8, 10, 9, 12, 12, 10, 15, 20, 25, 15, 18, 30]\n",
      "res: 6\n",
      "heap: [9, 10, 10, 12, 12, 16, 15, 20, 25, 15, 18, 30, 24, 40]\n",
      "res: 8\n",
      "heap: [10, 10, 15, 12, 12, 16, 18, 20, 25, 15, 18, 30, 24, 40, 27, 45]\n",
      "res: 9\n"
     ]
    },
    {
     "data": {
      "text/plain": [
       "10"
      ]
     },
     "execution_count": 6,
     "metadata": {},
     "output_type": "execute_result"
    }
   ],
   "source": [
    "nthUglyNumber(9)"
   ]
  },
  {
   "cell_type": "markdown",
   "metadata": {},
   "source": [
    "## DP Based Method, time O(n), space O(n)"
   ]
  },
  {
   "cell_type": "code",
   "execution_count": 7,
   "metadata": {},
   "outputs": [],
   "source": [
    "def nthUglyNumber(n):\n",
    "    # write your code here\n",
    "    ugly_list = [1]\n",
    "    p2, p3, p5 = 0, 0, 0\n",
    "    while len(ugly_list) < n:\n",
    "        ugly_list.append(min(ugly_list[p2] * 2, ugly_list[p3] * 3, ugly_list[p5] * 5))\n",
    "        if ugly_list[-1] == ugly_list[p2] * 2:\n",
    "            p2 += 1\n",
    "        if ugly_list[-1] == ugly_list[p3] * 3:\n",
    "            p3 += 1\n",
    "        if ugly_list[-1] == ugly_list[p5] * 5:\n",
    "            p5 += 1\n",
    "    return ugly_list[-1]"
   ]
  },
  {
   "cell_type": "code",
   "execution_count": 8,
   "metadata": {},
   "outputs": [
    {
     "data": {
      "text/plain": [
       "1"
      ]
     },
     "execution_count": 8,
     "metadata": {},
     "output_type": "execute_result"
    }
   ],
   "source": [
    "nthUglyNumber(1)"
   ]
  },
  {
   "cell_type": "code",
   "execution_count": 9,
   "metadata": {},
   "outputs": [
    {
     "data": {
      "text/plain": [
       "10"
      ]
     },
     "execution_count": 9,
     "metadata": {},
     "output_type": "execute_result"
    }
   ],
   "source": [
    "nthUglyNumber(9)"
   ]
  },
  {
   "cell_type": "code",
   "execution_count": null,
   "metadata": {},
   "outputs": [],
   "source": []
  }
 ],
 "metadata": {
  "kernelspec": {
   "display_name": "Python 3",
   "language": "python",
   "name": "python3"
  },
  "language_info": {
   "codemirror_mode": {
    "name": "ipython",
    "version": 3
   },
   "file_extension": ".py",
   "mimetype": "text/x-python",
   "name": "python",
   "nbconvert_exporter": "python",
   "pygments_lexer": "ipython3",
   "version": "3.7.3"
  }
 },
 "nbformat": 4,
 "nbformat_minor": 2
}
