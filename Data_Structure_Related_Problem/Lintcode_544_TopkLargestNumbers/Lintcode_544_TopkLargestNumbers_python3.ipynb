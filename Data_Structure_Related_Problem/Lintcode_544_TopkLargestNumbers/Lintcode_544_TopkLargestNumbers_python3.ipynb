{
 "cells": [
  {
   "cell_type": "markdown",
   "metadata": {},
   "source": [
    "## heap based method, time O(nlogk), space O(k)"
   ]
  },
  {
   "cell_type": "code",
   "execution_count": 8,
   "metadata": {},
   "outputs": [],
   "source": [
    "import heapq\n",
    "def topk(nums, k):\n",
    "    # write your code here\n",
    "    #if not nums or k <= 0 or len(nums) <= k:\n",
    "    #    return []\n",
    "\n",
    "    heap = []\n",
    "    for num in nums:\n",
    "        heapq.heappush(heap, num)\n",
    "\n",
    "        if len(heap) > k:\n",
    "            heapq.heappop(heap)\n",
    "\n",
    "    res = []\n",
    "    while len(heap) > 0:\n",
    "        res.append(heapq.heappop(heap))\n",
    "\n",
    "    return res[::-1]"
   ]
  },
  {
   "cell_type": "code",
   "execution_count": 9,
   "metadata": {},
   "outputs": [],
   "source": [
    "nums = [3, 10, 1000, -99, 4, 100]\n",
    "k = 3"
   ]
  },
  {
   "cell_type": "code",
   "execution_count": 10,
   "metadata": {
    "scrolled": true
   },
   "outputs": [
    {
     "data": {
      "text/plain": [
       "[1000, 100, 10]"
      ]
     },
     "execution_count": 10,
     "metadata": {},
     "output_type": "execute_result"
    }
   ],
   "source": [
    "topk(nums, k)"
   ]
  },
  {
   "cell_type": "markdown",
   "metadata": {},
   "source": [
    "## Quick Selection, time O(n + klogk)"
   ]
  },
  {
   "cell_type": "code",
   "execution_count": 11,
   "metadata": {},
   "outputs": [],
   "source": [
    "def topk(nums, k):\n",
    "    # write your code here\n",
    "    if not nums or k <= 0:\n",
    "        return []\n",
    "    res = []\n",
    "    partition(nums, k, 0, len(nums) - 1, res)\n",
    "    res.sort(reverse=True)\n",
    "    return res\n",
    "\n",
    "def partition(nums, k, start, end, res):\n",
    "    if start > end or k <= 0:\n",
    "        return\n",
    "\n",
    "    if start == end and k == 1:\n",
    "        res.append(nums[start])\n",
    "        return\n",
    "\n",
    "    l, r = start, end\n",
    "    mid = l + (r - l) // 2\n",
    "    pivot = nums[mid]\n",
    "\n",
    "    while l <= r:\n",
    "        while l <= r and nums[l] > pivot:\n",
    "            l += 1\n",
    "        while l <= r and nums[r] < pivot:\n",
    "            r -= 1\n",
    "        if l <= r:\n",
    "            nums[l], nums[r] = nums[r], nums[l]\n",
    "            l += 1\n",
    "            r -= 1\n",
    "\n",
    "    if start + k - 1 <= r:\n",
    "        partition(nums, k, start, r, res)\n",
    "\n",
    "    elif start + k - 1 >= l:\n",
    "        res.extend(nums[start: l])\n",
    "        partition(nums, k - l + start, l, end, res)\n",
    "    else:\n",
    "        res.extend(nums[start: l])"
   ]
  },
  {
   "cell_type": "code",
   "execution_count": 12,
   "metadata": {},
   "outputs": [],
   "source": [
    "nums = [3, 10, 1000, -99, 4, 100]\n",
    "k = 3"
   ]
  },
  {
   "cell_type": "code",
   "execution_count": 13,
   "metadata": {
    "scrolled": true
   },
   "outputs": [
    {
     "data": {
      "text/plain": [
       "[1000, 100, 10]"
      ]
     },
     "execution_count": 13,
     "metadata": {},
     "output_type": "execute_result"
    }
   ],
   "source": [
    "topk(nums, k)"
   ]
  },
  {
   "cell_type": "code",
   "execution_count": null,
   "metadata": {},
   "outputs": [],
   "source": []
  }
 ],
 "metadata": {
  "kernelspec": {
   "display_name": "Python 3",
   "language": "python",
   "name": "python3"
  },
  "language_info": {
   "codemirror_mode": {
    "name": "ipython",
    "version": 3
   },
   "file_extension": ".py",
   "mimetype": "text/x-python",
   "name": "python",
   "nbconvert_exporter": "python",
   "pygments_lexer": "ipython3",
   "version": "3.7.3"
  }
 },
 "nbformat": 4,
 "nbformat_minor": 2
}
