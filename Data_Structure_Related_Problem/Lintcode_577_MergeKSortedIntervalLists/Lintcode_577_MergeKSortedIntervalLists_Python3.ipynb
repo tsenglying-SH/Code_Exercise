{
 "cells": [
  {
   "cell_type": "markdown",
   "metadata": {},
   "source": [
    "## heap based method, time O(nlogk), space O(k)"
   ]
  },
  {
   "cell_type": "code",
   "execution_count": 19,
   "metadata": {},
   "outputs": [],
   "source": [
    "import heapq"
   ]
  },
  {
   "cell_type": "code",
   "execution_count": 20,
   "metadata": {},
   "outputs": [],
   "source": [
    "class Interval(object):\n",
    "    def __init__(self, start, end):\n",
    "        self.start = start\n",
    "        self.end = end"
   ]
  },
  {
   "cell_type": "code",
   "execution_count": 21,
   "metadata": {},
   "outputs": [],
   "source": [
    "def mergeKSortedIntervalLists(intervals):\n",
    "     # write your code here\n",
    "    if not intervals:\n",
    "        return []\n",
    "\n",
    "    heap = []\n",
    "    res = []\n",
    "    amount = len(intervals)\n",
    "    for i in range(amount):\n",
    "        if intervals[i]:\n",
    "            heapq.heappush(heap, (intervals[i][0].start, intervals[i][0].end, i, 0))\n",
    "\n",
    "    while heap:\n",
    "        start, end, idx1, idx2 = heapq.heappop(heap)\n",
    "        append_interval(res, intervals[idx1][idx2])\n",
    "        if idx2 + 1 < len(intervals[idx1]):\n",
    "            heapq.heappush(heap, (intervals[idx1][idx2 + 1].start, intervals[idx1][idx2 + 1].end, idx1, idx2 + 1))\n",
    "\n",
    "    return res\n",
    "def append_interval(intervals, interval):\n",
    "    if not intervals or intervals[-1].end < interval.start:\n",
    "        intervals.append(interval)\n",
    "        return\n",
    "\n",
    "    intervals[-1].end = max(intervals[-1].end, interval.end)"
   ]
  },
  {
   "cell_type": "code",
   "execution_count": 22,
   "metadata": {},
   "outputs": [],
   "source": [
    "intervals1 = [[Interval(1,3),Interval(4,7),Interval(6,8)],[Interval(1,2),Interval(9,10)]]"
   ]
  },
  {
   "cell_type": "code",
   "execution_count": 23,
   "metadata": {
    "scrolled": true
   },
   "outputs": [],
   "source": [
    "ans = mergeKSortedIntervalLists(intervals1)"
   ]
  },
  {
   "cell_type": "code",
   "execution_count": 24,
   "metadata": {},
   "outputs": [
    {
     "name": "stdout",
     "output_type": "stream",
     "text": [
      "(1, 3)\n",
      "(4, 8)\n",
      "(9, 10)\n"
     ]
    }
   ],
   "source": [
    "for interval in ans:\n",
    "    print(\"({}, {})\".format(interval.start, interval.end))"
   ]
  },
  {
   "cell_type": "markdown",
   "metadata": {},
   "source": [
    "## divide and conquer method, time O(nlogk), space O(2 * n / k)(merge2lists, we use extra space)"
   ]
  },
  {
   "cell_type": "code",
   "execution_count": 25,
   "metadata": {},
   "outputs": [],
   "source": [
    "def mergeKSortedIntervalLists(intervals):\n",
    "    # write your code here\n",
    "    if not intervals:\n",
    "        return []\n",
    "\n",
    "    amount = len(intervals)\n",
    "    step = 1\n",
    "    while amount > step:\n",
    "        for i in range(0, amount - step, 2 * step):\n",
    "            intervals[i] = merge2SortedIntervalLists(intervals[i], intervals[i + step])\n",
    "        step *= 2\n",
    "\n",
    "    return intervals[0]\n",
    "\n",
    "def merge2SortedIntervalLists(list1, list2):\n",
    "    if not list1:\n",
    "        return list2\n",
    "    if not list2:\n",
    "        return list1\n",
    "\n",
    "    i, j = 0, 0\n",
    "    m, n = len(list1), len(list2)\n",
    "\n",
    "    res = []\n",
    "    while i < m and j < n:\n",
    "        if list1[i].start <= list2[j].start:\n",
    "            append_interval(res, list1[i])\n",
    "            i += 1\n",
    "        else:\n",
    "            append_interval(res, list2[j])\n",
    "            j += 1\n",
    "\n",
    "    while i < m:\n",
    "        append_interval(res, list1[i])\n",
    "        i += 1\n",
    "\n",
    "    while j < n:\n",
    "        append_interval(res, list2[j])\n",
    "        j += 1\n",
    "\n",
    "    return res\n",
    "\n",
    "def append_interval(intervals, interval):\n",
    "    if not intervals or intervals[-1].end < interval.start:\n",
    "        intervals.append(interval)\n",
    "        return\n",
    "\n",
    "    intervals[-1].end = max(intervals[-1].end, interval.end)"
   ]
  },
  {
   "cell_type": "code",
   "execution_count": 26,
   "metadata": {},
   "outputs": [],
   "source": [
    "intervals1 = [[Interval(1,3),Interval(4,7),Interval(6,8)],[Interval(1,2),Interval(9,10)]]"
   ]
  },
  {
   "cell_type": "code",
   "execution_count": 27,
   "metadata": {
    "scrolled": true
   },
   "outputs": [],
   "source": [
    "ans = mergeKSortedIntervalLists(intervals1)"
   ]
  },
  {
   "cell_type": "code",
   "execution_count": 28,
   "metadata": {},
   "outputs": [
    {
     "name": "stdout",
     "output_type": "stream",
     "text": [
      "(1, 3)\n",
      "(4, 8)\n",
      "(9, 10)\n"
     ]
    }
   ],
   "source": [
    "for interval in ans:\n",
    "    print(\"({}, {})\".format(interval.start, interval.end))"
   ]
  },
  {
   "cell_type": "code",
   "execution_count": null,
   "metadata": {},
   "outputs": [],
   "source": []
  }
 ],
 "metadata": {
  "kernelspec": {
   "display_name": "Python 3",
   "language": "python",
   "name": "python3"
  },
  "language_info": {
   "codemirror_mode": {
    "name": "ipython",
    "version": 3
   },
   "file_extension": ".py",
   "mimetype": "text/x-python",
   "name": "python",
   "nbconvert_exporter": "python",
   "pygments_lexer": "ipython3",
   "version": "3.7.3"
  }
 },
 "nbformat": 4,
 "nbformat_minor": 2
}
