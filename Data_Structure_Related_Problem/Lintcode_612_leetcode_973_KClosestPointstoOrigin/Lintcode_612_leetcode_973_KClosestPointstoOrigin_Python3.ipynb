{
 "cells": [
  {
   "cell_type": "markdown",
   "metadata": {},
   "source": [
    "## Heap Based Method, Time O(nlogk), space O(k)"
   ]
  },
  {
   "cell_type": "code",
   "execution_count": 7,
   "metadata": {},
   "outputs": [],
   "source": [
    "import heapq\n",
    "\n",
    "def kClosest(points, origin, k):\n",
    "    # write your code here\n",
    "    heap = []\n",
    "    for point in points:\n",
    "        dist = distance(point, origin)\n",
    "        # remember the api heapq.heappush(heap, item)\n",
    "        heapq.heappush(heap, (-dist, -point[0], -point[1]))\n",
    "        \n",
    "        # keep heap size k\n",
    "        if len(heap) > k:\n",
    "            # remember the api heapq.heappop(heap)\n",
    "            heapq.heappop(heap)\n",
    "        print(heap)\n",
    "    ret = []\n",
    "    while len(heap) > 0:\n",
    "        _, x, y = heapq.heappop(heap)\n",
    "        ret.append([-x, -y])\n",
    "        print(heap, ret)\n",
    "    ret.reverse()\n",
    "    return ret\n",
    "\n",
    "def distance(point, origin):\n",
    "    return (point[0] - origin[0]) ** 2 + (point[1] - origin[1]) ** 2"
   ]
  },
  {
   "cell_type": "code",
   "execution_count": 8,
   "metadata": {},
   "outputs": [],
   "source": [
    "points = [[4,6],[4,7],[4,4],[2,5],[1,1]]\n",
    "origin = [0, 0]\n",
    "k = 3 "
   ]
  },
  {
   "cell_type": "code",
   "execution_count": 9,
   "metadata": {},
   "outputs": [
    {
     "name": "stdout",
     "output_type": "stream",
     "text": [
      "[(-52, -4, -6)]\n",
      "[(-65, -4, -7), (-52, -4, -6)]\n",
      "[(-65, -4, -7), (-52, -4, -6), (-32, -4, -4)]\n",
      "[(-52, -4, -6), (-29, -2, -5), (-32, -4, -4)]\n",
      "[(-32, -4, -4), (-29, -2, -5), (-2, -1, -1)]\n",
      "[(-29, -2, -5), (-2, -1, -1)] [[4, 4]]\n",
      "[(-2, -1, -1)] [[4, 4], [2, 5]]\n",
      "[] [[4, 4], [2, 5], [1, 1]]\n"
     ]
    },
    {
     "data": {
      "text/plain": [
       "[[1, 1], [2, 5], [4, 4]]"
      ]
     },
     "execution_count": 9,
     "metadata": {},
     "output_type": "execute_result"
    }
   ],
   "source": [
    "kClosest(points, origin, k)"
   ]
  },
  {
   "cell_type": "markdown",
   "metadata": {},
   "source": [
    "## QuickSelect, time O(n + klogk), space O(1)"
   ]
  },
  {
   "cell_type": "code",
   "execution_count": 25,
   "metadata": {},
   "outputs": [],
   "source": [
    "import random\n",
    "def kClosest(points, k: int):\n",
    "    # write your code here\n",
    "    if k <= 0 or not points or len(points) < k:\n",
    "        return []\n",
    "    result = []\n",
    "    partition(points, [0, 0], 0, len(points) - 1, k, result)\n",
    "    # if it's asked for in some order\n",
    "    result.sort(key=lambda p: (dist(p, [0, 0]), p[0], p[1]))\n",
    "    return result\n",
    "\n",
    "def dist(point, origin):\n",
    "    return (point[0] - origin[0]) ** 2 + (point[1] - origin[1]) ** 2\n",
    "\n",
    "def partition(points, origin, start, end, k, result):\n",
    "    if start >  end:\n",
    "        return\n",
    "    if start == end and k == 1:\n",
    "        result.append(points[start])\n",
    "        return\n",
    "\n",
    "    left, right = start, end\n",
    "    mid = random.randint(left, right)\n",
    "    pivot = points[mid]\n",
    "\n",
    "    while left <= right:\n",
    "        while left <= right and dist(points[left], origin) < dist(pivot, origin):\n",
    "            left += 1\n",
    "        while left <= right and dist(points[right], origin) > dist(pivot, origin):\n",
    "            right -= 1\n",
    "        if left <= right:\n",
    "            points[left], points[right] = points[right], points[left]\n",
    "            left += 1\n",
    "            right -= 1\n",
    "\n",
    "    if start + k - 1 <= right:\n",
    "        partition(points, origin, start, right, k, result)\n",
    "        return\n",
    "    elif start + k - 1 >= left:\n",
    "        result.extend(points[start:left])\n",
    "        partition(points, origin, left, end, k - left + start, result)\n",
    "        return\n",
    "    else:\n",
    "        result.extend(points[start:left])\n",
    "        return"
   ]
  },
  {
   "cell_type": "code",
   "execution_count": 28,
   "metadata": {},
   "outputs": [],
   "source": [
    "points = [[3,3],[5,-1],[-2,4], [-4, 2]]\n",
    "K = 3"
   ]
  },
  {
   "cell_type": "code",
   "execution_count": 29,
   "metadata": {},
   "outputs": [
    {
     "data": {
      "text/plain": [
       "[[3, 3], [-4, 2], [-2, 4]]"
      ]
     },
     "execution_count": 29,
     "metadata": {},
     "output_type": "execute_result"
    }
   ],
   "source": [
    "kClosest(points, K)"
   ]
  },
  {
   "cell_type": "code",
   "execution_count": null,
   "metadata": {},
   "outputs": [],
   "source": []
  }
 ],
 "metadata": {
  "kernelspec": {
   "display_name": "Python 3",
   "language": "python",
   "name": "python3"
  },
  "language_info": {
   "codemirror_mode": {
    "name": "ipython",
    "version": 3
   },
   "file_extension": ".py",
   "mimetype": "text/x-python",
   "name": "python",
   "nbconvert_exporter": "python",
   "pygments_lexer": "ipython3",
   "version": "3.7.3"
  }
 },
 "nbformat": 4,
 "nbformat_minor": 2
}
