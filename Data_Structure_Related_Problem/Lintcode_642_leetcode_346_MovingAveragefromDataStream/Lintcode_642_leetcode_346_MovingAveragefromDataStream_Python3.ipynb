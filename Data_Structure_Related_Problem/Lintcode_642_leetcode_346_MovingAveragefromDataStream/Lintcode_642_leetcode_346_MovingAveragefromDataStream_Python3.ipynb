{
 "cells": [
  {
   "cell_type": "markdown",
   "metadata": {},
   "source": [
    "## implement via queue, note that record sum instead of average, or you'll lose some precision "
   ]
  },
  {
   "cell_type": "code",
   "execution_count": 1,
   "metadata": {},
   "outputs": [],
   "source": [
    "from collections import deque\n",
    "class MovingAverage:\n",
    "    \"\"\"\n",
    "    @param: size: An integer\n",
    "    \"\"\"\n",
    "    def __init__(self, size):\n",
    "        # do intialization if necessary\n",
    "        self.queue = deque([])\n",
    "        self.size = size\n",
    "        self.total_sum = 0\n",
    "    \"\"\"\n",
    "    @param: val: An integer\n",
    "    @return:  \n",
    "    \"\"\"\n",
    "    def next(self, val):\n",
    "        # write your code here\n",
    "        self.queue.append(val)\n",
    "        if len(self.queue) > self.size:\n",
    "            self.total_sum = self.total_sum - self.queue.popleft() + val\n",
    "            return self.total_sum / self.size\n",
    "        else:\n",
    "            self.total_sum += val\n",
    "            return self.total_sum / len(self.queue)"
   ]
  },
  {
   "cell_type": "code",
   "execution_count": 2,
   "metadata": {},
   "outputs": [],
   "source": [
    "m = MovingAverage(3)"
   ]
  },
  {
   "cell_type": "code",
   "execution_count": 3,
   "metadata": {},
   "outputs": [
    {
     "data": {
      "text/plain": [
       "1.0"
      ]
     },
     "execution_count": 3,
     "metadata": {},
     "output_type": "execute_result"
    }
   ],
   "source": [
    "m.next(1)"
   ]
  },
  {
   "cell_type": "code",
   "execution_count": 4,
   "metadata": {},
   "outputs": [
    {
     "data": {
      "text/plain": [
       "5.5"
      ]
     },
     "execution_count": 4,
     "metadata": {},
     "output_type": "execute_result"
    }
   ],
   "source": [
    "m.next(10)"
   ]
  },
  {
   "cell_type": "code",
   "execution_count": 5,
   "metadata": {},
   "outputs": [
    {
     "data": {
      "text/plain": [
       "4.666666666666667"
      ]
     },
     "execution_count": 5,
     "metadata": {},
     "output_type": "execute_result"
    }
   ],
   "source": [
    "m.next(3)"
   ]
  },
  {
   "cell_type": "code",
   "execution_count": 6,
   "metadata": {},
   "outputs": [
    {
     "data": {
      "text/plain": [
       "6.0"
      ]
     },
     "execution_count": 6,
     "metadata": {},
     "output_type": "execute_result"
    }
   ],
   "source": [
    "m.next(5)"
   ]
  },
  {
   "cell_type": "code",
   "execution_count": null,
   "metadata": {},
   "outputs": [],
   "source": []
  }
 ],
 "metadata": {
  "kernelspec": {
   "display_name": "Python 3",
   "language": "python",
   "name": "python3"
  },
  "language_info": {
   "codemirror_mode": {
    "name": "ipython",
    "version": 3
   },
   "file_extension": ".py",
   "mimetype": "text/x-python",
   "name": "python",
   "nbconvert_exporter": "python",
   "pygments_lexer": "ipython3",
   "version": "3.7.3"
  }
 },
 "nbformat": 4,
 "nbformat_minor": 2
}
