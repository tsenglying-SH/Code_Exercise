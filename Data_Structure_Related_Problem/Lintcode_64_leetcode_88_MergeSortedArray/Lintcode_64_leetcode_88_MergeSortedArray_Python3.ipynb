{
 "cells": [
  {
   "cell_type": "markdown",
   "metadata": {},
   "source": [
    "## insert from the tail, time O(m + n), space O(1)"
   ]
  },
  {
   "cell_type": "code",
   "execution_count": 2,
   "metadata": {},
   "outputs": [],
   "source": [
    "def mergeSortedArray(A, m, B, n):\n",
    "    # write your code here\n",
    "    i , j , k = m - 1, n - 1, m + n - 1\n",
    "    while i >=0 and j >= 0:\n",
    "        if A[i] >= B[j]:\n",
    "            A[k] = A[i]\n",
    "            i -= 1\n",
    "        else:\n",
    "            A[k] = B[j]\n",
    "            j -= 1\n",
    "        k -= 1\n",
    "\n",
    "    while j >= 0:\n",
    "        A[k] = B[j]\n",
    "        k -= 1\n",
    "        j -= 1"
   ]
  },
  {
   "cell_type": "code",
   "execution_count": 3,
   "metadata": {},
   "outputs": [],
   "source": [
    "A = [1,2,3,0,0,0]\n",
    "m = 3\n",
    "B = [2,5,6]\n",
    "n = 3\n",
    "mergeSortedArray(A, m, B, n)"
   ]
  },
  {
   "cell_type": "code",
   "execution_count": 4,
   "metadata": {},
   "outputs": [
    {
     "data": {
      "text/plain": [
       "[1, 2, 2, 3, 5, 6]"
      ]
     },
     "execution_count": 4,
     "metadata": {},
     "output_type": "execute_result"
    }
   ],
   "source": [
    "A"
   ]
  }
 ],
 "metadata": {
  "kernelspec": {
   "display_name": "Python 3",
   "language": "python",
   "name": "python3"
  },
  "language_info": {
   "codemirror_mode": {
    "name": "ipython",
    "version": 3
   },
   "file_extension": ".py",
   "mimetype": "text/x-python",
   "name": "python",
   "nbconvert_exporter": "python",
   "pygments_lexer": "ipython3",
   "version": "3.7.3"
  }
 },
 "nbformat": 4,
 "nbformat_minor": 2
}
