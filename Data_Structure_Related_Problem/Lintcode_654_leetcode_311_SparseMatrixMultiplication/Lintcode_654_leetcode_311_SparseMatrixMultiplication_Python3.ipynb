{
 "cells": [
  {
   "cell_type": "markdown",
   "metadata": {},
   "source": [
    "## Naive Way , time O(n^3)"
   ]
  },
  {
   "cell_type": "code",
   "execution_count": 1,
   "metadata": {},
   "outputs": [],
   "source": [
    "def multiply(A, B):\n",
    "    if not A or not B or len(A[0]) != len(B):\n",
    "        return []\n",
    "\n",
    "    m, n, p = len(A), len(A[0]), len(B[0])\n",
    "    res = [[0] * p for _ in range(m)]\n",
    "    for i in range(m):\n",
    "        for j in range(p):\n",
    "            for k in range(n):\n",
    "                res[i][j] += A[i][k] * B[k][j]\n",
    "\n",
    "    return res"
   ]
  },
  {
   "cell_type": "code",
   "execution_count": 2,
   "metadata": {},
   "outputs": [],
   "source": [
    "A = [\n",
    "  [ 1, 0, 0],\n",
    "  [-1, 0, 3]\n",
    "]\n",
    "\n",
    "B = [\n",
    "  [ 7, 0, 0 ],\n",
    "  [ 0, 0, 0 ],\n",
    "  [ 0, 0, 1 ]\n",
    "]"
   ]
  },
  {
   "cell_type": "code",
   "execution_count": 3,
   "metadata": {},
   "outputs": [
    {
     "data": {
      "text/plain": [
       "[[7, 0, 0], [-7, 0, 3]]"
      ]
     },
     "execution_count": 3,
     "metadata": {},
     "output_type": "execute_result"
    }
   ],
   "source": [
    "multiply(A, B)"
   ]
  },
  {
   "cell_type": "markdown",
   "metadata": {},
   "source": [
    "## Take A's Sparse into Account, time O(ka * n^3)"
   ]
  },
  {
   "cell_type": "code",
   "execution_count": 4,
   "metadata": {},
   "outputs": [],
   "source": [
    "def multiply(A, B):\n",
    "    if not A or not B or len(A[0]) != len(B):\n",
    "        return []\n",
    "\n",
    "    m, n, p = len(A), len(A[0]), len(B[0])\n",
    "    res = [[0] * p for _ in range(m)]\n",
    "    for i in range(m):\n",
    "        for k in range(n):\n",
    "            # skip some useless calculation, when A's element is 0.\n",
    "            if A[i][k] != 0:\n",
    "                for j in range(p):\n",
    "                    res[i][j] += A[i][k] * B[k][j]\n",
    "\n",
    "    return res"
   ]
  },
  {
   "cell_type": "code",
   "execution_count": 5,
   "metadata": {},
   "outputs": [],
   "source": [
    "A = [\n",
    "  [ 1, 0, 0],\n",
    "  [-1, 0, 3]\n",
    "]\n",
    "\n",
    "B = [\n",
    "  [ 7, 0, 0 ],\n",
    "  [ 0, 0, 0 ],\n",
    "  [ 0, 0, 1 ]\n",
    "]"
   ]
  },
  {
   "cell_type": "code",
   "execution_count": 6,
   "metadata": {},
   "outputs": [
    {
     "data": {
      "text/plain": [
       "[[7, 0, 0], [-7, 0, 3]]"
      ]
     },
     "execution_count": 6,
     "metadata": {},
     "output_type": "execute_result"
    }
   ],
   "source": [
    "multiply(A, B)"
   ]
  },
  {
   "cell_type": "markdown",
   "metadata": {},
   "source": [
    "## Take A and B 's Sparse into Account, time O(ka * kb * n^3)"
   ]
  },
  {
   "cell_type": "code",
   "execution_count": 7,
   "metadata": {},
   "outputs": [],
   "source": [
    "def multiply(A, B):\n",
    "    # write your code here\n",
    "    if not A or not B or len(A[0]) != len(B):\n",
    "        return []\n",
    "\n",
    "    m, n, p = len(A), len(A[0]), len(B[0])\n",
    "    res = [[0] * p for _ in range(m)]\n",
    "    A_non_zero_coor = set()\n",
    "    for i in range(m):\n",
    "        for k in range(n):\n",
    "            if A[i][k] != 0:\n",
    "                A_non_zero_coor.add((i, k))\n",
    "\n",
    "    B_non_zero_coor = set()\n",
    "    for k in range(n):\n",
    "        for j in range(p):\n",
    "            if B[k][j] != 0:\n",
    "                B_non_zero_coor.add((k, j))\n",
    "\n",
    "    for ax, ay in A_non_zero_coor:\n",
    "        for bx, by in B_non_zero_coor:\n",
    "            if ay == bx:\n",
    "                res[ax][by] += A[ax][ay] * B[bx][by]\n",
    "    return res"
   ]
  },
  {
   "cell_type": "code",
   "execution_count": 8,
   "metadata": {},
   "outputs": [],
   "source": [
    "A = [\n",
    "  [ 1, 0, 0],\n",
    "  [-1, 0, 3]\n",
    "]\n",
    "\n",
    "B = [\n",
    "  [ 7, 0, 0 ],\n",
    "  [ 0, 0, 0 ],\n",
    "  [ 0, 0, 1 ]\n",
    "]"
   ]
  },
  {
   "cell_type": "code",
   "execution_count": 9,
   "metadata": {},
   "outputs": [
    {
     "data": {
      "text/plain": [
       "[[7, 0, 0], [-7, 0, 3]]"
      ]
     },
     "execution_count": 9,
     "metadata": {},
     "output_type": "execute_result"
    }
   ],
   "source": [
    "multiply(A, B)"
   ]
  },
  {
   "cell_type": "code",
   "execution_count": null,
   "metadata": {},
   "outputs": [],
   "source": []
  }
 ],
 "metadata": {
  "kernelspec": {
   "display_name": "Python 3",
   "language": "python",
   "name": "python3"
  },
  "language_info": {
   "codemirror_mode": {
    "name": "ipython",
    "version": 3
   },
   "file_extension": ".py",
   "mimetype": "text/x-python",
   "name": "python",
   "nbconvert_exporter": "python",
   "pygments_lexer": "ipython3",
   "version": "3.7.3"
  }
 },
 "nbformat": 4,
 "nbformat_minor": 2
}
