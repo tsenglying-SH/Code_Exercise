{
 "cells": [
  {
   "cell_type": "markdown",
   "metadata": {},
   "source": [
    "## hash_table + array to achieve O(1)"
   ]
  },
  {
   "cell_type": "code",
   "execution_count": 79,
   "metadata": {},
   "outputs": [],
   "source": [
    "import random\n",
    "class RandomizedSet():\n",
    "    \n",
    "    def __init__(self):\n",
    "        # do intialization if necessary\n",
    "        # help insert and remove in O(1)\n",
    "        self.hashtable = {}\n",
    "        # help get Random in O(1)\n",
    "        self.vector = []\n",
    "    \"\"\"\n",
    "    @param: val: a value to the set\n",
    "    @return: true if the set did not already contain the specified element or false\n",
    "    \"\"\"\n",
    "    def insert(self, val):\n",
    "        # write your code here\n",
    "        # when insert, hashtable, array all do the O(1) operation\n",
    "        if val not in self.hashtable:\n",
    "            self.hashtable[val] = len(self.vector)\n",
    "            self.vector.append(val)\n",
    "            return True\n",
    "        return False\n",
    "    \"\"\"\n",
    "    @param: val: a value from the set\n",
    "    @return: true if the set contained the specified element or false\n",
    "    \"\"\"\n",
    "    def remove(self, val):\n",
    "        # write your code here\n",
    "        # when remove, hashtable help array do the O(1) operation as well as itself\n",
    "        if val not in self.hashtable or not self.vector:\n",
    "            return False\n",
    "        self.vector[self.hashtable[val]] = self.vector[-1]\n",
    "        self.hashtable[self.vector[-1]] = self.hashtable[val]\n",
    "        del self.vector[-1]\n",
    "        del self.hashtable[val]\n",
    "        return True\n",
    "    \"\"\"\n",
    "    @return: Get a random element from the set\n",
    "    \"\"\"\n",
    "    def getRandom(self):\n",
    "        # write your code here\n",
    "        # get Random in O(1) via array\n",
    "        return self.vector[random.randint(0, len(self.vector) - 1)]"
   ]
  },
  {
   "cell_type": "code",
   "execution_count": 80,
   "metadata": {},
   "outputs": [],
   "source": [
    "a = RandomizedSet()"
   ]
  },
  {
   "cell_type": "code",
   "execution_count": 81,
   "metadata": {},
   "outputs": [
    {
     "data": {
      "text/plain": [
       "(True, [3], {3: 0})"
      ]
     },
     "execution_count": 81,
     "metadata": {},
     "output_type": "execute_result"
    }
   ],
   "source": [
    "a.insert(3), a.vector, a.hashtable"
   ]
  },
  {
   "cell_type": "code",
   "execution_count": 82,
   "metadata": {},
   "outputs": [
    {
     "data": {
      "text/plain": [
       "(True, [3, -2], {3: 0, -2: 1})"
      ]
     },
     "execution_count": 82,
     "metadata": {},
     "output_type": "execute_result"
    }
   ],
   "source": [
    "a.insert(-2), a.vector, a.hashtable"
   ]
  },
  {
   "cell_type": "code",
   "execution_count": 83,
   "metadata": {},
   "outputs": [
    {
     "data": {
      "text/plain": [
       "(False, [3, -2], {3: 0, -2: 1})"
      ]
     },
     "execution_count": 83,
     "metadata": {},
     "output_type": "execute_result"
    }
   ],
   "source": [
    "a.remove(2), a.vector, a.hashtable"
   ]
  },
  {
   "cell_type": "code",
   "execution_count": 84,
   "metadata": {},
   "outputs": [
    {
     "data": {
      "text/plain": [
       "(True, [3, -2, 1], {3: 0, -2: 1, 1: 2})"
      ]
     },
     "execution_count": 84,
     "metadata": {},
     "output_type": "execute_result"
    }
   ],
   "source": [
    "a.insert(1), a.vector, a.hashtable"
   ]
  },
  {
   "cell_type": "code",
   "execution_count": 85,
   "metadata": {},
   "outputs": [
    {
     "data": {
      "text/plain": [
       "(True, [3, -2, 1, -3], {3: 0, -2: 1, 1: 2, -3: 3})"
      ]
     },
     "execution_count": 85,
     "metadata": {},
     "output_type": "execute_result"
    }
   ],
   "source": [
    "a.insert(-3), a.vector, a.hashtable"
   ]
  },
  {
   "cell_type": "code",
   "execution_count": 86,
   "metadata": {},
   "outputs": [
    {
     "data": {
      "text/plain": [
       "(False, [3, -2, 1, -3], {3: 0, -2: 1, 1: 2, -3: 3})"
      ]
     },
     "execution_count": 86,
     "metadata": {},
     "output_type": "execute_result"
    }
   ],
   "source": [
    "a.insert(-2), a.vector, a.hashtable"
   ]
  },
  {
   "cell_type": "code",
   "execution_count": 87,
   "metadata": {},
   "outputs": [
    {
     "data": {
      "text/plain": [
       "(True, [3, -3, 1], {3: 0, 1: 2, -3: 1})"
      ]
     },
     "execution_count": 87,
     "metadata": {},
     "output_type": "execute_result"
    }
   ],
   "source": [
    "a.remove(-2), a.vector, a.hashtable"
   ]
  }
 ],
 "metadata": {
  "kernelspec": {
   "display_name": "Python 3",
   "language": "python",
   "name": "python3"
  },
  "language_info": {
   "codemirror_mode": {
    "name": "ipython",
    "version": 3
   },
   "file_extension": ".py",
   "mimetype": "text/x-python",
   "name": "python",
   "nbconvert_exporter": "python",
   "pygments_lexer": "ipython3",
   "version": "3.7.3"
  }
 },
 "nbformat": 4,
 "nbformat_minor": 2
}
