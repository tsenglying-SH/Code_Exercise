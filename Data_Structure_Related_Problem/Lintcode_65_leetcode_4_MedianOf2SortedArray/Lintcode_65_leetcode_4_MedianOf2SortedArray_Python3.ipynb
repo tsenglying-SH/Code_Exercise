{
 "cells": [
  {
   "cell_type": "markdown",
   "metadata": {},
   "source": [
    "## log(min(m, n)) method, amazing binary search on Acwing!"
   ]
  },
  {
   "cell_type": "code",
   "execution_count": 1,
   "metadata": {},
   "outputs": [],
   "source": [
    "import sys\n",
    "def findMedianSortedArrays(nums1, nums2) -> float:\n",
    "    m, n = len(nums1), len(nums2)\n",
    "    if m == 0:\n",
    "        return findMedian(nums2)\n",
    "    if n == 0:\n",
    "        return findMedian(nums1)\n",
    "    if m > n:\n",
    "        return findMedianSortedArrays(nums2, nums1)\n",
    "\n",
    "    lo, hi = 0, 2 * m\n",
    "    while lo <= hi:\n",
    "        c1 = lo + ((hi - lo) >> 1)\n",
    "        c2 = m + n - c1\n",
    "\n",
    "        l1 = -sys.maxsize - 1 if c1 == 0 else nums1[(c1 - 1) >> 1 ]\n",
    "        l2 = -sys.maxsize - 1 if c2 == 0 else nums2[(c2 - 1) >> 1 ]\n",
    "        r1 = sys.maxsize if c1 == 2 * m else nums1[c1 >> 1]\n",
    "        r2 = sys.maxsize if c2 == 2 * n else nums2[c2 >> 1]\n",
    "        # print(\"c1 {}, c2 {}, l1 {}, l2 {}, r1 {}, r2 {}\".format(c1, c2, l1, l2, r1, r2))\n",
    "        if l1 > r2:\n",
    "            hi = c1 - 1\n",
    "        elif l2 > r1:\n",
    "            lo = c1 + 1\n",
    "        else:\n",
    "            return 1.0 * (max(l1, l2) + min(r1, r2)) / 2\n",
    "    return -1\n",
    "\n",
    "def findMedian(self, nums):\n",
    "    size = len(nums)\n",
    "    if size & 1:\n",
    "        return nums[size >> 1]\n",
    "    else:\n",
    "        return 1.0 * (nums[size >> 1] + nums[(size >> 1) - 1]) / 2"
   ]
  },
  {
   "cell_type": "code",
   "execution_count": 2,
   "metadata": {},
   "outputs": [
    {
     "data": {
      "text/plain": [
       "3.5"
      ]
     },
     "execution_count": 2,
     "metadata": {},
     "output_type": "execute_result"
    }
   ],
   "source": [
    "A = [1,2,3,4,5,6]\n",
    "B = [2,3,4,5]\n",
    "findMedianSortedArrays(A, B)"
   ]
  },
  {
   "cell_type": "code",
   "execution_count": 3,
   "metadata": {},
   "outputs": [
    {
     "data": {
      "text/plain": [
       "3.0"
      ]
     },
     "execution_count": 3,
     "metadata": {},
     "output_type": "execute_result"
    }
   ],
   "source": [
    "A = [1,2,3]\n",
    "B = [4,5]\n",
    "findMedianSortedArrays(A, B)"
   ]
  },
  {
   "cell_type": "code",
   "execution_count": null,
   "metadata": {},
   "outputs": [],
   "source": []
  }
 ],
 "metadata": {
  "kernelspec": {
   "display_name": "Python 3",
   "language": "python",
   "name": "python3"
  },
  "language_info": {
   "codemirror_mode": {
    "name": "ipython",
    "version": 3
   },
   "file_extension": ".py",
   "mimetype": "text/x-python",
   "name": "python",
   "nbconvert_exporter": "python",
   "pygments_lexer": "ipython3",
   "version": "3.7.3"
  }
 },
 "nbformat": 4,
 "nbformat_minor": 2
}
