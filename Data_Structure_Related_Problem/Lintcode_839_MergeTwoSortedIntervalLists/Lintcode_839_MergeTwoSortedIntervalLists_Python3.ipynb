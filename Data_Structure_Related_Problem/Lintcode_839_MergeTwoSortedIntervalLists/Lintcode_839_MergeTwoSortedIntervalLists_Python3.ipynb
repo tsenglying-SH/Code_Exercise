{
 "cells": [
  {
   "cell_type": "markdown",
   "metadata": {},
   "source": [
    "## Just like Merge Two arrays, Time O(m + n)"
   ]
  },
  {
   "cell_type": "code",
   "execution_count": 4,
   "metadata": {},
   "outputs": [],
   "source": [
    "class Interval(object):\n",
    "    def __init__(self, start, end):\n",
    "        self.start = start\n",
    "        self.end = end\n",
    "\n",
    "def mergeTwoInterval(list1, list2):\n",
    "    # write your code here\n",
    "    if not list1:\n",
    "        return list2\n",
    "    if not list2:\n",
    "        return list1\n",
    "\n",
    "    m, n = len(list1), len(list2)\n",
    "    i, j = 0, 0\n",
    "    res = []\n",
    "    while i < m and j < n:\n",
    "        if list1[i].start <= list2[j].start:\n",
    "            append_interval(res, list1[i])\n",
    "            i += 1\n",
    "        else:\n",
    "            append_interval(res, list2[j])\n",
    "            j += 1\n",
    "\n",
    "    while i < m:\n",
    "        append_interval(res, list1[i])\n",
    "        i += 1\n",
    "\n",
    "    while j < n:\n",
    "        append_interval(res, list2[j])\n",
    "        j += 1\n",
    "\n",
    "    return res\n",
    "\n",
    "def append_interval(res, interval):\n",
    "    if not res or res[-1].end < interval.start:\n",
    "        res.append(interval)\n",
    "        return\n",
    "\n",
    "    res[-1].end = max(res[-1].end, interval.end)"
   ]
  },
  {
   "cell_type": "code",
   "execution_count": 5,
   "metadata": {},
   "outputs": [],
   "source": [
    "list1 = [Interval(1, 2), Interval(3, 4)]\n",
    "list2 = [Interval(2, 3), Interval(5, 6)]"
   ]
  },
  {
   "cell_type": "code",
   "execution_count": 7,
   "metadata": {},
   "outputs": [],
   "source": [
    "res = mergeTwoInterval(list1, list2)"
   ]
  },
  {
   "cell_type": "code",
   "execution_count": 10,
   "metadata": {},
   "outputs": [
    {
     "data": {
      "text/plain": [
       "(1, 4)"
      ]
     },
     "execution_count": 10,
     "metadata": {},
     "output_type": "execute_result"
    }
   ],
   "source": [
    "res[0].start, res[0].end"
   ]
  },
  {
   "cell_type": "code",
   "execution_count": 11,
   "metadata": {},
   "outputs": [
    {
     "data": {
      "text/plain": [
       "(5, 6)"
      ]
     },
     "execution_count": 11,
     "metadata": {},
     "output_type": "execute_result"
    }
   ],
   "source": [
    "res[1].start, res[1].end"
   ]
  },
  {
   "cell_type": "code",
   "execution_count": null,
   "metadata": {},
   "outputs": [],
   "source": []
  }
 ],
 "metadata": {
  "kernelspec": {
   "display_name": "Python 3",
   "language": "python",
   "name": "python3"
  },
  "language_info": {
   "codemirror_mode": {
    "name": "ipython",
    "version": 3
   },
   "file_extension": ".py",
   "mimetype": "text/x-python",
   "name": "python",
   "nbconvert_exporter": "python",
   "pygments_lexer": "ipython3",
   "version": "3.7.3"
  }
 },
 "nbformat": 4,
 "nbformat_minor": 2
}
