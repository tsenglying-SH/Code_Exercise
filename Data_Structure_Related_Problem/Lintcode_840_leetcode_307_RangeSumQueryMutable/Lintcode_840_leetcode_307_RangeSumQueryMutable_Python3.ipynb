{
 "cells": [
  {
   "cell_type": "markdown",
   "metadata": {},
   "source": [
    "## Binary Indexed Tree, build O(n), cal sum/update O(logn)"
   ]
  },
  {
   "cell_type": "code",
   "execution_count": 34,
   "metadata": {},
   "outputs": [],
   "source": [
    "class NumArray:\n",
    "\n",
    "    def __init__(self, nums):\n",
    "        self.origin = nums\n",
    "        self.size = len(nums)\n",
    "        # O(nlogn) build via add\n",
    "        # self.sum_arr = [0] * (self.size + 1)\n",
    "        # for i in range(self.size):\n",
    "            # self.add(i, self.origin[i])\n",
    "        # O(n) build\n",
    "        self.sum_arr = [0] + self.origin\n",
    "        for i in range(1, self.size + 1):\n",
    "            j = i + (i & (-i))\n",
    "            if j < self.size + 1:\n",
    "                self.sum_arr[j] += self.sum_arr[i]\n",
    "        # print (self.sum_arr)\n",
    "        \n",
    "    def add(self, i, val):\n",
    "        i += 1\n",
    "        while i <= self.size:\n",
    "            self.sum_arr[i] += val\n",
    "            i += i & (-i)\n",
    "        \n",
    "    def update(self, i: int, val: int) -> None:\n",
    "        self.add(i, val - self.origin[i])\n",
    "        self.origin[i] = val\n",
    "        \n",
    "    def cal_sum (self, i):\n",
    "        i += 1\n",
    "        res = 0\n",
    "        while i > 0:\n",
    "            res += self.sum_arr[i]\n",
    "            i -= i & (-i)\n",
    "        return res\n",
    "        \n",
    "    def sumRange(self, i: int, j: int) -> int:\n",
    "        return self.cal_sum(j) - self.cal_sum(i - 1)"
   ]
  },
  {
   "cell_type": "code",
   "execution_count": 35,
   "metadata": {},
   "outputs": [],
   "source": [
    "a = NumArray([1, 3, 5])"
   ]
  },
  {
   "cell_type": "code",
   "execution_count": 36,
   "metadata": {},
   "outputs": [
    {
     "data": {
      "text/plain": [
       "9"
      ]
     },
     "execution_count": 36,
     "metadata": {},
     "output_type": "execute_result"
    }
   ],
   "source": [
    "a.sumRange(0, 2) "
   ]
  },
  {
   "cell_type": "code",
   "execution_count": 37,
   "metadata": {},
   "outputs": [],
   "source": [
    "a.update(1, 2)"
   ]
  },
  {
   "cell_type": "code",
   "execution_count": 38,
   "metadata": {},
   "outputs": [
    {
     "data": {
      "text/plain": [
       "8"
      ]
     },
     "execution_count": 38,
     "metadata": {},
     "output_type": "execute_result"
    }
   ],
   "source": [
    "a.sumRange(0, 2)"
   ]
  },
  {
   "cell_type": "markdown",
   "metadata": {},
   "source": [
    "## SegmentTree via TreeNode, build O(n), update/sum O(logn)"
   ]
  },
  {
   "cell_type": "code",
   "execution_count": 3,
   "metadata": {},
   "outputs": [],
   "source": [
    "class SegmentTreeNode():\n",
    "    def __init__(self, start, end, total=0):\n",
    "        self.start, self.end = start, end\n",
    "        self.total = total\n",
    "        self.left, self.right = None, None\n",
    "\n",
    "class SegmentTree():\n",
    "    def __init__(self, nums):\n",
    "        self.root = self.build_tree(0, len(nums) - 1, nums)\n",
    "    \n",
    "    def build_tree(self, start, end, nums):\n",
    "        if start > end: return\n",
    "        if start == end:\n",
    "            return SegmentTreeNode(start, end, nums[start])\n",
    "        node = SegmentTreeNode(start, end)\n",
    "        mid = start + (end - start) // 2\n",
    "        node.left = self.build_tree(start, mid, nums)\n",
    "        node.right = self.build_tree(mid + 1, end, nums)\n",
    "        if node.left:\n",
    "            node.total += node.left.total\n",
    "        if node.right:\n",
    "            node.total += node.right.total\n",
    "\n",
    "        return node\n",
    "    \n",
    "    def update(self, node, i, val):\n",
    "        if node.start == i and node.end == i:\n",
    "            node.total = val\n",
    "            return\n",
    "        mid = node.start + (node.end - node.start) // 2\n",
    "        if i <= mid:\n",
    "            self.update(node.left, i, val)\n",
    "        else:\n",
    "            self.update(node.right, i, val)\n",
    "        node.total = 0\n",
    "        if node.left:\n",
    "            node.total += node.left.total\n",
    "        if node.right:\n",
    "            node.total += node.right.total\n",
    "    \n",
    "    def sumRange(self, node, i, j):\n",
    "        if not node:\n",
    "            return 0\n",
    "        if i > node.end or i < node.start or j > node.end or j < node.start:\n",
    "            return\n",
    "        if node.start == i and node.end == j:\n",
    "            return node.total\n",
    "        mid = node.start + (node.end - node.start) // 2\n",
    "        if j <= mid:\n",
    "            return self.sumRange(node.left, i, j)\n",
    "        elif i > mid:\n",
    "            return self.sumRange(node.right, i, j)\n",
    "        else:\n",
    "            return self.sumRange(node.left, i, mid) + self.sumRange(node.right, mid + 1, j)\n",
    "\n",
    "class NumArray:\n",
    "\n",
    "    def __init__(self, nums):\n",
    "        self.SegmentTree = SegmentTree(nums)\n",
    "\n",
    "    def update(self, i: int, val: int) -> None:\n",
    "        self.SegmentTree.update(self.SegmentTree.root, i, val)\n",
    "\n",
    "    def sumRange(self, i: int, j: int) -> int:\n",
    "        return self.SegmentTree.sumRange(self.SegmentTree.root, i, j)\n"
   ]
  },
  {
   "cell_type": "code",
   "execution_count": 4,
   "metadata": {},
   "outputs": [],
   "source": [
    "a = NumArray([1, 3, 5])"
   ]
  },
  {
   "cell_type": "code",
   "execution_count": 5,
   "metadata": {},
   "outputs": [
    {
     "data": {
      "text/plain": [
       "9"
      ]
     },
     "execution_count": 5,
     "metadata": {},
     "output_type": "execute_result"
    }
   ],
   "source": [
    "a.sumRange(0, 2) "
   ]
  },
  {
   "cell_type": "code",
   "execution_count": 6,
   "metadata": {},
   "outputs": [],
   "source": [
    "a.update(1, 2)"
   ]
  },
  {
   "cell_type": "code",
   "execution_count": 7,
   "metadata": {},
   "outputs": [
    {
     "data": {
      "text/plain": [
       "8"
      ]
     },
     "execution_count": 7,
     "metadata": {},
     "output_type": "execute_result"
    }
   ],
   "source": [
    "a.sumRange(0, 2)"
   ]
  },
  {
   "cell_type": "markdown",
   "metadata": {},
   "source": [
    "## Segment Tree via Array, build O(n), update/sum O(logn)"
   ]
  },
  {
   "cell_type": "code",
   "execution_count": 18,
   "metadata": {},
   "outputs": [],
   "source": [
    "class NumArray:\n",
    "\n",
    "    def __init__(self, nums):\n",
    "        self.size = len(nums)\n",
    "        self.tree_arr = self.size * [0] + nums\n",
    "        for i in range(self.size - 1, 0, -1):\n",
    "            # i's sons are 2i, 2i + 1\n",
    "            self.tree_arr[i] = self.tree_arr[i << 1] + self.tree_arr[i << 1 | 1]\n",
    "\n",
    "    def update(self, i: int, val: int) -> None:\n",
    "        i += self.size\n",
    "        self.tree_arr[i] = val\n",
    "        while i > 1:\n",
    "            # if i is odd, left is i - 1, if i is even, right is i + 1\n",
    "            self.tree_arr[i >> 1] = self.tree_arr[i] + self.tree_arr[i ^ 1]\n",
    "            i >>= 1\n",
    "\n",
    "    def sumRange(self, i: int, j: int) -> int:\n",
    "        l = i + self.size\n",
    "        r = j + self.size\n",
    "        res = 0\n",
    "        while l <= r:\n",
    "            if l & 1:\n",
    "                res += self.tree_arr[l]\n",
    "                l += 1\n",
    "            l >>= 1\n",
    "            if not r & 1:\n",
    "                res += self.tree_arr[r]\n",
    "                r -= 1\n",
    "            r >>= 1\n",
    "        return res"
   ]
  },
  {
   "cell_type": "code",
   "execution_count": 19,
   "metadata": {},
   "outputs": [],
   "source": [
    "a = NumArray([1, 3, 5])"
   ]
  },
  {
   "cell_type": "code",
   "execution_count": 20,
   "metadata": {},
   "outputs": [
    {
     "data": {
      "text/plain": [
       "9"
      ]
     },
     "execution_count": 20,
     "metadata": {},
     "output_type": "execute_result"
    }
   ],
   "source": [
    "a.sumRange(0, 2) "
   ]
  },
  {
   "cell_type": "code",
   "execution_count": 21,
   "metadata": {},
   "outputs": [],
   "source": [
    "a.update(1, 2)"
   ]
  },
  {
   "cell_type": "code",
   "execution_count": 22,
   "metadata": {},
   "outputs": [
    {
     "data": {
      "text/plain": [
       "8"
      ]
     },
     "execution_count": 22,
     "metadata": {},
     "output_type": "execute_result"
    }
   ],
   "source": [
    "a.sumRange(0, 2)"
   ]
  },
  {
   "cell_type": "code",
   "execution_count": null,
   "metadata": {},
   "outputs": [],
   "source": []
  }
 ],
 "metadata": {
  "kernelspec": {
   "display_name": "Python 3",
   "language": "python",
   "name": "python3"
  },
  "language_info": {
   "codemirror_mode": {
    "name": "ipython",
    "version": 3
   },
   "file_extension": ".py",
   "mimetype": "text/x-python",
   "name": "python",
   "nbconvert_exporter": "python",
   "pygments_lexer": "ipython3",
   "version": "3.7.3"
  }
 },
 "nbformat": 4,
 "nbformat_minor": 2
}
