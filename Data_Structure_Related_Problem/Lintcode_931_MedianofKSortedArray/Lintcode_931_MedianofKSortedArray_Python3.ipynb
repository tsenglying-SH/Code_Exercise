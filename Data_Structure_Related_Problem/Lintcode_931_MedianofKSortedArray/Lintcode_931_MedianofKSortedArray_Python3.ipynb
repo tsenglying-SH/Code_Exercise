{
 "cells": [
  {
   "cell_type": "markdown",
   "metadata": {},
   "source": [
    "## binary search, but only for integer arrays! time O(log(InputRange) * k * log(n))"
   ]
  },
  {
   "cell_type": "code",
   "execution_count": 28,
   "metadata": {},
   "outputs": [],
   "source": [
    "def less_equal_than_in_an_array(nums, val):\n",
    "    if not nums:\n",
    "        return 0\n",
    "    start, end = 0, len(nums) - 1\n",
    "    while start <= end:\n",
    "        mid = start + (end - start) // 2\n",
    "        if nums[mid] > val:\n",
    "            end = mid - 1\n",
    "        else:\n",
    "            start = mid + 1\n",
    "    return start"
   ]
  },
  {
   "cell_type": "code",
   "execution_count": 29,
   "metadata": {},
   "outputs": [
    {
     "name": "stdout",
     "output_type": "stream",
     "text": [
      "0\n",
      "1\n",
      "3\n",
      "6\n",
      "6\n",
      "3\n"
     ]
    }
   ],
   "source": [
    "print(less_equal_than_in_an_array([1, 2, 2, 3, 3, 3], 0))\n",
    "print(less_equal_than_in_an_array([1, 2, 2, 3, 3, 3], 1))\n",
    "print(less_equal_than_in_an_array([1, 2, 2, 3, 3, 3], 2))\n",
    "print(less_equal_than_in_an_array([1, 2, 2, 3, 3, 3], 3))\n",
    "print(less_equal_than_in_an_array([1, 2, 2, 3, 3, 3], 4))\n",
    "print(less_equal_than_in_an_array([1, 2, 2, 3, 3, 3], 2.5))"
   ]
  },
  {
   "cell_type": "code",
   "execution_count": 30,
   "metadata": {},
   "outputs": [],
   "source": [
    "def less_equal_than(nums, val):\n",
    "    total = sum([len(num) for num in nums])\n",
    "    if total == 0:\n",
    "        return 0\n",
    "\n",
    "    count = 0\n",
    "    for num in nums:\n",
    "        count += less_equal_than_in_an_array(num, val)\n",
    "\n",
    "    return count"
   ]
  },
  {
   "cell_type": "code",
   "execution_count": 31,
   "metadata": {},
   "outputs": [
    {
     "data": {
      "text/plain": [
       "3"
      ]
     },
     "execution_count": 31,
     "metadata": {},
     "output_type": "execute_result"
    }
   ],
   "source": [
    "less_equal_than([[1, 5, 10], [2, 9, 19], [3, 5, 8, 11]], 3)"
   ]
  },
  {
   "cell_type": "code",
   "execution_count": 32,
   "metadata": {},
   "outputs": [],
   "source": [
    "def cal_range(nums):\n",
    "    total = sum([len(num) for num in nums])\n",
    "    if total == 0:\n",
    "        return (-1, -1)\n",
    "    start = min([num[0] for num in nums if num])\n",
    "    end = max([num[-1] for num in nums if num])\n",
    "\n",
    "    return start, end"
   ]
  },
  {
   "cell_type": "code",
   "execution_count": 33,
   "metadata": {},
   "outputs": [
    {
     "data": {
      "text/plain": [
       "(1, 19)"
      ]
     },
     "execution_count": 33,
     "metadata": {},
     "output_type": "execute_result"
    }
   ],
   "source": [
    "cal_range([[1, 5, 10], [2, 9, 19], [3, 5, 8, 11]])"
   ]
  },
  {
   "cell_type": "code",
   "execution_count": 34,
   "metadata": {},
   "outputs": [],
   "source": [
    "def findKthInArrays(nums, k):\n",
    "    total = sum([len(num) for num in nums])\n",
    "    if total == 0:\n",
    "        return 0\n",
    "    start, end = cal_range(nums)\n",
    "    while start <= end:\n",
    "        mid = start + (end - start) // 2\n",
    "        if less_equal_than(nums, mid) >= k:\n",
    "            end = mid - 1\n",
    "        else:\n",
    "            start = mid + 1\n",
    "    return start"
   ]
  },
  {
   "cell_type": "code",
   "execution_count": 35,
   "metadata": {},
   "outputs": [
    {
     "name": "stdout",
     "output_type": "stream",
     "text": [
      "1\n",
      "2\n",
      "3\n",
      "5\n",
      "5\n",
      "8\n"
     ]
    }
   ],
   "source": [
    "print(findKthInArrays([[1, 5, 10], [2, 9, 19], [3, 5, 8, 11]], 1))\n",
    "print(findKthInArrays([[1, 5, 10], [2, 9, 19], [3, 5, 8, 11]], 2))\n",
    "print(findKthInArrays([[1, 5, 10], [2, 9, 19], [3, 5, 8, 11]], 3))\n",
    "print(findKthInArrays([[1, 5, 10], [2, 9, 19], [3, 5, 8, 11]], 4))\n",
    "print(findKthInArrays([[1, 5, 10], [2, 9, 19], [3, 5, 8, 11]], 5))\n",
    "print(findKthInArrays([[1, 5, 10], [2, 9, 19], [3, 5, 8, 11]], 6))"
   ]
  },
  {
   "cell_type": "code",
   "execution_count": 36,
   "metadata": {},
   "outputs": [],
   "source": [
    "def findMedian(nums):\n",
    "    # write your code here\n",
    "    if not nums:\n",
    "        return\n",
    "\n",
    "    total = sum([len(num) for num in nums])\n",
    "    if total == 0:\n",
    "        return 0.00\n",
    "    if total & 1:\n",
    "        return findKthInArrays(nums, total // 2 + 1)\n",
    "    else:\n",
    "        return 1.0 * (findKthInArrays(nums, total // 2) + \\\n",
    "                      findKthInArrays(nums, total // 2 + 1)) / 2"
   ]
  },
  {
   "cell_type": "code",
   "execution_count": 37,
   "metadata": {},
   "outputs": [
    {
     "data": {
      "text/plain": [
       "6.5"
      ]
     },
     "execution_count": 37,
     "metadata": {},
     "output_type": "execute_result"
    }
   ],
   "source": [
    "nums = [[1, 5, 10], [2, 9, 19], [3, 5, 8, 11]]\n",
    "findMedian(nums)"
   ]
  },
  {
   "cell_type": "code",
   "execution_count": null,
   "metadata": {},
   "outputs": [],
   "source": []
  }
 ],
 "metadata": {
  "kernelspec": {
   "display_name": "Python 3",
   "language": "python",
   "name": "python3"
  },
  "language_info": {
   "codemirror_mode": {
    "name": "ipython",
    "version": 3
   },
   "file_extension": ".py",
   "mimetype": "text/x-python",
   "name": "python",
   "nbconvert_exporter": "python",
   "pygments_lexer": "ipython3",
   "version": "3.7.3"
  }
 },
 "nbformat": 4,
 "nbformat_minor": 2
}
