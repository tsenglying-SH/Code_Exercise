{
 "cells": [
  {
   "cell_type": "markdown",
   "metadata": {},
   "source": [
    "## translate the 2D problem in to 1D problem, time O(n^3), space O(n)"
   ]
  },
  {
   "cell_type": "code",
   "execution_count": 4,
   "metadata": {},
   "outputs": [],
   "source": [
    "def maxSubmatrix(matrix):\n",
    "    # write your code here\n",
    "    if not matrix or not matrix[0]:\n",
    "        return 0\n",
    "\n",
    "    m, n = len(matrix), len(matrix[0])\n",
    "    max_sum = matrix[0][0]\n",
    "\n",
    "    for start_row in range(m):\n",
    "        cur_row = n * [0]\n",
    "        for end_row in range(start_row, m):\n",
    "            cur_sum = 0\n",
    "            for col in range(n):\n",
    "                cur_row[col] += matrix[end_row][col]\n",
    "                if cur_sum < 0:\n",
    "                    cur_sum = 0\n",
    "                cur_sum += cur_row[col]\n",
    "                if cur_sum > max_sum:\n",
    "                    max_sum = cur_sum\n",
    "\n",
    "    return max_sum"
   ]
  },
  {
   "cell_type": "code",
   "execution_count": 5,
   "metadata": {},
   "outputs": [],
   "source": [
    "matrix = [\n",
    "    [1,3,-1],\n",
    "    [2,3,-2],\n",
    "    [-1,-2,-3]\n",
    "]"
   ]
  },
  {
   "cell_type": "code",
   "execution_count": 6,
   "metadata": {},
   "outputs": [
    {
     "data": {
      "text/plain": [
       "9"
      ]
     },
     "execution_count": 6,
     "metadata": {},
     "output_type": "execute_result"
    }
   ],
   "source": [
    "maxSubmatrix(matrix)"
   ]
  },
  {
   "cell_type": "code",
   "execution_count": null,
   "metadata": {},
   "outputs": [],
   "source": []
  }
 ],
 "metadata": {
  "kernelspec": {
   "display_name": "Python 3",
   "language": "python",
   "name": "python3"
  },
  "language_info": {
   "codemirror_mode": {
    "name": "ipython",
    "version": 3
   },
   "file_extension": ".py",
   "mimetype": "text/x-python",
   "name": "python",
   "nbconvert_exporter": "python",
   "pygments_lexer": "ipython3",
   "version": "3.7.3"
  }
 },
 "nbformat": 4,
 "nbformat_minor": 2
}
