{
 "cells": [
  {
   "cell_type": "code",
   "execution_count": 1,
   "metadata": {},
   "outputs": [],
   "source": [
    "import sys"
   ]
  },
  {
   "cell_type": "markdown",
   "metadata": {},
   "source": [
    "## DP method 1, time O(n ^ 2), space O(n ^ 2)"
   ]
  },
  {
   "cell_type": "code",
   "execution_count": 3,
   "metadata": {},
   "outputs": [],
   "source": [
    "def minimumTotal(triangle) -> int:\n",
    "    if not triangle or not triangle[0]:\n",
    "        return -1\n",
    "\n",
    "    n = len(triangle)\n",
    "    dp = [[0] * n for _ in range(n)]\n",
    "    dp[0][0] = triangle[0][0]\n",
    "    for i in range(1, n):\n",
    "        dp[i][0] = dp[i - 1][0] + triangle[i][0]\n",
    "\n",
    "    for i in range(1, n):\n",
    "        dp[i][i] = dp[i - 1][i - 1] + triangle[i][i]\n",
    "        for j in range(1, i):\n",
    "            dp[i][j] = triangle[i][j] + min(dp[i - 1][j], dp[i - 1][j - 1])\n",
    "\n",
    "    return min(dp[n - 1])"
   ]
  },
  {
   "cell_type": "code",
   "execution_count": 4,
   "metadata": {},
   "outputs": [],
   "source": [
    "triangle = [\n",
    "[2],\n",
    "[3,4],\n",
    "[6,5,7],\n",
    "[4,1,8,3]\n",
    "]"
   ]
  },
  {
   "cell_type": "code",
   "execution_count": 5,
   "metadata": {},
   "outputs": [
    {
     "data": {
      "text/plain": [
       "11"
      ]
     },
     "execution_count": 5,
     "metadata": {},
     "output_type": "execute_result"
    }
   ],
   "source": [
    "minimumTotal(triangle)"
   ]
  },
  {
   "cell_type": "markdown",
   "metadata": {},
   "source": [
    "## DP method 1, time O(n ^ 2), space O(n)"
   ]
  },
  {
   "cell_type": "code",
   "execution_count": 6,
   "metadata": {},
   "outputs": [],
   "source": [
    "def minimumTotal(triangle):\n",
    "    # write your code here\n",
    "    if not triangle or not triangle[0]:\n",
    "        return -1\n",
    "\n",
    "    n = len(triangle)\n",
    "    dp = [0] * n\n",
    "    dp[0] = triangle[0][0]\n",
    "\n",
    "    for i in range(1, n):\n",
    "        dp[i] = dp[i - 1] + triangle[i][i]\n",
    "        for j in range(i- 1, 0, -1):\n",
    "            dp[j] = triangle[i][j] + min(dp[j], dp[j - 1])\n",
    "        dp[0] += triangle[i][0]\n",
    "    # print(dp)\n",
    "    return min(dp)"
   ]
  },
  {
   "cell_type": "code",
   "execution_count": 7,
   "metadata": {},
   "outputs": [],
   "source": [
    "triangle = [\n",
    "[2],\n",
    "[3,4],\n",
    "[6,5,7],\n",
    "[4,1,8,3]\n",
    "]"
   ]
  },
  {
   "cell_type": "code",
   "execution_count": 8,
   "metadata": {},
   "outputs": [
    {
     "data": {
      "text/plain": [
       "11"
      ]
     },
     "execution_count": 8,
     "metadata": {},
     "output_type": "execute_result"
    }
   ],
   "source": [
    "minimumTotal(triangle)"
   ]
  },
  {
   "cell_type": "code",
   "execution_count": null,
   "metadata": {},
   "outputs": [],
   "source": []
  }
 ],
 "metadata": {
  "kernelspec": {
   "display_name": "Python 3",
   "language": "python",
   "name": "python3"
  },
  "language_info": {
   "codemirror_mode": {
    "name": "ipython",
    "version": 3
   },
   "file_extension": ".py",
   "mimetype": "text/x-python",
   "name": "python",
   "nbconvert_exporter": "python",
   "pygments_lexer": "ipython3",
   "version": "3.7.3"
  }
 },
 "nbformat": 4,
 "nbformat_minor": 2
}
