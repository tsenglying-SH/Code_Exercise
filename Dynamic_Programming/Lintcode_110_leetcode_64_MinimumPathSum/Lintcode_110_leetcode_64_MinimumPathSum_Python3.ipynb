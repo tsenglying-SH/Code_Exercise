{
 "cells": [
  {
   "cell_type": "markdown",
   "metadata": {},
   "source": [
    "## DP method, Time O(mn), Space O(mn)"
   ]
  },
  {
   "cell_type": "code",
   "execution_count": 1,
   "metadata": {},
   "outputs": [],
   "source": [
    "def minPathSum(grid):\n",
    "    # write your code here\n",
    "    if not grid or not grid[0]:\n",
    "            return -1\n",
    "        \n",
    "    m, n = len(grid), len(grid[0])\n",
    "    dp = [[0] * n for _ in range(m)]\n",
    "    dp[0][0] = grid[0][0]\n",
    "\n",
    "    for j in range(1, n):\n",
    "        dp[0][j] = dp[0][j - 1] + grid[0][j]\n",
    "\n",
    "    for i in range(1, m):\n",
    "        dp[i][0] = dp[i - 1][0] + grid[i][0]\n",
    "\n",
    "    for i in range(1, m):\n",
    "        for j in range(1, n):\n",
    "            dp[i][j] = grid[i][j] + min(dp[i - 1][j], dp[i][j - 1])\n",
    "\n",
    "    return dp[-1][-1]"
   ]
  },
  {
   "cell_type": "code",
   "execution_count": 2,
   "metadata": {},
   "outputs": [],
   "source": [
    "grid = [[1,3,1],[1,5,1],[4,2,1]]"
   ]
  },
  {
   "cell_type": "code",
   "execution_count": 3,
   "metadata": {},
   "outputs": [
    {
     "data": {
      "text/plain": [
       "7"
      ]
     },
     "execution_count": 3,
     "metadata": {},
     "output_type": "execute_result"
    }
   ],
   "source": [
    "minPathSum(grid)"
   ]
  },
  {
   "cell_type": "markdown",
   "metadata": {},
   "source": [
    "## DP method, in fact, space complexity is now reduced to O(n)"
   ]
  },
  {
   "cell_type": "code",
   "execution_count": 5,
   "metadata": {},
   "outputs": [],
   "source": [
    "def minPathSum(grid):\n",
    "    if not grid or not grid[0]:\n",
    "        return -1\n",
    "\n",
    "    m, n = len(grid), len(grid[0])\n",
    "    dp = [0] * n\n",
    "    dp[0] = grid[0][0]\n",
    "\n",
    "    for j in range(1, n):\n",
    "        dp[j] = dp[j - 1] + grid[0][j]\n",
    "\n",
    "    for i in range(1, m):\n",
    "        dp[0] += grid[i][0]\n",
    "        for j in range(1, n):\n",
    "            dp[j] = grid[i][j] + min(dp[j], dp[j - 1])\n",
    "    # print(dp)\n",
    "    return dp[-1]"
   ]
  },
  {
   "cell_type": "code",
   "execution_count": 6,
   "metadata": {},
   "outputs": [],
   "source": [
    "grid = [[1,3,1],[1,5,1],[4,2,1]]"
   ]
  },
  {
   "cell_type": "code",
   "execution_count": 7,
   "metadata": {},
   "outputs": [
    {
     "data": {
      "text/plain": [
       "7"
      ]
     },
     "execution_count": 7,
     "metadata": {},
     "output_type": "execute_result"
    }
   ],
   "source": [
    "minPathSum(grid)"
   ]
  },
  {
   "cell_type": "code",
   "execution_count": null,
   "metadata": {},
   "outputs": [],
   "source": []
  }
 ],
 "metadata": {
  "kernelspec": {
   "display_name": "Python 3",
   "language": "python",
   "name": "python3"
  },
  "language_info": {
   "codemirror_mode": {
    "name": "ipython",
    "version": 3
   },
   "file_extension": ".py",
   "mimetype": "text/x-python",
   "name": "python",
   "nbconvert_exporter": "python",
   "pygments_lexer": "ipython3",
   "version": "3.7.3"
  }
 },
 "nbformat": 4,
 "nbformat_minor": 2
}
