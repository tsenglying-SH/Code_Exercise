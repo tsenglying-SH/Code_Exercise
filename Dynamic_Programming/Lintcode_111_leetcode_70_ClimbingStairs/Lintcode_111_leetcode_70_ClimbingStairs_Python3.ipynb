{
 "cells": [
  {
   "cell_type": "markdown",
   "metadata": {},
   "source": [
    "## Fabonacci list method, time O(n), Space O(1)"
   ]
  },
  {
   "cell_type": "code",
   "execution_count": 5,
   "metadata": {},
   "outputs": [],
   "source": [
    "def climbStairs(n):\n",
    "    # write your code here\n",
    "    if n <= 0:\n",
    "        return 0\n",
    "\n",
    "    pre_cur = [0, 1]\n",
    "    for _ in range(n):\n",
    "        tmp = pre_cur[0]\n",
    "        pre_cur[0] = pre_cur[1]\n",
    "        pre_cur[1] = tmp + pre_cur[0]\n",
    "\n",
    "    return pre_cur[1]"
   ]
  },
  {
   "cell_type": "code",
   "execution_count": 6,
   "metadata": {},
   "outputs": [
    {
     "data": {
      "text/plain": [
       "8"
      ]
     },
     "execution_count": 6,
     "metadata": {},
     "output_type": "execute_result"
    }
   ],
   "source": [
    "climbStairs(5)"
   ]
  },
  {
   "cell_type": "markdown",
   "metadata": {},
   "source": [
    "## We can also use matrix （[[1, 1], [1, 0]]^n)[0][0] to calculate the number time O(logn), O(1)."
   ]
  },
  {
   "cell_type": "code",
   "execution_count": 5,
   "metadata": {},
   "outputs": [],
   "source": [
    "def climbStairs(n: int) -> int:\n",
    "    if n <= 0:\n",
    "        return 0\n",
    "\n",
    "    ans = fast_pow([[1, 1], [1, 0]], n)\n",
    "    return ans[0][0]\n",
    "    \n",
    "def matrix_product(m_a, m_b):\n",
    "    if not m_a or not m_a[0] or not m_b or not m_b[0] or len(m_a[0]) != len(m_b):\n",
    "        return\n",
    "    m, n, p = len(m_a), len(m_a[0]), len(m_b[0])\n",
    "\n",
    "    res = [[0] * p for _ in range(m)]\n",
    "    for i in range(m):\n",
    "        for j in range(p):\n",
    "            for k in range(n):\n",
    "                res[i][j] += m_a[i][k] * m_b[k][j]\n",
    "    return res\n",
    "\n",
    "def fast_pow(mat, n):\n",
    "    if n == 0:\n",
    "        return [[1, 0], [0, 1]]\n",
    "\n",
    "    if n == 1:\n",
    "        return mat\n",
    "\n",
    "    ans = [[1, 0], [0, 1]]\n",
    "    while n > 0:\n",
    "        if n & 1:\n",
    "            ans = matrix_product(ans, mat)\n",
    "        mat = matrix_product(mat, mat)\n",
    "        n >>= 1\n",
    "    return ans    "
   ]
  },
  {
   "cell_type": "code",
   "execution_count": 6,
   "metadata": {},
   "outputs": [
    {
     "data": {
      "text/plain": [
       "8"
      ]
     },
     "execution_count": 6,
     "metadata": {},
     "output_type": "execute_result"
    }
   ],
   "source": [
    "climbStairs(5)"
   ]
  },
  {
   "cell_type": "markdown",
   "metadata": {},
   "source": [
    "## And the most tricky method is an = 1/sqrt(5)(((sqrt(5) + 1)/ 2)^(n + 1) - ((sqrt(5) - 1)/ 2)^(n + 1)), time O(logn), O(1)"
   ]
  },
  {
   "cell_type": "code",
   "execution_count": 1,
   "metadata": {},
   "outputs": [],
   "source": [
    "def climbStairs(n: int) -> int:\n",
    "    if n <= 0:\n",
    "        return 0\n",
    "\n",
    "    sqrt5 = pow(5, 0.5)\n",
    "    res = 1.0 / sqrt5 * (pow((1 + sqrt5) / 2, n + 1) - pow((1 - sqrt5) / 2, n + 1))\n",
    "    return int(res)"
   ]
  },
  {
   "cell_type": "code",
   "execution_count": 2,
   "metadata": {},
   "outputs": [
    {
     "data": {
      "text/plain": [
       "8"
      ]
     },
     "execution_count": 2,
     "metadata": {},
     "output_type": "execute_result"
    }
   ],
   "source": [
    "climbStairs(5)"
   ]
  }
 ],
 "metadata": {
  "kernelspec": {
   "display_name": "Python 3",
   "language": "python",
   "name": "python3"
  },
  "language_info": {
   "codemirror_mode": {
    "name": "ipython",
    "version": 3
   },
   "file_extension": ".py",
   "mimetype": "text/x-python",
   "name": "python",
   "nbconvert_exporter": "python",
   "pygments_lexer": "ipython3",
   "version": "3.7.3"
  }
 },
 "nbformat": 4,
 "nbformat_minor": 2
}
