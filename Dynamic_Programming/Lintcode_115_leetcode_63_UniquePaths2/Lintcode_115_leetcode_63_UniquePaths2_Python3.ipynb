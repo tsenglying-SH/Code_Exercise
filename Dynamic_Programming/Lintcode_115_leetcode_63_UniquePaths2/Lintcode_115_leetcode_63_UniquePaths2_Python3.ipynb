{
 "cells": [
  {
   "cell_type": "markdown",
   "metadata": {},
   "source": [
    "## DP method, Time O(m * n), Space O(m * n)"
   ]
  },
  {
   "cell_type": "code",
   "execution_count": 4,
   "metadata": {},
   "outputs": [],
   "source": [
    "def uniquePathsWithObstacles(obstacleGrid):\n",
    "    # write your code here\n",
    "    if not obstacleGrid or not obstacleGrid[0]:\n",
    "        return -1\n",
    "    m, n = len(obstacleGrid), len(obstacleGrid[0])\n",
    "    dp = [[0] * n for _ in range(m)]\n",
    "\n",
    "    for j in range(n):\n",
    "        if obstacleGrid[0][j] == 0:\n",
    "            dp[0][j] = 1\n",
    "        else:\n",
    "            break\n",
    "\n",
    "    for i in range(m):\n",
    "        if obstacleGrid[i][0] == 0:\n",
    "            dp[i][0] = 1\n",
    "        else:\n",
    "            break\n",
    "\n",
    "    for i in range(1, m):\n",
    "        for j in range(1, n):\n",
    "            if obstacleGrid[i][j] == 0:\n",
    "                dp[i][j] = dp[i - 1][j] + dp[i][j - 1]\n",
    "            else:\n",
    "                dp[i][j] = 0\n",
    "    print(dp)\n",
    "    return dp[-1][-1]"
   ]
  },
  {
   "cell_type": "code",
   "execution_count": 5,
   "metadata": {},
   "outputs": [],
   "source": [
    "obstacleGrid = [[0,0,0],[0,0,1],[0,0,0],[0,0,0]]"
   ]
  },
  {
   "cell_type": "code",
   "execution_count": 6,
   "metadata": {},
   "outputs": [
    {
     "name": "stdout",
     "output_type": "stream",
     "text": [
      "[[1, 1, 1], [1, 2, 0], [1, 3, 3], [1, 4, 7]]\n"
     ]
    },
    {
     "data": {
      "text/plain": [
       "7"
      ]
     },
     "execution_count": 6,
     "metadata": {},
     "output_type": "execute_result"
    }
   ],
   "source": [
    "uniquePathsWithObstacles(obstacleGrid)"
   ]
  },
  {
   "cell_type": "markdown",
   "metadata": {},
   "source": [
    "## DP method, Time O(m * n), Space O(n)"
   ]
  },
  {
   "cell_type": "code",
   "execution_count": 9,
   "metadata": {},
   "outputs": [],
   "source": [
    "def uniquePathsWithObstacles(obstacleGrid):\n",
    "    if not obstacleGrid or not obstacleGrid[0]:\n",
    "            return -1\n",
    "        \n",
    "    m, n = len(obstacleGrid), len(obstacleGrid[0])\n",
    "\n",
    "    dp = [0] * n\n",
    "\n",
    "    for j in range(n):\n",
    "        if obstacleGrid[0][j] == 0:\n",
    "            dp[j] = 1\n",
    "        else:\n",
    "            break\n",
    "\n",
    "    for i in range(1, m):\n",
    "        if obstacleGrid[i][0] == 1:\n",
    "            dp[0] = 0\n",
    "        for j in range(1, n):\n",
    "            if obstacleGrid[i][j] == 0:\n",
    "                dp[j] = dp[j - 1] + dp[j]\n",
    "            else:\n",
    "                dp[j] = 0\n",
    "\n",
    "    return dp[-1]"
   ]
  },
  {
   "cell_type": "code",
   "execution_count": 10,
   "metadata": {},
   "outputs": [],
   "source": [
    "obstacleGrid = [[0,0,0],[0,0,1],[0,0,0],[0,0,0]]"
   ]
  },
  {
   "cell_type": "code",
   "execution_count": 11,
   "metadata": {},
   "outputs": [
    {
     "data": {
      "text/plain": [
       "7"
      ]
     },
     "execution_count": 11,
     "metadata": {},
     "output_type": "execute_result"
    }
   ],
   "source": [
    "uniquePathsWithObstacles(obstacleGrid)"
   ]
  },
  {
   "cell_type": "code",
   "execution_count": null,
   "metadata": {},
   "outputs": [],
   "source": []
  }
 ],
 "metadata": {
  "kernelspec": {
   "display_name": "Python 3",
   "language": "python",
   "name": "python3"
  },
  "language_info": {
   "codemirror_mode": {
    "name": "ipython",
    "version": 3
   },
   "file_extension": ".py",
   "mimetype": "text/x-python",
   "name": "python",
   "nbconvert_exporter": "python",
   "pygments_lexer": "ipython3",
   "version": "3.7.3"
  }
 },
 "nbformat": 4,
 "nbformat_minor": 2
}
