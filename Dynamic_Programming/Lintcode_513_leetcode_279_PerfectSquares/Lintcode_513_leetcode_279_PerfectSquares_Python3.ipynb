{
 "cells": [
  {
   "cell_type": "markdown",
   "metadata": {},
   "source": [
    "## Method of DP， O(n^1.5), Maybe TLE"
   ]
  },
  {
   "cell_type": "code",
   "execution_count": 43,
   "metadata": {},
   "outputs": [],
   "source": [
    "import sys"
   ]
  },
  {
   "cell_type": "code",
   "execution_count": 44,
   "metadata": {},
   "outputs": [],
   "source": [
    "def numSquares(n):\n",
    "    # write your code here\n",
    "    if n < 0:\n",
    "        return 0\n",
    "    if n  == 1 or n == 0:\n",
    "        return n\n",
    "\n",
    "    dp_table = [sys.maxsize] * (n + 1)\n",
    "    dp_table[0] = 0\n",
    "    dp_table[1] = 1\n",
    "    for i in range(1, n + 1):\n",
    "        for j in range(1, int(i ** 0.5) + 1):\n",
    "            if j * j <= i:\n",
    "                dp_table[i] = min(dp_table[i], dp_table[i - j * j] + 1)\n",
    "    # print(dp_table)\n",
    "    return dp_table[-1]"
   ]
  },
  {
   "cell_type": "code",
   "execution_count": 45,
   "metadata": {},
   "outputs": [
    {
     "data": {
      "text/plain": [
       "3"
      ]
     },
     "execution_count": 45,
     "metadata": {},
     "output_type": "execute_result"
    }
   ],
   "source": [
    "numSquares(12)"
   ]
  },
  {
   "cell_type": "markdown",
   "metadata": {},
   "source": [
    "## BFS 1, Time O(n^1.5),524ms, 30.4MB"
   ]
  },
  {
   "cell_type": "code",
   "execution_count": 46,
   "metadata": {},
   "outputs": [],
   "source": [
    "import sys\n",
    "from collections import deque\n",
    "def numSquares(n: int) -> int:\n",
    "    if n < 0:\n",
    "        return -1\n",
    "    count = 0\n",
    "    queue = deque([n])\n",
    "    while queue:\n",
    "        size = len(queue)\n",
    "        count += 1\n",
    "        for _ in range(size):\n",
    "            num = queue.popleft()\n",
    "            for i in range(int(num ** 0.5), 0, -1):\n",
    "                if num - i * i == 0:\n",
    "                    return count\n",
    "                queue.append(num - i * i)\n",
    "        # print(queue)      \n",
    "    return -1"
   ]
  },
  {
   "cell_type": "code",
   "execution_count": 47,
   "metadata": {
    "scrolled": true
   },
   "outputs": [
    {
     "data": {
      "text/plain": [
       "3"
      ]
     },
     "execution_count": 47,
     "metadata": {},
     "output_type": "execute_result"
    }
   ],
   "source": [
    "numSquares(12)"
   ]
  },
  {
   "cell_type": "markdown",
   "metadata": {},
   "source": [
    "## BFS 2, Time O(n^1.5),1268ms, 14MB"
   ]
  },
  {
   "cell_type": "code",
   "execution_count": 48,
   "metadata": {},
   "outputs": [],
   "source": [
    "import sys\n",
    "from collections import deque\n",
    "\n",
    "def numSquares(n: int) -> int:\n",
    "    # write your code here\n",
    "    if n < 0:\n",
    "        return -1\n",
    "\n",
    "    dp = [n] * (n + 1)\n",
    "    dp[0] = 0\n",
    "    queue = deque([0])\n",
    "    while queue:\n",
    "        # print(queue, dp)\n",
    "        num = queue.popleft()\n",
    "        if num == n:\n",
    "            break\n",
    "\n",
    "        for i in range(1, int((n - num) ** 0.5) + 1):\n",
    "            # only better path will be continued\n",
    "            if dp[num + i * i] > dp[num] + 1:\n",
    "                dp[num + i * i] = dp[num] + 1\n",
    "                queue.append(num + i * i)\n",
    "    return dp[n]"
   ]
  },
  {
   "cell_type": "code",
   "execution_count": 49,
   "metadata": {
    "scrolled": false
   },
   "outputs": [
    {
     "data": {
      "text/plain": [
       "3"
      ]
     },
     "execution_count": 49,
     "metadata": {},
     "output_type": "execute_result"
    }
   ],
   "source": [
    "numSquares(12)"
   ]
  },
  {
   "cell_type": "markdown",
   "metadata": {},
   "source": [
    "## 4 squares, time O(n ^ 0.5 + logn), 52ms, 14MB"
   ]
  },
  {
   "cell_type": "code",
   "execution_count": 50,
   "metadata": {},
   "outputs": [],
   "source": [
    "def numSquares2(n: int) -> int:\n",
    "    if n <= 0:\n",
    "        return -1\n",
    "    # O(logn)\n",
    "    while n % 4 == 0:\n",
    "        n //= 4\n",
    "\n",
    "    if n % 8 == 7:\n",
    "        return 4\n",
    "    \n",
    "    # O(n ^ 0.5)\n",
    "    for a in range(int(n ** 0.5) + 1):\n",
    "        b = int((n - a * a) ** 0.5)\n",
    "        if a * a  + b * b == n:\n",
    "            return int(a != 0) + int(b != 0)\n",
    "\n",
    "    return 3"
   ]
  },
  {
   "cell_type": "code",
   "execution_count": 51,
   "metadata": {},
   "outputs": [
    {
     "data": {
      "text/plain": [
       "3"
      ]
     },
     "execution_count": 51,
     "metadata": {},
     "output_type": "execute_result"
    }
   ],
   "source": [
    "numSquares2(12)"
   ]
  },
  {
   "cell_type": "code",
   "execution_count": null,
   "metadata": {},
   "outputs": [],
   "source": []
  }
 ],
 "metadata": {
  "kernelspec": {
   "display_name": "Python 3",
   "language": "python",
   "name": "python3"
  },
  "language_info": {
   "codemirror_mode": {
    "name": "ipython",
    "version": 3
   },
   "file_extension": ".py",
   "mimetype": "text/x-python",
   "name": "python",
   "nbconvert_exporter": "python",
   "pygments_lexer": "ipython3",
   "version": "3.7.3"
  }
 },
 "nbformat": 4,
 "nbformat_minor": 2
}
