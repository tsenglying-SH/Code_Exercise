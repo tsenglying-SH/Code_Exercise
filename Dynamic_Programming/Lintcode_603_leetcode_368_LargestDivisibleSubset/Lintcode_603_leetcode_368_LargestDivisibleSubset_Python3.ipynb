{
 "cells": [
  {
   "cell_type": "markdown",
   "metadata": {},
   "source": [
    "## linear DP, Time O(n^2), Space O(n)"
   ]
  },
  {
   "cell_type": "code",
   "execution_count": 4,
   "metadata": {},
   "outputs": [],
   "source": [
    "def largestDivisibleSubset(nums):\n",
    "    # corner case\n",
    "    if not nums:\n",
    "        return []\n",
    "\n",
    "    # must sort it!\n",
    "    nums.sort()\n",
    "\n",
    "    n = len(nums)\n",
    "    # dp[i] means the maximum length of the subset end with nums[i]\n",
    "    dp = [0] * n\n",
    "    # record the relations between every elements, used to backtrack and output the final result\n",
    "    sons = [-1] * n\n",
    "\n",
    "    max_length = 0\n",
    "    max_idx = -1\n",
    "\n",
    "    # regard the elements in nums as the largest elements in the subsets\n",
    "    for i in range(n):\n",
    "        dp[i] = 1\n",
    "        sons[i] = -1\n",
    "        # if some element smaller and nums[i] % nums[j] == 0, try to build a new and larger subsets!\n",
    "        for j in range(i):\n",
    "            if nums[i] % nums[j] == 0 and dp[i] < dp[j] + 1:\n",
    "                dp[i] = dp[j] + 1\n",
    "                sons[i] = j\n",
    "\n",
    "        # update the answer if the current subset is really bigger\n",
    "        if dp[i] > max_length:\n",
    "            max_length = dp[i]\n",
    "            max_idx = i\n",
    "    # backtrack and output the result\n",
    "    res = []    \n",
    "    for _ in range(max_length):\n",
    "        res.append(nums[max_idx])\n",
    "        max_idx = sons[max_idx]\n",
    "\n",
    "    return res"
   ]
  },
  {
   "cell_type": "code",
   "execution_count": 5,
   "metadata": {
    "scrolled": true
   },
   "outputs": [
    {
     "data": {
      "text/plain": [
       "[6, 3]"
      ]
     },
     "execution_count": 5,
     "metadata": {},
     "output_type": "execute_result"
    }
   ],
   "source": [
    "largestDivisibleSubset([3, 6, 9])"
   ]
  },
  {
   "cell_type": "code",
   "execution_count": null,
   "metadata": {},
   "outputs": [],
   "source": []
  }
 ],
 "metadata": {
  "kernelspec": {
   "display_name": "Python 3",
   "language": "python",
   "name": "python3"
  },
  "language_info": {
   "codemirror_mode": {
    "name": "ipython",
    "version": 3
   },
   "file_extension": ".py",
   "mimetype": "text/x-python",
   "name": "python",
   "nbconvert_exporter": "python",
   "pygments_lexer": "ipython3",
   "version": "3.7.3"
  }
 },
 "nbformat": 4,
 "nbformat_minor": 2
}
