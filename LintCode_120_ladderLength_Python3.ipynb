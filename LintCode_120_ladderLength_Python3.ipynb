{
 "cells": [
  {
   "cell_type": "markdown",
   "metadata": {},
   "source": [
    "## 第一反应 寻找next word时间复杂度O(nm),m为词长，n为dict size,提交超时"
   ]
  },
  {
   "cell_type": "code",
   "execution_count": 1,
   "metadata": {},
   "outputs": [],
   "source": [
    "def countdiff(word1, word2):\n",
    "    count = 0\n",
    "    if len(word1) != len(word2):\n",
    "        return None\n",
    "    for i in range(len(word1)):\n",
    "        if word1[i] != word2[i]:\n",
    "            count += 1\n",
    "    return count"
   ]
  },
  {
   "cell_type": "code",
   "execution_count": 2,
   "metadata": {},
   "outputs": [],
   "source": [
    "def ladderlength(start, end, dict1):\n",
    "    queue = [[start]]\n",
    "    seen = set()\n",
    "    dict1.append(end)\n",
    "    while queue:\n",
    "        path = queue.pop(0)\n",
    "        node = path[-1]\n",
    "        seen.add(node)\n",
    "        if node == end:\n",
    "            return len(path)\n",
    "        for word in dict1:\n",
    "            if countdiff(node, word) == 1:\n",
    "                queue.append(path + [word])\n",
    "                dict1.remove(word)\n",
    "    return 0"
   ]
  },
  {
   "cell_type": "code",
   "execution_count": 3,
   "metadata": {},
   "outputs": [],
   "source": [
    "start = \"a\"\n",
    "end = \"c\"\n",
    "dict1 =[\"a\",\"b\",\"c\"]"
   ]
  },
  {
   "cell_type": "code",
   "execution_count": 4,
   "metadata": {},
   "outputs": [
    {
     "data": {
      "text/plain": [
       "2"
      ]
     },
     "execution_count": 4,
     "metadata": {},
     "output_type": "execute_result"
    }
   ],
   "source": [
    "ladderlength(start, end, dict1)"
   ]
  },
  {
   "cell_type": "code",
   "execution_count": 5,
   "metadata": {},
   "outputs": [],
   "source": [
    "start =\"hit\"\n",
    "end = \"cog\"\n",
    "dict1 =[\"hot\",\"dot\",\"dog\",\"lot\",\"log\"]"
   ]
  },
  {
   "cell_type": "code",
   "execution_count": 6,
   "metadata": {},
   "outputs": [
    {
     "data": {
      "text/plain": [
       "5"
      ]
     },
     "execution_count": 6,
     "metadata": {},
     "output_type": "execute_result"
    }
   ],
   "source": [
    "ladderlength(start, end, dict1)"
   ]
  },
  {
   "cell_type": "markdown",
   "metadata": {},
   "source": [
    "## 改进后 寻找next word时间复杂度O(26 * m)"
   ]
  },
  {
   "cell_type": "code",
   "execution_count": 7,
   "metadata": {},
   "outputs": [],
   "source": [
    "def validword(word):\n",
    "    word_list = set()\n",
    "    for i in range(len(word)):\n",
    "        left, right = word[ : i], word[i + 1:]\n",
    "        for char in \"abcdefghijklmnopqrstuvwxyz\":\n",
    "            if word[i] == char:\n",
    "                continue\n",
    "            word_list.add(left + char + right)\n",
    "    return word_list"
   ]
  },
  {
   "cell_type": "code",
   "execution_count": 8,
   "metadata": {},
   "outputs": [],
   "source": [
    "def ladderlength(start, end, dict1):\n",
    "    queue = [[start]]\n",
    "    seen = set()\n",
    "    dict1.add(end)\n",
    "    while queue:\n",
    "        path = queue.pop(0)\n",
    "        node = path[-1]\n",
    "        seen.add(node)\n",
    "        if node == end:\n",
    "            return len(path)\n",
    "        to_subtract = set()\n",
    "        for word in validword(node):\n",
    "            if word in dict1:\n",
    "                queue.append(path + [word])\n",
    "                to_subtract.add(word)\n",
    "        dict1 -= to_subtract\n",
    "    return 0"
   ]
  },
  {
   "cell_type": "code",
   "execution_count": 9,
   "metadata": {},
   "outputs": [],
   "source": [
    "start = \"a\"\n",
    "end = \"c\"\n",
    "dict1 ={\"a\",\"b\",\"c\"}"
   ]
  },
  {
   "cell_type": "code",
   "execution_count": 10,
   "metadata": {},
   "outputs": [
    {
     "data": {
      "text/plain": [
       "2"
      ]
     },
     "execution_count": 10,
     "metadata": {},
     "output_type": "execute_result"
    }
   ],
   "source": [
    "ladderlength(start, end, dict1)"
   ]
  },
  {
   "cell_type": "code",
   "execution_count": 11,
   "metadata": {},
   "outputs": [],
   "source": [
    "start =\"hit\"\n",
    "end = \"cog\"\n",
    "dict1 ={\"hot\",\"dot\",\"dog\",\"lot\",\"log\"}"
   ]
  },
  {
   "cell_type": "code",
   "execution_count": 12,
   "metadata": {},
   "outputs": [
    {
     "data": {
      "text/plain": [
       "5"
      ]
     },
     "execution_count": 12,
     "metadata": {},
     "output_type": "execute_result"
    }
   ],
   "source": [
    "ladderlength(start, end, dict1)"
   ]
  },
  {
   "cell_type": "markdown",
   "metadata": {},
   "source": [
    "## 官方题解，参考lintcode 九章算法 令狐冲老师代码，搜索更为高效"
   ]
  },
  {
   "cell_type": "code",
   "execution_count": 13,
   "metadata": {},
   "outputs": [],
   "source": [
    "from collections import deque"
   ]
  },
  {
   "cell_type": "code",
   "execution_count": 14,
   "metadata": {},
   "outputs": [],
   "source": [
    "def validword(word):\n",
    "    word_list = set()\n",
    "    for i in range(len(word)):\n",
    "        left, right = word[ : i], word[i + 1:]\n",
    "        for char in \"abcdefghijklmnopqrstuvwxyz\":\n",
    "            if word[i] == char:\n",
    "                continue\n",
    "            word_list.add(left + char + right)\n",
    "    return word_list"
   ]
  },
  {
   "cell_type": "code",
   "execution_count": 15,
   "metadata": {},
   "outputs": [],
   "source": [
    "def ladderlength(start, end, dict1):\n",
    "    queue = deque([start])\n",
    "    seen = set([start])\n",
    "    dict1.add(end)\n",
    "    distance = 0\n",
    "    while queue:\n",
    "        distance += 1\n",
    "        for i in range(len(queue)):\n",
    "            word = queue.popleft()\n",
    "            \n",
    "            if word == end:\n",
    "                return distance\n",
    "            \n",
    "            for nextword in validword(word):\n",
    "                if nextword not in dict1 or nextword in seen:\n",
    "                    continue\n",
    "                queue.append(nextword)\n",
    "                dict1.remove(nextword)\n",
    "    return 0"
   ]
  },
  {
   "cell_type": "code",
   "execution_count": 16,
   "metadata": {},
   "outputs": [],
   "source": [
    "start = \"a\"\n",
    "end = \"c\"\n",
    "dict1 ={\"a\",\"b\",\"c\"}"
   ]
  },
  {
   "cell_type": "code",
   "execution_count": 17,
   "metadata": {},
   "outputs": [
    {
     "data": {
      "text/plain": [
       "2"
      ]
     },
     "execution_count": 17,
     "metadata": {},
     "output_type": "execute_result"
    }
   ],
   "source": [
    "ladderlength(start, end, dict1)"
   ]
  },
  {
   "cell_type": "code",
   "execution_count": 18,
   "metadata": {},
   "outputs": [],
   "source": [
    "start =\"hit\"\n",
    "end = \"cog\"\n",
    "dict1 ={\"hot\",\"dot\",\"dog\",\"lot\",\"log\"}"
   ]
  },
  {
   "cell_type": "code",
   "execution_count": 19,
   "metadata": {},
   "outputs": [
    {
     "data": {
      "text/plain": [
       "5"
      ]
     },
     "execution_count": 19,
     "metadata": {},
     "output_type": "execute_result"
    }
   ],
   "source": [
    "ladderlength(start, end, dict1)"
   ]
  },
  {
   "cell_type": "code",
   "execution_count": null,
   "metadata": {},
   "outputs": [],
   "source": []
  }
 ],
 "metadata": {
  "kernelspec": {
   "display_name": "Python 3",
   "language": "python",
   "name": "python3"
  },
  "language_info": {
   "codemirror_mode": {
    "name": "ipython",
    "version": 3
   },
   "file_extension": ".py",
   "mimetype": "text/x-python",
   "name": "python",
   "nbconvert_exporter": "python",
   "pygments_lexer": "ipython3",
   "version": "3.7.3"
  }
 },
 "nbformat": 4,
 "nbformat_minor": 2
}
