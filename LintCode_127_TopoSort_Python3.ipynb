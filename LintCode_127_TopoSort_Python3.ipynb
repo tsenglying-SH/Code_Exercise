{
 "cells": [
  {
   "cell_type": "markdown",
   "metadata": {},
   "source": [
    "Answer2"
   ]
  },
  {
   "cell_type": "code",
   "execution_count": null,
   "metadata": {},
   "outputs": [],
   "source": [
    "\"\"\"\n",
    "Definition for a Directed graph node\n",
    "class DirectedGraphNode:\n",
    "    def __init__(self, x):\n",
    "        self.label = x\n",
    "        self.neighbors = []\n",
    "\"\"\"\n",
    "\n",
    "from collections import deque\n",
    "class Solution:\n",
    "    \"\"\"\n",
    "    @param: graph: A list of Directed graph node\n",
    "    @return: Any topological order for the given graph.\n",
    "    \"\"\"\n",
    "    def topSort(self, graph):\n",
    "        # write your code here\n",
    "        if not graph:\n",
    "            return []\n",
    "        \n",
    "        degrees = {node:0 for node in graph}\n",
    "        for node in graph:\n",
    "            for neighbor in node.neighbors:\n",
    "                degrees[neighbor] += 1\n",
    "        \n",
    "        queue = deque([node for node in degrees if degrees[node] == 0])\n",
    "        topo_order = []\n",
    "        while queue:\n",
    "            pop_node = queue.popleft()\n",
    "            topo_order.append(pop_node)\n",
    "            for des in pop_node.neighbors:\n",
    "                degrees[des] -= 1\n",
    "                if degrees[des] == 0:\n",
    "                    queue.append(des)\n",
    "        return topo_order"
   ]
  },
  {
   "cell_type": "markdown",
   "metadata": {},
   "source": [
    "Answer1， 原来是叫我返回node对象的列表，我以为是编号列表呢-。-"
   ]
  },
  {
   "cell_type": "code",
   "execution_count": null,
   "metadata": {},
   "outputs": [],
   "source": [
    "from collections import deque\n",
    "\n",
    "class Solution:\n",
    "\n",
    "    \"\"\"\n",
    "    @param: graph: A list of Directed graph node\n",
    "    @return: Any topological order for the given graph.\n",
    "    \"\"\"\n",
    "    def topSort(self, graph):\n",
    "        # write your code here\n",
    "        if not graph:\n",
    "            return []\n",
    "        \n",
    "        #label_to_node = [(node.label):node for node in graph]\n",
    "        graph_dict = self.graph_dict(graph)\n",
    "        print(graph_dict)\n",
    "        degrees_dict = self.degrees_dict(graph_dict)\n",
    "        print(degrees_dict)\n",
    "        \n",
    "        queue = deque([node for node in degrees_dict if degrees_dict[node] == 0])\n",
    "        print(queue)\n",
    "        topo_order = []\n",
    "        while queue:\n",
    "            pop_node = queue.popleft()\n",
    "            topo_order.append(pop_node)\n",
    "            for des in graph_dict[pop_node]:\n",
    "                degrees_dict[des] -= 1\n",
    "                if degrees_dict[des] == 0:\n",
    "                    queue.append(des)\n",
    "        results = [graph[i] for i in topo_order]\n",
    "        return results\n",
    "        #results = [label_to_node[label] for label in topo_order]\n",
    "        #return results\n",
    "        \n",
    "    def graph_dict(self, graph):\n",
    "        graph_dict = {}\n",
    "        for node in graph:\n",
    "            graph_dict[node.label] = [des.label for des in node.neighbors]\n",
    "        return graph_dict\n",
    "        \n",
    "    def degrees_dict(self, graph_dict):\n",
    "        degrees_dict ={node:0 for node in graph_dict}\n",
    "        for node in graph_dict:\n",
    "            for des in graph_dict[node]:\n",
    "                degrees_dict[des] += 1\n",
    "        return degrees_dict"
   ]
  },
  {
   "cell_type": "code",
   "execution_count": null,
   "metadata": {},
   "outputs": [],
   "source": []
  }
 ],
 "metadata": {
  "kernelspec": {
   "display_name": "Python 3",
   "language": "python",
   "name": "python3"
  },
  "language_info": {
   "codemirror_mode": {
    "name": "ipython",
    "version": 3
   },
   "file_extension": ".py",
   "mimetype": "text/x-python",
   "name": "python",
   "nbconvert_exporter": "python",
   "pygments_lexer": "ipython3",
   "version": "3.7.3"
  }
 },
 "nbformat": 4,
 "nbformat_minor": 2
}
