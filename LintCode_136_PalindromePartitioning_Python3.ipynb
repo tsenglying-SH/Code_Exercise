{
 "cells": [
  {
   "cell_type": "markdown",
   "metadata": {},
   "source": [
    "## 参考九章算法题解"
   ]
  },
  {
   "cell_type": "code",
   "execution_count": 5,
   "metadata": {},
   "outputs": [],
   "source": [
    "def partition(s):\n",
    "    # write your code here\n",
    "    result = []\n",
    "\n",
    "    def dfs(result, stringlist, s, idx):\n",
    "        if (idx == len(s)):\n",
    "            result.append(stringlist[:])\n",
    "            return\n",
    "\n",
    "        for i in range(idx + 1, len(s) + 1):\n",
    "            if is_palindrome(s[idx: i]):\n",
    "                stringlist.append(s[idx:i])\n",
    "                dfs(result, stringlist, s, i )\n",
    "                del stringlist[-1]\n",
    "\n",
    "    def is_palindrome(s):\n",
    "        if s == s[::-1]:\n",
    "            return True\n",
    "        return False\n",
    "\n",
    "    dfs(result, [], s, 0)\n",
    "    return result"
   ]
  },
  {
   "cell_type": "code",
   "execution_count": 6,
   "metadata": {},
   "outputs": [
    {
     "data": {
      "text/plain": [
       "[['a', 'b', 'b', 'c', 'c'],\n",
       " ['a', 'b', 'b', 'cc'],\n",
       " ['a', 'bb', 'c', 'c'],\n",
       " ['a', 'bb', 'cc']]"
      ]
     },
     "execution_count": 6,
     "metadata": {},
     "output_type": "execute_result"
    }
   ],
   "source": [
    "partition(\"abbcc\")"
   ]
  },
  {
   "cell_type": "code",
   "execution_count": null,
   "metadata": {},
   "outputs": [],
   "source": []
  }
 ],
 "metadata": {
  "kernelspec": {
   "display_name": "Python 3",
   "language": "python",
   "name": "python3"
  },
  "language_info": {
   "codemirror_mode": {
    "name": "ipython",
    "version": 3
   },
   "file_extension": ".py",
   "mimetype": "text/x-python",
   "name": "python",
   "nbconvert_exporter": "python",
   "pygments_lexer": "ipython3",
   "version": "3.7.3"
  }
 },
 "nbformat": 4,
 "nbformat_minor": 2
}
