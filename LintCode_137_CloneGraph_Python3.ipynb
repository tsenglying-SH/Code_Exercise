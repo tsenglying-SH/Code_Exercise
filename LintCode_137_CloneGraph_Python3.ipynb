{
 "cells": [
  {
   "cell_type": "markdown",
   "metadata": {},
   "source": [
    "### BFS，看上去很简单的题写了2小时 T_T"
   ]
  },
  {
   "cell_type": "markdown",
   "metadata": {},
   "source": [
    "\"\"\"\n",
    "Definition for a undirected graph node\n",
    "class UndirectedGraphNode:\n",
    "    def __init__(self, x):\n",
    "        self.label = x\n",
    "        self.neighbors = []\n",
    "\"\"\"\n",
    "\n",
    "from collections import deque\n",
    "class Solution:\n",
    "    \"\"\"\n",
    "    @param: node: A undirected graph node\n",
    "    @return: A undirected graph node\n",
    "    \"\"\"\n",
    "    def cloneGraph(self, node):\n",
    "        # write your code here\n",
    "        if not node:\n",
    "            return\n",
    "        node_copy = UndirectedGraphNode(node.label)\n",
    "        old_new = {node: node_copy}\n",
    "        queue = deque([node])\n",
    "        while queue:\n",
    "            pop_node = queue.popleft()\n",
    "            for neighbor in pop_node.neighbors:\n",
    "                if neighbor not in old_new:\n",
    "                    neighbor_copy = UndirectedGraphNode(neighbor.label)\n",
    "                    old_new[neighbor] = neighbor_copy\n",
    "                    old_new[pop_node].neighbors.append(neighbor_copy)\n",
    "                    queue.append(neighbor)\n",
    "                else:\n",
    "                    old_new[pop_node].neighbors.append(old_new[neighbor])\n",
    "                    \n",
    "        return node_copy"
   ]
  },
  {
   "cell_type": "markdown",
   "metadata": {},
   "source": [
    "### recursive，比较tricky，面试还是用BFS吧"
   ]
  },
  {
   "cell_type": "markdown",
   "metadata": {},
   "source": [
    "\"\"\"\n",
    "Definition for a undirected graph node\n",
    "class UndirectedGraphNode:\n",
    "    def __init__(self, x):\n",
    "        self.label = x\n",
    "        self.neighbors = []\n",
    "\"\"\"\n",
    "\n",
    "\n",
    "class Solution:\n",
    "\n",
    "    def __init__(self):\n",
    "        self.dict = {}\n",
    "        \n",
    "    \"\"\"\n",
    "    @param: node: A undirected graph node\n",
    "    @return: A undirected graph node\n",
    "    \"\"\"\n",
    "    def cloneGraph(self, node):\n",
    "        if node is None:\n",
    "            return None\n",
    "            \n",
    "        if node.label in self.dict:\n",
    "            return self.dict[node.label]\n",
    "            \n",
    "        root = UndirectedGraphNode(node.label)\n",
    "        self.dict[node.label] = root\n",
    "        for item in node.neighbors:\n",
    "            root.neighbors.append(self.cloneGraph(item))\n",
    "\n",
    "        return root"
   ]
  },
  {
   "cell_type": "code",
   "execution_count": null,
   "metadata": {},
   "outputs": [],
   "source": []
  }
 ],
 "metadata": {
  "kernelspec": {
   "display_name": "Python 3",
   "language": "python",
   "name": "python3"
  },
  "language_info": {
   "codemirror_mode": {
    "name": "ipython",
    "version": 3
   },
   "file_extension": ".py",
   "mimetype": "text/x-python",
   "name": "python",
   "nbconvert_exporter": "python",
   "pygments_lexer": "ipython3",
   "version": "3.7.3"
  }
 },
 "nbformat": 4,
 "nbformat_minor": 2
}
