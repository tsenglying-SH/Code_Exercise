{
 "cells": [
  {
   "cell_type": "markdown",
   "metadata": {},
   "source": [
    "可以循环实现，也可以递归实现\n",
    "\n",
    "关键是%运算的一些性质：\n",
    "\n",
    "模运算与基本四则运算有些相似，但是除法例外。其规则如下：\n",
    "\n",
    "(a + b) % p = (a % p + b % p) % p （1）\n",
    "\n",
    "(a - b) % p = (a % p - b % p) % p （2）\n",
    "\n",
    "(a * b) % p = (a % p * b % p) % p （3）\n",
    "\n",
    "a ^ b % p = ((a % p)^b) % p （4）\n",
    "\n",
    "结合律：\n",
    "\n",
    "((a+b) % p + c) % p = (a + (b+c) % p) % p （5）\n",
    "\n",
    "((a*b) % p * c)% p = (a * (b*c) % p) % p （6）\n",
    "\n",
    "交换律：\n",
    "\n",
    "(a + b) % p = (b+a) % p （7）\n",
    "\n",
    "(a * b) % p = (b * a) % p （8）\n",
    "\n",
    "分配律：\n",
    "\n",
    "(a+b) % p = ( a % p + b % p ) % p （9）\n",
    "\n",
    "((a +b)% p * c) % p = ((a * c) % p + (b * c) % p) % p （10）"
   ]
  },
  {
   "cell_type": "markdown",
   "metadata": {},
   "source": [
    "循环，比较搞脑子"
   ]
  },
  {
   "cell_type": "code",
   "execution_count": 13,
   "metadata": {},
   "outputs": [],
   "source": [
    "def fastPower(a,b,n):\n",
    "    ans = 1 % b\n",
    "    while n > 0:\n",
    "        if n % 2 == 1:\n",
    "            ans = (ans * (a % b)) % b\n",
    "        a = (a * a) % b\n",
    "        n //= 2\n",
    "    return ans"
   ]
  },
  {
   "cell_type": "code",
   "execution_count": 14,
   "metadata": {},
   "outputs": [
    {
     "data": {
      "text/plain": [
       "2"
      ]
     },
     "execution_count": 14,
     "metadata": {},
     "output_type": "execute_result"
    }
   ],
   "source": [
    "fastPower(2,3,31)"
   ]
  },
  {
   "cell_type": "code",
   "execution_count": 15,
   "metadata": {},
   "outputs": [
    {
     "data": {
      "text/plain": [
       "0"
      ]
     },
     "execution_count": 15,
     "metadata": {},
     "output_type": "execute_result"
    }
   ],
   "source": [
    "fastPower(100,1000,1000)"
   ]
  },
  {
   "cell_type": "markdown",
   "metadata": {},
   "source": [
    "递归的时间复杂度貌似很捉急"
   ]
  },
  {
   "cell_type": "code",
   "execution_count": 16,
   "metadata": {},
   "outputs": [],
   "source": [
    "def fastPower(a,b,n):\n",
    "    if n == 0:\n",
    "        return 1 % b\n",
    "    if n == 1:\n",
    "        return a % b\n",
    "    if n % 2 == 1:\n",
    "        return (fastPower(a,b,n // 2) * fastPower(a,b,n//2 + 1)) % b\n",
    "    else:\n",
    "        return (fastPower(a,b,n // 2) * fastPower(a,b,n//2)) % b"
   ]
  },
  {
   "cell_type": "code",
   "execution_count": 17,
   "metadata": {},
   "outputs": [
    {
     "data": {
      "text/plain": [
       "2"
      ]
     },
     "execution_count": 17,
     "metadata": {},
     "output_type": "execute_result"
    }
   ],
   "source": [
    "fastPower(2,3,31)"
   ]
  },
  {
   "cell_type": "code",
   "execution_count": 18,
   "metadata": {},
   "outputs": [
    {
     "data": {
      "text/plain": [
       "0"
      ]
     },
     "execution_count": 18,
     "metadata": {},
     "output_type": "execute_result"
    }
   ],
   "source": [
    "fastPower(100,1000,1000)"
   ]
  },
  {
   "cell_type": "code",
   "execution_count": null,
   "metadata": {},
   "outputs": [],
   "source": []
  }
 ],
 "metadata": {
  "kernelspec": {
   "display_name": "Python 3",
   "language": "python",
   "name": "python3"
  },
  "language_info": {
   "codemirror_mode": {
    "name": "ipython",
    "version": 3
   },
   "file_extension": ".py",
   "mimetype": "text/x-python",
   "name": "python",
   "nbconvert_exporter": "python",
   "pygments_lexer": "ipython3",
   "version": "3.7.1"
  }
 },
 "nbformat": 4,
 "nbformat_minor": 2
}
