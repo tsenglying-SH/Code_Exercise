{
 "cells": [
  {
   "cell_type": "code",
   "execution_count": 10,
   "metadata": {},
   "outputs": [],
   "source": [
    "def sortColors2(colors, k):\n",
    "    # write your code here\n",
    "    helper(colors, 0, len(colors) - 1, 1, k)\n",
    "def helper(colors, start, end, c1, c2):\n",
    "    if start >= end or c1 >= c2:\n",
    "        return\n",
    "    left, right = start, end\n",
    "    pivot = (c1 + c2) // 2\n",
    "    while left <= right:\n",
    "        print(colors, left, right, c1, c2,pivot)\n",
    "        while left <= right and colors[left] <= pivot: #由于递归条件有pivot + 1,所以右半部分不能包括等于pivot的元素故有个等号\n",
    "            left += 1\n",
    "        while left <= right and colors[right] > pivot:\n",
    "            right -= 1\n",
    "        print(left, right)\n",
    "        if left <= right:\n",
    "            colors[left], colors[right] = colors[right], colors[left]\n",
    "            left += 1\n",
    "            right -= 1\n",
    "    helper(colors, start, right, c1, pivot)\n",
    "    helper(colors, left, end, pivot + 1, c2) #因为要递归，所以pivot + 1,否则无限循环"
   ]
  },
  {
   "cell_type": "code",
   "execution_count": 11,
   "metadata": {},
   "outputs": [],
   "source": [
    "nums = [2,1,1,2,2]"
   ]
  },
  {
   "cell_type": "code",
   "execution_count": 12,
   "metadata": {},
   "outputs": [],
   "source": [
    "k = 2"
   ]
  },
  {
   "cell_type": "code",
   "execution_count": 13,
   "metadata": {},
   "outputs": [
    {
     "name": "stdout",
     "output_type": "stream",
     "text": [
      "[2, 1, 1, 2, 2] 0 4 1 2 1\n",
      "0 2\n",
      "[1, 1, 2, 2, 2] 1 1 1 2 1\n",
      "2 1\n"
     ]
    }
   ],
   "source": [
    "sortColors2(nums,k)"
   ]
  },
  {
   "cell_type": "code",
   "execution_count": 14,
   "metadata": {},
   "outputs": [
    {
     "data": {
      "text/plain": [
       "[1, 1, 2, 2, 2]"
      ]
     },
     "execution_count": 14,
     "metadata": {},
     "output_type": "execute_result"
    }
   ],
   "source": [
    "nums"
   ]
  },
  {
   "cell_type": "code",
   "execution_count": 15,
   "metadata": {},
   "outputs": [],
   "source": [
    "nums = [3,2,3,3,4,3,3,2,4,4,1,2,1,1,1,3,4,3,4,2]"
   ]
  },
  {
   "cell_type": "code",
   "execution_count": 16,
   "metadata": {},
   "outputs": [],
   "source": [
    "k = 4"
   ]
  },
  {
   "cell_type": "code",
   "execution_count": 17,
   "metadata": {
    "scrolled": true
   },
   "outputs": [
    {
     "name": "stdout",
     "output_type": "stream",
     "text": [
      "[3, 2, 3, 3, 4, 3, 3, 2, 4, 4, 1, 2, 1, 1, 1, 3, 4, 3, 4, 2] 0 19 1 4 2\n",
      "0 19\n",
      "[2, 2, 3, 3, 4, 3, 3, 2, 4, 4, 1, 2, 1, 1, 1, 3, 4, 3, 4, 3] 1 18 1 4 2\n",
      "2 14\n",
      "[2, 2, 1, 3, 4, 3, 3, 2, 4, 4, 1, 2, 1, 1, 3, 3, 4, 3, 4, 3] 3 13 1 4 2\n",
      "3 13\n",
      "[2, 2, 1, 1, 4, 3, 3, 2, 4, 4, 1, 2, 1, 3, 3, 3, 4, 3, 4, 3] 4 12 1 4 2\n",
      "4 12\n",
      "[2, 2, 1, 1, 1, 3, 3, 2, 4, 4, 1, 2, 4, 3, 3, 3, 4, 3, 4, 3] 5 11 1 4 2\n",
      "5 11\n",
      "[2, 2, 1, 1, 1, 2, 3, 2, 4, 4, 1, 3, 4, 3, 3, 3, 4, 3, 4, 3] 6 10 1 4 2\n",
      "6 10\n",
      "[2, 2, 1, 1, 1, 2, 1, 2, 4, 4, 3, 3, 4, 3, 3, 3, 4, 3, 4, 3] 7 9 1 4 2\n",
      "8 7\n",
      "[2, 2, 1, 1, 1, 2, 1, 2, 4, 4, 3, 3, 4, 3, 3, 3, 4, 3, 4, 3] 0 7 1 2 1\n",
      "0 6\n",
      "[1, 2, 1, 1, 1, 2, 2, 2, 4, 4, 3, 3, 4, 3, 3, 3, 4, 3, 4, 3] 1 5 1 2 1\n",
      "1 4\n",
      "[1, 1, 1, 1, 2, 2, 2, 2, 4, 4, 3, 3, 4, 3, 3, 3, 4, 3, 4, 3] 2 3 1 2 1\n",
      "4 3\n",
      "[1, 1, 1, 1, 2, 2, 2, 2, 4, 4, 3, 3, 4, 3, 3, 3, 4, 3, 4, 3] 8 19 3 4 3\n",
      "8 19\n",
      "[1, 1, 1, 1, 2, 2, 2, 2, 3, 4, 3, 3, 4, 3, 3, 3, 4, 3, 4, 4] 9 18 3 4 3\n",
      "9 17\n",
      "[1, 1, 1, 1, 2, 2, 2, 2, 3, 3, 3, 3, 4, 3, 3, 3, 4, 4, 4, 4] 10 16 3 4 3\n",
      "12 15\n",
      "[1, 1, 1, 1, 2, 2, 2, 2, 3, 3, 3, 3, 3, 3, 3, 4, 4, 4, 4, 4] 13 14 3 4 3\n",
      "15 14\n"
     ]
    }
   ],
   "source": [
    "sortColors2(nums,k)"
   ]
  },
  {
   "cell_type": "code",
   "execution_count": 18,
   "metadata": {},
   "outputs": [
    {
     "data": {
      "text/plain": [
       "[1, 1, 1, 1, 2, 2, 2, 2, 3, 3, 3, 3, 3, 3, 3, 4, 4, 4, 4, 4]"
      ]
     },
     "execution_count": 18,
     "metadata": {},
     "output_type": "execute_result"
    }
   ],
   "source": [
    "nums"
   ]
  },
  {
   "cell_type": "code",
   "execution_count": null,
   "metadata": {},
   "outputs": [],
   "source": []
  }
 ],
 "metadata": {
  "kernelspec": {
   "display_name": "Python 3",
   "language": "python",
   "name": "python3"
  },
  "language_info": {
   "codemirror_mode": {
    "name": "ipython",
    "version": 3
   },
   "file_extension": ".py",
   "mimetype": "text/x-python",
   "name": "python",
   "nbconvert_exporter": "python",
   "pygments_lexer": "ipython3",
   "version": "3.7.3"
  }
 },
 "nbformat": 4,
 "nbformat_minor": 2
}
