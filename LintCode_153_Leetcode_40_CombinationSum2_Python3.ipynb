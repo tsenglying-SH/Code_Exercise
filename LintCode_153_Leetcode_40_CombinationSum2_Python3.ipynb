{
 "cells": [
  {
   "cell_type": "markdown",
   "metadata": {},
   "source": [
    "## 要注意去重!"
   ]
  },
  {
   "cell_type": "code",
   "execution_count": 1,
   "metadata": {},
   "outputs": [],
   "source": [
    "def combinationSum2(num, target):\n",
    "    # write your code here\n",
    "    num.sort()\n",
    "    result = []\n",
    "\n",
    "    def dfs(result, comb, num, target, idx):\n",
    "        if target == 0:\n",
    "            result.append(comb[:])\n",
    "            return\n",
    "\n",
    "        if target < 0:\n",
    "            return\n",
    "\n",
    "        for i in range(idx, len(num)):\n",
    "            if i > idx and num[i] == num[i - 1]:continue #这一句处理了去重 很重要\n",
    "            if num[i] <= target:\n",
    "                comb.append(num[i])\n",
    "                dfs(result, comb, num, target - num[i], i + 1)\n",
    "                del comb[-1]\n",
    "\n",
    "\n",
    "    dfs(result, [], num, target, 0)\n",
    "    return result"
   ]
  },
  {
   "cell_type": "code",
   "execution_count": 2,
   "metadata": {},
   "outputs": [
    {
     "data": {
      "text/plain": [
       "[[1, 2], [3]]"
      ]
     },
     "execution_count": 2,
     "metadata": {},
     "output_type": "execute_result"
    }
   ],
   "source": [
    "combinationSum2([1,1,2,3],3)"
   ]
  },
  {
   "cell_type": "code",
   "execution_count": null,
   "metadata": {},
   "outputs": [],
   "source": []
  }
 ],
 "metadata": {
  "kernelspec": {
   "display_name": "Python 3",
   "language": "python",
   "name": "python3"
  },
  "language_info": {
   "codemirror_mode": {
    "name": "ipython",
    "version": 3
   },
   "file_extension": ".py",
   "mimetype": "text/x-python",
   "name": "python",
   "nbconvert_exporter": "python",
   "pygments_lexer": "ipython3",
   "version": "3.7.3"
  }
 },
 "nbformat": 4,
 "nbformat_minor": 2
}
