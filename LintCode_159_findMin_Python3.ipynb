{
 "cells": [
  {
   "cell_type": "markdown",
   "metadata": {},
   "source": [
    "想了很久重复元素的处理，结果发现题目说默认没有重复元素，那就比较简单"
   ]
  },
  {
   "cell_type": "code",
   "execution_count": 24,
   "metadata": {},
   "outputs": [],
   "source": [
    "def findMin(nums):\n",
    "    if not nums:\n",
    "        return -1\n",
    "    leng = len(nums)\n",
    "    i = 0\n",
    "    j = leng - 1\n",
    "    left = nums[0]\n",
    "    right = nums[leng - 1]\n",
    "    while i + 1 < j:\n",
    "        mid = (i + j ) // 2\n",
    "        if nums[mid] <= right:\n",
    "            j = mid\n",
    "        elif nums[mid] > left:\n",
    "            i = mid\n",
    "    return nums[j] if nums[j] < nums[i] else nums[i]"
   ]
  },
  {
   "cell_type": "code",
   "execution_count": 25,
   "metadata": {},
   "outputs": [
    {
     "data": {
      "text/plain": [
       "0"
      ]
     },
     "execution_count": 25,
     "metadata": {},
     "output_type": "execute_result"
    }
   ],
   "source": [
    "findMin([4,5,6,7,0,1,2])"
   ]
  },
  {
   "cell_type": "code",
   "execution_count": 26,
   "metadata": {},
   "outputs": [
    {
     "data": {
      "text/plain": [
       "1"
      ]
     },
     "execution_count": 26,
     "metadata": {},
     "output_type": "execute_result"
    }
   ],
   "source": [
    "findMin([2,1])"
   ]
  },
  {
   "cell_type": "code",
   "execution_count": 27,
   "metadata": {},
   "outputs": [
    {
     "data": {
      "text/plain": [
       "1"
      ]
     },
     "execution_count": 27,
     "metadata": {},
     "output_type": "execute_result"
    }
   ],
   "source": [
    "findMin([1,2,3])"
   ]
  },
  {
   "cell_type": "code",
   "execution_count": null,
   "metadata": {},
   "outputs": [],
   "source": []
  }
 ],
 "metadata": {
  "kernelspec": {
   "display_name": "Python 3",
   "language": "python",
   "name": "python3"
  },
  "language_info": {
   "codemirror_mode": {
    "name": "ipython",
    "version": 3
   },
   "file_extension": ".py",
   "mimetype": "text/x-python",
   "name": "python",
   "nbconvert_exporter": "python",
   "pygments_lexer": "ipython3",
   "version": "3.7.1"
  }
 },
 "nbformat": 4,
 "nbformat_minor": 2
}
