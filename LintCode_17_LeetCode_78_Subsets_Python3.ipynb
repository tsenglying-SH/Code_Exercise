{
 "cells": [
  {
   "cell_type": "code",
   "execution_count": 69,
   "metadata": {},
   "outputs": [],
   "source": [
    "def subsets(nums):\n",
    "        # write your code here\n",
    "        result = []\n",
    "        nums.sort() #可能有倒序输入的nums\n",
    "        def dfs(result, subset, nums, idx):\n",
    "            #print(\"call:result\", result, \"subset\", subset, \"idx\", idx)\n",
    "            result.append(subset[:])\n",
    "            if idx == len(nums):\n",
    "                return\n",
    "            if idx > len(nums):    \n",
    "                return\n",
    "            \n",
    "            for i in range(idx, len(nums)):\n",
    "                subset.append(nums[i])\n",
    "                dfs(result, subset, nums, i + 1)\n",
    "                del subset[-1]\n",
    "                #print(\"back:result\", result, \"subset\", subset, \"idx\", idx)\n",
    "        dfs(result, [], nums, 0)\n",
    "        return result"
   ]
  },
  {
   "cell_type": "code",
   "execution_count": 70,
   "metadata": {},
   "outputs": [
    {
     "data": {
      "text/plain": [
       "[[], [1], [1, 2], [1, 2, 3], [1, 3], [2], [2, 3], [3]]"
      ]
     },
     "execution_count": 70,
     "metadata": {},
     "output_type": "execute_result"
    }
   ],
   "source": [
    "subsets([1,2,3])"
   ]
  },
  {
   "cell_type": "markdown",
   "metadata": {},
   "source": [
    "## 注意辨别上下两种方法 下面这种只返回到底的路径 上面这种返回了所有的路径 每次call就加入了result"
   ]
  },
  {
   "cell_type": "code",
   "execution_count": 71,
   "metadata": {},
   "outputs": [],
   "source": [
    "def subsets(nums):\n",
    "        # write your code here\n",
    "        result = []\n",
    "        nums.sort()\n",
    "        def dfs(result, subset, nums, idx):\n",
    "            #print(\"call:result\", result, \"subset\", subset, \"idx\", idx)\n",
    "            if idx == len(nums):\n",
    "                result.append(subset[:])\n",
    "                return\n",
    "            if idx > len(nums):    \n",
    "                return\n",
    "            \n",
    "            for i in range(idx, len(nums)):\n",
    "                subset.append(nums[i])\n",
    "                dfs(result, subset, nums, i + 1)\n",
    "                del subset[-1]\n",
    "                #print(\"back:result\", result, \"subset\", subset, \"idx\", idx)\n",
    "        dfs(result, [], nums, 0)\n",
    "        return result"
   ]
  },
  {
   "cell_type": "code",
   "execution_count": 72,
   "metadata": {},
   "outputs": [
    {
     "data": {
      "text/plain": [
       "[[1, 2, 3], [1, 3], [2, 3], [3]]"
      ]
     },
     "execution_count": 72,
     "metadata": {},
     "output_type": "execute_result"
    }
   ],
   "source": [
    "subsets([1,2,3])"
   ]
  },
  {
   "cell_type": "code",
   "execution_count": null,
   "metadata": {},
   "outputs": [],
   "source": []
  },
  {
   "cell_type": "code",
   "execution_count": 53,
   "metadata": {},
   "outputs": [],
   "source": []
  },
  {
   "cell_type": "code",
   "execution_count": null,
   "metadata": {},
   "outputs": [],
   "source": []
  }
 ],
 "metadata": {
  "kernelspec": {
   "display_name": "Python 3",
   "language": "python",
   "name": "python3"
  },
  "language_info": {
   "codemirror_mode": {
    "name": "ipython",
    "version": 3
   },
   "file_extension": ".py",
   "mimetype": "text/x-python",
   "name": "python",
   "nbconvert_exporter": "python",
   "pygments_lexer": "ipython3",
   "version": "3.7.3"
  }
 },
 "nbformat": 4,
 "nbformat_minor": 2
}
