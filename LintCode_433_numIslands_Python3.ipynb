{
 "cells": [
  {
   "cell_type": "markdown",
   "metadata": {},
   "source": [
    "看到的更快的方法，进一步优化了速度，但是可读性不行啊"
   ]
  },
  {
   "cell_type": "code",
   "execution_count": 1,
   "metadata": {},
   "outputs": [],
   "source": [
    "from collections import deque"
   ]
  },
  {
   "cell_type": "code",
   "execution_count": 2,
   "metadata": {},
   "outputs": [],
   "source": [
    "def numIslands(grid):\n",
    "    # write your code here\n",
    "    if not grid:\n",
    "        return 0\n",
    "\n",
    "    queue = deque()\n",
    "    m, n = len(grid), len(grid[0])\n",
    "    res = 0\n",
    "    for i in range(m):\n",
    "        for j in range(n):\n",
    "            if grid[i][j] != 0:\n",
    "                bfs(queue, i, j, grid)\n",
    "                res += 1\n",
    "    return res\n",
    "        \n",
    "def bfs(queue, i, j, grid):\n",
    "    queue.append((i, j))\n",
    "    grid[i][j] = 0\n",
    "    while len(queue):\n",
    "        i, j = queue.popleft()\n",
    "        if i - 1 >= 0 and grid[i - 1][j] == 1:\n",
    "            grid[i - 1][j] = 0\n",
    "            queue.append((i - 1, j))\n",
    "        if j - 1 >= 0 and grid[i][j - 1] == 1:\n",
    "            grid[i][j - 1] = 0\n",
    "            queue.append((i, j - 1))\n",
    "        if i + 1 < len(grid) and grid[i + 1][j] == 1:\n",
    "            grid[i + 1][j] = 0\n",
    "            queue.append((i + 1, j))\n",
    "        if j + 1 < len(grid[0]) and grid[i][j + 1] == 1:\n",
    "            grid[i][j + 1] = 0\n",
    "            queue.append((i, j + 1))"
   ]
  },
  {
   "cell_type": "code",
   "execution_count": 3,
   "metadata": {},
   "outputs": [],
   "source": [
    "grid = [\n",
    "  [1,1]\n",
    "]"
   ]
  },
  {
   "cell_type": "code",
   "execution_count": 4,
   "metadata": {},
   "outputs": [
    {
     "data": {
      "text/plain": [
       "1"
      ]
     },
     "execution_count": 4,
     "metadata": {},
     "output_type": "execute_result"
    }
   ],
   "source": [
    "numIslands(grid)"
   ]
  },
  {
   "cell_type": "code",
   "execution_count": 5,
   "metadata": {},
   "outputs": [],
   "source": [
    "grid = [\n",
    "  [1,1,0,0,0],\n",
    "  [0,1,0,0,1],\n",
    "  [0,0,0,1,1],\n",
    "  [0,0,0,0,0],\n",
    "  [0,0,0,0,1]\n",
    "]"
   ]
  },
  {
   "cell_type": "code",
   "execution_count": 6,
   "metadata": {
    "scrolled": true
   },
   "outputs": [
    {
     "data": {
      "text/plain": [
       "3"
      ]
     },
     "execution_count": 6,
     "metadata": {},
     "output_type": "execute_result"
    }
   ],
   "source": [
    "numIslands(grid)"
   ]
  },
  {
   "cell_type": "code",
   "execution_count": 7,
   "metadata": {},
   "outputs": [],
   "source": [
    "grid = [[1,1,1,1,1,1],\n",
    "        [1,0,0,0,0,1],\n",
    "        [1,0,1,1,0,1],\n",
    "        [1,0,0,0,0,1],\n",
    "        [1,1,1,1,1,1]]"
   ]
  },
  {
   "cell_type": "code",
   "execution_count": 8,
   "metadata": {},
   "outputs": [
    {
     "name": "stdout",
     "output_type": "stream",
     "text": [
      "2.92 µs ± 5.21 ns per loop (mean ± std. dev. of 7 runs, 100000 loops each)\n"
     ]
    },
    {
     "data": {
      "text/plain": [
       "<TimeitResult : 2.92 µs ± 5.21 ns per loop (mean ± std. dev. of 7 runs, 100000 loops each)>"
      ]
     },
     "execution_count": 8,
     "metadata": {},
     "output_type": "execute_result"
    }
   ],
   "source": [
    "%timeit -o numIslands(grid)"
   ]
  },
  {
   "cell_type": "markdown",
   "metadata": {},
   "source": [
    "题解，队列使用了deque,优化掉了searched，访问过的直接赋值False"
   ]
  },
  {
   "cell_type": "code",
   "execution_count": 9,
   "metadata": {},
   "outputs": [],
   "source": [
    "from collections import deque\n",
    "def numIslands(grid):\n",
    "    if not grid or len(grid) == 0 or len(grid[0]) == 0:\n",
    "        return 0\n",
    "    answer = 0\n",
    "    for i in range(len(grid)):\n",
    "        for j in range(len(grid[0])):\n",
    "            if grid[i][j]:\n",
    "                bfs(grid, i, j)\n",
    "                answer += 1\n",
    "    return answer\n",
    "\n",
    "def bfs(grid, x, y):\n",
    "    queue = deque([(x, y)])\n",
    "    grid[x][y] = False\n",
    "    while queue:\n",
    "        x, y = queue.popleft()\n",
    "        for delta_x, delta_y in [(1, 0), (0, -1), (-1, 0), (0, 1)]:\n",
    "            next_x = x + delta_x\n",
    "            next_y = y + delta_y\n",
    "            if is_valid(grid, next_x, next_y):\n",
    "                queue.append((next_x, next_y))\n",
    "                grid[next_x][next_y] = False\n",
    "\n",
    "def is_valid(grid, x, y):\n",
    "    n, m = len(grid), len(grid[0])\n",
    "    return 0 <= x < n and 0 <= y < m and grid[x][y]"
   ]
  },
  {
   "cell_type": "code",
   "execution_count": 10,
   "metadata": {},
   "outputs": [],
   "source": [
    "grid = [\n",
    "  [1,1]\n",
    "]"
   ]
  },
  {
   "cell_type": "code",
   "execution_count": 11,
   "metadata": {},
   "outputs": [
    {
     "data": {
      "text/plain": [
       "1"
      ]
     },
     "execution_count": 11,
     "metadata": {},
     "output_type": "execute_result"
    }
   ],
   "source": [
    "numIslands(grid)"
   ]
  },
  {
   "cell_type": "code",
   "execution_count": 12,
   "metadata": {},
   "outputs": [],
   "source": [
    "grid = [\n",
    "  [1,1,0,0,0],\n",
    "  [0,1,0,0,1],\n",
    "  [0,0,0,1,1],\n",
    "  [0,0,0,0,0],\n",
    "  [0,0,0,0,1]\n",
    "]"
   ]
  },
  {
   "cell_type": "code",
   "execution_count": 13,
   "metadata": {
    "scrolled": true
   },
   "outputs": [
    {
     "data": {
      "text/plain": [
       "3"
      ]
     },
     "execution_count": 13,
     "metadata": {},
     "output_type": "execute_result"
    }
   ],
   "source": [
    "numIslands(grid)"
   ]
  },
  {
   "cell_type": "code",
   "execution_count": 14,
   "metadata": {},
   "outputs": [],
   "source": [
    "grid = [[1,1,1,1,1,1],\n",
    "        [1,0,0,0,0,1],\n",
    "        [1,0,1,1,0,1],\n",
    "        [1,0,0,0,0,1],\n",
    "        [1,1,1,1,1,1]]"
   ]
  },
  {
   "cell_type": "code",
   "execution_count": 15,
   "metadata": {},
   "outputs": [
    {
     "name": "stdout",
     "output_type": "stream",
     "text": [
      "2.93 µs ± 91.5 ns per loop (mean ± std. dev. of 7 runs, 100000 loops each)\n"
     ]
    },
    {
     "data": {
      "text/plain": [
       "<TimeitResult : 2.93 µs ± 91.5 ns per loop (mean ± std. dev. of 7 runs, 100000 loops each)>"
      ]
     },
     "execution_count": 15,
     "metadata": {},
     "output_type": "execute_result"
    }
   ],
   "source": [
    "%timeit -o numIslands(grid)"
   ]
  },
  {
   "cell_type": "markdown",
   "metadata": {},
   "source": [
    "自己实现了BFS，但性能较差"
   ]
  },
  {
   "cell_type": "code",
   "execution_count": 16,
   "metadata": {},
   "outputs": [],
   "source": [
    "def numIslands(grid):\n",
    "    if not grid or len(grid) == 0 or len(grid[0]) == 0:\n",
    "        return 0\n",
    "    h, w = len(grid), len(grid[0])\n",
    "    searched = set()\n",
    "    answer = 0\n",
    "    for i in range(h):\n",
    "        for j in range(w):\n",
    "            if grid[i][j] == 1 and (i, j) not in searched:\n",
    "                bfs(grid, i, j, searched)\n",
    "                answer += 1\n",
    "    return answer\n",
    "\n",
    "def bfs(grid, i, j, searched):\n",
    "    searched.add((i, j))\n",
    "    queue = [(i, j)]\n",
    "    movement = [(1, 0), (0, 1), (-1, 0), (0, -1)]\n",
    "    while queue:\n",
    "        x, y = queue.pop(0)\n",
    "        for dx, dy in movement:\n",
    "            if (x + dx) in range(len(grid)) and (y + dy) in range(len(grid[0])) and (x + dx, y + dy) not in searched and grid[x + dx][y + dy] == 1:\n",
    "                searched.add((x + dx, y + dy))\n",
    "                queue.append((x + dx, y + dy))\n",
    "    return"
   ]
  },
  {
   "cell_type": "code",
   "execution_count": 17,
   "metadata": {},
   "outputs": [],
   "source": [
    "grid = [\n",
    "  [1,1]\n",
    "]"
   ]
  },
  {
   "cell_type": "code",
   "execution_count": 18,
   "metadata": {},
   "outputs": [
    {
     "data": {
      "text/plain": [
       "1"
      ]
     },
     "execution_count": 18,
     "metadata": {},
     "output_type": "execute_result"
    }
   ],
   "source": [
    "numIslands(grid)"
   ]
  },
  {
   "cell_type": "code",
   "execution_count": 19,
   "metadata": {},
   "outputs": [],
   "source": [
    "grid = [\n",
    "  [1,1,0,0,0],\n",
    "  [0,1,0,0,1],\n",
    "  [0,0,0,1,1],\n",
    "  [0,0,0,0,0],\n",
    "  [0,0,0,0,1]\n",
    "]"
   ]
  },
  {
   "cell_type": "code",
   "execution_count": 20,
   "metadata": {
    "scrolled": true
   },
   "outputs": [
    {
     "data": {
      "text/plain": [
       "3"
      ]
     },
     "execution_count": 20,
     "metadata": {},
     "output_type": "execute_result"
    }
   ],
   "source": [
    "numIslands(grid)"
   ]
  },
  {
   "cell_type": "code",
   "execution_count": 21,
   "metadata": {},
   "outputs": [],
   "source": [
    "grid = [[1,1,1,1,1,1],\n",
    "        [1,0,0,0,0,1],\n",
    "        [1,0,1,1,0,1],\n",
    "        [1,0,0,0,0,1],\n",
    "        [1,1,1,1,1,1]]"
   ]
  },
  {
   "cell_type": "code",
   "execution_count": 23,
   "metadata": {},
   "outputs": [
    {
     "name": "stdout",
     "output_type": "stream",
     "text": [
      "65.7 µs ± 108 ns per loop (mean ± std. dev. of 7 runs, 10000 loops each)\n"
     ]
    },
    {
     "data": {
      "text/plain": [
       "<TimeitResult : 65.7 µs ± 108 ns per loop (mean ± std. dev. of 7 runs, 10000 loops each)>"
      ]
     },
     "execution_count": 23,
     "metadata": {},
     "output_type": "execute_result"
    }
   ],
   "source": [
    "%timeit -o numIslands(grid)"
   ]
  },
  {
   "cell_type": "code",
   "execution_count": null,
   "metadata": {},
   "outputs": [],
   "source": []
  }
 ],
 "metadata": {
  "kernelspec": {
   "display_name": "Python 3",
   "language": "python",
   "name": "python3"
  },
  "language_info": {
   "codemirror_mode": {
    "name": "ipython",
    "version": 3
   },
   "file_extension": ".py",
   "mimetype": "text/x-python",
   "name": "python",
   "nbconvert_exporter": "python",
   "pygments_lexer": "ipython3",
   "version": "3.7.3"
  }
 },
 "nbformat": 4,
 "nbformat_minor": 2
}
