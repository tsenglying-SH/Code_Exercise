{
 "cells": [
  {
   "cell_type": "markdown",
   "metadata": {},
   "source": [
    "#### 这道题自定义了一个reader class，无法在jupyter notebook里测试"
   ]
  },
  {
   "cell_type": "markdown",
   "metadata": {},
   "source": [
    "def searchBigSortedArray(self, reader, target):\n",
    "    #防止空数组\n",
    "    if reader.get(0) == 9223372036854775807:\n",
    "        return -1\n",
    "    #防止单元素数组\n",
    "    elif  reader.get(1) == 9223372036854775807:\n",
    "        return -1 if reader.get(0) != target else 0\n",
    "    i = 0\n",
    "    j = 1\n",
    "    while reader.get(j) < target:#倍增至j越界或j处数过大\n",
    "        i = j\n",
    "        j *= 2\n",
    "    while i + 1 < j:#双指针二分查找\n",
    "        mid = (i + j)//2\n",
    "        if reader.get(mid) < target:\n",
    "            i = mid\n",
    "        elif reader.get(mid) >= target:\n",
    "            j = mid\n",
    "    #检查i,j元素是不是target\n",
    "    if reader.get(i) == target:\n",
    "        return i\n",
    "    elif reader.get(j) == target:\n",
    "        return j\n",
    "    else:\n",
    "        return -1"
   ]
  },
  {
   "cell_type": "code",
   "execution_count": null,
   "metadata": {},
   "outputs": [],
   "source": []
  }
 ],
 "metadata": {
  "kernelspec": {
   "display_name": "Python 3",
   "language": "python",
   "name": "python3"
  },
  "language_info": {
   "codemirror_mode": {
    "name": "ipython",
    "version": 3
   },
   "file_extension": ".py",
   "mimetype": "text/x-python",
   "name": "python",
   "nbconvert_exporter": "python",
   "pygments_lexer": "ipython3",
   "version": "3.7.1"
  }
 },
 "nbformat": 4,
 "nbformat_minor": 2
}
