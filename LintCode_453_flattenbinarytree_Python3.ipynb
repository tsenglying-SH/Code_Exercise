{
 "cells": [
  {
   "cell_type": "markdown",
   "metadata": {},
   "source": [
    "## 数转链表"
   ]
  },
  {
   "cell_type": "markdown",
   "metadata": {},
   "source": [
    "### iterative方法 参考九章算法C++代码"
   ]
  },
  {
   "cell_type": "code",
   "execution_count": 2,
   "metadata": {},
   "outputs": [],
   "source": [
    "\"\"\"\n",
    "Definition of TreeNode:\n",
    "class TreeNode:\n",
    "    def __init__(self, val):\n",
    "        self.val = val\n",
    "        self.left, self.right = None, None\n",
    "\"\"\"\n",
    "\n",
    "class Solution:\n",
    "    \"\"\"\n",
    "    @param root: a TreeNode, the root of the binary tree\n",
    "    @return: nothing\n",
    "    \"\"\"\n",
    "    def flatten(self, root):\n",
    "        # write your code here\n",
    "        if not root: return\n",
    "        while root:\n",
    "            if root.left:\n",
    "                pre = root.left\n",
    "                while pre.right:\n",
    "                    pre = pre.right\n",
    "                pre.right = root.right\n",
    "                root.right = root.left\n",
    "                root.left = None\n",
    "            root = root.right"
   ]
  },
  {
   "cell_type": "markdown",
   "metadata": {},
   "source": [
    "### Recursive方法 很tricky 参考九章算法 令狐冲代码"
   ]
  },
  {
   "cell_type": "code",
   "execution_count": 3,
   "metadata": {},
   "outputs": [],
   "source": [
    "\"\"\"\n",
    "Definition of TreeNode:\n",
    "class TreeNode:\n",
    "    def __init__(self, val):\n",
    "        self.val = val\n",
    "        self.left, self.right = None, None\n",
    "\"\"\"\n",
    "\n",
    "class Solution:\n",
    "    \"\"\"\n",
    "    @param root: a TreeNode, the root of the binary tree\n",
    "    @return: nothing\n",
    "    \"\"\"\n",
    "    last_node = None\n",
    "    \n",
    "    def flatten(self, root):\n",
    "        # write your code here\n",
    "        if not root:\n",
    "            return\n",
    "        \n",
    "        if self.last_node:\n",
    "            self.last_node.left = None\n",
    "            self.last_node.right = root\n",
    "            \n",
    "        self.last_node = root\n",
    "        left = root.left\n",
    "        right = root.right #这里必须存下root.right 因为调用完flatten(left), root.right被改变了\n",
    "        self.flatten(left)\n",
    "        self.flatten(right)"
   ]
  },
  {
   "cell_type": "code",
   "execution_count": null,
   "metadata": {},
   "outputs": [],
   "source": []
  }
 ],
 "metadata": {
  "kernelspec": {
   "display_name": "Python 3",
   "language": "python",
   "name": "python3"
  },
  "language_info": {
   "codemirror_mode": {
    "name": "ipython",
    "version": 3
   },
   "file_extension": ".py",
   "mimetype": "text/x-python",
   "name": "python",
   "nbconvert_exporter": "python",
   "pygments_lexer": "ipython3",
   "version": "3.7.3"
  }
 },
 "nbformat": 4,
 "nbformat_minor": 2
}
