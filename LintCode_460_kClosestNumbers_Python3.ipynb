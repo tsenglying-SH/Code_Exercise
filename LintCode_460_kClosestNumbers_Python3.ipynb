{
 "cells": [
  {
   "cell_type": "code",
   "execution_count": 1,
   "metadata": {},
   "outputs": [],
   "source": [
    "def kClosestNumbers(A, target, k):\n",
    "    length = len(A)\n",
    "    if not A or k == 0:return []\n",
    "    i,j = 0,length - 1\n",
    "    output = []\n",
    "    #寻找最接近的两个元素\n",
    "    while i + 1 < j:\n",
    "        mid = (i + j) // 2\n",
    "        if A[mid] >= target:\n",
    "            j = mid\n",
    "        elif A[mid] <= target:\n",
    "            i = mid\n",
    "    #左右指针向两边搜寻至满足k个元素\n",
    "    cnt = 0\n",
    "    while cnt < k:\n",
    "        #都越界就停止搜索\n",
    "        if i < 0 and j > length - 1:\n",
    "            break\n",
    "        elif i < 0 and j <= length -1:\n",
    "            output.append(A[j])\n",
    "            j += 1\n",
    "        elif i >= 0 and j > length -1:\n",
    "            output.append(A[i])\n",
    "            i -= 1\n",
    "        else:\n",
    "            if target - A[i] > A[j] - target:\n",
    "                output.append(A[j])\n",
    "                j += 1\n",
    "            elif target - A[i] <= A[j] - target:\n",
    "                output.append(A[i])\n",
    "                i -= 1\n",
    "        cnt += 1\n",
    "    return output  "
   ]
  },
  {
   "cell_type": "code",
   "execution_count": 2,
   "metadata": {},
   "outputs": [],
   "source": [
    "A = [1, 2, 3]\n",
    "target = 2\n",
    "k = 3"
   ]
  },
  {
   "cell_type": "code",
   "execution_count": 3,
   "metadata": {},
   "outputs": [
    {
     "data": {
      "text/plain": [
       "[2, 1, 3]"
      ]
     },
     "execution_count": 3,
     "metadata": {},
     "output_type": "execute_result"
    }
   ],
   "source": [
    "kClosestNumbers(A,target,k)"
   ]
  },
  {
   "cell_type": "code",
   "execution_count": 4,
   "metadata": {},
   "outputs": [],
   "source": [
    "A = [1, 4, 6, 8]\n",
    "target = 3\n",
    "k = 3"
   ]
  },
  {
   "cell_type": "code",
   "execution_count": 5,
   "metadata": {},
   "outputs": [
    {
     "data": {
      "text/plain": [
       "[4, 1, 6]"
      ]
     },
     "execution_count": 5,
     "metadata": {},
     "output_type": "execute_result"
    }
   ],
   "source": [
    "kClosestNumbers(A,target,k)"
   ]
  },
  {
   "cell_type": "code",
   "execution_count": 6,
   "metadata": {},
   "outputs": [],
   "source": [
    "A = [100,156,189,298,299,300,1001,1002,1003,1004]\n",
    "target = 1000\n",
    "k = 6"
   ]
  },
  {
   "cell_type": "code",
   "execution_count": 7,
   "metadata": {
    "scrolled": false
   },
   "outputs": [
    {
     "data": {
      "text/plain": [
       "[1001, 1002, 1003, 1004, 300, 299]"
      ]
     },
     "execution_count": 7,
     "metadata": {},
     "output_type": "execute_result"
    }
   ],
   "source": [
    "kClosestNumbers(A,target,k)"
   ]
  },
  {
   "cell_type": "code",
   "execution_count": null,
   "metadata": {},
   "outputs": [],
   "source": []
  }
 ],
 "metadata": {
  "kernelspec": {
   "display_name": "Python 3",
   "language": "python",
   "name": "python3"
  },
  "language_info": {
   "codemirror_mode": {
    "name": "ipython",
    "version": 3
   },
   "file_extension": ".py",
   "mimetype": "text/x-python",
   "name": "python",
   "nbconvert_exporter": "python",
   "pygments_lexer": "ipython3",
   "version": "3.7.1"
  }
 },
 "nbformat": 4,
 "nbformat_minor": 2
}
