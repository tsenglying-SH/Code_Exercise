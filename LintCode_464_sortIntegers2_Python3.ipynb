{
 "cells": [
  {
   "cell_type": "markdown",
   "metadata": {},
   "source": [
    "### 原地操作的递归快排"
   ]
  },
  {
   "cell_type": "code",
   "execution_count": 1,
   "metadata": {},
   "outputs": [],
   "source": [
    "def sortIntegers2(A):\n",
    "    quick_sort(A,0,len(A) - 1)\n",
    "def quick_sort(A, start, end):\n",
    "    if start >= end:\n",
    "        return\n",
    "    left = start\n",
    "    right = end\n",
    "    pivot = A[(left + right) // 2]\n",
    "    #这里指针一相交就终止操作，此时已确保指针右边的比指针左边都大\n",
    "    while left <= right:\n",
    "        print(A,left,right,pivot)\n",
    "        while left <= right and A[left] < pivot:\n",
    "            left += 1\n",
    "        while left <= right and A[right] > pivot:\n",
    "            right -= 1\n",
    "        print(left,right)\n",
    "        if  left <= right:\n",
    "            A[left], A[right] = A[right], A[left]\n",
    "            left += 1\n",
    "            right -= 1\n",
    "    quick_sort(A, start, right)\n",
    "    quick_sort(A, left, end) "
   ]
  },
  {
   "cell_type": "code",
   "execution_count": 2,
   "metadata": {},
   "outputs": [],
   "source": [
    "A = [8,4,2,4,1,4,3,2,9,4,6,4]"
   ]
  },
  {
   "cell_type": "code",
   "execution_count": 3,
   "metadata": {},
   "outputs": [],
   "source": [
    "B = [10,9,8,3,2,5,4,5,5,7,6,9,1]"
   ]
  },
  {
   "cell_type": "code",
   "execution_count": 4,
   "metadata": {
    "scrolled": true
   },
   "outputs": [
    {
     "name": "stdout",
     "output_type": "stream",
     "text": [
      "[8, 4, 2, 4, 1, 4, 3, 2, 9, 4, 6, 4] 0 11 4\n",
      "0 11\n",
      "[4, 4, 2, 4, 1, 4, 3, 2, 9, 4, 6, 8] 1 10 4\n",
      "1 9\n",
      "[4, 4, 2, 4, 1, 4, 3, 2, 9, 4, 6, 8] 2 8 4\n",
      "3 7\n",
      "[4, 4, 2, 2, 1, 4, 3, 4, 9, 4, 6, 8] 4 6 4\n",
      "5 6\n",
      "[4, 4, 2, 2, 1, 3, 4, 4, 9, 4, 6, 8] 0 5 2\n",
      "0 4\n",
      "[1, 4, 2, 2, 4, 3, 4, 4, 9, 4, 6, 8] 1 3 2\n",
      "1 3\n",
      "[1, 2, 2, 4, 4, 3, 4, 4, 9, 4, 6, 8] 2 2 2\n",
      "2 2\n",
      "[1, 2, 2, 4, 4, 3, 4, 4, 9, 4, 6, 8] 0 1 1\n",
      "0 0\n",
      "[1, 2, 2, 4, 4, 3, 4, 4, 9, 4, 6, 8] 3 5 4\n",
      "3 5\n",
      "[1, 2, 2, 3, 4, 4, 4, 4, 9, 4, 6, 8] 4 4 4\n",
      "4 4\n",
      "[1, 2, 2, 3, 4, 4, 4, 4, 9, 4, 6, 8] 6 11 9\n",
      "8 11\n",
      "[1, 2, 2, 3, 4, 4, 4, 4, 8, 4, 6, 9] 9 10 9\n",
      "11 10\n",
      "[1, 2, 2, 3, 4, 4, 4, 4, 8, 4, 6, 9] 6 10 8\n",
      "8 10\n",
      "[1, 2, 2, 3, 4, 4, 4, 4, 6, 4, 8, 9] 9 9 8\n",
      "10 9\n",
      "[1, 2, 2, 3, 4, 4, 4, 4, 6, 4, 8, 9] 6 9 4\n",
      "6 9\n",
      "[1, 2, 2, 3, 4, 4, 4, 4, 6, 4, 8, 9] 7 8 4\n",
      "7 7\n",
      "[1, 2, 2, 3, 4, 4, 4, 4, 6, 4, 8, 9] 8 9 6\n",
      "8 9\n"
     ]
    }
   ],
   "source": [
    "sortIntegers2(A)"
   ]
  },
  {
   "cell_type": "code",
   "execution_count": 5,
   "metadata": {
    "scrolled": true
   },
   "outputs": [
    {
     "name": "stdout",
     "output_type": "stream",
     "text": [
      "[10, 9, 8, 3, 2, 5, 4, 5, 5, 7, 6, 9, 1] 0 12 4\n",
      "0 12\n",
      "[1, 9, 8, 3, 2, 5, 4, 5, 5, 7, 6, 9, 10] 1 11 4\n",
      "1 6\n",
      "[1, 4, 8, 3, 2, 5, 9, 5, 5, 7, 6, 9, 10] 2 5 4\n",
      "2 4\n",
      "[1, 4, 2, 3, 8, 5, 9, 5, 5, 7, 6, 9, 10] 3 3 4\n",
      "4 3\n",
      "[1, 4, 2, 3, 8, 5, 9, 5, 5, 7, 6, 9, 10] 0 3 4\n",
      "1 3\n",
      "[1, 3, 2, 4, 8, 5, 9, 5, 5, 7, 6, 9, 10] 2 2 4\n",
      "3 2\n",
      "[1, 3, 2, 4, 8, 5, 9, 5, 5, 7, 6, 9, 10] 0 2 3\n",
      "1 2\n",
      "[1, 2, 3, 4, 8, 5, 9, 5, 5, 7, 6, 9, 10] 0 1 1\n",
      "0 0\n",
      "[1, 2, 3, 4, 8, 5, 9, 5, 5, 7, 6, 9, 10] 4 12 5\n",
      "4 8\n",
      "[1, 2, 3, 4, 5, 5, 9, 5, 8, 7, 6, 9, 10] 5 7 5\n",
      "5 7\n",
      "[1, 2, 3, 4, 5, 5, 9, 5, 8, 7, 6, 9, 10] 6 6 5\n",
      "6 5\n",
      "[1, 2, 3, 4, 5, 5, 9, 5, 8, 7, 6, 9, 10] 4 5 5\n",
      "4 5\n",
      "[1, 2, 3, 4, 5, 5, 9, 5, 8, 7, 6, 9, 10] 6 12 7\n",
      "6 10\n",
      "[1, 2, 3, 4, 5, 5, 6, 5, 8, 7, 9, 9, 10] 7 9 7\n",
      "8 9\n",
      "[1, 2, 3, 4, 5, 5, 6, 5, 7, 8, 9, 9, 10] 6 8 5\n",
      "6 7\n",
      "[1, 2, 3, 4, 5, 5, 5, 6, 7, 8, 9, 9, 10] 7 8 6\n",
      "7 7\n",
      "[1, 2, 3, 4, 5, 5, 5, 6, 7, 8, 9, 9, 10] 9 12 9\n",
      "10 11\n",
      "[1, 2, 3, 4, 5, 5, 5, 6, 7, 8, 9, 9, 10] 9 10 8\n",
      "9 9\n",
      "[1, 2, 3, 4, 5, 5, 5, 6, 7, 8, 9, 9, 10] 11 12 9\n",
      "11 11\n"
     ]
    }
   ],
   "source": [
    "sortIntegers2(B)"
   ]
  },
  {
   "cell_type": "code",
   "execution_count": 6,
   "metadata": {},
   "outputs": [
    {
     "data": {
      "text/plain": [
       "[1, 2, 2, 3, 4, 4, 4, 4, 4, 6, 8, 9]"
      ]
     },
     "execution_count": 6,
     "metadata": {},
     "output_type": "execute_result"
    }
   ],
   "source": [
    "A"
   ]
  },
  {
   "cell_type": "code",
   "execution_count": 7,
   "metadata": {},
   "outputs": [
    {
     "data": {
      "text/plain": [
       "[1, 2, 3, 4, 5, 5, 5, 6, 7, 8, 9, 9, 10]"
      ]
     },
     "execution_count": 7,
     "metadata": {},
     "output_type": "execute_result"
    }
   ],
   "source": [
    "B"
   ]
  },
  {
   "cell_type": "code",
   "execution_count": 8,
   "metadata": {},
   "outputs": [],
   "source": [
    "C = [3,2,3,3,4,3,3,2,4,4,1,2,1,1,1,3,4,3,4,2]"
   ]
  },
  {
   "cell_type": "code",
   "execution_count": 9,
   "metadata": {
    "scrolled": true
   },
   "outputs": [
    {
     "name": "stdout",
     "output_type": "stream",
     "text": [
      "[3, 2, 3, 3, 4, 3, 3, 2, 4, 4, 1, 2, 1, 1, 1, 3, 4, 3, 4, 2] 0 19 4\n",
      "4 19\n",
      "[3, 2, 3, 3, 2, 3, 3, 2, 4, 4, 1, 2, 1, 1, 1, 3, 4, 3, 4, 4] 5 18 4\n",
      "8 18\n",
      "[3, 2, 3, 3, 2, 3, 3, 2, 4, 4, 1, 2, 1, 1, 1, 3, 4, 3, 4, 4] 9 17 4\n",
      "9 17\n",
      "[3, 2, 3, 3, 2, 3, 3, 2, 4, 3, 1, 2, 1, 1, 1, 3, 4, 4, 4, 4] 10 16 4\n",
      "16 16\n",
      "[3, 2, 3, 3, 2, 3, 3, 2, 4, 3, 1, 2, 1, 1, 1, 3, 4, 4, 4, 4] 0 15 2\n",
      "0 14\n",
      "[1, 2, 3, 3, 2, 3, 3, 2, 4, 3, 1, 2, 1, 1, 3, 3, 4, 4, 4, 4] 1 13 2\n",
      "1 13\n",
      "[1, 1, 3, 3, 2, 3, 3, 2, 4, 3, 1, 2, 1, 2, 3, 3, 4, 4, 4, 4] 2 12 2\n",
      "2 12\n",
      "[1, 1, 1, 3, 2, 3, 3, 2, 4, 3, 1, 2, 3, 2, 3, 3, 4, 4, 4, 4] 3 11 2\n",
      "3 11\n",
      "[1, 1, 1, 2, 2, 3, 3, 2, 4, 3, 1, 3, 3, 2, 3, 3, 4, 4, 4, 4] 4 10 2\n",
      "4 10\n",
      "[1, 1, 1, 2, 1, 3, 3, 2, 4, 3, 2, 3, 3, 2, 3, 3, 4, 4, 4, 4] 5 9 2\n",
      "5 7\n",
      "[1, 1, 1, 2, 1, 2, 3, 3, 4, 3, 2, 3, 3, 2, 3, 3, 4, 4, 4, 4] 6 6 2\n",
      "6 5\n",
      "[1, 1, 1, 2, 1, 2, 3, 3, 4, 3, 2, 3, 3, 2, 3, 3, 4, 4, 4, 4] 0 5 1\n",
      "0 4\n",
      "[1, 1, 1, 2, 1, 2, 3, 3, 4, 3, 2, 3, 3, 2, 3, 3, 4, 4, 4, 4] 1 3 1\n",
      "1 2\n",
      "[1, 1, 1, 2, 1, 2, 3, 3, 4, 3, 2, 3, 3, 2, 3, 3, 4, 4, 4, 4] 0 1 1\n",
      "0 1\n",
      "[1, 1, 1, 2, 1, 2, 3, 3, 4, 3, 2, 3, 3, 2, 3, 3, 4, 4, 4, 4] 2 5 2\n",
      "3 5\n",
      "[1, 1, 1, 2, 1, 2, 3, 3, 4, 3, 2, 3, 3, 2, 3, 3, 4, 4, 4, 4] 4 4 2\n",
      "5 4\n",
      "[1, 1, 1, 2, 1, 2, 3, 3, 4, 3, 2, 3, 3, 2, 3, 3, 4, 4, 4, 4] 2 4 2\n",
      "3 4\n",
      "[1, 1, 1, 1, 2, 2, 3, 3, 4, 3, 2, 3, 3, 2, 3, 3, 4, 4, 4, 4] 2 3 1\n",
      "2 3\n",
      "[1, 1, 1, 1, 2, 2, 3, 3, 4, 3, 2, 3, 3, 2, 3, 3, 4, 4, 4, 4] 6 15 2\n",
      "6 13\n",
      "[1, 1, 1, 1, 2, 2, 2, 3, 4, 3, 2, 3, 3, 3, 3, 3, 4, 4, 4, 4] 7 12 2\n",
      "7 10\n",
      "[1, 1, 1, 1, 2, 2, 2, 2, 4, 3, 3, 3, 3, 3, 3, 3, 4, 4, 4, 4] 8 9 2\n",
      "8 7\n",
      "[1, 1, 1, 1, 2, 2, 2, 2, 4, 3, 3, 3, 3, 3, 3, 3, 4, 4, 4, 4] 6 7 2\n",
      "6 7\n",
      "[1, 1, 1, 1, 2, 2, 2, 2, 4, 3, 3, 3, 3, 3, 3, 3, 4, 4, 4, 4] 8 15 3\n",
      "8 15\n",
      "[1, 1, 1, 1, 2, 2, 2, 2, 3, 3, 3, 3, 3, 3, 3, 4, 4, 4, 4, 4] 9 14 3\n",
      "9 14\n",
      "[1, 1, 1, 1, 2, 2, 2, 2, 3, 3, 3, 3, 3, 3, 3, 4, 4, 4, 4, 4] 10 13 3\n",
      "10 13\n",
      "[1, 1, 1, 1, 2, 2, 2, 2, 3, 3, 3, 3, 3, 3, 3, 4, 4, 4, 4, 4] 11 12 3\n",
      "11 12\n",
      "[1, 1, 1, 1, 2, 2, 2, 2, 3, 3, 3, 3, 3, 3, 3, 4, 4, 4, 4, 4] 8 11 3\n",
      "8 11\n",
      "[1, 1, 1, 1, 2, 2, 2, 2, 3, 3, 3, 3, 3, 3, 3, 4, 4, 4, 4, 4] 9 10 3\n",
      "9 10\n",
      "[1, 1, 1, 1, 2, 2, 2, 2, 3, 3, 3, 3, 3, 3, 3, 4, 4, 4, 4, 4] 8 9 3\n",
      "8 9\n",
      "[1, 1, 1, 1, 2, 2, 2, 2, 3, 3, 3, 3, 3, 3, 3, 4, 4, 4, 4, 4] 10 11 3\n",
      "10 11\n",
      "[1, 1, 1, 1, 2, 2, 2, 2, 3, 3, 3, 3, 3, 3, 3, 4, 4, 4, 4, 4] 12 15 3\n",
      "12 14\n",
      "[1, 1, 1, 1, 2, 2, 2, 2, 3, 3, 3, 3, 3, 3, 3, 4, 4, 4, 4, 4] 13 13 3\n",
      "13 13\n",
      "[1, 1, 1, 1, 2, 2, 2, 2, 3, 3, 3, 3, 3, 3, 3, 4, 4, 4, 4, 4] 14 15 3\n",
      "14 14\n",
      "[1, 1, 1, 1, 2, 2, 2, 2, 3, 3, 3, 3, 3, 3, 3, 4, 4, 4, 4, 4] 17 19 4\n",
      "17 19\n",
      "[1, 1, 1, 1, 2, 2, 2, 2, 3, 3, 3, 3, 3, 3, 3, 4, 4, 4, 4, 4] 18 18 4\n",
      "18 18\n"
     ]
    }
   ],
   "source": [
    "sortIntegers2(C)"
   ]
  },
  {
   "cell_type": "code",
   "execution_count": 10,
   "metadata": {},
   "outputs": [
    {
     "data": {
      "text/plain": [
       "[1, 1, 1, 1, 2, 2, 2, 2, 3, 3, 3, 3, 3, 3, 3, 4, 4, 4, 4, 4]"
      ]
     },
     "execution_count": 10,
     "metadata": {},
     "output_type": "execute_result"
    }
   ],
   "source": [
    "C"
   ]
  },
  {
   "cell_type": "markdown",
   "metadata": {},
   "source": [
    "### merge sort"
   ]
  },
  {
   "cell_type": "code",
   "execution_count": 11,
   "metadata": {},
   "outputs": [],
   "source": [
    "class mergesort(object):\n",
    "    def __init__(self, nums):\n",
    "        self.array = nums\n",
    "        self.size = len(nums)\n",
    "        self.temp = [0 for _ in range(self.size)]\n",
    "        self.count = 0\n",
    "        self.sort(0, self.size - 1)\n",
    "    \n",
    "    def sort(self, start, end):\n",
    "        if start >= end:\n",
    "            return\n",
    "        mid = start + (end - start) // 2\n",
    "        self.sort(start, mid)\n",
    "        self.sort(mid + 1, end)\n",
    "        self.merge(start, end)\n",
    "        \n",
    "    def merge(self, start, end):\n",
    "        if start >= end:\n",
    "            return\n",
    "        mid = start + (end - start) // 2\n",
    "        l, r = start, mid + 1\n",
    "        index = start\n",
    "        while l <= mid and r <= end:\n",
    "            if self.array[l] <= self.array[r]:\n",
    "                self.temp[index] = self.array[l]\n",
    "                l += 1\n",
    "                index += 1\n",
    "            else:\n",
    "                self.temp[index] = self.array[r]\n",
    "                self.count += (mid - l + 1)\n",
    "                r += 1\n",
    "                index += 1\n",
    "            \n",
    "        while l <= mid:\n",
    "            self.temp[index] = self.array[l]\n",
    "            l += 1\n",
    "            index += 1\n",
    "            \n",
    "        while r <= end:\n",
    "            self.temp[index] = self.array[r]\n",
    "            r += 1\n",
    "            index += 1\n",
    "        for i in range(start, end + 1):\n",
    "            self.array[i] = self.temp[i]\n",
    "    "
   ]
  },
  {
   "cell_type": "code",
   "execution_count": 12,
   "metadata": {},
   "outputs": [],
   "source": [
    "A = [8,4,2,4,1,4,3,2,9,4,6,4]"
   ]
  },
  {
   "cell_type": "code",
   "execution_count": 13,
   "metadata": {},
   "outputs": [],
   "source": [
    "B = [10,9,8,3,2,5,4,5,5,7,6,9,1]"
   ]
  },
  {
   "cell_type": "code",
   "execution_count": 14,
   "metadata": {},
   "outputs": [],
   "source": [
    "C = [3,2,3,3,4,3,3,2,4,4,1,2,1,1,1,3,4,3,4,2]"
   ]
  },
  {
   "cell_type": "code",
   "execution_count": 15,
   "metadata": {
    "scrolled": false
   },
   "outputs": [
    {
     "data": {
      "text/plain": [
       "[1, 2, 2, 3, 4, 4, 4, 4, 4, 6, 8, 9]"
      ]
     },
     "execution_count": 15,
     "metadata": {},
     "output_type": "execute_result"
    }
   ],
   "source": [
    "mergesort(A).array"
   ]
  },
  {
   "cell_type": "code",
   "execution_count": 16,
   "metadata": {},
   "outputs": [
    {
     "data": {
      "text/plain": [
       "[1, 2, 3, 4, 5, 5, 5, 6, 7, 8, 9, 9, 10]"
      ]
     },
     "execution_count": 16,
     "metadata": {},
     "output_type": "execute_result"
    }
   ],
   "source": [
    "mergesort(B).array"
   ]
  },
  {
   "cell_type": "code",
   "execution_count": 17,
   "metadata": {},
   "outputs": [
    {
     "data": {
      "text/plain": [
       "[1, 1, 1, 1, 2, 2, 2, 2, 3, 3, 3, 3, 3, 3, 3, 4, 4, 4, 4, 4]"
      ]
     },
     "execution_count": 17,
     "metadata": {},
     "output_type": "execute_result"
    }
   ],
   "source": [
    "mergesort(C).array"
   ]
  },
  {
   "cell_type": "code",
   "execution_count": null,
   "metadata": {},
   "outputs": [],
   "source": []
  }
 ],
 "metadata": {
  "kernelspec": {
   "display_name": "Python 3",
   "language": "python",
   "name": "python3"
  },
  "language_info": {
   "codemirror_mode": {
    "name": "ipython",
    "version": 3
   },
   "file_extension": ".py",
   "mimetype": "text/x-python",
   "name": "python",
   "nbconvert_exporter": "python",
   "pygments_lexer": "ipython3",
   "version": "3.7.3"
  }
 },
 "nbformat": 4,
 "nbformat_minor": 2
}
