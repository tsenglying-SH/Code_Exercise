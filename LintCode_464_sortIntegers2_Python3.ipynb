{
 "cells": [
  {
   "cell_type": "markdown",
   "metadata": {},
   "source": [
    "### 原地操作的递归快排"
   ]
  },
  {
   "cell_type": "code",
   "execution_count": 1,
   "metadata": {},
   "outputs": [],
   "source": [
    "def sortIntegers2(A):\n",
    "    quick_sort(A,0,len(A) - 1)\n",
    "def quick_sort(A, start, end):\n",
    "    if start >= end:\n",
    "        return\n",
    "    left = start\n",
    "    right = end\n",
    "    pivot = A[(left + right) // 2]\n",
    "    #这里指针一相交就终止操作，此时已确保指针右边的比指针左边都大\n",
    "    while left <= right:\n",
    "        print(A,left,right)\n",
    "        while left <= right and A[left] < pivot:\n",
    "            left += 1\n",
    "        while left <= right and A[right] > pivot:\n",
    "            right -= 1\n",
    "        if  left <= right:\n",
    "            A[left], A[right] = A[right], A[left]\n",
    "            left += 1\n",
    "            right -= 1\n",
    "    quick_sort(A, start, right)\n",
    "    quick_sort(A, left, end) "
   ]
  },
  {
   "cell_type": "code",
   "execution_count": 2,
   "metadata": {},
   "outputs": [],
   "source": [
    "A = [8,4,2,4,1,4,3,2,9,4,6,4]"
   ]
  },
  {
   "cell_type": "code",
   "execution_count": 3,
   "metadata": {},
   "outputs": [],
   "source": [
    "B = [10,9,8,3,2,5,4,5,5,7,6,9,1]"
   ]
  },
  {
   "cell_type": "code",
   "execution_count": 4,
   "metadata": {
    "scrolled": true
   },
   "outputs": [
    {
     "name": "stdout",
     "output_type": "stream",
     "text": [
      "[8, 4, 2, 4, 1, 4, 3, 2, 9, 4, 6, 4] 0 11\n",
      "[4, 4, 2, 4, 1, 4, 3, 2, 9, 4, 6, 8] 1 10\n",
      "[4, 4, 2, 4, 1, 4, 3, 2, 9, 4, 6, 8] 2 8\n",
      "[4, 4, 2, 2, 1, 4, 3, 4, 9, 4, 6, 8] 4 6\n",
      "[4, 4, 2, 2, 1, 3, 4, 4, 9, 4, 6, 8] 0 5\n",
      "[1, 4, 2, 2, 4, 3, 4, 4, 9, 4, 6, 8] 1 3\n",
      "[1, 2, 2, 4, 4, 3, 4, 4, 9, 4, 6, 8] 2 2\n",
      "[1, 2, 2, 4, 4, 3, 4, 4, 9, 4, 6, 8] 0 1\n",
      "[1, 2, 2, 4, 4, 3, 4, 4, 9, 4, 6, 8] 3 5\n",
      "[1, 2, 2, 3, 4, 4, 4, 4, 9, 4, 6, 8] 4 4\n",
      "[1, 2, 2, 3, 4, 4, 4, 4, 9, 4, 6, 8] 6 11\n",
      "[1, 2, 2, 3, 4, 4, 4, 4, 8, 4, 6, 9] 9 10\n",
      "[1, 2, 2, 3, 4, 4, 4, 4, 8, 4, 6, 9] 6 10\n",
      "[1, 2, 2, 3, 4, 4, 4, 4, 6, 4, 8, 9] 9 9\n",
      "[1, 2, 2, 3, 4, 4, 4, 4, 6, 4, 8, 9] 6 9\n",
      "[1, 2, 2, 3, 4, 4, 4, 4, 6, 4, 8, 9] 7 8\n",
      "[1, 2, 2, 3, 4, 4, 4, 4, 6, 4, 8, 9] 8 9\n"
     ]
    }
   ],
   "source": [
    "sortIntegers2(A)"
   ]
  },
  {
   "cell_type": "code",
   "execution_count": 5,
   "metadata": {
    "scrolled": true
   },
   "outputs": [
    {
     "name": "stdout",
     "output_type": "stream",
     "text": [
      "[10, 9, 8, 3, 2, 5, 4, 5, 5, 7, 6, 9, 1] 0 12\n",
      "[1, 9, 8, 3, 2, 5, 4, 5, 5, 7, 6, 9, 10] 1 11\n",
      "[1, 4, 8, 3, 2, 5, 9, 5, 5, 7, 6, 9, 10] 2 5\n",
      "[1, 4, 2, 3, 8, 5, 9, 5, 5, 7, 6, 9, 10] 3 3\n",
      "[1, 4, 2, 3, 8, 5, 9, 5, 5, 7, 6, 9, 10] 0 3\n",
      "[1, 3, 2, 4, 8, 5, 9, 5, 5, 7, 6, 9, 10] 2 2\n",
      "[1, 3, 2, 4, 8, 5, 9, 5, 5, 7, 6, 9, 10] 0 2\n",
      "[1, 2, 3, 4, 8, 5, 9, 5, 5, 7, 6, 9, 10] 0 1\n",
      "[1, 2, 3, 4, 8, 5, 9, 5, 5, 7, 6, 9, 10] 4 12\n",
      "[1, 2, 3, 4, 5, 5, 9, 5, 8, 7, 6, 9, 10] 5 7\n",
      "[1, 2, 3, 4, 5, 5, 9, 5, 8, 7, 6, 9, 10] 6 6\n",
      "[1, 2, 3, 4, 5, 5, 9, 5, 8, 7, 6, 9, 10] 4 5\n",
      "[1, 2, 3, 4, 5, 5, 9, 5, 8, 7, 6, 9, 10] 6 12\n",
      "[1, 2, 3, 4, 5, 5, 6, 5, 8, 7, 9, 9, 10] 7 9\n",
      "[1, 2, 3, 4, 5, 5, 6, 5, 7, 8, 9, 9, 10] 6 8\n",
      "[1, 2, 3, 4, 5, 5, 5, 6, 7, 8, 9, 9, 10] 7 8\n",
      "[1, 2, 3, 4, 5, 5, 5, 6, 7, 8, 9, 9, 10] 9 12\n",
      "[1, 2, 3, 4, 5, 5, 5, 6, 7, 8, 9, 9, 10] 9 10\n",
      "[1, 2, 3, 4, 5, 5, 5, 6, 7, 8, 9, 9, 10] 11 12\n"
     ]
    }
   ],
   "source": [
    "sortIntegers2(B)"
   ]
  },
  {
   "cell_type": "code",
   "execution_count": 6,
   "metadata": {},
   "outputs": [
    {
     "data": {
      "text/plain": [
       "[1, 2, 2, 3, 4, 4, 4, 4, 4, 6, 8, 9]"
      ]
     },
     "execution_count": 6,
     "metadata": {},
     "output_type": "execute_result"
    }
   ],
   "source": [
    "A"
   ]
  },
  {
   "cell_type": "code",
   "execution_count": 7,
   "metadata": {},
   "outputs": [
    {
     "data": {
      "text/plain": [
       "[1, 2, 3, 4, 5, 5, 5, 6, 7, 8, 9, 9, 10]"
      ]
     },
     "execution_count": 7,
     "metadata": {},
     "output_type": "execute_result"
    }
   ],
   "source": [
    "B"
   ]
  },
  {
   "cell_type": "code",
   "execution_count": null,
   "metadata": {},
   "outputs": [],
   "source": []
  }
 ],
 "metadata": {
  "kernelspec": {
   "display_name": "Python 3",
   "language": "python",
   "name": "python3"
  },
  "language_info": {
   "codemirror_mode": {
    "name": "ipython",
    "version": 3
   },
   "file_extension": ".py",
   "mimetype": "text/x-python",
   "name": "python",
   "nbconvert_exporter": "python",
   "pygments_lexer": "ipython3",
   "version": "3.7.3"
  }
 },
 "nbformat": 4,
 "nbformat_minor": 2
}
