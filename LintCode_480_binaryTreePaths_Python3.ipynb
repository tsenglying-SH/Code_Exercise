{
 "cells": [
  {
   "cell_type": "markdown",
   "metadata": {},
   "source": [
    "## 输出二叉树root-null所有路径 递归方法"
   ]
  },
  {
   "cell_type": "code",
   "execution_count": null,
   "metadata": {},
   "outputs": [],
   "source": [
    "def binaryTreePaths(self, root):\n",
    "        # write your code here\n",
    "        if not root:\n",
    "            return []\n",
    "        \n",
    "        if not root.left and not root.right:\n",
    "            return [str(root.val)]\n",
    "            \n",
    "        paths = []\n",
    "        \n",
    "        if root.left:\n",
    "            for path in self.binaryTreePaths(root.left):\n",
    "                path = str(root.val) + '->' + path\n",
    "                paths.append(path)\n",
    "                \n",
    "        if root.right:\n",
    "            for path in self.binaryTreePaths(root.right):\n",
    "                path = str(root.val) + '->' + path\n",
    "                paths.append(path)\n",
    "                \n",
    "        return paths"
   ]
  }
 ],
 "metadata": {
  "kernelspec": {
   "display_name": "Python 3",
   "language": "python",
   "name": "python3"
  },
  "language_info": {
   "codemirror_mode": {
    "name": "ipython",
    "version": 3
   },
   "file_extension": ".py",
   "mimetype": "text/x-python",
   "name": "python",
   "nbconvert_exporter": "python",
   "pygments_lexer": "ipython3",
   "version": "3.7.3"
  }
 },
 "nbformat": 4,
 "nbformat_minor": 2
}
