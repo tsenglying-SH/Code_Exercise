{
 "cells": [
  {
   "cell_type": "markdown",
   "metadata": {},
   "source": [
    "O(n)时间复杂度，空间复杂度O(n)"
   ]
  },
  {
   "cell_type": "code",
   "execution_count": 1,
   "metadata": {},
   "outputs": [],
   "source": [
    "def deduplication(nums):\n",
    "    if not nums:\n",
    "        return 0\n",
    "    if len(nums) == 1:\n",
    "        return 1\n",
    "    left, right = 0, 1\n",
    "    no_dupli_set = {nums[0]}\n",
    "    while right < len(nums):\n",
    "        if nums[right] not in no_dupli_set:\n",
    "            no_dupli_set.add(nums[right])\n",
    "            left += 1\n",
    "            if left != right:\n",
    "                nums[left] = nums[right]\n",
    "        right += 1\n",
    "    print(nums)\n",
    "    return left + 1"
   ]
  },
  {
   "cell_type": "code",
   "execution_count": 2,
   "metadata": {
    "scrolled": false
   },
   "outputs": [
    {
     "name": "stdout",
     "output_type": "stream",
     "text": [
      "[1, 3, 4, 2, 5, 2, 2, 2, 5, 3]\n"
     ]
    },
    {
     "data": {
      "text/plain": [
       "5"
      ]
     },
     "execution_count": 2,
     "metadata": {},
     "output_type": "execute_result"
    }
   ],
   "source": [
    "deduplication([1,3,1,4,4,2,2,2,5,3])"
   ]
  },
  {
   "cell_type": "markdown",
   "metadata": {},
   "source": [
    "重构一番"
   ]
  },
  {
   "cell_type": "code",
   "execution_count": 3,
   "metadata": {},
   "outputs": [],
   "source": [
    "def deduplication(nums):\n",
    "    searched, pointer = set(), 0\n",
    "    for num in nums:\n",
    "        if num not in searched:\n",
    "            searched.add(num)\n",
    "            nums[pointer] = num\n",
    "            pointer += 1\n",
    "    print(nums)\n",
    "    return pointer"
   ]
  },
  {
   "cell_type": "code",
   "execution_count": 4,
   "metadata": {
    "scrolled": false
   },
   "outputs": [
    {
     "name": "stdout",
     "output_type": "stream",
     "text": [
      "[1, 3, 4, 2, 5, 2, 2, 2, 5, 3]\n"
     ]
    },
    {
     "data": {
      "text/plain": [
       "5"
      ]
     },
     "execution_count": 4,
     "metadata": {},
     "output_type": "execute_result"
    }
   ],
   "source": [
    "deduplication([1,3,1,4,4,2,2,2,5,3])"
   ]
  },
  {
   "cell_type": "markdown",
   "metadata": {},
   "source": [
    "O(nlogn)时间复杂度，空间复杂度O(1)"
   ]
  },
  {
   "cell_type": "code",
   "execution_count": 5,
   "metadata": {},
   "outputs": [],
   "source": [
    "def deduplication(nums):\n",
    "    if not nums:\n",
    "        return 0\n",
    "    nums.sort()\n",
    "    left, right = 0, 0\n",
    "    while right < len(nums):\n",
    "        if nums[right] != nums[left]:\n",
    "            left += 1\n",
    "            nums[left] = nums[right]\n",
    "        right += 1\n",
    "    print(nums)\n",
    "    return left + 1"
   ]
  },
  {
   "cell_type": "code",
   "execution_count": 6,
   "metadata": {},
   "outputs": [
    {
     "name": "stdout",
     "output_type": "stream",
     "text": [
      "[1, 2, 3, 4, 5, 3, 3, 4, 4, 5]\n"
     ]
    },
    {
     "data": {
      "text/plain": [
       "5"
      ]
     },
     "execution_count": 6,
     "metadata": {},
     "output_type": "execute_result"
    }
   ],
   "source": [
    "deduplication([1,3,1,4,4,2,2,2,5,3])"
   ]
  }
 ],
 "metadata": {
  "kernelspec": {
   "display_name": "Python 3",
   "language": "python",
   "name": "python3"
  },
  "language_info": {
   "codemirror_mode": {
    "name": "ipython",
    "version": 3
   },
   "file_extension": ".py",
   "mimetype": "text/x-python",
   "name": "python",
   "nbconvert_exporter": "python",
   "pygments_lexer": "ipython3",
   "version": "3.7.3"
  }
 },
 "nbformat": 4,
 "nbformat_minor": 2
}
