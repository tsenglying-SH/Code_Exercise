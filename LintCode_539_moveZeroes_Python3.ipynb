{
 "cells": [
  {
   "cell_type": "markdown",
   "metadata": {},
   "source": [
    "## 将0移到list尾，保证最小的“写”次数。"
   ]
  },
  {
   "cell_type": "code",
   "execution_count": 28,
   "metadata": {},
   "outputs": [],
   "source": [
    "def moveZeroes(nums):\n",
    "    left, right = 0, 0\n",
    "    while right < len(nums):\n",
    "        if nums[right] != 0:\n",
    "            if left != right:#这一句判断值时避免多余的写，可以不判断，无脑写\n",
    "                nums[left] = nums[right]\n",
    "            left += 1\n",
    "        right += 1\n",
    "        print(nums)\n",
    "    while left < len(nums):\n",
    "        if nums[left] != 0:#这一句判断值时避免多余的写，可以不判断，无脑写\n",
    "            nums[left] = 0\n",
    "        left += 1\n",
    "        print(nums)"
   ]
  },
  {
   "cell_type": "code",
   "execution_count": 29,
   "metadata": {},
   "outputs": [
    {
     "name": "stdout",
     "output_type": "stream",
     "text": [
      "[1, 0, 1, 0, 3, 12]\n",
      "[1, 0, 1, 0, 3, 12]\n",
      "[1, 1, 1, 0, 3, 12]\n",
      "[1, 1, 1, 0, 3, 12]\n",
      "[1, 1, 3, 0, 3, 12]\n",
      "[1, 1, 3, 12, 3, 12]\n",
      "[1, 1, 3, 12, 0, 12]\n",
      "[1, 1, 3, 12, 0, 0]\n"
     ]
    }
   ],
   "source": [
    "moveZeroes([1,0, 1, 0, 3, 12])"
   ]
  },
  {
   "cell_type": "code",
   "execution_count": 30,
   "metadata": {
    "scrolled": true
   },
   "outputs": [
    {
     "name": "stdout",
     "output_type": "stream",
     "text": [
      "[0, 0, 0, 3, 1]\n",
      "[0, 0, 0, 3, 1]\n",
      "[0, 0, 0, 3, 1]\n",
      "[3, 0, 0, 3, 1]\n",
      "[3, 1, 0, 3, 1]\n",
      "[3, 1, 0, 3, 1]\n",
      "[3, 1, 0, 0, 1]\n",
      "[3, 1, 0, 0, 0]\n"
     ]
    }
   ],
   "source": [
    "moveZeroes([0, 0, 0, 3, 1])"
   ]
  },
  {
   "cell_type": "markdown",
   "metadata": {},
   "source": [
    "## 用了pop和append，赖皮了，而且下标越界了，反面教材"
   ]
  },
  {
   "cell_type": "code",
   "execution_count": 7,
   "metadata": {},
   "outputs": [],
   "source": [
    "def moveZeroes(nums):\n",
    "    if not nums:\n",
    "        return\n",
    "    i = 0\n",
    "    j = len(nums) - 1\n",
    "    while i < j:\n",
    "        if nums[i] == 0:\n",
    "            nums.append(nums.pop(i))\n",
    "            j -= 1\n",
    "        else:\n",
    "            i += 1\n",
    "    print(nums)\n",
    "    return"
   ]
  },
  {
   "cell_type": "code",
   "execution_count": 8,
   "metadata": {},
   "outputs": [
    {
     "name": "stdout",
     "output_type": "stream",
     "text": [
      "[1, 3, 12, 0, 0]\n"
     ]
    }
   ],
   "source": [
    "moveZeroes([0, 1, 0, 3, 12])"
   ]
  },
  {
   "cell_type": "code",
   "execution_count": 9,
   "metadata": {
    "scrolled": true
   },
   "outputs": [
    {
     "name": "stdout",
     "output_type": "stream",
     "text": [
      "[3, 1, 0, 0, 0]\n"
     ]
    }
   ],
   "source": [
    "moveZeroes([0, 0, 0, 3, 1])"
   ]
  },
  {
   "cell_type": "code",
   "execution_count": null,
   "metadata": {},
   "outputs": [],
   "source": []
  }
 ],
 "metadata": {
  "kernelspec": {
   "display_name": "Python 3",
   "language": "python",
   "name": "python3"
  },
  "language_info": {
   "codemirror_mode": {
    "name": "ipython",
    "version": 3
   },
   "file_extension": ".py",
   "mimetype": "text/x-python",
   "name": "python",
   "nbconvert_exporter": "python",
   "pygments_lexer": "ipython3",
   "version": "3.7.3"
  }
 },
 "nbformat": 4,
 "nbformat_minor": 2
}
