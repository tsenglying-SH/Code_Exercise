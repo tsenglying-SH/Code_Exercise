{
 "cells": [
  {
   "cell_type": "markdown",
   "metadata": {},
   "source": [
    "## 参考LeetCode题解\n",
    "\n",
    "https://leetcode-cn.com/problems/lowest-common-ancestor-of-a-binary-tree/solution/er-cha-shu-de-zui-jin-gong-gong-zu-xian-by-leetcod/"
   ]
  },
  {
   "cell_type": "markdown",
   "metadata": {},
   "source": [
    "### 递归"
   ]
  },
  {
   "cell_type": "code",
   "execution_count": null,
   "metadata": {},
   "outputs": [],
   "source": [
    "\"\"\"\n",
    "Definition of TreeNode:\n",
    "class TreeNode:\n",
    "    def __init__(self, val):\n",
    "        this.val = val\n",
    "        this.left, this.right = None, None\n",
    "\"\"\"\n",
    "\n",
    "\n",
    "class Solution:\n",
    "    \"\"\"\n",
    "    @param: root: The root of the binary tree.\n",
    "    @param: A: A TreeNode\n",
    "    @param: B: A TreeNode\n",
    "    @return: Return the LCA of the two nodes.\n",
    "    \"\"\"\n",
    "    def __init__(self):\n",
    "        self.ans = None\n",
    "    \n",
    "    def lowestCommonAncestor3(self, root, A, B):\n",
    "        # write your code here\n",
    "        \n",
    "        def recurse_tree(current_node):\n",
    "            if not current_node:\n",
    "                return False\n",
    "                \n",
    "            left = recurse_tree(current_node.left)\n",
    "            right = recurse_tree(current_node.right)\n",
    "            \n",
    "            mid = current_node == A or current_node == B\n",
    "            \n",
    "            if mid + left + right >= 2:\n",
    "                self.ans = current_node\n",
    "            \n",
    "            return mid or left or right\n",
    "        \n",
    "        recurse_tree(root)\n",
    "        return self.ans\n",
    "\n"
   ]
  },
  {
   "cell_type": "markdown",
   "metadata": {},
   "source": [
    "### 迭代, 参考Leetcode题解，Lincode测试案例真心坑爹，不保证A，B一定在被搜的树中，要好好处理CornerCase"
   ]
  },
  {
   "cell_type": "code",
   "execution_count": null,
   "metadata": {},
   "outputs": [],
   "source": [
    "\"\"\"\n",
    "Definition of TreeNode:\n",
    "class TreeNode:\n",
    "    def __init__(self, val):\n",
    "        this.val = val\n",
    "        this.left, this.right = None, None\n",
    "\"\"\"\n",
    "\n",
    "\n",
    "class Solution:\n",
    "    \"\"\"\n",
    "    @param: root: The root of the binary tree.\n",
    "    @param: A: A TreeNode\n",
    "    @param: B: A TreeNode\n",
    "    @return: Return the LCA of the two nodes.\n",
    "    \"\"\"\n",
    "    def lowestCommonAncestor3(self, root, A, B):\n",
    "        # write your code here\n",
    "        if not root:\n",
    "            return None;\n",
    "        \n",
    "        parents = {root:None}\n",
    "        stack = [root]\n",
    "        \n",
    "        while A not in parents or B not in parents:\n",
    "            if not stack:\n",
    "                break\n",
    "            cur_node = stack.pop()\n",
    "            \n",
    "            if cur_node.left:\n",
    "                parents[cur_node.left] = cur_node\n",
    "                stack.append(cur_node.left)\n",
    "                \n",
    "            if cur_node.right:\n",
    "                parents[cur_node.right] = cur_node\n",
    "                stack.append(cur_node.right)\n",
    "                \n",
    "        ancestors = set()\n",
    "        \n",
    "        while A:\n",
    "            ancestors.add(A)\n",
    "            if A in parents:\n",
    "                A = parents[A]\n",
    "            else:\n",
    "                break\n",
    "            \n",
    "        while B not in ancestors:\n",
    "            if B in parents:\n",
    "                B = parents[B]\n",
    "            else:\n",
    "                return None\n",
    "        return B"
   ]
  }
 ],
 "metadata": {
  "kernelspec": {
   "display_name": "Python 3",
   "language": "python",
   "name": "python3"
  },
  "language_info": {
   "codemirror_mode": {
    "name": "ipython",
    "version": 3
   },
   "file_extension": ".py",
   "mimetype": "text/x-python",
   "name": "python",
   "nbconvert_exporter": "python",
   "pygments_lexer": "ipython3",
   "version": "3.7.3"
  }
 },
 "nbformat": 4,
 "nbformat_minor": 2
}
