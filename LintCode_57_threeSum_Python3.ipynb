{
 "cells": [
  {
   "cell_type": "markdown",
   "metadata": {},
   "source": [
    "想到了退化为TwoSum去做，但是跟答案不太一样"
   ]
  },
  {
   "cell_type": "code",
   "execution_count": 79,
   "metadata": {},
   "outputs": [],
   "source": [
    "def threeSum(numbers):\n",
    "    results = set()\n",
    "    for i, c in enumerate(numbers):\n",
    "        candidates = twoSum(numbers[i + 1:], -c)\n",
    "        if candidates:\n",
    "            for tup in candidates:\n",
    "                results.add(tup)\n",
    "    return list(map(list, results))\n",
    "\n",
    "def twoSum(array, target):\n",
    "    if len(array) < 2:\n",
    "        return []\n",
    "    hash = {}\n",
    "    results = []\n",
    "    for i,e in enumerate(array):\n",
    "        if target - e in hash:\n",
    "            results.append(tuple(sorted([-target, e, target - e])))\n",
    "        else:\n",
    "            if e not in hash:\n",
    "                hash[e] = i\n",
    "    return results"
   ]
  },
  {
   "cell_type": "code",
   "execution_count": 80,
   "metadata": {
    "scrolled": true
   },
   "outputs": [
    {
     "data": {
      "text/plain": [
       "[(-8, 2, 6), (-8, 3, 5)]"
      ]
     },
     "execution_count": 80,
     "metadata": {},
     "output_type": "execute_result"
    }
   ],
   "source": [
    "twoSum([1,2,4,5,8,9,6,3], 8)"
   ]
  },
  {
   "cell_type": "code",
   "execution_count": 81,
   "metadata": {
    "scrolled": false
   },
   "outputs": [
    {
     "data": {
      "text/plain": [
       "[[-1, -1, 2], [-1, 0, 1]]"
      ]
     },
     "execution_count": 81,
     "metadata": {},
     "output_type": "execute_result"
    }
   ],
   "source": [
    "threeSum([-1,0,1,2,-1,-4])"
   ]
  },
  {
   "cell_type": "markdown",
   "metadata": {},
   "source": [
    "题解"
   ]
  },
  {
   "cell_type": "code",
   "execution_count": 86,
   "metadata": {},
   "outputs": [],
   "source": [
    "def threeSum(numbers):\n",
    "    leng = len(numbers)\n",
    "    if leng < 3:\n",
    "        return []\n",
    "    numbers.sort()\n",
    "    results = []\n",
    "    for i in range(leng - 2):\n",
    "        if i > 0 and numbers[i] == numbers[i - 1]:\n",
    "            continue\n",
    "        twoSum(numbers, i + 1, leng - 1, - numbers[i], results)\n",
    "    return results  \n",
    "def twoSum(numbers,left, right, target, results):\n",
    "    i, j = left, right\n",
    "    while i < j:\n",
    "        if numbers[i] + numbers[j] == target:\n",
    "            results.append([- target, numbers[i], numbers[j]])\n",
    "            i += 1\n",
    "            j -= 1\n",
    "            while i < j and numbers[i] == numbers[i - 1]:\n",
    "                i += 1\n",
    "            while i < j and numbers[j] == numbers[j + 1]:\n",
    "                j -= 1\n",
    "        elif i < j and numbers[i] + numbers[j] < target:\n",
    "            i += 1\n",
    "        elif i < j and numbers[i] + numbers[j] > target:\n",
    "            j -= 1"
   ]
  },
  {
   "cell_type": "code",
   "execution_count": 87,
   "metadata": {
    "scrolled": false
   },
   "outputs": [
    {
     "data": {
      "text/plain": [
       "[[-1, -1, 2], [-1, 0, 1]]"
      ]
     },
     "execution_count": 87,
     "metadata": {},
     "output_type": "execute_result"
    }
   ],
   "source": [
    "threeSum([-1,0,1,2,-1,-4])"
   ]
  },
  {
   "cell_type": "code",
   "execution_count": null,
   "metadata": {},
   "outputs": [],
   "source": []
  }
 ],
 "metadata": {
  "kernelspec": {
   "display_name": "Python 3",
   "language": "python",
   "name": "python3"
  },
  "language_info": {
   "codemirror_mode": {
    "name": "ipython",
    "version": 3
   },
   "file_extension": ".py",
   "mimetype": "text/x-python",
   "name": "python",
   "nbconvert_exporter": "python",
   "pygments_lexer": "ipython3",
   "version": "3.7.3"
  }
 },
 "nbformat": 4,
 "nbformat_minor": 2
}
