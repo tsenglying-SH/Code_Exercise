{
 "cells": [
  {
   "cell_type": "code",
   "execution_count": 3,
   "metadata": {},
   "outputs": [],
   "source": [
    "def wordBreak2(s, wordDict):\n",
    "        # write your code here\n",
    "        memo = {}\n",
    "        return dfs(s, wordDict, memo)\n",
    "        \n",
    "        \n",
    "def dfs(s, wordDict, memo):\n",
    "    if not s:\n",
    "        return []\n",
    "\n",
    "    if s in memo:\n",
    "        return memo[s]\n",
    "\n",
    "    result = []\n",
    "\n",
    "    for i in range(1, len(s)):\n",
    "        prefix = s[:i]\n",
    "        if prefix not in wordDict:\n",
    "            continue\n",
    "\n",
    "        sub_result = dfs(s[i:], wordDict, memo)\n",
    "        for partition in sub_result:\n",
    "            result.append(prefix + ' ' + partition)\n",
    "\n",
    "    if s in wordDict:\n",
    "        result.append(s)\n",
    "\n",
    "    memo[s] = result\n",
    "    return result"
   ]
  },
  {
   "cell_type": "code",
   "execution_count": 4,
   "metadata": {},
   "outputs": [
    {
     "data": {
      "text/plain": [
       "['cat sand dog', 'cats and dog']"
      ]
     },
     "execution_count": 4,
     "metadata": {},
     "output_type": "execute_result"
    }
   ],
   "source": [
    "wordBreak2(\"catsanddog\", [\"cat\",\"cats\",\"and\",\"sand\",\"dog\"])"
   ]
  },
  {
   "cell_type": "code",
   "execution_count": null,
   "metadata": {},
   "outputs": [],
   "source": []
  }
 ],
 "metadata": {
  "kernelspec": {
   "display_name": "Python 3",
   "language": "python",
   "name": "python3"
  },
  "language_info": {
   "codemirror_mode": {
    "name": "ipython",
    "version": 3
   },
   "file_extension": ".py",
   "mimetype": "text/x-python",
   "name": "python",
   "nbconvert_exporter": "python",
   "pygments_lexer": "ipython3",
   "version": "3.7.3"
  }
 },
 "nbformat": 4,
 "nbformat_minor": 2
}
