{
 "cells": [
  {
   "cell_type": "markdown",
   "metadata": {},
   "source": [
    "## 寻找和最小的子树 遍历并不断更新最小值和最小树根"
   ]
  },
  {
   "cell_type": "code",
   "execution_count": 1,
   "metadata": {},
   "outputs": [],
   "source": [
    "\"\"\"\n",
    "Definition of TreeNode:\n",
    "class TreeNode:\n",
    "    def __init__(self, val):\n",
    "        self.val = val\n",
    "        self.left, self.right = None, None\n",
    "\"\"\"\n",
    "\n",
    "class Solution:\n",
    "    \"\"\"\n",
    "    @param root: the root of binary tree\n",
    "    @return: the root of the minimum subtree\n",
    "    \"\"\"\n",
    "    def findSubtree(self, root):\n",
    "        # write your code here\n",
    "        self.minimum_sum = None\n",
    "        self.minimum_tree = None\n",
    "        self.sum_tree(root)\n",
    "        return self.minimum_tree\n",
    "        \n",
    "    def sum_tree(self, root):\n",
    "        if not root:\n",
    "            return 0\n",
    "        \n",
    "        tree_sum = self.sum_tree(root.left) + root.val + self.sum_tree(root.right)\n",
    "        if (not self.minimum_sum) or tree_sum < self.minimum_sum:\n",
    "            self.minimum_sum = tree_sum\n",
    "            self.minimum_tree = root\n",
    "        return tree_sum"
   ]
  },
  {
   "cell_type": "code",
   "execution_count": null,
   "metadata": {},
   "outputs": [],
   "source": []
  }
 ],
 "metadata": {
  "kernelspec": {
   "display_name": "Python 3",
   "language": "python",
   "name": "python3"
  },
  "language_info": {
   "codemirror_mode": {
    "name": "ipython",
    "version": 3
   },
   "file_extension": ".py",
   "mimetype": "text/x-python",
   "name": "python",
   "nbconvert_exporter": "python",
   "pygments_lexer": "ipython3",
   "version": "3.7.3"
  }
 },
 "nbformat": 4,
 "nbformat_minor": 2
}
