{
 "cells": [
  {
   "cell_type": "markdown",
   "metadata": {},
   "source": [
    "快速选择算法，快排的一种变形"
   ]
  },
  {
   "cell_type": "code",
   "execution_count": 21,
   "metadata": {},
   "outputs": [],
   "source": [
    "def kthLargestElement(n, nums):\n",
    "    if not nums or n > len(nums) or n <= 0: return\n",
    "    if len(nums) == 1 and n == 1: return nums[0]\n",
    "    leng = len(nums)\n",
    "    left, right = 0, leng - 1\n",
    "    pivot = nums[(left + right) // 2]\n",
    "    while left <= right:\n",
    "        while left <= right and nums[left] > pivot:\n",
    "            left += 1\n",
    "        while left <= right and nums[right] < pivot:\n",
    "            right -= 1\n",
    "        if left <= right:\n",
    "            nums[left], nums[right] = nums[right], nums[left]\n",
    "            left += 1\n",
    "            right -= 1\n",
    "    if left >= n:\n",
    "        return kthLargestElement(n, nums[:left])\n",
    "    elif left < n:\n",
    "        return kthLargestElement(n - left,nums[left:])"
   ]
  },
  {
   "cell_type": "code",
   "execution_count": 22,
   "metadata": {},
   "outputs": [],
   "source": [
    "n = 1\n",
    "nums = [1, 3, 4, 2]"
   ]
  },
  {
   "cell_type": "code",
   "execution_count": 23,
   "metadata": {},
   "outputs": [
    {
     "data": {
      "text/plain": [
       "4"
      ]
     },
     "execution_count": 23,
     "metadata": {},
     "output_type": "execute_result"
    }
   ],
   "source": [
    "kthLargestElement(n, nums)"
   ]
  },
  {
   "cell_type": "code",
   "execution_count": 24,
   "metadata": {},
   "outputs": [],
   "source": [
    "n = 3\n",
    "nums = [9, 3, 2, 4, 8]"
   ]
  },
  {
   "cell_type": "code",
   "execution_count": 25,
   "metadata": {
    "scrolled": false
   },
   "outputs": [
    {
     "data": {
      "text/plain": [
       "4"
      ]
     },
     "execution_count": 25,
     "metadata": {},
     "output_type": "execute_result"
    }
   ],
   "source": [
    "kthLargestElement(n, nums)"
   ]
  },
  {
   "cell_type": "markdown",
   "metadata": {},
   "source": [
    "题解模板"
   ]
  },
  {
   "cell_type": "code",
   "execution_count": 26,
   "metadata": {},
   "outputs": [],
   "source": [
    "def kthLargestElement(k, A):\n",
    "        if not A or k < 1 or k > len(A):\n",
    "            return None\n",
    "        return partition(A, 0, len(A) - 1, k)\n",
    "        \n",
    "def partition(nums, start, end, k):\n",
    "    \"\"\"\n",
    "    During the process, it's guaranteed start <= k <= end\n",
    "    \"\"\"\n",
    "    if start == end:\n",
    "        return nums[start]\n",
    "\n",
    "    left, right = start, end\n",
    "    pivot = nums[(start + end) // 2]\n",
    "    while left <= right:\n",
    "        while left <= right and nums[left] > pivot:\n",
    "            left += 1\n",
    "        while left <= right and nums[right] < pivot:\n",
    "            right -= 1\n",
    "        if left <= right:\n",
    "            nums[left], nums[right] = nums[right], nums[left]\n",
    "            left, right = left + 1, right - 1\n",
    "\n",
    "    # left is not bigger than right\n",
    "    if start + k - 1 <= right:\n",
    "        return partition(nums, start, right, k)\n",
    "    if start + k - 1 >= left:\n",
    "        return partition(nums, left, end, k - (left - start))\n",
    "    return nums[right + 1]"
   ]
  },
  {
   "cell_type": "code",
   "execution_count": 27,
   "metadata": {},
   "outputs": [],
   "source": [
    "n = 1\n",
    "nums = [1, 3, 4, 2]"
   ]
  },
  {
   "cell_type": "code",
   "execution_count": 28,
   "metadata": {},
   "outputs": [
    {
     "data": {
      "text/plain": [
       "4"
      ]
     },
     "execution_count": 28,
     "metadata": {},
     "output_type": "execute_result"
    }
   ],
   "source": [
    "kthLargestElement(n, nums)"
   ]
  },
  {
   "cell_type": "code",
   "execution_count": 29,
   "metadata": {},
   "outputs": [],
   "source": [
    "n = 3\n",
    "nums = [9, 3, 2, 4, 8]"
   ]
  },
  {
   "cell_type": "code",
   "execution_count": 30,
   "metadata": {
    "scrolled": false
   },
   "outputs": [
    {
     "data": {
      "text/plain": [
       "4"
      ]
     },
     "execution_count": 30,
     "metadata": {},
     "output_type": "execute_result"
    }
   ],
   "source": [
    "kthLargestElement(n, nums)"
   ]
  },
  {
   "cell_type": "code",
   "execution_count": null,
   "metadata": {},
   "outputs": [],
   "source": []
  },
  {
   "cell_type": "code",
   "execution_count": null,
   "metadata": {},
   "outputs": [],
   "source": []
  }
 ],
 "metadata": {
  "kernelspec": {
   "display_name": "Python 3",
   "language": "python",
   "name": "python3"
  },
  "language_info": {
   "codemirror_mode": {
    "name": "ipython",
    "version": 3
   },
   "file_extension": ".py",
   "mimetype": "text/x-python",
   "name": "python",
   "nbconvert_exporter": "python",
   "pygments_lexer": "ipython3",
   "version": "3.7.3"
  }
 },
 "nbformat": 4,
 "nbformat_minor": 2
}
