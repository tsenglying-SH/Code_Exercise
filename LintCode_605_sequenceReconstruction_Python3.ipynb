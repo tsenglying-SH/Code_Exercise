{
 "cells": [
  {
   "cell_type": "markdown",
   "metadata": {},
   "source": [
    "graph和indegrees table理清楚，就是普通的拓扑排序，只要保证queue中始终只有一条路"
   ]
  },
  {
   "cell_type": "code",
   "execution_count": 1,
   "metadata": {},
   "outputs": [],
   "source": [
    "def sequenceReconstruction(org, seqs):\n",
    "    graph = build_graph(seqs)\n",
    "    topo_order = topological_sort(graph)\n",
    "    return topo_order == org, topo_order\n",
    "\n",
    "\n",
    "def build_graph(seqs):\n",
    "    graph = {}\n",
    "    for seq in seqs:\n",
    "        for node in seq:\n",
    "            if node not in graph:\n",
    "                graph[node] = set()\n",
    "    \n",
    "    for seq in seqs:\n",
    "        for i in range(1, len(seq)):\n",
    "            graph[seq[i - 1]].add(seq[i])\n",
    "    return graph\n",
    "\n",
    "\n",
    "def get_indegrees(graph):\n",
    "    indegrees = {node:0 for node in graph}\n",
    "    for node in graph:\n",
    "        for des in graph[node]:\n",
    "            indegrees[des] += 1\n",
    "    return indegrees\n",
    "\n",
    "\n",
    "def topological_sort(graph):\n",
    "    indegrees = get_indegrees(graph)\n",
    "    queue = [node for node in indegrees if indegrees[node] == 0]\n",
    "    topo_order = []\n",
    "    while queue:\n",
    "        if len(queue) > 1:\n",
    "            return None\n",
    "        node = queue.pop()\n",
    "        topo_order.append(node)\n",
    "        for des in graph[node]:\n",
    "            indegrees[des] -= 1\n",
    "            if indegrees[des] == 0:\n",
    "                queue.append(des)\n",
    "    \n",
    "    if len(topo_order) == len(graph):\n",
    "        return topo_order\n",
    "    return None"
   ]
  },
  {
   "cell_type": "code",
   "execution_count": 2,
   "metadata": {},
   "outputs": [
    {
     "data": {
      "text/plain": [
       "(False, None)"
      ]
     },
     "execution_count": 2,
     "metadata": {},
     "output_type": "execute_result"
    }
   ],
   "source": [
    "org = [1,2,3]\n",
    "seqs = [[1,2],[1,3]]\n",
    "sequenceReconstruction(org, seqs) #False"
   ]
  },
  {
   "cell_type": "code",
   "execution_count": 3,
   "metadata": {},
   "outputs": [
    {
     "data": {
      "text/plain": [
       "(False, [1, 2])"
      ]
     },
     "execution_count": 3,
     "metadata": {},
     "output_type": "execute_result"
    }
   ],
   "source": [
    "org = [1,2,3]\n",
    "seqs = [[1,2]]\n",
    "sequenceReconstruction(org, seqs) #False"
   ]
  },
  {
   "cell_type": "code",
   "execution_count": 4,
   "metadata": {},
   "outputs": [
    {
     "data": {
      "text/plain": [
       "(True, [1, 2, 3])"
      ]
     },
     "execution_count": 4,
     "metadata": {},
     "output_type": "execute_result"
    }
   ],
   "source": [
    "org = [1,2,3]\n",
    "seqs = [[1,2],[1,3],[2,3]]\n",
    "sequenceReconstruction(org, seqs) #True"
   ]
  },
  {
   "cell_type": "code",
   "execution_count": 5,
   "metadata": {},
   "outputs": [
    {
     "data": {
      "text/plain": [
       "(True, [4, 1, 5, 2, 6, 3])"
      ]
     },
     "execution_count": 5,
     "metadata": {},
     "output_type": "execute_result"
    }
   ],
   "source": [
    "org = [4,1,5,2,6,3]\n",
    "seqs = [[5,2,6,3],[4,1,5,2]]\n",
    "sequenceReconstruction(org, seqs) #True"
   ]
  },
  {
   "cell_type": "code",
   "execution_count": null,
   "metadata": {},
   "outputs": [],
   "source": []
  },
  {
   "cell_type": "code",
   "execution_count": null,
   "metadata": {},
   "outputs": [],
   "source": []
  }
 ],
 "metadata": {
  "kernelspec": {
   "display_name": "Python 3",
   "language": "python",
   "name": "python3"
  },
  "language_info": {
   "codemirror_mode": {
    "name": "ipython",
    "version": 3
   },
   "file_extension": ".py",
   "mimetype": "text/x-python",
   "name": "python",
   "nbconvert_exporter": "python",
   "pygments_lexer": "ipython3",
   "version": "3.7.3"
  }
 },
 "nbformat": 4,
 "nbformat_minor": 2
}
