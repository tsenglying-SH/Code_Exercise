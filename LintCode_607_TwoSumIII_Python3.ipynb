{
 "cells": [
  {
   "cell_type": "markdown",
   "metadata": {},
   "source": [
    "#### 使用哈希表数据结构"
   ]
  },
  {
   "cell_type": "code",
   "execution_count": 34,
   "metadata": {},
   "outputs": [],
   "source": [
    "class TwoSum:\n",
    "    \"\"\"\n",
    "    @param number: An integer\n",
    "    @return: nothing\n",
    "    \"\"\"\n",
    "    def __init__(self):\n",
    "        self.numbers = {}\n",
    "    def add(self, number):\n",
    "        # write your code here\n",
    "        if number in self.numbers:\n",
    "            self.numbers[number] += 1\n",
    "        else:\n",
    "            self.numbers[number] = 1\n",
    "    \"\"\"\n",
    "    @param value: An integer\n",
    "    @return: Find if there exists any pair of numbers which sum is equal to the value.\n",
    "    \"\"\"\n",
    "    def find(self, value):\n",
    "        # write your code here\n",
    "        for num in self.numbers:\n",
    "            if value - num in self.numbers and (value != num + num or self.numbers[num] >= 2):\n",
    "                    return True\n",
    "        return False"
   ]
  },
  {
   "cell_type": "code",
   "execution_count": 35,
   "metadata": {},
   "outputs": [],
   "source": [
    "twoSum = TwoSum()"
   ]
  },
  {
   "cell_type": "code",
   "execution_count": 36,
   "metadata": {},
   "outputs": [],
   "source": [
    "twoSum.add(1)"
   ]
  },
  {
   "cell_type": "code",
   "execution_count": 37,
   "metadata": {},
   "outputs": [],
   "source": [
    "twoSum.add(3)"
   ]
  },
  {
   "cell_type": "code",
   "execution_count": 38,
   "metadata": {},
   "outputs": [],
   "source": [
    "twoSum.add(5)"
   ]
  },
  {
   "cell_type": "code",
   "execution_count": 39,
   "metadata": {},
   "outputs": [
    {
     "data": {
      "text/plain": [
       "True"
      ]
     },
     "execution_count": 39,
     "metadata": {},
     "output_type": "execute_result"
    }
   ],
   "source": [
    "twoSum.find(4)"
   ]
  },
  {
   "cell_type": "code",
   "execution_count": 40,
   "metadata": {},
   "outputs": [
    {
     "data": {
      "text/plain": [
       "False"
      ]
     },
     "execution_count": 40,
     "metadata": {},
     "output_type": "execute_result"
    }
   ],
   "source": [
    "twoSum.find(7)"
   ]
  },
  {
   "cell_type": "markdown",
   "metadata": {},
   "source": [
    "#### 使用列表数据结构，遍历，时间复杂度较高，答案正确，但数据量大会超时"
   ]
  },
  {
   "cell_type": "code",
   "execution_count": 4,
   "metadata": {},
   "outputs": [],
   "source": [
    "class TwoSum():\n",
    "    \"\"\"\n",
    "    @param number: An integer\n",
    "    @return: nothing\n",
    "    \"\"\"\n",
    "    def __init__(self):\n",
    "        self.numbers = []\n",
    "    def add(self, number):\n",
    "        # write your code here\n",
    "        self.numbers.append(number)\n",
    "    \"\"\"\n",
    "    @param value: An integer\n",
    "    @return: Find if there exists any pair of numbers which sum is equal to the value.\n",
    "    \"\"\"\n",
    "    def find(self, value):\n",
    "        # write your code here\n",
    "        for i in range(len(self.numbers) - 1):\n",
    "            for j in range(i + 1,len(self.numbers)):\n",
    "                if self.numbers[i] + self.numbers[j] == value:\n",
    "                    return True\n",
    "        return False"
   ]
  },
  {
   "cell_type": "code",
   "execution_count": 5,
   "metadata": {},
   "outputs": [],
   "source": [
    "twoSum = TwoSum()"
   ]
  },
  {
   "cell_type": "code",
   "execution_count": 6,
   "metadata": {},
   "outputs": [],
   "source": [
    "twoSum.add(1)"
   ]
  },
  {
   "cell_type": "code",
   "execution_count": 7,
   "metadata": {},
   "outputs": [],
   "source": [
    "twoSum.add(3)"
   ]
  },
  {
   "cell_type": "code",
   "execution_count": 8,
   "metadata": {},
   "outputs": [],
   "source": [
    "twoSum.add(5)"
   ]
  },
  {
   "cell_type": "code",
   "execution_count": 9,
   "metadata": {},
   "outputs": [
    {
     "data": {
      "text/plain": [
       "True"
      ]
     },
     "execution_count": 9,
     "metadata": {},
     "output_type": "execute_result"
    }
   ],
   "source": [
    "twoSum.find(4)"
   ]
  },
  {
   "cell_type": "code",
   "execution_count": 10,
   "metadata": {},
   "outputs": [
    {
     "data": {
      "text/plain": [
       "False"
      ]
     },
     "execution_count": 10,
     "metadata": {},
     "output_type": "execute_result"
    }
   ],
   "source": [
    "twoSum.find(7)"
   ]
  },
  {
   "cell_type": "code",
   "execution_count": null,
   "metadata": {},
   "outputs": [],
   "source": []
  }
 ],
 "metadata": {
  "kernelspec": {
   "display_name": "Python 3",
   "language": "python",
   "name": "python3"
  },
  "language_info": {
   "codemirror_mode": {
    "name": "ipython",
    "version": 3
   },
   "file_extension": ".py",
   "mimetype": "text/x-python",
   "name": "python",
   "nbconvert_exporter": "python",
   "pygments_lexer": "ipython3",
   "version": "3.7.3"
  }
 },
 "nbformat": 4,
 "nbformat_minor": 2
}
