{
 "cells": [
  {
   "cell_type": "markdown",
   "metadata": {},
   "source": [
    "BFS找最短路径，因为同时记录了路径，所以AC的时候没有那么快；\n",
    "题解是将每个点的步长记录在hash表中，所以存储、操作更快"
   ]
  },
  {
   "cell_type": "code",
   "execution_count": 1,
   "metadata": {},
   "outputs": [],
   "source": [
    "from collections import deque\n",
    "def shortestPath(grid, source, destination):\n",
    "    if not grid or len(grid[0]) == 0 or len(grid) == 0:\n",
    "        return -1\n",
    "    max_x, max_y = len(grid), len(grid[0])\n",
    "    grid[source[0]][source[1]] = 1\n",
    "    movements = [(2, 1), (2, -1), (-2, 1), (-2, -1), (1, 2), (1, -2), (-1, 2), (-1, -2)]\n",
    "    queue = deque([[source]])\n",
    "    while queue:\n",
    "        prefix = queue.popleft()\n",
    "        x, y = prefix[-1]\n",
    "        for dx, dy in movements:\n",
    "            if 0 <= (x + dx) < max_x and 0 <= (y + dy) < max_y and grid[x + dx][y + dy] == 0:\n",
    "                if [x + dx, y + dy] == destination:\n",
    "                    prefix += [destination]\n",
    "                    return len(prefix) - 1,prefix\n",
    "                else:\n",
    "                    queue.append(prefix + [[x + dx, y + dy]])\n",
    "                    grid[x + dx][y + dy] = 1\n",
    "    return -1"
   ]
  },
  {
   "cell_type": "code",
   "execution_count": 2,
   "metadata": {},
   "outputs": [],
   "source": [
    "grid = [[0,1,0],[0,0,0],[0,0,0]]\n",
    "source = [2, 0]\n",
    "destination = [2, 2]"
   ]
  },
  {
   "cell_type": "code",
   "execution_count": 3,
   "metadata": {},
   "outputs": [
    {
     "data": {
      "text/plain": [
       "(6, [[2, 0], [1, 2], [0, 0], [2, 1], [0, 2], [1, 0], [2, 2]])"
      ]
     },
     "execution_count": 3,
     "metadata": {},
     "output_type": "execute_result"
    }
   ],
   "source": [
    "shortestPath(grid, source, destination)"
   ]
  },
  {
   "cell_type": "code",
   "execution_count": 4,
   "metadata": {},
   "outputs": [],
   "source": [
    "grid = [[0,0,0],[0,0,0],[0,0,0]]\n",
    "source = [2, 0]\n",
    "destination = [2, 2]"
   ]
  },
  {
   "cell_type": "code",
   "execution_count": 5,
   "metadata": {},
   "outputs": [
    {
     "data": {
      "text/plain": [
       "(2, [[2, 0], [0, 1], [2, 2]])"
      ]
     },
     "execution_count": 5,
     "metadata": {},
     "output_type": "execute_result"
    }
   ],
   "source": [
    "shortestPath(grid, source, destination)"
   ]
  },
  {
   "cell_type": "code",
   "execution_count": 6,
   "metadata": {},
   "outputs": [],
   "source": [
    "grid = [[0,1,0],[0,0,1],[0,0,0]]\n",
    "source = [2, 0]\n",
    "destination = [2, 2]"
   ]
  },
  {
   "cell_type": "code",
   "execution_count": 7,
   "metadata": {},
   "outputs": [
    {
     "data": {
      "text/plain": [
       "-1"
      ]
     },
     "execution_count": 7,
     "metadata": {},
     "output_type": "execute_result"
    }
   ],
   "source": [
    "shortestPath(grid, source, destination)"
   ]
  },
  {
   "cell_type": "code",
   "execution_count": 8,
   "metadata": {},
   "outputs": [],
   "source": [
    "grid = [[0,0,0,0,1,1],\n",
    "        [1,0,1,0,0,1],\n",
    "        [0,0,1,0,0,1],\n",
    "        [0,0,1,1,0,1],\n",
    "        [1,0,1,0,0,1],\n",
    "        [0,0,1,0,0,1],\n",
    "        [0,0,1,0,0,1],\n",
    "        [0,0,1,0,0,1]]\n",
    "source = [0, 0]\n",
    "destination = [7, 0]"
   ]
  },
  {
   "cell_type": "code",
   "execution_count": 9,
   "metadata": {
    "scrolled": true
   },
   "outputs": [
    {
     "data": {
      "text/plain": [
       "(7, [[0, 0], [2, 1], [0, 2], [2, 3], [4, 4], [6, 3], [5, 1], [7, 0]])"
      ]
     },
     "execution_count": 9,
     "metadata": {},
     "output_type": "execute_result"
    }
   ],
   "source": [
    "shortestPath(grid, source, destination)"
   ]
  },
  {
   "cell_type": "code",
   "execution_count": null,
   "metadata": {},
   "outputs": [],
   "source": []
  }
 ],
 "metadata": {
  "kernelspec": {
   "display_name": "Python 3",
   "language": "python",
   "name": "python3"
  },
  "language_info": {
   "codemirror_mode": {
    "name": "ipython",
    "version": 3
   },
   "file_extension": ".py",
   "mimetype": "text/x-python",
   "name": "python",
   "nbconvert_exporter": "python",
   "pygments_lexer": "ipython3",
   "version": "3.7.3"
  }
 },
 "nbformat": 4,
 "nbformat_minor": 2
}
