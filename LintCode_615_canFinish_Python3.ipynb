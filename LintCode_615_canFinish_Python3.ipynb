{
 "cells": [
  {
   "cell_type": "markdown",
   "metadata": {},
   "source": [
    "拓扑排序？！"
   ]
  },
  {
   "cell_type": "code",
   "execution_count": 1,
   "metadata": {},
   "outputs": [],
   "source": [
    "from collections import deque"
   ]
  },
  {
   "cell_type": "code",
   "execution_count": 2,
   "metadata": {},
   "outputs": [],
   "source": [
    "def canFinish(numCourses, prerequisites):\n",
    "    edges = {i:[] for i in range(numCourses)}\n",
    "    degrees = [0 for i in range(numCourses)]\n",
    "    for i, j in prerequisites:\n",
    "        edges[j].append(i)\n",
    "        degrees[i] += 1\n",
    "    print(edges, degrees) \n",
    "    \n",
    "    queue, count = deque([]), 0\n",
    "    \n",
    "    \n",
    "    for i in range(numCourses):\n",
    "        if degrees[i] == 0:\n",
    "            queue.append(i)\n",
    "      \n",
    "    \n",
    "    while queue:\n",
    "        node = queue.popleft()\n",
    "        print(node)\n",
    "        count += 1\n",
    "        for x in edges[node]:\n",
    "            degrees[x] -= 1\n",
    "            if degrees[x] == 0:\n",
    "                queue.append(x)\n",
    "                \n",
    "    return count == numCourses"
   ]
  },
  {
   "cell_type": "code",
   "execution_count": 3,
   "metadata": {},
   "outputs": [
    {
     "name": "stdout",
     "output_type": "stream",
     "text": [
      "{0: [], 1: [0]} [1, 0]\n",
      "1\n",
      "0\n"
     ]
    },
    {
     "data": {
      "text/plain": [
       "True"
      ]
     },
     "execution_count": 3,
     "metadata": {},
     "output_type": "execute_result"
    }
   ],
   "source": [
    "canFinish(2, [[0,1]])"
   ]
  },
  {
   "cell_type": "code",
   "execution_count": 4,
   "metadata": {
    "scrolled": true
   },
   "outputs": [
    {
     "name": "stdout",
     "output_type": "stream",
     "text": [
      "{0: [1], 1: [0]} [1, 1]\n"
     ]
    },
    {
     "data": {
      "text/plain": [
       "False"
      ]
     },
     "execution_count": 4,
     "metadata": {},
     "output_type": "execute_result"
    }
   ],
   "source": [
    "canFinish(2, [[0,1], [1, 0]])"
   ]
  },
  {
   "cell_type": "code",
   "execution_count": null,
   "metadata": {},
   "outputs": [],
   "source": []
  }
 ],
 "metadata": {
  "kernelspec": {
   "display_name": "Python 3",
   "language": "python",
   "name": "python3"
  },
  "language_info": {
   "codemirror_mode": {
    "name": "ipython",
    "version": 3
   },
   "file_extension": ".py",
   "mimetype": "text/x-python",
   "name": "python",
   "nbconvert_exporter": "python",
   "pygments_lexer": "ipython3",
   "version": "3.7.3"
  }
 },
 "nbformat": 4,
 "nbformat_minor": 2
}
