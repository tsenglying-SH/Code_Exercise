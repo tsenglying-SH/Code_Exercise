{
 "cells": [
  {
   "cell_type": "code",
   "execution_count": 2,
   "metadata": {},
   "outputs": [],
   "source": [
    "def longestPalindrome(s):\n",
    "    char_cnt = {}\n",
    "    for c in s:\n",
    "        if c in char_cnt:\n",
    "            char_cnt[c] += 1\n",
    "        else:\n",
    "            char_cnt[c] = 1\n",
    "    odd_get = False\n",
    "    length = 0\n",
    "    for num in char_cnt.values():\n",
    "        if num % 2 == 0:\n",
    "            length += num\n",
    "        else:\n",
    "            if not odd_get:\n",
    "                length += num\n",
    "                odd_get = True\n",
    "            else:\n",
    "                length += num - 1\n",
    "    return length"
   ]
  },
  {
   "cell_type": "code",
   "execution_count": 3,
   "metadata": {},
   "outputs": [],
   "source": [
    "def longestPalindrome1(s):\n",
    "    hash = {}\n",
    "    for c in s:\n",
    "        if c in hash:\n",
    "            del hash[c]\n",
    "        else:\n",
    "            hash[c] = True\n",
    "\n",
    "    remove = len(hash)\n",
    "    if remove > 0:\n",
    "        remove -= 1\n",
    "    return len(s) - remove"
   ]
  },
  {
   "cell_type": "code",
   "execution_count": 4,
   "metadata": {},
   "outputs": [
    {
     "data": {
      "text/plain": [
       "13"
      ]
     },
     "execution_count": 4,
     "metadata": {},
     "output_type": "execute_result"
    }
   ],
   "source": [
    "longestPalindrome('aabbbcccccdddd')"
   ]
  },
  {
   "cell_type": "code",
   "execution_count": 5,
   "metadata": {},
   "outputs": [
    {
     "data": {
      "text/plain": [
       "13"
      ]
     },
     "execution_count": 5,
     "metadata": {},
     "output_type": "execute_result"
    }
   ],
   "source": [
    "longestPalindrome1('aabbbcccccdddd')"
   ]
  },
  {
   "cell_type": "code",
   "execution_count": null,
   "metadata": {},
   "outputs": [],
   "source": []
  }
 ],
 "metadata": {
  "kernelspec": {
   "display_name": "Python 3",
   "language": "python",
   "name": "python3"
  },
  "language_info": {
   "codemirror_mode": {
    "name": "ipython",
    "version": 3
   },
   "file_extension": ".py",
   "mimetype": "text/x-python",
   "name": "python",
   "nbconvert_exporter": "python",
   "pygments_lexer": "ipython3",
   "version": "3.7.0"
  }
 },
 "nbformat": 4,
 "nbformat_minor": 2
}
