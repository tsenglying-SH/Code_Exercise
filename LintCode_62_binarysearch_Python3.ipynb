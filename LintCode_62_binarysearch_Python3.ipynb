{
 "cells": [
  {
   "cell_type": "markdown",
   "metadata": {},
   "source": [
    "#### 一次查找，分四种情况"
   ]
  },
  {
   "cell_type": "code",
   "execution_count": 60,
   "metadata": {},
   "outputs": [],
   "source": [
    "def search(A,target):\n",
    "    if not A:\n",
    "            return -1\n",
    "    leng = len(A)\n",
    "    i,j = 0,leng - 1\n",
    "    left,right = A[0], A[j]\n",
    "    while i + 1 < j:\n",
    "        mid = (i + j) // 2\n",
    "        if A[mid] >= left:\n",
    "            if left <= target <= A[mid]:\n",
    "                j = mid\n",
    "            else:\n",
    "                i = mid\n",
    "        elif A[mid] <= right:\n",
    "            if A[mid] <= target <= right:\n",
    "                i = mid\n",
    "            else:\n",
    "                j = mid\n",
    "    if A[i] == target:\n",
    "        return i\n",
    "    elif A[j] == target:\n",
    "        return j\n",
    "    else:\n",
    "        return -1\n",
    "    "
   ]
  },
  {
   "cell_type": "code",
   "execution_count": 61,
   "metadata": {
    "scrolled": false
   },
   "outputs": [
    {
     "data": {
      "text/plain": [
       "2"
      ]
     },
     "execution_count": 61,
     "metadata": {},
     "output_type": "execute_result"
    }
   ],
   "source": [
    "search([4,5,1,2,3],1)"
   ]
  },
  {
   "cell_type": "code",
   "execution_count": 62,
   "metadata": {},
   "outputs": [
    {
     "data": {
      "text/plain": [
       "-1"
      ]
     },
     "execution_count": 62,
     "metadata": {},
     "output_type": "execute_result"
    }
   ],
   "source": [
    "search([4,5,1,2,3],0)"
   ]
  },
  {
   "cell_type": "code",
   "execution_count": 63,
   "metadata": {},
   "outputs": [
    {
     "data": {
      "text/plain": [
       "5"
      ]
     },
     "execution_count": 63,
     "metadata": {},
     "output_type": "execute_result"
    }
   ],
   "source": [
    "search([6,8,9,1,3,5],5)"
   ]
  },
  {
   "cell_type": "code",
   "execution_count": 64,
   "metadata": {},
   "outputs": [
    {
     "data": {
      "text/plain": [
       "5"
      ]
     },
     "execution_count": 64,
     "metadata": {},
     "output_type": "execute_result"
    }
   ],
   "source": [
    "search([1,2,3,4,5,9],9)"
   ]
  },
  {
   "cell_type": "markdown",
   "metadata": {},
   "source": [
    "#### 二次查找，先找到最大最小值分界线，再往两边寻找"
   ]
  },
  {
   "cell_type": "code",
   "execution_count": 51,
   "metadata": {},
   "outputs": [],
   "source": [
    "def search(A,target):\n",
    "    if not A:\n",
    "            return -1\n",
    "    leng = len(A)\n",
    "    i,j = 0,leng - 1\n",
    "    left,right = A[0], A[j]\n",
    "    while i + 1 < j:\n",
    "        mid = (i + j) // 2\n",
    "        if A[mid] >= left:\n",
    "            i = mid\n",
    "        elif A[mid] <= right:\n",
    "            j = mid\n",
    "    print('i',i,'j',j)\n",
    "    if target >= left:\n",
    "        a = 0\n",
    "        b = j\n",
    "    else:\n",
    "        a = i\n",
    "        b = leng - 1\n",
    "    print('a',a,'b',b)\n",
    "    while a + 1 < b:\n",
    "        mid = (a + b) // 2\n",
    "        if A[mid] > target:\n",
    "            b = mid\n",
    "        else:\n",
    "            a = mid\n",
    "    print('a',a,'b',b)\n",
    "    if A[a] == target : return a\n",
    "    elif A[b] == target: return b\n",
    "    return -1"
   ]
  },
  {
   "cell_type": "code",
   "execution_count": 52,
   "metadata": {
    "scrolled": false
   },
   "outputs": [
    {
     "name": "stdout",
     "output_type": "stream",
     "text": [
      "i 1 j 2\n",
      "a 1 b 4\n",
      "a 2 b 3\n"
     ]
    },
    {
     "data": {
      "text/plain": [
       "2"
      ]
     },
     "execution_count": 52,
     "metadata": {},
     "output_type": "execute_result"
    }
   ],
   "source": [
    "search([4,5,1,2,3],1)"
   ]
  },
  {
   "cell_type": "code",
   "execution_count": 53,
   "metadata": {},
   "outputs": [
    {
     "name": "stdout",
     "output_type": "stream",
     "text": [
      "i 1 j 2\n",
      "a 1 b 4\n",
      "a 1 b 2\n"
     ]
    },
    {
     "data": {
      "text/plain": [
       "-1"
      ]
     },
     "execution_count": 53,
     "metadata": {},
     "output_type": "execute_result"
    }
   ],
   "source": [
    "search([4,5,1,2,3],0)"
   ]
  },
  {
   "cell_type": "code",
   "execution_count": 54,
   "metadata": {},
   "outputs": [
    {
     "name": "stdout",
     "output_type": "stream",
     "text": [
      "i 2 j 3\n",
      "a 2 b 5\n",
      "a 4 b 5\n"
     ]
    },
    {
     "data": {
      "text/plain": [
       "5"
      ]
     },
     "execution_count": 54,
     "metadata": {},
     "output_type": "execute_result"
    }
   ],
   "source": [
    "search([6,8,9,1,3,5],5)"
   ]
  },
  {
   "cell_type": "code",
   "execution_count": 55,
   "metadata": {},
   "outputs": [
    {
     "name": "stdout",
     "output_type": "stream",
     "text": [
      "i 4 j 5\n",
      "a 0 b 5\n",
      "a 4 b 5\n"
     ]
    },
    {
     "data": {
      "text/plain": [
       "5"
      ]
     },
     "execution_count": 55,
     "metadata": {},
     "output_type": "execute_result"
    }
   ],
   "source": [
    "search([1,2,3,4,5,9],9)"
   ]
  },
  {
   "cell_type": "code",
   "execution_count": null,
   "metadata": {},
   "outputs": [],
   "source": []
  }
 ],
 "metadata": {
  "kernelspec": {
   "display_name": "Python 3",
   "language": "python",
   "name": "python3"
  },
  "language_info": {
   "codemirror_mode": {
    "name": "ipython",
    "version": 3
   },
   "file_extension": ".py",
   "mimetype": "text/x-python",
   "name": "python",
   "nbconvert_exporter": "python",
   "pygments_lexer": "ipython3",
   "version": "3.7.3"
  }
 },
 "nbformat": 4,
 "nbformat_minor": 2
}
