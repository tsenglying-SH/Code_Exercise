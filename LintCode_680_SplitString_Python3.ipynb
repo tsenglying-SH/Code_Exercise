{
 "cells": [
  {
   "cell_type": "markdown",
   "metadata": {},
   "source": [
    "## 参考九章算法python题解"
   ]
  },
  {
   "cell_type": "code",
   "execution_count": 1,
   "metadata": {},
   "outputs": [],
   "source": [
    "def splitString(s):\n",
    "        # write your code here\n",
    "    result = []\n",
    "\n",
    "    def dfs(result, path, s):\n",
    "        if s == \"\":\n",
    "            result.append(path[:])\n",
    "            return\n",
    "\n",
    "        for i in range(2):\n",
    "            if i + 1 <= len(s):\n",
    "                path.append(s[:i + 1])\n",
    "                dfs(result, path, s[i + 1:])\n",
    "                path.pop()\n",
    "\n",
    "    dfs(result, [], s)\n",
    "    return result"
   ]
  },
  {
   "cell_type": "code",
   "execution_count": 2,
   "metadata": {},
   "outputs": [
    {
     "data": {
      "text/plain": [
       "[['1', '2', '3', '4', '5', '6'],\n",
       " ['1', '2', '3', '4', '56'],\n",
       " ['1', '2', '3', '45', '6'],\n",
       " ['1', '2', '34', '5', '6'],\n",
       " ['1', '2', '34', '56'],\n",
       " ['1', '23', '4', '5', '6'],\n",
       " ['1', '23', '4', '56'],\n",
       " ['1', '23', '45', '6'],\n",
       " ['12', '3', '4', '5', '6'],\n",
       " ['12', '3', '4', '56'],\n",
       " ['12', '3', '45', '6'],\n",
       " ['12', '34', '5', '6'],\n",
       " ['12', '34', '56']]"
      ]
     },
     "execution_count": 2,
     "metadata": {},
     "output_type": "execute_result"
    }
   ],
   "source": [
    "splitString(\"123456\")"
   ]
  },
  {
   "cell_type": "code",
   "execution_count": null,
   "metadata": {},
   "outputs": [],
   "source": []
  }
 ],
 "metadata": {
  "kernelspec": {
   "display_name": "Python 3",
   "language": "python",
   "name": "python3"
  },
  "language_info": {
   "codemirror_mode": {
    "name": "ipython",
    "version": 3
   },
   "file_extension": ".py",
   "mimetype": "text/x-python",
   "name": "python",
   "nbconvert_exporter": "python",
   "pygments_lexer": "ipython3",
   "version": "3.7.3"
  }
 },
 "nbformat": 4,
 "nbformat_minor": 2
}
