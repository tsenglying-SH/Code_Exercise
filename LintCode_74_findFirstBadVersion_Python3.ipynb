{
 "cells": [
  {
   "cell_type": "markdown",
   "metadata": {},
   "source": [
    "就是简单的二分查找，该题有特殊的类，无法jupyter调试"
   ]
  },
  {
   "cell_type": "markdown",
   "metadata": {},
   "source": [
    "def findFirstBadVersion(self, n):\n",
    "    # write your code here\n",
    "    i = 1\n",
    "    j = n\n",
    "    while i + 1 < j:\n",
    "        mid = (i + j) // 2\n",
    "        if SVNRepo.isBadVersion(mid) == True:\n",
    "            j = mid\n",
    "        else:\n",
    "            i = mid\n",
    "    return i if SVNRepo.isBadVersion(i) == True else j"
   ]
  }
 ],
 "metadata": {
  "kernelspec": {
   "display_name": "Python 3",
   "language": "python",
   "name": "python3"
  },
  "language_info": {
   "codemirror_mode": {
    "name": "ipython",
    "version": 3
   },
   "file_extension": ".py",
   "mimetype": "text/x-python",
   "name": "python",
   "nbconvert_exporter": "python",
   "pygments_lexer": "ipython3",
   "version": "3.7.3"
  }
 },
 "nbformat": 4,
 "nbformat_minor": 2
}
