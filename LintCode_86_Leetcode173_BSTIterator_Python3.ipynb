{
 "cells": [
  {
   "cell_type": "markdown",
   "metadata": {},
   "source": [
    "## 简洁的写法,参考leetcode题解"
   ]
  },
  {
   "cell_type": "code",
   "execution_count": null,
   "metadata": {},
   "outputs": [],
   "source": [
    "\"\"\"\n",
    "Definition of TreeNode:\n",
    "class TreeNode:\n",
    "    def __init__(self, val):\n",
    "        self.val = val\n",
    "        self.left, self.right = None, None\n",
    "\n",
    "Example of iterate a tree:\n",
    "iterator = BSTIterator(root)\n",
    "while iterator.hasNext():\n",
    "    node = iterator.next()\n",
    "    do something for node \n",
    "\"\"\"\n",
    "\n",
    "\n",
    "class BSTIterator:\n",
    "    \"\"\"\n",
    "    @param: root: The root of binary tree.\n",
    "    \"\"\"\n",
    "    def __init__(self, root):\n",
    "        # do intialization if necessary\n",
    "        self.stack = []\n",
    "        while root:\n",
    "            self.stack.append(root)\n",
    "            root = root.left\n",
    "    \"\"\"\n",
    "    @return: True if there has next node, or false\n",
    "    \"\"\"\n",
    "    def hasNext(self, ):\n",
    "        # write your code here\n",
    "        return len(self.stack) > 0\n",
    "    \"\"\"\n",
    "    @return: return next node\n",
    "    \"\"\"\n",
    "    def next(self, ):\n",
    "        # write your code here\n",
    "        if not self.hasNext(): return\n",
    "        next_node = self.stack.pop()\n",
    "        node = next_node.right\n",
    "        while node:\n",
    "            self.stack.append(node)\n",
    "            node = node.left\n",
    "        return next_node"
   ]
  },
  {
   "cell_type": "markdown",
   "metadata": {},
   "source": [
    "## 完全参考九章算法令狐冲题解代码"
   ]
  },
  {
   "cell_type": "code",
   "execution_count": 2,
   "metadata": {},
   "outputs": [],
   "source": [
    "\"\"\"\n",
    "Definition of TreeNode:\n",
    "class TreeNode:\n",
    "    def __init__(self, val):\n",
    "        self.val = val\n",
    "        self.left, self.right = None, None\n",
    "\n",
    "Example of iterate a tree:\n",
    "iterator = BSTIterator(root)\n",
    "while iterator.hasNext():\n",
    "    node = iterator.next()\n",
    "    do something for node \n",
    "\"\"\"\n",
    "\n",
    "\n",
    "class BSTIterator:\n",
    "    \"\"\"\n",
    "    @param: root: The root of binary tree.\n",
    "    \"\"\"\n",
    "    def __init__(self, root):\n",
    "        # do intialization if necessary\n",
    "        self.stack = []\n",
    "        while root:\n",
    "            self.stack.append(root)\n",
    "            root = root.left\n",
    "    \"\"\"\n",
    "    @return: True if there has next node, or false\n",
    "    \"\"\"\n",
    "    def hasNext(self):\n",
    "        # write your code here\n",
    "        return len(self.stack) > 0\n",
    "    \"\"\"\n",
    "    @return: return next node\n",
    "    \"\"\"\n",
    "    def next(self, ):\n",
    "        # write your code here\n",
    "        if not self.hasNext():\n",
    "            return\n",
    "        cur_node = self.stack[-1]\n",
    "        if cur_node.right:\n",
    "            node = cur_node.right\n",
    "            while node:\n",
    "                self.stack.append(node)\n",
    "                node = node.left\n",
    "        else:\n",
    "            node = self.stack.pop()\n",
    "            while self.stack and self.stack[-1].right == node:\n",
    "                node = self.stack.pop()\n",
    "        return cur_node\n",
    "        "
   ]
  },
  {
   "cell_type": "code",
   "execution_count": null,
   "metadata": {},
   "outputs": [],
   "source": []
  }
 ],
 "metadata": {
  "kernelspec": {
   "display_name": "Python 3",
   "language": "python",
   "name": "python3"
  },
  "language_info": {
   "codemirror_mode": {
    "name": "ipython",
    "version": 3
   },
   "file_extension": ".py",
   "mimetype": "text/x-python",
   "name": "python",
   "nbconvert_exporter": "python",
   "pygments_lexer": "ipython3",
   "version": "3.7.3"
  }
 },
 "nbformat": 4,
 "nbformat_minor": 2
}
