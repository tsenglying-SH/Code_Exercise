{
 "cells": [
  {
   "cell_type": "markdown",
   "metadata": {},
   "source": [
    "## 第一次提交的写法，顺次查找target，一路上与节点值对比并更新"
   ]
  },
  {
   "cell_type": "code",
   "execution_count": 1,
   "metadata": {},
   "outputs": [],
   "source": [
    "def closestValue(root, target):\n",
    "    # write your code here\n",
    "    if not root or not target:\n",
    "        return None\n",
    "\n",
    "    error = abs(root.val - target)\n",
    "    ans = root.val\n",
    "    while root.left or root.right:\n",
    "        if target >= root.val:\n",
    "            if root.right != None:\n",
    "                child = root.right\n",
    "                if abs(child.val - target) < error:\n",
    "                    error = abs(child.val - target)\n",
    "                    ans = child.val\n",
    "                root = child\n",
    "            else:\n",
    "                return ans\n",
    "        else:\n",
    "            if root.left != None:\n",
    "                child = root.left\n",
    "                if abs(child.val - target) < error:\n",
    "                    error = abs(child.val - target)\n",
    "                    ans = child.val\n",
    "                root = child\n",
    "            else:\n",
    "                return ans\n",
    "    return ans"
   ]
  },
  {
   "cell_type": "markdown",
   "metadata": {},
   "source": [
    "## 优化：判断条件使用root更为简洁"
   ]
  },
  {
   "cell_type": "code",
   "execution_count": 2,
   "metadata": {},
   "outputs": [],
   "source": [
    "def closestValue(self, root, target):\n",
    "    if not root or not target:\n",
    "        return None\n",
    "\n",
    "    error = abs(root.val - target)\n",
    "    ans = root.val\n",
    "    while root:\n",
    "        if target >= root.val:\n",
    "            root = root.right\n",
    "        else:\n",
    "            root = root.left\n",
    "        if root and abs(root.val - target) < error:\n",
    "            error = abs(root.val - target)\n",
    "            ans = root.val\n",
    "    return ans"
   ]
  },
  {
   "cell_type": "markdown",
   "metadata": {},
   "source": [
    "## 参考lintcode题解，一路上更新上下界，最后比较一下离谁近"
   ]
  },
  {
   "cell_type": "code",
   "execution_count": 3,
   "metadata": {},
   "outputs": [],
   "source": [
    "#更简洁和Tricky一些\n",
    "def closestValue(self, root, target):\n",
    "        # write your code here\n",
    "        if not root or not target:\n",
    "            return None\n",
    "        \n",
    "        upper = root\n",
    "        lower = root\n",
    "        \n",
    "        while root:\n",
    "            if target > root.val:\n",
    "                lower = root\n",
    "                root = root.right\n",
    "            elif target < root.val:\n",
    "                upper = root\n",
    "                root = root.left\n",
    "            else:\n",
    "                return root\n",
    "                \n",
    "        if abs(upper.val - target) >= abs(lower.val - target):\n",
    "            return lower.val\n",
    "        return upper.val"
   ]
  },
  {
   "cell_type": "code",
   "execution_count": null,
   "metadata": {},
   "outputs": [],
   "source": []
  }
 ],
 "metadata": {
  "kernelspec": {
   "display_name": "Python 3",
   "language": "python",
   "name": "python3"
  },
  "language_info": {
   "codemirror_mode": {
    "name": "ipython",
    "version": 3
   },
   "file_extension": ".py",
   "mimetype": "text/x-python",
   "name": "python",
   "nbconvert_exporter": "python",
   "pygments_lexer": "ipython3",
   "version": "3.7.3"
  }
 },
 "nbformat": 4,
 "nbformat_minor": 2
}
