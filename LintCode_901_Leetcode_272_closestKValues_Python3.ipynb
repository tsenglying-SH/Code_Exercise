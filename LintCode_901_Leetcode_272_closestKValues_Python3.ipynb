{
 "cells": [
  {
   "cell_type": "markdown",
   "metadata": {},
   "source": [
    "## log(n)+k的最优解法，参考九章算法题解"
   ]
  },
  {
   "cell_type": "code",
   "execution_count": 116,
   "metadata": {},
   "outputs": [],
   "source": [
    "class TreeNode:\n",
    "    def __init__(self, val):\n",
    "        self.val = val\n",
    "        self.left, self.right = None, None"
   ]
  },
  {
   "cell_type": "code",
   "execution_count": 117,
   "metadata": {},
   "outputs": [],
   "source": [
    "node1 = TreeNode(1)\n",
    "node2 = TreeNode(2)\n",
    "node3 = TreeNode(3)\n",
    "node4 = TreeNode(4)\n",
    "node5 = TreeNode(5)\n",
    "node2.left = node1\n",
    "node2.right = node4\n",
    "node4.left = node3\n",
    "node4.right = node5"
   ]
  },
  {
   "cell_type": "code",
   "execution_count": 118,
   "metadata": {},
   "outputs": [],
   "source": [
    "def get_stack(root, target):\n",
    "    if not root:\n",
    "        return []\n",
    "\n",
    "    stack = []    \n",
    "    while root:\n",
    "        stack.append(root)\n",
    "        if target < root.val:\n",
    "            root = root.left\n",
    "        else:\n",
    "            root = root.right\n",
    "    return stack"
   ]
  },
  {
   "cell_type": "code",
   "execution_count": 119,
   "metadata": {},
   "outputs": [],
   "source": [
    "def move_upper(upper_stack):\n",
    "        if not upper_stack:\n",
    "            return []\n",
    "            \n",
    "        cur_node = upper_stack[-1]\n",
    "        if cur_node.right:\n",
    "            node = cur_node.right\n",
    "            while node:\n",
    "                upper_stack.append(node)\n",
    "                node = node.left\n",
    "        else:\n",
    "            node = upper_stack.pop()\n",
    "            while upper_stack and upper_stack[-1].right == node:\n",
    "                node = upper_stack.pop()\n",
    "        return [node.val for node in upper_stack]"
   ]
  },
  {
   "cell_type": "code",
   "execution_count": 120,
   "metadata": {},
   "outputs": [],
   "source": [
    "def move_lower(lower_stack):\n",
    "    if not lower_stack:\n",
    "        return []\n",
    "\n",
    "    cur_node = lower_stack[-1]\n",
    "    if cur_node.left:\n",
    "        node = cur_node.left\n",
    "        while node:\n",
    "            lower_stack.append(node)\n",
    "            node = node.right\n",
    "    else:\n",
    "        node = lower_stack.pop()\n",
    "        while lower_stack and lower_stack[-1].left == node:\n",
    "            node = lower_stack.pop()\n",
    "    return [node.val for node in lower_stack]"
   ]
  },
  {
   "cell_type": "code",
   "execution_count": 121,
   "metadata": {},
   "outputs": [],
   "source": [
    "def lower_is_closer(lower_stack, upper_stack, target):\n",
    "    if not lower_stack:\n",
    "        return False\n",
    "\n",
    "    if not upper_stack:\n",
    "        return True\n",
    "\n",
    "    return target - lower_stack[-1].val < upper_stack[-1].val - target"
   ]
  },
  {
   "cell_type": "code",
   "execution_count": 122,
   "metadata": {},
   "outputs": [],
   "source": [
    "def closestKValues(root, target, k):\n",
    "    # write your code here\n",
    "    if not root or k <= 0:\n",
    "        return []\n",
    "\n",
    "    lower_stack = get_stack(root, target)\n",
    "    upper_stack = get_stack(root, target)\n",
    "\n",
    "    if target > upper_stack[-1].val:\n",
    "        move_upper(upper_stack)\n",
    "    else:\n",
    "        move_lower(lower_stack)\n",
    "\n",
    "    res = []\n",
    "    for _ in range(k):\n",
    "        if lower_is_closer(lower_stack, upper_stack, target):\n",
    "            res.append(lower_stack[-1].val)\n",
    "            move_lower(lower_stack)\n",
    "        else:\n",
    "            res.append(upper_stack[-1].val)\n",
    "            move_upper(upper_stack)\n",
    "    return res"
   ]
  },
  {
   "cell_type": "code",
   "execution_count": 123,
   "metadata": {},
   "outputs": [
    {
     "data": {
      "text/plain": [
       "[2, 3, 1]"
      ]
     },
     "execution_count": 123,
     "metadata": {},
     "output_type": "execute_result"
    }
   ],
   "source": [
    "closestKValues(node2, 2.1, 3)"
   ]
  },
  {
   "cell_type": "markdown",
   "metadata": {},
   "source": [
    "## 还有种笨办法，可以用来复习中序遍历，二分查找，Nearest K"
   ]
  },
  {
   "cell_type": "code",
   "execution_count": null,
   "metadata": {},
   "outputs": [],
   "source": []
  }
 ],
 "metadata": {
  "kernelspec": {
   "display_name": "Python 3",
   "language": "python",
   "name": "python3"
  },
  "language_info": {
   "codemirror_mode": {
    "name": "ipython",
    "version": 3
   },
   "file_extension": ".py",
   "mimetype": "text/x-python",
   "name": "python",
   "nbconvert_exporter": "python",
   "pygments_lexer": "ipython3",
   "version": "3.7.3"
  }
 },
 "nbformat": 4,
 "nbformat_minor": 2
}
