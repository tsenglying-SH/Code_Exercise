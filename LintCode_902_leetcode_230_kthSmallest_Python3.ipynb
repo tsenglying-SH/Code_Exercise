{
 "cells": [
  {
   "cell_type": "markdown",
   "metadata": {},
   "source": [
    "## 寻找树中第K小的元素"
   ]
  },
  {
   "cell_type": "markdown",
   "metadata": {},
   "source": [
    "### 非递归中序遍历&栈 参考九章算法令狐冲代码"
   ]
  },
  {
   "cell_type": "code",
   "execution_count": null,
   "metadata": {},
   "outputs": [],
   "source": [
    "\"\"\"\n",
    "Definition of TreeNode:\n",
    "class TreeNode:\n",
    "    def __init__(self, val):\n",
    "        self.val = val\n",
    "        self.left, self.right = None, None\n",
    "\"\"\"\n",
    "\n",
    "class Solution:\n",
    "    \"\"\"\n",
    "    @param root: the given BST\n",
    "    @param k: the given k\n",
    "    @return: the kth smallest element in BST\n",
    "    \"\"\"\n",
    "    def kthSmallest(self, root, k):\n",
    "        # write your code here\n",
    "        if not root or k <= 0:\n",
    "            return\n",
    "        \n",
    "        dummy = TreeNode(0)\n",
    "        dummy.right = root\n",
    "        stack = [dummy]\n",
    "        \n",
    "        for i in range(k):\n",
    "            node = stack.pop()\n",
    "            if node.right:\n",
    "                node = node.right\n",
    "                stack.append(node)\n",
    "                while node.left:\n",
    "                    stack.append(node.left)\n",
    "                    node = node.left\n",
    "\n",
    "            if not stack:\n",
    "                break\n",
    "        return stack[-1].val"
   ]
  }
 ],
 "metadata": {
  "kernelspec": {
   "display_name": "Python 3",
   "language": "python",
   "name": "python3"
  },
  "language_info": {
   "codemirror_mode": {
    "name": "ipython",
    "version": 3
   },
   "file_extension": ".py",
   "mimetype": "text/x-python",
   "name": "python",
   "nbconvert_exporter": "python",
   "pygments_lexer": "ipython3",
   "version": "3.7.3"
  }
 },
 "nbformat": 4,
 "nbformat_minor": 2
}
