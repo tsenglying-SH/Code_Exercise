{
 "cells": [
  {
   "cell_type": "markdown",
   "metadata": {},
   "source": [
    "基于DFS的笛卡尔积，其中DFS基于递归实现"
   ]
  },
  {
   "cell_type": "code",
   "execution_count": 1,
   "metadata": {},
   "outputs": [],
   "source": [
    "def getSet(setList):\n",
    "    res = []\n",
    "    def dfs(curr_list, dep_idx, res, setList):\n",
    "        if dep_idx == len(setList):\n",
    "            res.append(curr_list)\n",
    "            return\n",
    "        for des in setList[dep_idx]:\n",
    "            dfs(curr_list + [des], dep_idx + 1, res, setList)\n",
    "    dfs([], 0, res, setList)\n",
    "    return res"
   ]
  },
  {
   "cell_type": "code",
   "execution_count": 2,
   "metadata": {},
   "outputs": [
    {
     "data": {
      "text/plain": [
       "[[1, 4, 5], [1, 4, 6], [2, 4, 5], [2, 4, 6], [3, 4, 5], [3, 4, 6]]"
      ]
     },
     "execution_count": 2,
     "metadata": {},
     "output_type": "execute_result"
    }
   ],
   "source": [
    "setList = [[1,2,3],[4],[5,6]]\n",
    "getSet(setList)"
   ]
  },
  {
   "cell_type": "code",
   "execution_count": 3,
   "metadata": {},
   "outputs": [
    {
     "data": {
      "text/plain": [
       "[[1, 4], [2, 4], [3, 4]]"
      ]
     },
     "execution_count": 3,
     "metadata": {},
     "output_type": "execute_result"
    }
   ],
   "source": [
    "setList = [[1,2,3],[4]]\n",
    "getSet(setList)"
   ]
  },
  {
   "cell_type": "markdown",
   "metadata": {},
   "source": [
    "lintcode题解"
   ]
  },
  {
   "cell_type": "code",
   "execution_count": 4,
   "metadata": {},
   "outputs": [],
   "source": [
    "def dfs(dep, ans, List, setList):\n",
    "    import copy\n",
    "    if (dep == len(setList)):\n",
    "        ans.append(copy.deepcopy(List))\n",
    "        return\n",
    "    for i in setList[dep]:\n",
    "        dfs(dep + 1, ans, List + [i], setList)\n",
    "    return \n",
    "def getSet(setList):\n",
    "    # Write your code here  \n",
    "    ans = []\n",
    "    dfs(0, ans, [], setList)\n",
    "    return ans"
   ]
  },
  {
   "cell_type": "code",
   "execution_count": 5,
   "metadata": {},
   "outputs": [
    {
     "data": {
      "text/plain": [
       "[[1, 4, 5], [1, 4, 6], [2, 4, 5], [2, 4, 6], [3, 4, 5], [3, 4, 6]]"
      ]
     },
     "execution_count": 5,
     "metadata": {},
     "output_type": "execute_result"
    }
   ],
   "source": [
    "setList = [[1,2,3],[4],[5,6]]\n",
    "getSet(setList)"
   ]
  },
  {
   "cell_type": "code",
   "execution_count": 6,
   "metadata": {},
   "outputs": [
    {
     "data": {
      "text/plain": [
       "[[1, 4], [2, 4], [3, 4]]"
      ]
     },
     "execution_count": 6,
     "metadata": {},
     "output_type": "execute_result"
    }
   ],
   "source": [
    "setList = [[1,2,3],[4]]\n",
    "getSet(setList)"
   ]
  },
  {
   "cell_type": "code",
   "execution_count": null,
   "metadata": {},
   "outputs": [],
   "source": []
  }
 ],
 "metadata": {
  "kernelspec": {
   "display_name": "Python 3",
   "language": "python",
   "name": "python3"
  },
  "language_info": {
   "codemirror_mode": {
    "name": "ipython",
    "version": 3
   },
   "file_extension": ".py",
   "mimetype": "text/x-python",
   "name": "python",
   "nbconvert_exporter": "python",
   "pygments_lexer": "ipython3",
   "version": "3.7.3"
  }
 },
 "nbformat": 4,
 "nbformat_minor": 2
}
