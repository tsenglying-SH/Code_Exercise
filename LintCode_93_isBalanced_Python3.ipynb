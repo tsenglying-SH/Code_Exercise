{
 "cells": [
  {
   "cell_type": "markdown",
   "metadata": {},
   "source": [
    "## 判断二叉树是否平衡"
   ]
  },
  {
   "cell_type": "markdown",
   "metadata": {},
   "source": [
    "### 参考九章算法 C++题解"
   ]
  },
  {
   "cell_type": "code",
   "execution_count": 1,
   "metadata": {},
   "outputs": [],
   "source": [
    "\"\"\"\n",
    "Definition of TreeNode:\n",
    "class TreeNode:\n",
    "    def __init__(self, val):\n",
    "        self.val = val\n",
    "        self.left, self.right = None, None\n",
    "\"\"\"\n",
    "\n",
    "class Solution:\n",
    "    \"\"\"\n",
    "    @param root: The root of binary tree.\n",
    "    @return: True if this Binary tree is Balanced, or false.\n",
    "    \"\"\"\n",
    "    def isBalanced(self, root):\n",
    "        # write your code here\n",
    "        return self.depth(root) != -1\n",
    "    \n",
    "    \n",
    "    def depth(self, root):\n",
    "        if not root:\n",
    "            return 0\n",
    "            \n",
    "        left_depth = self.depth(root.left)\n",
    "        right_depth = self.depth(root.right)\n",
    "        \n",
    "        if left_depth == -1 or right_depth == -1 or abs(left_depth - right_depth) > 1:\n",
    "            return -1\n",
    "        \n",
    "        return max(left_depth, right_depth) + 1"
   ]
  },
  {
   "cell_type": "code",
   "execution_count": null,
   "metadata": {},
   "outputs": [],
   "source": []
  }
 ],
 "metadata": {
  "kernelspec": {
   "display_name": "Python 3",
   "language": "python",
   "name": "python3"
  },
  "language_info": {
   "codemirror_mode": {
    "name": "ipython",
    "version": 3
   },
   "file_extension": ".py",
   "mimetype": "text/x-python",
   "name": "python",
   "nbconvert_exporter": "python",
   "pygments_lexer": "ipython3",
   "version": "3.7.3"
  }
 },
 "nbformat": 4,
 "nbformat_minor": 2
}
