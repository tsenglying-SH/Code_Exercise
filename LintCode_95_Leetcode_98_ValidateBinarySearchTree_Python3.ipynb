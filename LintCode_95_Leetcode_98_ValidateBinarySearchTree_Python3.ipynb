{
 "cells": [
  {
   "cell_type": "markdown",
   "metadata": {},
   "source": [
    "## Iterative Method,参考九章算法题解 令狐冲老师代码"
   ]
  },
  {
   "cell_type": "code",
   "execution_count": 1,
   "metadata": {},
   "outputs": [],
   "source": [
    "\"\"\"\n",
    "Definition of TreeNode:\n",
    "class TreeNode:\n",
    "    def __init__(self, val):\n",
    "        self.val = val\n",
    "        self.left, self.right = None, None\n",
    "\"\"\"\n",
    "\n",
    "class Solution:\n",
    "    \"\"\"\n",
    "    @param root: The root of binary tree.\n",
    "    @return: True if the binary tree is BST, or false\n",
    "    \"\"\"\n",
    "    def isValidBST(self, root):\n",
    "        # write your code here\n",
    "        if not root:\n",
    "            return True\n",
    "        \n",
    "        stack = []    \n",
    "        while root:\n",
    "            stack.append(root)\n",
    "            root = root.left\n",
    "        \n",
    "        last_node = stack[-1]\n",
    "        while stack:\n",
    "            cur_node = stack.pop()\n",
    "            if cur_node.right:\n",
    "                cur_node = cur_node.right\n",
    "                while cur_node:\n",
    "                    stack.append(cur_node)\n",
    "                    cur_node = cur_node.left\n",
    "            \n",
    "            if stack:\n",
    "                if last_node.val >= stack[-1].val:\n",
    "                    return False\n",
    "                last_node = stack[-1]\n",
    "        return True"
   ]
  },
  {
   "cell_type": "markdown",
   "metadata": {},
   "source": [
    "## Recursive Method 参考九章算法 题解代码"
   ]
  },
  {
   "cell_type": "code",
   "execution_count": 2,
   "metadata": {},
   "outputs": [],
   "source": [
    "\"\"\"\n",
    "Definition of TreeNode:\n",
    "class TreeNode:\n",
    "    def __init__(self, val):\n",
    "        self.val = val\n",
    "        self.left, self.right = None, None\n",
    "\"\"\"\n",
    "\n",
    "class Solution:\n",
    "    \"\"\"\n",
    "    @param root: The root of binary tree.\n",
    "    @return: True if the binary tree is BST, or false\n",
    "    \"\"\"\n",
    "    def isValidBST(self, root):\n",
    "        # write your code here\n",
    "        self.value = None\n",
    "        self.ans = True\n",
    "        self.validate(root)\n",
    "        return self.ans\n",
    "    \n",
    "    def validate(self, root):\n",
    "        if not root:\n",
    "            return True\n",
    "            \n",
    "        self.validate(root.left)\n",
    "        \n",
    "        if self.value and self.value >= root.val:\n",
    "            self.ans = False\n",
    "        self.value = root.val\n",
    "        \n",
    "        self.validate(root.right)"
   ]
  },
  {
   "cell_type": "code",
   "execution_count": null,
   "metadata": {},
   "outputs": [],
   "source": []
  }
 ],
 "metadata": {
  "kernelspec": {
   "display_name": "Python 3",
   "language": "python",
   "name": "python3"
  },
  "language_info": {
   "codemirror_mode": {
    "name": "ipython",
    "version": 3
   },
   "file_extension": ".py",
   "mimetype": "text/x-python",
   "name": "python",
   "nbconvert_exporter": "python",
   "pygments_lexer": "ipython3",
   "version": "3.7.3"
  }
 },
 "nbformat": 4,
 "nbformat_minor": 2
}
