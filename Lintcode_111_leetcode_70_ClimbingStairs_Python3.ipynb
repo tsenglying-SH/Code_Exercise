{
 "cells": [
  {
   "cell_type": "markdown",
   "metadata": {},
   "source": [
    "## Fabonacci list method, time O(n), Space O(1)"
   ]
  },
  {
   "cell_type": "code",
   "execution_count": 5,
   "metadata": {},
   "outputs": [],
   "source": [
    "def climbStairs(n):\n",
    "    # write your code here\n",
    "    if n <= 0:\n",
    "        return 0\n",
    "\n",
    "    pre_cur = [0, 1]\n",
    "    for _ in range(n):\n",
    "        tmp = pre_cur[0]\n",
    "        pre_cur[0] = pre_cur[1]\n",
    "        pre_cur[1] = tmp + pre_cur[0]\n",
    "\n",
    "    return pre_cur[1]"
   ]
  },
  {
   "cell_type": "code",
   "execution_count": 6,
   "metadata": {},
   "outputs": [
    {
     "data": {
      "text/plain": [
       "8"
      ]
     },
     "execution_count": 6,
     "metadata": {},
     "output_type": "execute_result"
    }
   ],
   "source": [
    "climbStairs(5)"
   ]
  },
  {
   "cell_type": "markdown",
   "metadata": {},
   "source": [
    "## We can also use matrix （[[1, 1], [1, 0]]^n)[0][0] to calculate the number time O(logn), O(1)."
   ]
  },
  {
   "cell_type": "markdown",
   "metadata": {},
   "source": [
    "## And the most tricky method is an = 1/sqrt(5)(((sqrt(5) + 1)/ 2)^(n + 1) - ((sqrt(5) - 1)/ 2)^(n + 1)), time O(logn), O(1)"
   ]
  },
  {
   "cell_type": "code",
   "execution_count": null,
   "metadata": {},
   "outputs": [],
   "source": []
  }
 ],
 "metadata": {
  "kernelspec": {
   "display_name": "Python 3",
   "language": "python",
   "name": "python3"
  },
  "language_info": {
   "codemirror_mode": {
    "name": "ipython",
    "version": 3
   },
   "file_extension": ".py",
   "mimetype": "text/x-python",
   "name": "python",
   "nbconvert_exporter": "python",
   "pygments_lexer": "ipython3",
   "version": "3.7.3"
  }
 },
 "nbformat": 4,
 "nbformat_minor": 2
}
