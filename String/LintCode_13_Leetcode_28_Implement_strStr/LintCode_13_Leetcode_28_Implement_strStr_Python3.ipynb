{
 "cells": [
  {
   "cell_type": "markdown",
   "metadata": {},
   "source": [
    "#### Brute Force, Time O(s * t)"
   ]
  },
  {
   "cell_type": "code",
   "execution_count": 1,
   "metadata": {},
   "outputs": [],
   "source": [
    "def strStr(source, target):\n",
    "    # Write your code here\n",
    "    if not target:\n",
    "        return 0\n",
    "    s, t = len(source), len(target)\n",
    "    for i in range(s - t + 1):\n",
    "        for j in range(t):\n",
    "            if source[i + j] != target[j]:\n",
    "                break\n",
    "            if j == t - 1 and source[i + j] == target[j]:\n",
    "                return i\n",
    "    return -1"
   ]
  },
  {
   "cell_type": "code",
   "execution_count": 3,
   "metadata": {
    "scrolled": true
   },
   "outputs": [
    {
     "data": {
      "text/plain": [
       "5"
      ]
     },
     "execution_count": 3,
     "metadata": {},
     "output_type": "execute_result"
    }
   ],
   "source": [
    "strStr('niubibuniubi','buniubi')"
   ]
  },
  {
   "cell_type": "markdown",
   "metadata": {},
   "source": [
    "#### Another Brute Force using while, Time O(s * t)"
   ]
  },
  {
   "cell_type": "code",
   "execution_count": 4,
   "metadata": {},
   "outputs": [],
   "source": [
    "def strStr(source, target):\n",
    "    # Write your code here\n",
    "    if not target:\n",
    "        return 0\n",
    "\n",
    "    s, t = len(source), len(target)\n",
    "    i, j = 0, 0\n",
    "    while j < t and i < s:\n",
    "        if source[i] == target[j]:\n",
    "            i += 1\n",
    "            j += 1\n",
    "        else:\n",
    "            i -= j - 1\n",
    "            j = 0\n",
    "    if j == t:\n",
    "        return i - j\n",
    "    return -1"
   ]
  },
  {
   "cell_type": "code",
   "execution_count": 5,
   "metadata": {
    "scrolled": true
   },
   "outputs": [
    {
     "data": {
      "text/plain": [
       "5"
      ]
     },
     "execution_count": 5,
     "metadata": {},
     "output_type": "execute_result"
    }
   ],
   "source": [
    "strStr('niubibuniubi','buniubi')"
   ]
  },
  {
   "cell_type": "markdown",
   "metadata": {},
   "source": [
    "#### KMP，Time O(s+t), Space O(n)"
   ]
  },
  {
   "cell_type": "code",
   "execution_count": 7,
   "metadata": {},
   "outputs": [],
   "source": [
    "def strStr(source, target):\n",
    "    # Write your code here\n",
    "    if not target:\n",
    "        return 0\n",
    "    next_table = buildNext(target)\n",
    "    print(next_table)\n",
    "    s, t = len(source), len(target)\n",
    "    i, j = 0, 0\n",
    "    while j < t and i < s:\n",
    "        if j < 0 or source[i] == target[j]:\n",
    "            i += 1\n",
    "            j += 1\n",
    "        else:\n",
    "            j = next_table[j]\n",
    "    if j == t:\n",
    "        return i - j\n",
    "    return -1\n",
    "\n",
    "def buildNext(target):\n",
    "    m = len(target)\n",
    "    next_table = [0] * m\n",
    "    next_table[0] = -1\n",
    "    j = 0\n",
    "    t = -1\n",
    "    while j < m - 1:\n",
    "        if t < 0 or target[j] == target[t]:\n",
    "            j += 1\n",
    "            t += 1\n",
    "            next_table[j] = t if target[j] != target[t] else next_table[t]\n",
    "        else:\n",
    "            t = next_table[t]\n",
    "\n",
    "    return next_table"
   ]
  },
  {
   "cell_type": "code",
   "execution_count": 8,
   "metadata": {
    "scrolled": true
   },
   "outputs": [
    {
     "name": "stdout",
     "output_type": "stream",
     "text": [
      "[-1, 0, 0, 0, 0, -1, 1]\n"
     ]
    },
    {
     "data": {
      "text/plain": [
       "5"
      ]
     },
     "execution_count": 8,
     "metadata": {},
     "output_type": "execute_result"
    }
   ],
   "source": [
    "strStr('niubibuniubi','buniubi')"
   ]
  },
  {
   "cell_type": "code",
   "execution_count": 9,
   "metadata": {},
   "outputs": [
    {
     "name": "stdout",
     "output_type": "stream",
     "text": [
      "[-1, 0, 0, 0, 0, -1]\n"
     ]
    },
    {
     "data": {
      "text/plain": [
       "3"
      ]
     },
     "execution_count": 9,
     "metadata": {},
     "output_type": "execute_result"
    }
   ],
   "source": [
    "strStr(\"tartarget\",\"target\")"
   ]
  },
  {
   "cell_type": "code",
   "execution_count": null,
   "metadata": {},
   "outputs": [],
   "source": []
  }
 ],
 "metadata": {
  "kernelspec": {
   "display_name": "Python 3",
   "language": "python",
   "name": "python3"
  },
  "language_info": {
   "codemirror_mode": {
    "name": "ipython",
    "version": 3
   },
   "file_extension": ".py",
   "mimetype": "text/x-python",
   "name": "python",
   "nbconvert_exporter": "python",
   "pygments_lexer": "ipython3",
   "version": "3.7.3"
  }
 },
 "nbformat": 4,
 "nbformat_minor": 2
}
