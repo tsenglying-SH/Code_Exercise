{
 "cells": [
  {
   "cell_type": "markdown",
   "metadata": {},
   "source": [
    "## Time O(n), Space O(n)"
   ]
  },
  {
   "cell_type": "code",
   "execution_count": 1,
   "metadata": {},
   "outputs": [],
   "source": [
    "def longestPalindrome(s):\n",
    "    # write your code here\n",
    "    # Corner Case\n",
    "    if not s:\n",
    "        return 0\n",
    "    \n",
    "    # Save how many char is in odd amount\n",
    "    memo = {}\n",
    "    for char in s:\n",
    "        if char not in memo:\n",
    "            memo[char] = 1\n",
    "        else:\n",
    "            del memo[char]\n",
    "    \n",
    "    # the first odd char can be added in the final string\n",
    "    to_remove = len(memo)\n",
    "    if to_remove > 0:\n",
    "        to_remove -= 1\n",
    "\n",
    "    return len(s) - to_remove"
   ]
  },
  {
   "cell_type": "code",
   "execution_count": 2,
   "metadata": {},
   "outputs": [
    {
     "data": {
      "text/plain": [
       "13"
      ]
     },
     "execution_count": 2,
     "metadata": {},
     "output_type": "execute_result"
    }
   ],
   "source": [
    "longestPalindrome('aabbbcccccdddd')"
   ]
  },
  {
   "cell_type": "code",
   "execution_count": null,
   "metadata": {},
   "outputs": [],
   "source": []
  }
 ],
 "metadata": {
  "kernelspec": {
   "display_name": "Python 3",
   "language": "python",
   "name": "python3"
  },
  "language_info": {
   "codemirror_mode": {
    "name": "ipython",
    "version": 3
   },
   "file_extension": ".py",
   "mimetype": "text/x-python",
   "name": "python",
   "nbconvert_exporter": "python",
   "pygments_lexer": "ipython3",
   "version": "3.7.3"
  }
 },
 "nbformat": 4,
 "nbformat_minor": 2
}
