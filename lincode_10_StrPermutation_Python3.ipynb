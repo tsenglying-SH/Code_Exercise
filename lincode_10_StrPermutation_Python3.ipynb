{
 "cells": [
  {
   "cell_type": "markdown",
   "metadata": {},
   "source": [
    "## Permutation比Combination的去重更为复杂一些"
   ]
  },
  {
   "cell_type": "code",
   "execution_count": 32,
   "metadata": {},
   "outputs": [],
   "source": [
    "def stringPermutation2(str1):\n",
    "    if not str:\n",
    "        return []\n",
    "    str1 = sorted(list(str1)) # 一定要记得排序！\n",
    "    visited = [False] * len(str1)\n",
    "    result = []\n",
    "    \n",
    "    def dfs(result, path, str1, idx, visited):\n",
    "        if idx == len(str1):\n",
    "            result.append(path[:])\n",
    "            return\n",
    "        if idx > len(str1):\n",
    "            return\n",
    "        \n",
    "        for i in range(len(str1)):\n",
    "            if visited[i] == True: continue\n",
    "            if i > 0 and str1[i] == str1[i - 1] and visited[i - 1] == False:continue # visited[i - 1] == False要加上\n",
    "            visited[i] = True\n",
    "            dfs(result, path + str1[i], str1, idx + 1, visited)\n",
    "            visited[i] = False\n",
    "    dfs(result, \"\", str1, 0, visited)\n",
    "    return result"
   ]
  },
  {
   "cell_type": "code",
   "execution_count": 33,
   "metadata": {},
   "outputs": [
    {
     "data": {
      "text/plain": [
       "['abb', 'bab', 'bba']"
      ]
     },
     "execution_count": 33,
     "metadata": {},
     "output_type": "execute_result"
    }
   ],
   "source": [
    "stringPermutation2(\"abb\")"
   ]
  },
  {
   "cell_type": "code",
   "execution_count": 34,
   "metadata": {},
   "outputs": [
    {
     "data": {
      "text/plain": [
       "['aabb', 'abab', 'abba', 'baab', 'baba', 'bbaa']"
      ]
     },
     "execution_count": 34,
     "metadata": {},
     "output_type": "execute_result"
    }
   ],
   "source": [
    "stringPermutation2(\"aabb\")"
   ]
  },
  {
   "cell_type": "code",
   "execution_count": null,
   "metadata": {},
   "outputs": [],
   "source": []
  }
 ],
 "metadata": {
  "kernelspec": {
   "display_name": "Python 3",
   "language": "python",
   "name": "python3"
  },
  "language_info": {
   "codemirror_mode": {
    "name": "ipython",
    "version": 3
   },
   "file_extension": ".py",
   "mimetype": "text/x-python",
   "name": "python",
   "nbconvert_exporter": "python",
   "pygments_lexer": "ipython3",
   "version": "3.7.3"
  }
 },
 "nbformat": 4,
 "nbformat_minor": 2
}
