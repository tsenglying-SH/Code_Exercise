{
 "cells": [
  {
   "cell_type": "code",
   "execution_count": 210,
   "metadata": {},
   "outputs": [],
   "source": [
    "class ListNode():\n",
    "    def __init__(self, key, val):\n",
    "        self.key = key\n",
    "        self.val = val\n",
    "        self.next1 = None\n",
    "        self.prev = None\n",
    "\n",
    "class LRUCache:\n",
    "\n",
    "    def __init__(self, capacity: int):\n",
    "        self.cap = capacity\n",
    "        self.head = ListNode(0, 0)\n",
    "        self.tail = ListNode(0, 0)\n",
    "        self.head.next1 =self.tail\n",
    "        self.tail.prev = self.head\n",
    "        self.key_to_node = {}\n",
    "    \n",
    "    def push_back(self, node):\n",
    "        node.prev = self.tail.prev\n",
    "        node.next1 = self.tail\n",
    "        self.tail.prev.next1 = node\n",
    "        self.tail.prev = node\n",
    "        self.key_to_node[node.key] = node\n",
    "        \n",
    "    def kick_to_tail(self, node):    \n",
    "        node.next1.prev = node.prev\n",
    "        node.prev.next1 = node.next1\n",
    "        self.push_back(node)\n",
    "\n",
    "    def get(self, key: int) -> int:\n",
    "        if key not in self.key_to_node:\n",
    "            return -1\n",
    "        \n",
    "        node = self.key_to_node[key]\n",
    "        self.kick_to_tail(node)\n",
    "        \n",
    "        return node.val\n",
    "\n",
    "    def set(self, key: int, value: int) -> None:\n",
    "        if key in self.key_to_node:\n",
    "            node = self.key_to_node[key]\n",
    "            node.val = value\n",
    "            self.kick_to_tail(node)\n",
    "        else:\n",
    "            node = ListNode(key, value)\n",
    "            self.push_back(node)\n",
    "\n",
    "        if len(self.key_to_node) > self.cap:\n",
    "            node_to_be_remove = self.head.next1\n",
    "            self.head.next1 = node_to_be_remove.next1\n",
    "            node_to_be_remove.next1.prev = self.head\n",
    "            \n",
    "            del self.key_to_node[node_to_be_remove.key]\n",
    "            del node_to_be_remove\n",
    "\n",
    "\n",
    "\n",
    "# Your LRUCache object will be instantiated and called as such:\n",
    "# obj = LRUCache(capacity)\n",
    "# param_1 = obj.get(key)\n",
    "# obj.put(key,value)"
   ]
  },
  {
   "cell_type": "code",
   "execution_count": 211,
   "metadata": {},
   "outputs": [],
   "source": [
    "a = LRUCache(2)"
   ]
  },
  {
   "cell_type": "code",
   "execution_count": 212,
   "metadata": {},
   "outputs": [
    {
     "data": {
      "text/plain": [
       "{}"
      ]
     },
     "execution_count": 212,
     "metadata": {},
     "output_type": "execute_result"
    }
   ],
   "source": [
    "a.key_to_node"
   ]
  },
  {
   "cell_type": "code",
   "execution_count": 213,
   "metadata": {},
   "outputs": [],
   "source": [
    "a.set(2, 1)"
   ]
  },
  {
   "cell_type": "code",
   "execution_count": 214,
   "metadata": {},
   "outputs": [],
   "source": [
    "a.set(1, 1)"
   ]
  },
  {
   "cell_type": "code",
   "execution_count": 215,
   "metadata": {},
   "outputs": [
    {
     "data": {
      "text/plain": [
       "1"
      ]
     },
     "execution_count": 215,
     "metadata": {},
     "output_type": "execute_result"
    }
   ],
   "source": [
    "a.get(2)"
   ]
  },
  {
   "cell_type": "code",
   "execution_count": 216,
   "metadata": {},
   "outputs": [
    {
     "data": {
      "text/plain": [
       "{2: <__main__.ListNode at 0x2155fac1a90>,\n",
       " 1: <__main__.ListNode at 0x2155fac14e0>}"
      ]
     },
     "execution_count": 216,
     "metadata": {},
     "output_type": "execute_result"
    }
   ],
   "source": [
    "a.key_to_node"
   ]
  },
  {
   "cell_type": "code",
   "execution_count": 217,
   "metadata": {},
   "outputs": [],
   "source": [
    "a.set(4, 1)"
   ]
  },
  {
   "cell_type": "code",
   "execution_count": 218,
   "metadata": {},
   "outputs": [
    {
     "data": {
      "text/plain": [
       "{2: <__main__.ListNode at 0x2155fac1a90>,\n",
       " 4: <__main__.ListNode at 0x2155fac1748>}"
      ]
     },
     "execution_count": 218,
     "metadata": {},
     "output_type": "execute_result"
    }
   ],
   "source": [
    "a.key_to_node"
   ]
  },
  {
   "cell_type": "code",
   "execution_count": 219,
   "metadata": {},
   "outputs": [
    {
     "data": {
      "text/plain": [
       "-1"
      ]
     },
     "execution_count": 219,
     "metadata": {},
     "output_type": "execute_result"
    }
   ],
   "source": [
    "a.get(1)"
   ]
  },
  {
   "cell_type": "code",
   "execution_count": 220,
   "metadata": {},
   "outputs": [
    {
     "data": {
      "text/plain": [
       "1"
      ]
     },
     "execution_count": 220,
     "metadata": {},
     "output_type": "execute_result"
    }
   ],
   "source": [
    "a.get(2)"
   ]
  },
  {
   "cell_type": "code",
   "execution_count": null,
   "metadata": {},
   "outputs": [],
   "source": []
  }
 ],
 "metadata": {
  "kernelspec": {
   "display_name": "Python 3",
   "language": "python",
   "name": "python3"
  },
  "language_info": {
   "codemirror_mode": {
    "name": "ipython",
    "version": 3
   },
   "file_extension": ".py",
   "mimetype": "text/x-python",
   "name": "python",
   "nbconvert_exporter": "python",
   "pygments_lexer": "ipython3",
   "version": "3.7.3"
  }
 },
 "nbformat": 4,
 "nbformat_minor": 2
}
