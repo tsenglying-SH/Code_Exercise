{
 "cells": [
  {
   "cell_type": "markdown",
   "metadata": {},
   "source": [
    "## 纯递归写法，记忆化搜索"
   ]
  },
  {
   "cell_type": "code",
   "execution_count": 38,
   "metadata": {},
   "outputs": [],
   "source": [
    "def isMatch(s: str, p: str) -> bool:\n",
    "    return helper(s, 0, p, 0, {})\n",
    "    \n",
    "def char_match(s, p):\n",
    "    return s == p or p == \".\"\n",
    "\n",
    "def is_empty(p):\n",
    "    if len(p) & 1 == 1:\n",
    "        return False\n",
    "\n",
    "    for idx in range(0, len(p) // 2):\n",
    "        if p[2 * idx + 1] != \"*\":\n",
    "            return False\n",
    "    return True\n",
    "\n",
    "def helper(s, i, p, j, memo):\n",
    "    if (i, j) in memo:\n",
    "        return memo[(i, j)]\n",
    "\n",
    "    if i == len(s):\n",
    "        return is_empty(p[j:])\n",
    "\n",
    "    if j == len(p):\n",
    "        return False\n",
    "\n",
    "    if j + 1 < len(p) and p[j + 1] == \"*\":\n",
    "        matched = char_match(s[i], p[j]) and helper(s, i + 1, p, j, memo) or  helper(s, i, p, j + 2, memo)\n",
    "    else:\n",
    "        matched = char_match(s[i], p[j]) and helper(s, i + 1, p, j + 1, memo)\n",
    "        # matched = (s[i] == p[j] or p[j] == \".\") and self.helper(s, i + 1, p, j + 1, memo)\n",
    "    memo[(i, j)] = matched\n",
    "    return matched"
   ]
  },
  {
   "cell_type": "code",
   "execution_count": 39,
   "metadata": {},
   "outputs": [
    {
     "data": {
      "text/plain": [
       "True"
      ]
     },
     "execution_count": 39,
     "metadata": {},
     "output_type": "execute_result"
    }
   ],
   "source": [
    "isMatch(\"ab\",\".*\")"
   ]
  },
  {
   "cell_type": "code",
   "execution_count": 40,
   "metadata": {},
   "outputs": [
    {
     "data": {
      "text/plain": [
       "False"
      ]
     },
     "execution_count": 40,
     "metadata": {},
     "output_type": "execute_result"
    }
   ],
   "source": [
    "isMatch(\"aa\",\"a\")"
   ]
  },
  {
   "cell_type": "code",
   "execution_count": 41,
   "metadata": {},
   "outputs": [
    {
     "data": {
      "text/plain": [
       "False"
      ]
     },
     "execution_count": 41,
     "metadata": {},
     "output_type": "execute_result"
    }
   ],
   "source": [
    "isMatch(\"abab\",\"a*b*\")"
   ]
  },
  {
   "cell_type": "markdown",
   "metadata": {},
   "source": [
    "## DP"
   ]
  },
  {
   "cell_type": "code",
   "execution_count": 69,
   "metadata": {},
   "outputs": [],
   "source": [
    "def isMatch(s, p):\n",
    "    # write your code here\n",
    "    #if not s or not p:\n",
    "    #    return False 这两句写了 反而有问题\n",
    "\n",
    "    dp = [[False] * (len(p) + 1)for _ in range(len(s) + 1)]\n",
    "\n",
    "    dp[0][0] = True\n",
    "\n",
    "    for j in range(1, len(p) + 1):\n",
    "        if p[j - 1] == \"*\":\n",
    "            dp[0][j] = dp[0][j - 2] #初始化第一行\n",
    "    for i in range(1, len(s) + 1):\n",
    "        for j in range(1, len(p) + 1):\n",
    "            #这里的s,p 的索引要格外注意 不要越界 有点绕\n",
    "            if p[j - 1] == \"*\":\n",
    "                # or 和 and括号要注意 或者写个函数简化一下\n",
    "                dp[i][j] = ((s[i - 1] == p[j - 2] or p[j - 2] == \".\") and dp[i - 1][j]) or dp[i][j - 2]\n",
    "            else:\n",
    "                dp[i][j] = dp[i - 1][j - 1] and (s[i - 1] == p[j - 1] or p[j - 1] == \".\")\n",
    "    return dp[-1][-1]"
   ]
  },
  {
   "cell_type": "code",
   "execution_count": 70,
   "metadata": {},
   "outputs": [
    {
     "data": {
      "text/plain": [
       "True"
      ]
     },
     "execution_count": 70,
     "metadata": {},
     "output_type": "execute_result"
    }
   ],
   "source": [
    "isMatch(\"bba\",\"c*b*a\")"
   ]
  },
  {
   "cell_type": "code",
   "execution_count": 71,
   "metadata": {},
   "outputs": [
    {
     "data": {
      "text/plain": [
       "False"
      ]
     },
     "execution_count": 71,
     "metadata": {},
     "output_type": "execute_result"
    }
   ],
   "source": [
    "isMatch(\"aa\",\"a\")"
   ]
  },
  {
   "cell_type": "code",
   "execution_count": 72,
   "metadata": {},
   "outputs": [
    {
     "data": {
      "text/plain": [
       "False"
      ]
     },
     "execution_count": 72,
     "metadata": {},
     "output_type": "execute_result"
    }
   ],
   "source": [
    "isMatch(\"abab\",\"a*b*\")"
   ]
  },
  {
   "cell_type": "code",
   "execution_count": 73,
   "metadata": {},
   "outputs": [
    {
     "data": {
      "text/plain": [
       "True"
      ]
     },
     "execution_count": 73,
     "metadata": {},
     "output_type": "execute_result"
    }
   ],
   "source": [
    "isMatch(\"aa\",\"aa\")"
   ]
  },
  {
   "cell_type": "code",
   "execution_count": 74,
   "metadata": {},
   "outputs": [
    {
     "data": {
      "text/plain": [
       "True"
      ]
     },
     "execution_count": 74,
     "metadata": {},
     "output_type": "execute_result"
    }
   ],
   "source": [
    "isMatch(\"\",\".*\")"
   ]
  },
  {
   "cell_type": "code",
   "execution_count": null,
   "metadata": {},
   "outputs": [],
   "source": []
  }
 ],
 "metadata": {
  "kernelspec": {
   "display_name": "Python 3",
   "language": "python",
   "name": "python3"
  },
  "language_info": {
   "codemirror_mode": {
    "name": "ipython",
    "version": 3
   },
   "file_extension": ".py",
   "mimetype": "text/x-python",
   "name": "python",
   "nbconvert_exporter": "python",
   "pygments_lexer": "ipython3",
   "version": "3.7.3"
  }
 },
 "nbformat": 4,
 "nbformat_minor": 2
}
