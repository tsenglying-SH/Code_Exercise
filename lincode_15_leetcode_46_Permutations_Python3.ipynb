{
 "cells": [
  {
   "cell_type": "code",
   "execution_count": 86,
   "metadata": {},
   "outputs": [],
   "source": [
    "def permute(nums):\n",
    "    # write your code here\n",
    "    nums.sort()\n",
    "    result = []\n",
    "    visited = [False] * len(nums)\n",
    "\n",
    "    def dfs(result, path, nums, idx, visited):\n",
    "        if idx == len(nums):\n",
    "            result.append(path[:])\n",
    "            return \n",
    "        if idx > len(nums):\n",
    "            return\n",
    "\n",
    "        for i in range(len(nums)):\n",
    "            if visited[i] == True:\n",
    "                continue\n",
    "            if i > 0 and nums[i - 1] == nums[i] and visited[i - 1] == False: continue\n",
    "            visited[i] = True\n",
    "            dfs(result, path + [nums[i]], nums, idx + 1, visited)\n",
    "            visited[i] = False\n",
    "            \n",
    "    dfs(result, [], nums, 0, visited)\n",
    "    return result"
   ]
  },
  {
   "cell_type": "code",
   "execution_count": 87,
   "metadata": {},
   "outputs": [
    {
     "data": {
      "text/plain": [
       "[[1, 2, 3], [1, 3, 2], [2, 1, 3], [2, 3, 1], [3, 1, 2], [3, 2, 1]]"
      ]
     },
     "execution_count": 87,
     "metadata": {},
     "output_type": "execute_result"
    }
   ],
   "source": [
    "permute([1, 2, 3])"
   ]
  },
  {
   "cell_type": "markdown",
   "metadata": {},
   "source": [
    "## 区分于Combination 体会一下区别"
   ]
  },
  {
   "cell_type": "code",
   "execution_count": 88,
   "metadata": {},
   "outputs": [],
   "source": [
    "def combine(nums):\n",
    "    # write your code here\n",
    "    nums.sort()\n",
    "    result = []\n",
    "\n",
    "    def dfs(result, path, nums, idx):\n",
    "        if idx == len(nums):\n",
    "            result.append(path[:])\n",
    "            return \n",
    "        if idx > len(nums):\n",
    "            return\n",
    "\n",
    "        for i in range(idx, len(nums)):\n",
    "            dfs(result, path + [nums[i]], nums, i + 1)\n",
    "            \n",
    "    dfs(result, [], nums, 0)\n",
    "    return result"
   ]
  },
  {
   "cell_type": "code",
   "execution_count": 89,
   "metadata": {},
   "outputs": [
    {
     "data": {
      "text/plain": [
       "[[1, 2, 3], [1, 3], [2, 3], [3]]"
      ]
     },
     "execution_count": 89,
     "metadata": {},
     "output_type": "execute_result"
    }
   ],
   "source": [
    "combine([1, 2, 3])"
   ]
  },
  {
   "cell_type": "code",
   "execution_count": null,
   "metadata": {},
   "outputs": [],
   "source": []
  }
 ],
 "metadata": {
  "kernelspec": {
   "display_name": "Python 3",
   "language": "python",
   "name": "python3"
  },
  "language_info": {
   "codemirror_mode": {
    "name": "ipython",
    "version": 3
   },
   "file_extension": ".py",
   "mimetype": "text/x-python",
   "name": "python",
   "nbconvert_exporter": "python",
   "pygments_lexer": "ipython3",
   "version": "3.7.3"
  }
 },
 "nbformat": 4,
 "nbformat_minor": 2
}
