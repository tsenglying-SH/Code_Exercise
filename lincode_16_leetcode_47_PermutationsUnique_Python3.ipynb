{
 "cells": [
  {
   "cell_type": "markdown",
   "metadata": {},
   "source": [
    "## 注意去重即可"
   ]
  },
  {
   "cell_type": "code",
   "execution_count": 8,
   "metadata": {},
   "outputs": [],
   "source": [
    "def permuteUnique(nums):\n",
    "        # write your code here\n",
    "        nums.sort() # 要记得排序\n",
    "        result = []\n",
    "        visited = [False] * len(nums)\n",
    "        \n",
    "        def dfs(result, path, nums, idx):\n",
    "            if idx == len(nums):\n",
    "                result.append(path[:])\n",
    "                return\n",
    "            if idx > len(nums):\n",
    "                return\n",
    "            \n",
    "            for i in range(len(nums)):\n",
    "                if visited[i] == True:\n",
    "                    continue\n",
    "                if i > 0 and nums[i - 1] == nums[i] and visited[i - 1] == False:\n",
    "                    continue\n",
    "                visited[i] = True\n",
    "                dfs(result, path + [nums[i]], nums, idx + 1)\n",
    "                visited[i] = False\n",
    "        dfs(result, [], nums, 0)\n",
    "        return result"
   ]
  },
  {
   "cell_type": "code",
   "execution_count": 9,
   "metadata": {},
   "outputs": [
    {
     "data": {
      "text/plain": [
       "[[1, 1, 1]]"
      ]
     },
     "execution_count": 9,
     "metadata": {},
     "output_type": "execute_result"
    }
   ],
   "source": [
    "permuteUnique([1, 1, 1])"
   ]
  },
  {
   "cell_type": "code",
   "execution_count": 10,
   "metadata": {},
   "outputs": [
    {
     "data": {
      "text/plain": [
       "[[1, 1, 3, 3],\n",
       " [1, 3, 1, 3],\n",
       " [1, 3, 3, 1],\n",
       " [3, 1, 1, 3],\n",
       " [3, 1, 3, 1],\n",
       " [3, 3, 1, 1]]"
      ]
     },
     "execution_count": 10,
     "metadata": {},
     "output_type": "execute_result"
    }
   ],
   "source": [
    "permuteUnique([1, 1, 3, 3])"
   ]
  },
  {
   "cell_type": "code",
   "execution_count": null,
   "metadata": {},
   "outputs": [],
   "source": []
  },
  {
   "cell_type": "code",
   "execution_count": null,
   "metadata": {},
   "outputs": [],
   "source": []
  }
 ],
 "metadata": {
  "kernelspec": {
   "display_name": "Python 3",
   "language": "python",
   "name": "python3"
  },
  "language_info": {
   "codemirror_mode": {
    "name": "ipython",
    "version": 3
   },
   "file_extension": ".py",
   "mimetype": "text/x-python",
   "name": "python",
   "nbconvert_exporter": "python",
   "pygments_lexer": "ipython3",
   "version": "3.7.3"
  }
 },
 "nbformat": 4,
 "nbformat_minor": 2
}
