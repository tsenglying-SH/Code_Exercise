{
 "cells": [
  {
   "cell_type": "markdown",
   "metadata": {},
   "source": [
    "## Recursive Version"
   ]
  },
  {
   "cell_type": "code",
   "execution_count": 10,
   "metadata": {},
   "outputs": [],
   "source": [
    "def isMatch(s, p):\n",
    "    # write your code here\n",
    "    return helper(s, 0, p, 0, dict())\n",
    "\n",
    "\n",
    "def helper(s, i, p, j, memo):\n",
    "    if (i, j) in memo:\n",
    "        return memo[(i, j)]\n",
    "\n",
    "    if i == len(s):\n",
    "        for idx in range(j, len(p)):\n",
    "            if p[idx] != \"*\":\n",
    "                return False\n",
    "        return True\n",
    "\n",
    "    if j == len(p):\n",
    "        return False\n",
    "\n",
    "    if p[j] != \"*\":\n",
    "        matcher = isMatch_char(s[i], p[j]) and helper(s, i + 1, p, j + 1, memo)\n",
    "    else:\n",
    "        matcher = helper(s, i + 1, p, j, memo) or helper(s, i, p, j + 1, memo)\n",
    "\n",
    "    memo[(i, j)] = matcher\n",
    "    return matcher\n",
    "\n",
    "def isMatch_char(s, p):\n",
    "    return s == p or p == \"?\""
   ]
  },
  {
   "cell_type": "code",
   "execution_count": 11,
   "metadata": {},
   "outputs": [
    {
     "data": {
      "text/plain": [
       "False"
      ]
     },
     "execution_count": 11,
     "metadata": {},
     "output_type": "execute_result"
    }
   ],
   "source": [
    "isMatch('aa', 'a')"
   ]
  },
  {
   "cell_type": "code",
   "execution_count": 12,
   "metadata": {},
   "outputs": [
    {
     "data": {
      "text/plain": [
       "True"
      ]
     },
     "execution_count": 12,
     "metadata": {},
     "output_type": "execute_result"
    }
   ],
   "source": [
    "isMatch('aa', 'a*?')"
   ]
  },
  {
   "cell_type": "markdown",
   "metadata": {},
   "source": [
    "## Iterative Version， 挺难理解的"
   ]
  },
  {
   "cell_type": "code",
   "execution_count": 27,
   "metadata": {},
   "outputs": [],
   "source": [
    "def isMatch(s, p):\n",
    "    i = 0\n",
    "    j = 0\n",
    "    start = -1\n",
    "    match = -1\n",
    "    while i < len(s):\n",
    "        # 一对一匹配,匹配成功一起移\n",
    "        if j < len(p) and (s[i] == p[j] or p[j] == \"?\"):\n",
    "            i += 1\n",
    "            j += 1\n",
    "            \n",
    "        # 记录p的\"*\"的位置,还有s的位置\n",
    "        elif j < len(p) and p[j] == \"*\":\n",
    "            start = j\n",
    "            match = i\n",
    "            j += 1\n",
    "            \n",
    "         # j 回到 记录的下一个位置\n",
    "            # match 更新下一个位置\n",
    "            # 这不代表用*匹配一个字符\n",
    "        elif start != -1:\n",
    "            j = start + 1\n",
    "            match += 1\n",
    "            i = match\n",
    "        else:\n",
    "            return False\n",
    "    \n",
    "    while j < len(p) and p[j] == \"*\":\n",
    "        j += 1\n",
    "    return j == len(p)"
   ]
  },
  {
   "cell_type": "code",
   "execution_count": 28,
   "metadata": {},
   "outputs": [
    {
     "data": {
      "text/plain": [
       "False"
      ]
     },
     "execution_count": 28,
     "metadata": {},
     "output_type": "execute_result"
    }
   ],
   "source": [
    "isMatch('aa', 'a')"
   ]
  },
  {
   "cell_type": "code",
   "execution_count": 29,
   "metadata": {},
   "outputs": [
    {
     "data": {
      "text/plain": [
       "True"
      ]
     },
     "execution_count": 29,
     "metadata": {},
     "output_type": "execute_result"
    }
   ],
   "source": [
    "isMatch('aa', 'a*?')"
   ]
  },
  {
   "cell_type": "code",
   "execution_count": null,
   "metadata": {},
   "outputs": [],
   "source": []
  },
  {
   "cell_type": "code",
   "execution_count": null,
   "metadata": {},
   "outputs": [],
   "source": []
  }
 ],
 "metadata": {
  "kernelspec": {
   "display_name": "Python 3",
   "language": "python",
   "name": "python3"
  },
  "language_info": {
   "codemirror_mode": {
    "name": "ipython",
    "version": 3
   },
   "file_extension": ".py",
   "mimetype": "text/x-python",
   "name": "python",
   "nbconvert_exporter": "python",
   "pygments_lexer": "ipython3",
   "version": "3.7.3"
  }
 },
 "nbformat": 4,
 "nbformat_minor": 2
}
