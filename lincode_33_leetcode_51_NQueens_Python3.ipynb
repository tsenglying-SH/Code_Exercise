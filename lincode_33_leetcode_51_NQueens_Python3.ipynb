{
 "cells": [
  {
   "cell_type": "markdown",
   "metadata": {},
   "source": [
    "## 计算解并不难 感觉画出来好烦啊。。"
   ]
  },
  {
   "cell_type": "code",
   "execution_count": 74,
   "metadata": {},
   "outputs": [],
   "source": [
    "def solveNQueens(n):\n",
    "    # write your code here\n",
    "    if n == 0:\n",
    "        return []\n",
    "    result = []\n",
    "    visited = {\"cols\":set(), \"sums\":set(), \"diff\":set()}\n",
    "\n",
    "    def search(n, level, result, path, visited):\n",
    "        if level == n:\n",
    "            result.append(path[:])\n",
    "            return\n",
    "\n",
    "        if level > n:\n",
    "            return\n",
    "\n",
    "        for col in range(n):\n",
    "            if col not in visited['cols'] and level + col not in visited['sums'] and level - col not in visited['diff']:\n",
    "                path.append(col)\n",
    "                visited['cols'].add(col)\n",
    "                visited['sums'].add(level + col)\n",
    "                visited['diff'].add(level - col)\n",
    "                search(n, level + 1, result, path, visited)\n",
    "                visited['cols'].remove(col)\n",
    "                visited['sums'].remove(level + col)\n",
    "                visited['diff'].remove(level - col)\n",
    "                del path[-1]\n",
    "\n",
    "    search(n, 0, result, [], visited)\n",
    "    print(result)\n",
    "    # 画出来\n",
    "    def draw(results):\n",
    "        pictures = []\n",
    "        for result in results:\n",
    "            picture = []\n",
    "            n = len(result)\n",
    "            for col in result:\n",
    "                row_str = ''.join(['Q' if c == col else '.' for c in range(n)])\n",
    "                picture.append(row_str)\n",
    "            pictures.append(picture)\n",
    "        return pictures\n",
    "    return draw(result)"
   ]
  },
  {
   "cell_type": "code",
   "execution_count": 75,
   "metadata": {},
   "outputs": [
    {
     "name": "stdout",
     "output_type": "stream",
     "text": [
      "[[1, 3, 0, 2], [2, 0, 3, 1]]\n"
     ]
    },
    {
     "data": {
      "text/plain": [
       "[['.Q..', '...Q', 'Q...', '..Q.'], ['..Q.', 'Q...', '...Q', '.Q..']]"
      ]
     },
     "execution_count": 75,
     "metadata": {},
     "output_type": "execute_result"
    }
   ],
   "source": [
    "solveNQueens(4)"
   ]
  },
  {
   "cell_type": "code",
   "execution_count": null,
   "metadata": {},
   "outputs": [],
   "source": []
  }
 ],
 "metadata": {
  "kernelspec": {
   "display_name": "Python 3",
   "language": "python",
   "name": "python3"
  },
  "language_info": {
   "codemirror_mode": {
    "name": "ipython",
    "version": 3
   },
   "file_extension": ".py",
   "mimetype": "text/x-python",
   "name": "python",
   "nbconvert_exporter": "python",
   "pygments_lexer": "ipython3",
   "version": "3.7.3"
  }
 },
 "nbformat": 4,
 "nbformat_minor": 2
}
