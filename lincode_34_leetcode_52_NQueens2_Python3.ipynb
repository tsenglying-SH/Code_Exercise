{
 "cells": [
  {
   "cell_type": "code",
   "execution_count": 53,
   "metadata": {},
   "outputs": [],
   "source": [
    "def totalNQueens(n):\n",
    "    if n <= 0:\n",
    "        return 0\n",
    "    visited ={'cols':set(), 'sum':set(), 'diff': set()}\n",
    "    result = []\n",
    "    def search(n, levels, result, visited):\n",
    "        print(\"n\", n, \"levels\", levels, \"result\", result, \"visited\", visited)\n",
    "        if levels == n:\n",
    "            result .append(True)\n",
    "            return\n",
    "        if levels > n:\n",
    "            return\n",
    "\n",
    "        for col in range(n):\n",
    "            if (col not in visited['cols']) and (levels + col not in visited['sum']) and (levels - col not in visited['diff']):\n",
    "                visited['cols'].add(col)\n",
    "                visited['sum'].add(levels + col)\n",
    "                visited['diff'].add(levels - col)\n",
    "                search(n, levels + 1, result, visited)\n",
    "                visited['cols'].remove(col)\n",
    "                visited['sum'].remove(levels + col)\n",
    "                visited['diff'].remove(levels - col)\n",
    "    search(n, 0, result, visited)\n",
    "    return len(result)\n",
    "\n"
   ]
  },
  {
   "cell_type": "code",
   "execution_count": 54,
   "metadata": {},
   "outputs": [
    {
     "name": "stdout",
     "output_type": "stream",
     "text": [
      "n 4 levels 0 result [] visited {'cols': set(), 'sum': set(), 'diff': set()}\n",
      "n 4 levels 1 result [] visited {'cols': {0}, 'sum': {0}, 'diff': {0}}\n",
      "n 4 levels 2 result [] visited {'cols': {0, 2}, 'sum': {0, 3}, 'diff': {0, -1}}\n",
      "n 4 levels 2 result [] visited {'cols': {0, 3}, 'sum': {0, 4}, 'diff': {0, -2}}\n",
      "n 4 levels 3 result [] visited {'cols': {0, 1, 3}, 'sum': {0, 3, 4}, 'diff': {0, 1, -2}}\n",
      "n 4 levels 1 result [] visited {'cols': {1}, 'sum': {1}, 'diff': {-1}}\n",
      "n 4 levels 2 result [] visited {'cols': {3, 1}, 'sum': {1, 4}, 'diff': {-1, -2}}\n",
      "n 4 levels 3 result [] visited {'cols': {0, 1, 3}, 'sum': {1, 2, 4}, 'diff': {2, -2, -1}}\n",
      "n 4 levels 4 result [] visited {'cols': {0, 1, 2, 3}, 'sum': {1, 2, 4, 5}, 'diff': {1, 2, -2, -1}}\n",
      "n 4 levels 1 result [True] visited {'cols': {2}, 'sum': {2}, 'diff': {-2}}\n",
      "n 4 levels 2 result [True] visited {'cols': {0, 2}, 'sum': {1, 2}, 'diff': {1, -2}}\n",
      "n 4 levels 3 result [True] visited {'cols': {0, 2, 3}, 'sum': {1, 2, 5}, 'diff': {1, -2, -1}}\n",
      "n 4 levels 4 result [True] visited {'cols': {1, 0, 2, 3}, 'sum': {1, 2, 4, 5}, 'diff': {1, 2, -2, -1}}\n",
      "n 4 levels 1 result [True, True] visited {'cols': {3}, 'sum': {3}, 'diff': {-3}}\n",
      "n 4 levels 2 result [True, True] visited {'cols': {0, 3}, 'sum': {3, 1}, 'diff': {1, -3}}\n",
      "n 4 levels 3 result [True, True] visited {'cols': {2, 0, 3}, 'sum': {3, 4, 1}, 'diff': {0, 1, -3}}\n",
      "n 4 levels 2 result [True, True] visited {'cols': {1, 3}, 'sum': {3, 2}, 'diff': {0, -3}}\n"
     ]
    },
    {
     "data": {
      "text/plain": [
       "2"
      ]
     },
     "execution_count": 54,
     "metadata": {},
     "output_type": "execute_result"
    }
   ],
   "source": [
    "totalNQueens(4)"
   ]
  },
  {
   "cell_type": "code",
   "execution_count": null,
   "metadata": {},
   "outputs": [],
   "source": []
  }
 ],
 "metadata": {
  "kernelspec": {
   "display_name": "Python 3",
   "language": "python",
   "name": "python3"
  },
  "language_info": {
   "codemirror_mode": {
    "name": "ipython",
    "version": 3
   },
   "file_extension": ".py",
   "mimetype": "text/x-python",
   "name": "python",
   "nbconvert_exporter": "python",
   "pygments_lexer": "ipython3",
   "version": "3.7.3"
  }
 },
 "nbformat": 4,
 "nbformat_minor": 2
}
