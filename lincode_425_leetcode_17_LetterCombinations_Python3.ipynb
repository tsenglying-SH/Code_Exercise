{
 "cells": [
  {
   "cell_type": "code",
   "execution_count": 6,
   "metadata": {},
   "outputs": [],
   "source": [
    "def letterCombinations(digits):\n",
    "    # write your code here\n",
    "    # CornerCase 还是得特殊写一下\n",
    "    if digits == '':\n",
    "            return []\n",
    "    n_to_l = {'2':'abc', '3':'def', '4': 'ghi', '5': 'jkl', '6':'mno', '7':'pqrs','8':'tuv', '9':'wxyz'}\n",
    "\n",
    "    result = []\n",
    "\n",
    "    def dfs(result, path, digits, dict1, idx):\n",
    "        if idx == len(digits):\n",
    "            result.append(path[:])\n",
    "            return\n",
    "        if idx > len(digits):\n",
    "            return\n",
    "\n",
    "        for l in n_to_l[digits[idx]]:\n",
    "            dfs(result, path + l, digits, dict1, idx + 1)\n",
    "\n",
    "    dfs(result, '', digits, n_to_l, 0)\n",
    "    return result"
   ]
  },
  {
   "cell_type": "code",
   "execution_count": 7,
   "metadata": {},
   "outputs": [
    {
     "data": {
      "text/plain": [
       "['ad', 'ae', 'af', 'bd', 'be', 'bf', 'cd', 'ce', 'cf']"
      ]
     },
     "execution_count": 7,
     "metadata": {},
     "output_type": "execute_result"
    }
   ],
   "source": [
    "letterCombinations('23')"
   ]
  },
  {
   "cell_type": "code",
   "execution_count": null,
   "metadata": {},
   "outputs": [],
   "source": []
  }
 ],
 "metadata": {
  "kernelspec": {
   "display_name": "Python 3",
   "language": "python",
   "name": "python3"
  },
  "language_info": {
   "codemirror_mode": {
    "name": "ipython",
    "version": 3
   },
   "file_extension": ".py",
   "mimetype": "text/x-python",
   "name": "python",
   "nbconvert_exporter": "python",
   "pygments_lexer": "ipython3",
   "version": "3.7.3"
  }
 },
 "nbformat": 4,
 "nbformat_minor": 2
}
