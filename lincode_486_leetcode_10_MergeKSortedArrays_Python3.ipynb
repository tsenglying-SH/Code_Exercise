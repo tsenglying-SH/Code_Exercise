{
 "cells": [
  {
   "cell_type": "code",
   "execution_count": 1,
   "metadata": {},
   "outputs": [],
   "source": [
    "import heapq\n",
    "\n",
    "def mergekSortedArrays(arrays):\n",
    "    # write your code here\n",
    "    res = []\n",
    "    heap = []\n",
    "\n",
    "    for idx, array in enumerate(arrays):\n",
    "        if not array:\n",
    "            continue\n",
    "        heapq.heappush(heap, (array[0], idx, 0))\n",
    "\n",
    "    while heap:\n",
    "        element, array_num, pos_in_array = heapq.heappop(heap)\n",
    "        if pos_in_array + 1 < len(arrays[array_num]):\n",
    "            heapq.heappush(heap, (arrays[array_num][pos_in_array + 1], array_num, pos_in_array + 1))\n",
    "        res.append(element)\n",
    "\n",
    "    return res"
   ]
  },
  {
   "cell_type": "code",
   "execution_count": 2,
   "metadata": {},
   "outputs": [],
   "source": [
    "arrays = [\n",
    "    [1, 3, 5, 7],\n",
    "    [2, 4, 6],\n",
    "    [0, 8, 9, 10, 11]\n",
    "  ]"
   ]
  },
  {
   "cell_type": "code",
   "execution_count": 3,
   "metadata": {},
   "outputs": [
    {
     "data": {
      "text/plain": [
       "[0, 1, 2, 3, 4, 5, 6, 7, 8, 9, 10, 11]"
      ]
     },
     "execution_count": 3,
     "metadata": {},
     "output_type": "execute_result"
    }
   ],
   "source": [
    "mergekSortedArrays(arrays)"
   ]
  },
  {
   "cell_type": "code",
   "execution_count": null,
   "metadata": {},
   "outputs": [],
   "source": []
  }
 ],
 "metadata": {
  "kernelspec": {
   "display_name": "Python 3",
   "language": "python",
   "name": "python3"
  },
  "language_info": {
   "codemirror_mode": {
    "name": "ipython",
    "version": 3
   },
   "file_extension": ".py",
   "mimetype": "text/x-python",
   "name": "python",
   "nbconvert_exporter": "python",
   "pygments_lexer": "ipython3",
   "version": "3.7.3"
  }
 },
 "nbformat": 4,
 "nbformat_minor": 2
}
