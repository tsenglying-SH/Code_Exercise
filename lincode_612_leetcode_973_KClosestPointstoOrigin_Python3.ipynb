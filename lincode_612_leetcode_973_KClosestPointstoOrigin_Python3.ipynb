{
 "cells": [
  {
   "cell_type": "markdown",
   "metadata": {},
   "source": [
    "## Heap Based Method"
   ]
  },
  {
   "cell_type": "code",
   "execution_count": 22,
   "metadata": {},
   "outputs": [],
   "source": [
    "import heapq\n",
    "\n",
    "def kClosest(points, origin, k):\n",
    "    # write your code here\n",
    "    heap = []\n",
    "    for point in points:\n",
    "        dist = distance(point, origin)\n",
    "        heapq.heappush(heap, (-dist, -point[0], -point[1]))\n",
    "\n",
    "        if len(heap) > k:\n",
    "            heapq.heappop(heap)\n",
    "        print(heap)\n",
    "    ret = []\n",
    "    while len(heap) > 0:\n",
    "        _, x, y = heapq.heappop(heap)\n",
    "        ret.append([-x, -y])\n",
    "        print(heap, ret)\n",
    "    ret.reverse()\n",
    "    return ret\n",
    "\n",
    "def distance(point, origin):\n",
    "    return (point[0] - origin[0]) ** 2 + (point[1] - origin[1]) ** 2;"
   ]
  },
  {
   "cell_type": "code",
   "execution_count": 23,
   "metadata": {},
   "outputs": [],
   "source": [
    "points = [[4,6],[4,7],[4,4],[2,5],[1,1]]\n",
    "origin = [0, 0]\n",
    "k = 3 "
   ]
  },
  {
   "cell_type": "code",
   "execution_count": 24,
   "metadata": {},
   "outputs": [
    {
     "name": "stdout",
     "output_type": "stream",
     "text": [
      "[(-52, -4, -6)]\n",
      "[(-65, -4, -7), (-52, -4, -6)]\n",
      "[(-65, -4, -7), (-52, -4, -6), (-32, -4, -4)]\n",
      "[(-52, -4, -6), (-29, -2, -5), (-32, -4, -4)]\n",
      "[(-32, -4, -4), (-29, -2, -5), (-2, -1, -1)]\n",
      "[(-29, -2, -5), (-2, -1, -1)] [[4, 4]]\n",
      "[(-2, -1, -1)] [[4, 4], [2, 5]]\n",
      "[] [[4, 4], [2, 5], [1, 1]]\n"
     ]
    },
    {
     "data": {
      "text/plain": [
       "[[1, 1], [2, 5], [4, 4]]"
      ]
     },
     "execution_count": 24,
     "metadata": {},
     "output_type": "execute_result"
    }
   ],
   "source": [
    "kClosest(points, origin, k)"
   ]
  },
  {
   "cell_type": "markdown",
   "metadata": {},
   "source": [
    "## QuickSelect， 大家都用import heapq贼快-。-"
   ]
  },
  {
   "cell_type": "code",
   "execution_count": null,
   "metadata": {},
   "outputs": [],
   "source": [
    "import random\n",
    "class Solution:\n",
    "    def kClosest(self, points: List[List[int]], k: int) -> List[List[int]]:\n",
    "        # write your code here\n",
    "        if k <= 0 or not points or len(points) < k:\n",
    "            return []\n",
    "        result = []\n",
    "        self.partition(points, [0, 0], 0, len(points) - 1, k, result)\n",
    "        return result\n",
    "    \n",
    "    def dist(self, point, origin):\n",
    "        return (point[0] - origin[0]) ** 2 + (point[1] - origin[1]) ** 2\n",
    "        \n",
    "    def partition(self, points, origin, start, end, k, result):\n",
    "        if start >  end:\n",
    "            return\n",
    "        if start == end and k == 1:\n",
    "            result.append(points[start])\n",
    "            return\n",
    "        \n",
    "        left, right = start, end\n",
    "        mid = random.randint(left, right)\n",
    "        pivot = points[mid]\n",
    "        \n",
    "        while left <= right:\n",
    "            while left <= right and self.dist(points[left], origin) < self.dist(pivot, origin):\n",
    "                left += 1\n",
    "            while left <= right and self.dist(points[right], origin) > self.dist(pivot, origin):\n",
    "                right -= 1\n",
    "            if left <= right:\n",
    "                points[left], points[right] = points[right], points[left]\n",
    "                left += 1\n",
    "                right -= 1\n",
    "        \n",
    "        if start + k - 1 <= right:\n",
    "            self.partition(points, origin, start, right, k, result)\n",
    "            return\n",
    "        elif start + k - 1 >= left:\n",
    "            result.extend(points[start:left])\n",
    "            self.partition(points, origin, left, end, k - left + start, result)\n",
    "            return\n",
    "        else:\n",
    "            result.extend(points[start:left])\n",
    "            return"
   ]
  },
  {
   "cell_type": "code",
   "execution_count": null,
   "metadata": {},
   "outputs": [],
   "source": []
  }
 ],
 "metadata": {
  "kernelspec": {
   "display_name": "Python 3",
   "language": "python",
   "name": "python3"
  },
  "language_info": {
   "codemirror_mode": {
    "name": "ipython",
    "version": 3
   },
   "file_extension": ".py",
   "mimetype": "text/x-python",
   "name": "python",
   "nbconvert_exporter": "python",
   "pygments_lexer": "ipython3",
   "version": "3.7.3"
  }
 },
 "nbformat": 4,
 "nbformat_minor": 2
}
