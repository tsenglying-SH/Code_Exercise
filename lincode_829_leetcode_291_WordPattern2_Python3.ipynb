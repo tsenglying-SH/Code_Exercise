{
 "cells": [
  {
   "cell_type": "code",
   "execution_count": 12,
   "metadata": {},
   "outputs": [],
   "source": [
    "def wordPatternMatch(pattern, string):\n",
    "        # write your code here\n",
    "        return helper(pattern, string, {}, set())\n",
    "        \n",
    "def helper(pattern, string, mapping, used):\n",
    "    print(pattern, string, mapping ,used)\n",
    "    if not pattern and not string:\n",
    "        return True\n",
    "\n",
    "    if not pattern or not string:\n",
    "        return False\n",
    "\n",
    "    cur_char = pattern[0]\n",
    "    if cur_char in mapping:\n",
    "        word = mapping[cur_char]\n",
    "\n",
    "        if not string.startswith(word):\n",
    "            return False\n",
    "\n",
    "        return helper(pattern[1:], string[len(word):], mapping, used)\n",
    "\n",
    "    for i in range(len(string)):\n",
    "        new_word = string[: i + 1]\n",
    "        if new_word in used:\n",
    "            continue\n",
    "\n",
    "        used.add(new_word)\n",
    "        mapping[cur_char] = new_word\n",
    "\n",
    "        if helper(pattern[1:], string[len(new_word):], mapping, used):\n",
    "            return True\n",
    "\n",
    "        del mapping[cur_char]\n",
    "        used.remove(new_word)\n",
    "    return False"
   ]
  },
  {
   "cell_type": "code",
   "execution_count": 13,
   "metadata": {},
   "outputs": [
    {
     "name": "stdout",
     "output_type": "stream",
     "text": [
      "aaa abcabcabc {} set()\n",
      "aa bcabcabc {'a': 'a'} {'a'}\n",
      "aa cabcabc {'a': 'ab'} {'ab'}\n",
      "aa abcabc {'a': 'abc'} {'abc'}\n",
      "a abc {'a': 'abc'} {'abc'}\n",
      "  {'a': 'abc'} {'abc'}\n"
     ]
    },
    {
     "data": {
      "text/plain": [
       "True"
      ]
     },
     "execution_count": 13,
     "metadata": {},
     "output_type": "execute_result"
    }
   ],
   "source": [
    "wordPatternMatch(\"aaa\", \"abcabcabc\")"
   ]
  },
  {
   "cell_type": "code",
   "execution_count": 14,
   "metadata": {},
   "outputs": [
    {
     "name": "stdout",
     "output_type": "stream",
     "text": [
      "d ef {} set()\n",
      " f {'d': 'e'} {'e'}\n",
      "  {'d': 'ef'} {'ef'}\n"
     ]
    },
    {
     "data": {
      "text/plain": [
       "True"
      ]
     },
     "execution_count": 14,
     "metadata": {},
     "output_type": "execute_result"
    }
   ],
   "source": [
    "wordPatternMatch(\"d\", \"ef\")"
   ]
  },
  {
   "cell_type": "code",
   "execution_count": null,
   "metadata": {},
   "outputs": [],
   "source": []
  }
 ],
 "metadata": {
  "kernelspec": {
   "display_name": "Python 3",
   "language": "python",
   "name": "python3"
  },
  "language_info": {
   "codemirror_mode": {
    "name": "ipython",
    "version": 3
   },
   "file_extension": ".py",
   "mimetype": "text/x-python",
   "name": "python",
   "nbconvert_exporter": "python",
   "pygments_lexer": "ipython3",
   "version": "3.7.3"
  }
 },
 "nbformat": 4,
 "nbformat_minor": 2
}
