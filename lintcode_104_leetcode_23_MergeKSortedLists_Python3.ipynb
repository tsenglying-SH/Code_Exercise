{
 "cells": [
  {
   "cell_type": "markdown",
   "metadata": {},
   "source": [
    "## Priority Based Method"
   ]
  },
  {
   "cell_type": "code",
   "execution_count": 1,
   "metadata": {},
   "outputs": [],
   "source": [
    "from queue import PriorityQueue"
   ]
  },
  {
   "cell_type": "code",
   "execution_count": null,
   "metadata": {},
   "outputs": [],
   "source": [
    "\"\"\"\n",
    "Definition of ListNode\n",
    "class ListNode(object):\n",
    "\n",
    "    def __init__(self, val, next=None):\n",
    "        self.val = val\n",
    "        self.next = next\n",
    "\"\"\"\n",
    "ListNode.__lt__ = lambda x, y: (x.val < y.val)\n",
    "\n",
    "class Solution:\n",
    "    \"\"\"\n",
    "    @param lists: a list of ListNode\n",
    "    @return: The head of one sorted list.\n",
    "    \"\"\"\n",
    "    def mergeKLists(self, lists):\n",
    "        # write your code here\n",
    "        if not lists:\n",
    "            return []\n",
    "        \n",
    "        head = point = ListNode(0)\n",
    "        pq = PriorityQueue()\n",
    "        \n",
    "        for head_node in lists:\n",
    "            if head_node:\n",
    "                pq.put((head_node.val, head_node))\n",
    "        \n",
    "        while not pq.empty():\n",
    "            val, node = pq.get()\n",
    "            point.next = node\n",
    "            point = point.next\n",
    "            new_node = node.next\n",
    "            if new_node:\n",
    "                pq.put((new_node.val, new_node))\n",
    "                \n",
    "        return head.next"
   ]
  },
  {
   "cell_type": "markdown",
   "metadata": {},
   "source": [
    "## Merge Lists in pairs"
   ]
  },
  {
   "cell_type": "code",
   "execution_count": null,
   "metadata": {},
   "outputs": [],
   "source": [
    "class Solution:\n",
    "    def mergeKLists(self, lists: List[ListNode]) -> ListNode:\n",
    "        # write your code here\n",
    "        if not lists:\n",
    "            return None\n",
    "        \n",
    "        amount = len(lists)\n",
    "        interval = 1\n",
    "        # head = point = ListNode(0)\n",
    "        while interval < amount:\n",
    "            for i in range(0, amount - interval, 2 * interval):\n",
    "                lists[i] = self.merge2Lists(lists[i], lists[i + interval])\n",
    "            interval *= 2\n",
    "        return lists[0]\n",
    "        \n",
    "\n",
    "    def merge2Lists(self, l1, l2):\n",
    "        if not l1:\n",
    "            return l2\n",
    "        if not l2:\n",
    "            return l1\n",
    "        head = point = ListNode(0)   \n",
    "        while l1 and l2:\n",
    "            if l1.val <= l2.val:\n",
    "                point.next = l1\n",
    "                l1 = l1.next\n",
    "            else:\n",
    "                point.next = l2\n",
    "                l2 = l2.next\n",
    "            point = point.next\n",
    "        \n",
    "        if not l1:\n",
    "            point.next = l2\n",
    "        if not l2:\n",
    "            point.next = l1\n",
    "        return head.next"
   ]
  }
 ],
 "metadata": {
  "kernelspec": {
   "display_name": "Python 3",
   "language": "python",
   "name": "python3"
  },
  "language_info": {
   "codemirror_mode": {
    "name": "ipython",
    "version": 3
   },
   "file_extension": ".py",
   "mimetype": "text/x-python",
   "name": "python",
   "nbconvert_exporter": "python",
   "pygments_lexer": "ipython3",
   "version": "3.7.3"
  }
 },
 "nbformat": 4,
 "nbformat_minor": 2
}
