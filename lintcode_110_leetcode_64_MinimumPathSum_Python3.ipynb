{
 "cells": [
  {
   "cell_type": "markdown",
   "metadata": {},
   "source": [
    "## DP method, in fact, space complexity can be reduced to O(n), I did it in Cpp Solution."
   ]
  },
  {
   "cell_type": "code",
   "execution_count": 1,
   "metadata": {},
   "outputs": [],
   "source": [
    "def minPathSum(grid):\n",
    "    # write your code here\n",
    "    if not grid or not grid[0]:\n",
    "        return 0\n",
    "\n",
    "    m, n = len(grid), len(grid[0])\n",
    "\n",
    "    dp_table = [[0] * n for _ in range(m)]\n",
    "\n",
    "    dp_table[m - 1][n - 1] = grid[m - 1][n - 1]\n",
    "\n",
    "    for i in range(m - 2, -1, -1):\n",
    "        dp_table[i][n - 1] = dp_table[i + 1][n - 1] + grid[i][n - 1]\n",
    "\n",
    "    for j in range(n - 2, -1, -1):\n",
    "        dp_table[m - 1][j] = dp_table[m - 1][j + 1] + grid[m - 1][j]\n",
    "\n",
    "    for i in range(m - 2, -1, -1):\n",
    "        for j in range(n - 2, -1, -1):\n",
    "            dp_table[i][j] = min(dp_table[i + 1][j], dp_table[i][j + 1]) + grid[i][j]\n",
    "\n",
    "    return dp_table[0][0]"
   ]
  },
  {
   "cell_type": "code",
   "execution_count": 2,
   "metadata": {},
   "outputs": [],
   "source": [
    "grid = [[1,3,1],[1,5,1],[4,2,1]]"
   ]
  },
  {
   "cell_type": "code",
   "execution_count": 3,
   "metadata": {},
   "outputs": [
    {
     "data": {
      "text/plain": [
       "7"
      ]
     },
     "execution_count": 3,
     "metadata": {},
     "output_type": "execute_result"
    }
   ],
   "source": [
    "minPathSum(grid)"
   ]
  },
  {
   "cell_type": "code",
   "execution_count": null,
   "metadata": {},
   "outputs": [],
   "source": []
  }
 ],
 "metadata": {
  "kernelspec": {
   "display_name": "Python 3",
   "language": "python",
   "name": "python3"
  },
  "language_info": {
   "codemirror_mode": {
    "name": "ipython",
    "version": 3
   },
   "file_extension": ".py",
   "mimetype": "text/x-python",
   "name": "python",
   "nbconvert_exporter": "python",
   "pygments_lexer": "ipython3",
   "version": "3.7.3"
  }
 },
 "nbformat": 4,
 "nbformat_minor": 2
}
