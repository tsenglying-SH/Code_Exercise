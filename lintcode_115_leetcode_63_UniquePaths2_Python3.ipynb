{
 "cells": [
  {
   "cell_type": "code",
   "execution_count": 4,
   "metadata": {},
   "outputs": [],
   "source": [
    "def uniquePathsWithObstacles(obstacleGrid):\n",
    "    # write your code here\n",
    "    # corner case\n",
    "    if not obstacleGrid or not obstacleGrid[0]:\n",
    "        return 0\n",
    "    m, n = len(obstacleGrid), len(obstacleGrid[0])\n",
    "\n",
    "    if obstacleGrid[m - 1][n - 1] == 1:\n",
    "        return 0\n",
    "    \n",
    "    # initialization\n",
    "    dp_table = [[1] * n for _ in range(m)]\n",
    "    for i in range(m - 2, -1, -1):\n",
    "        if obstacleGrid[i][n - 1] == 1 or dp_table[i + 1][n - 1] == 0:\n",
    "            dp_table[i][n - 1] = 0\n",
    "\n",
    "    for j in range(n - 2, -1, -1):\n",
    "        if obstacleGrid[m - 1][j] == 1 or dp_table[m - 1][j + 1] == 0:\n",
    "            dp_table[m - 1][j] = 0\n",
    "\n",
    "    # do the dp\n",
    "    for i in range(m - 2, -1, -1):\n",
    "        for j in range(n -2, -1, -1):\n",
    "            if obstacleGrid[i][j] == 1:\n",
    "                dp_table[i][j] = 0\n",
    "                continue\n",
    "            dp_table[i][j] = dp_table[i + 1][j] + dp_table[i][j + 1]\n",
    "\n",
    "    print(dp_table)\n",
    "    return dp_table[0][0]"
   ]
  },
  {
   "cell_type": "code",
   "execution_count": 5,
   "metadata": {},
   "outputs": [],
   "source": [
    "obstacleGrid = [[0,0,0],[0,0,1],[0,0,0],[0,0,0]]"
   ]
  },
  {
   "cell_type": "code",
   "execution_count": 6,
   "metadata": {},
   "outputs": [
    {
     "name": "stdout",
     "output_type": "stream",
     "text": [
      "[[7, 2, 0], [5, 2, 0], [3, 2, 1], [1, 1, 1]]\n"
     ]
    },
    {
     "data": {
      "text/plain": [
       "7"
      ]
     },
     "execution_count": 6,
     "metadata": {},
     "output_type": "execute_result"
    }
   ],
   "source": [
    "uniquePathsWithObstacles(obstacleGrid)"
   ]
  },
  {
   "cell_type": "code",
   "execution_count": null,
   "metadata": {},
   "outputs": [],
   "source": []
  }
 ],
 "metadata": {
  "kernelspec": {
   "display_name": "Python 3",
   "language": "python",
   "name": "python3"
  },
  "language_info": {
   "codemirror_mode": {
    "name": "ipython",
    "version": 3
   },
   "file_extension": ".py",
   "mimetype": "text/x-python",
   "name": "python",
   "nbconvert_exporter": "python",
   "pygments_lexer": "ipython3",
   "version": "3.7.3"
  }
 },
 "nbformat": 4,
 "nbformat_minor": 2
}
