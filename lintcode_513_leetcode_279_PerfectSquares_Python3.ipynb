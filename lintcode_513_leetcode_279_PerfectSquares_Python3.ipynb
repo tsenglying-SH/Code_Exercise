{
 "cells": [
  {
   "cell_type": "markdown",
   "metadata": {},
   "source": [
    "## Method of DP， O(n^1.5)"
   ]
  },
  {
   "cell_type": "code",
   "execution_count": 24,
   "metadata": {},
   "outputs": [],
   "source": [
    "import sys"
   ]
  },
  {
   "cell_type": "code",
   "execution_count": 25,
   "metadata": {},
   "outputs": [],
   "source": [
    "def numSquares(n):\n",
    "    # write your code here\n",
    "    if n < 0:\n",
    "        return 0\n",
    "    if n  == 1 or n == 0:\n",
    "        return n\n",
    "\n",
    "    dp_table = [sys.maxsize] * (n + 1)\n",
    "    dp_table[0] = 0\n",
    "    dp_table[1] = 1\n",
    "    for i in range(1, n + 1):\n",
    "        for j in range(1, int(i ** 0.5) + 1):\n",
    "            if j * j <= i:\n",
    "                dp_table[i] = min(dp_table[i], dp_table[i - j * j] + 1)\n",
    "    # print(dp_table)\n",
    "    return dp_table[-1]"
   ]
  },
  {
   "cell_type": "code",
   "execution_count": 26,
   "metadata": {},
   "outputs": [
    {
     "data": {
      "text/plain": [
       "3"
      ]
     },
     "execution_count": 26,
     "metadata": {},
     "output_type": "execute_result"
    }
   ],
   "source": [
    "numSquares(12)"
   ]
  },
  {
   "cell_type": "markdown",
   "metadata": {},
   "source": [
    "## 4 squares "
   ]
  },
  {
   "cell_type": "code",
   "execution_count": 28,
   "metadata": {},
   "outputs": [],
   "source": [
    "def numSquares1(n):\n",
    "    # write your code here\n",
    "    if n <= 0:\n",
    "        return 0\n",
    "    if n == 1:\n",
    "        return 1\n",
    "\n",
    "    while n % 4 == 0:\n",
    "        n //= 4\n",
    "    if n % 8 == 7:\n",
    "        return 4\n",
    "\n",
    "    for i in range(int(n ** 0.5) + 1):\n",
    "        j = int((n - i * i) ** 0.5)\n",
    "        if i * i + j * j == n:\n",
    "            return (i != 0) + (j != 0)\n",
    "    return 3"
   ]
  },
  {
   "cell_type": "code",
   "execution_count": 29,
   "metadata": {},
   "outputs": [
    {
     "data": {
      "text/plain": [
       "3"
      ]
     },
     "execution_count": 29,
     "metadata": {},
     "output_type": "execute_result"
    }
   ],
   "source": [
    "numSquares1(12)"
   ]
  },
  {
   "cell_type": "code",
   "execution_count": null,
   "metadata": {},
   "outputs": [],
   "source": []
  }
 ],
 "metadata": {
  "kernelspec": {
   "display_name": "Python 3",
   "language": "python",
   "name": "python3"
  },
  "language_info": {
   "codemirror_mode": {
    "name": "ipython",
    "version": 3
   },
   "file_extension": ".py",
   "mimetype": "text/x-python",
   "name": "python",
   "nbconvert_exporter": "python",
   "pygments_lexer": "ipython3",
   "version": "3.7.3"
  }
 },
 "nbformat": 4,
 "nbformat_minor": 2
}
