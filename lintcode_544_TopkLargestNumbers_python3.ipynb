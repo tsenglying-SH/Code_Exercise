{
 "cells": [
  {
   "cell_type": "markdown",
   "metadata": {},
   "source": [
    "## heap based method"
   ]
  },
  {
   "cell_type": "code",
   "execution_count": 1,
   "metadata": {},
   "outputs": [],
   "source": [
    "import heapq\n",
    "class Solution:\n",
    "    \"\"\"\n",
    "    @param nums: an integer array\n",
    "    @param k: An integer\n",
    "    @return: the top k largest numbers in array\n",
    "    \"\"\"\n",
    "    def topk(self, nums, k):\n",
    "        # write your code here\n",
    "        #if not nums or k <= 0 or len(nums) <= k:\n",
    "        #    return []\n",
    "            \n",
    "        heap = []\n",
    "        for num in nums:\n",
    "            heapq.heappush(heap, num)\n",
    "            \n",
    "            if len(heap) > k:\n",
    "                heapq.heappop(heap)\n",
    "                \n",
    "        res = []\n",
    "        while len(heap) > 0:\n",
    "            res.append(heapq.heappop(heap))\n",
    "            \n",
    "        res.sort(reverse=True)\n",
    "        return res"
   ]
  },
  {
   "cell_type": "code",
   "execution_count": null,
   "metadata": {},
   "outputs": [],
   "source": []
  }
 ],
 "metadata": {
  "kernelspec": {
   "display_name": "Python 3",
   "language": "python",
   "name": "python3"
  },
  "language_info": {
   "codemirror_mode": {
    "name": "ipython",
    "version": 3
   },
   "file_extension": ".py",
   "mimetype": "text/x-python",
   "name": "python",
   "nbconvert_exporter": "python",
   "pygments_lexer": "ipython3",
   "version": "3.7.3"
  }
 },
 "nbformat": 4,
 "nbformat_minor": 2
}
