{
 "cells": [
  {
   "cell_type": "code",
   "execution_count": 7,
   "metadata": {},
   "outputs": [],
   "source": [
    "import heapq"
   ]
  },
  {
   "cell_type": "code",
   "execution_count": 8,
   "metadata": {},
   "outputs": [],
   "source": [
    "class Interval(object):\n",
    "    def __init__(self, start, end):\n",
    "        self.start = start\n",
    "        self.end = end"
   ]
  },
  {
   "cell_type": "code",
   "execution_count": 27,
   "metadata": {},
   "outputs": [],
   "source": [
    "def mergeKSortedIntervalLists(intervals):\n",
    "        # write your code here\n",
    "        if not intervals:\n",
    "            return []\n",
    "        res = []\n",
    "        heap = []\n",
    "        for idx, array in enumerate(intervals):\n",
    "            if not array:\n",
    "                continue\n",
    "            to_push = array.pop(0)\n",
    "            heapq.heappush(heap, (to_push.start, to_push.end, idx))\n",
    "            \n",
    "        while heap:\n",
    "            print(heap)\n",
    "            start, end, idx = heapq.heappop(heap)\n",
    "            if intervals[idx]:\n",
    "                to_push_heap = intervals[idx].pop(0)\n",
    "                heapq.heappush(heap, (to_push_heap.start, to_push_heap.end, idx))\n",
    "            append(res, Interval(start, end))\n",
    "            \n",
    "        \n",
    "        return res\n",
    "    \n",
    "    \n",
    "def append(interval_list, interval):\n",
    "    if not interval_list or interval_list[-1].end < interval.start:\n",
    "        interval_list.append(interval)\n",
    "        return\n",
    "    last_interval = interval_list[-1]\n",
    "    last_interval.end = max(interval.end, last_interval.end)"
   ]
  },
  {
   "cell_type": "code",
   "execution_count": 28,
   "metadata": {},
   "outputs": [],
   "source": [
    "intervals1 = [[Interval(1,3),Interval(4,7),Interval(6,8)],[Interval(1,2),Interval(9,10)]]"
   ]
  },
  {
   "cell_type": "code",
   "execution_count": 29,
   "metadata": {},
   "outputs": [
    {
     "name": "stdout",
     "output_type": "stream",
     "text": [
      "[(1, 2, 1), (1, 3, 0)]\n",
      "[(1, 3, 0), (9, 10, 1)]\n",
      "[(4, 7, 0), (9, 10, 1)]\n",
      "[(6, 8, 0), (9, 10, 1)]\n",
      "[(9, 10, 1)]\n"
     ]
    },
    {
     "data": {
      "text/plain": [
       "[<__main__.Interval at 0x2063836bba8>,\n",
       " <__main__.Interval at 0x2063836b8d0>,\n",
       " <__main__.Interval at 0x2063836b080>]"
      ]
     },
     "execution_count": 29,
     "metadata": {},
     "output_type": "execute_result"
    }
   ],
   "source": [
    "mergeKSortedIntervalLists(intervals1)"
   ]
  },
  {
   "cell_type": "code",
   "execution_count": null,
   "metadata": {},
   "outputs": [],
   "source": []
  }
 ],
 "metadata": {
  "kernelspec": {
   "display_name": "Python 3",
   "language": "python",
   "name": "python3"
  },
  "language_info": {
   "codemirror_mode": {
    "name": "ipython",
    "version": 3
   },
   "file_extension": ".py",
   "mimetype": "text/x-python",
   "name": "python",
   "nbconvert_exporter": "python",
   "pygments_lexer": "ipython3",
   "version": "3.7.3"
  }
 },
 "nbformat": 4,
 "nbformat_minor": 2
}
