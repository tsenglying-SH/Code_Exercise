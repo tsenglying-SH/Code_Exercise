{
 "cells": [
  {
   "cell_type": "markdown",
   "metadata": {},
   "source": [
    "## 核心在于，如果b % max(subset) == 0, 那b可以加入该subset"
   ]
  },
  {
   "cell_type": "code",
   "execution_count": 3,
   "metadata": {},
   "outputs": [],
   "source": [
    "def largestDivisibleSubset(nums):\n",
    "    # write your code here\n",
    "    if not nums:\n",
    "        return set()\n",
    "    \n",
    "    # translate to list, sort it\n",
    "    nums = list(nums)\n",
    "    nums.sort()\n",
    "    \n",
    "    # initialize the dp_table and a list to save the index\n",
    "    n = len(nums)\n",
    "    dp_table = [1] * n\n",
    "    parents = [-1] * n\n",
    "    maximum_len = 0\n",
    "    maximum_index = -1\n",
    "    \n",
    "    \n",
    "    for i in range(n):\n",
    "        dp_table[i] = 1\n",
    "        parents[i] = -1\n",
    "        for j in range(i):\n",
    "            if nums[i] % nums[j] == 0 and dp_table[i] < dp_table[j] + 1:\n",
    "                dp_table[i] = dp_table[j] + 1\n",
    "                parents[i] = j\n",
    "\n",
    "        if dp_table[i] > maximum_len:\n",
    "            maximum_len = dp_table[i]\n",
    "            maximum_index = i\n",
    "    \n",
    "    # output the result according to the index recorded\n",
    "    result = set()    \n",
    "    for _ in range(maximum_len):\n",
    "        result.add(nums[maximum_index])\n",
    "        maximum_index = parents[maximum_index]\n",
    "\n",
    "    return result"
   ]
  },
  {
   "cell_type": "code",
   "execution_count": 6,
   "metadata": {
    "scrolled": true
   },
   "outputs": [
    {
     "data": {
      "text/plain": [
       "{3, 6}"
      ]
     },
     "execution_count": 6,
     "metadata": {},
     "output_type": "execute_result"
    }
   ],
   "source": [
    "largestDivisibleSubset({3, 6, 9})"
   ]
  },
  {
   "cell_type": "code",
   "execution_count": null,
   "metadata": {},
   "outputs": [],
   "source": []
  }
 ],
 "metadata": {
  "kernelspec": {
   "display_name": "Python 3",
   "language": "python",
   "name": "python3"
  },
  "language_info": {
   "codemirror_mode": {
    "name": "ipython",
    "version": 3
   },
   "file_extension": ".py",
   "mimetype": "text/x-python",
   "name": "python",
   "nbconvert_exporter": "python",
   "pygments_lexer": "ipython3",
   "version": "3.7.3"
  }
 },
 "nbformat": 4,
 "nbformat_minor": 2
}
