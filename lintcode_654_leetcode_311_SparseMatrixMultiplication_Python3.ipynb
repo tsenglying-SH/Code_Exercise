{
 "cells": [
  {
   "cell_type": "markdown",
   "metadata": {},
   "source": [
    "## Naive Way"
   ]
  },
  {
   "cell_type": "code",
   "execution_count": 7,
   "metadata": {},
   "outputs": [],
   "source": [
    "def multiply(A, B):\n",
    "        # write your code here\n",
    "        C = [[0] * len(B[0]) for _ in range(len(A))]\n",
    "        \n",
    "        for i in range(len(C)):\n",
    "            for j in range(len(C[0])):\n",
    "                for k in range(len(B)):\n",
    "                    C[i][j] += A[i][k] * B[k][j]\n",
    "        return C"
   ]
  },
  {
   "cell_type": "code",
   "execution_count": 8,
   "metadata": {},
   "outputs": [],
   "source": [
    "A = [\n",
    "  [ 1, 0, 0],\n",
    "  [-1, 0, 3]\n",
    "]\n",
    "\n",
    "B = [\n",
    "  [ 7, 0, 0 ],\n",
    "  [ 0, 0, 0 ],\n",
    "  [ 0, 0, 1 ]\n",
    "]"
   ]
  },
  {
   "cell_type": "code",
   "execution_count": 9,
   "metadata": {},
   "outputs": [
    {
     "data": {
      "text/plain": [
       "[[7, 0, 0], [-7, 0, 3]]"
      ]
     },
     "execution_count": 9,
     "metadata": {},
     "output_type": "execute_result"
    }
   ],
   "source": [
    "multiply(A, B)"
   ]
  },
  {
   "cell_type": "markdown",
   "metadata": {},
   "source": [
    "## Take A's Sparse into Account"
   ]
  },
  {
   "cell_type": "code",
   "execution_count": 10,
   "metadata": {},
   "outputs": [],
   "source": [
    "def multiply(A, B):\n",
    "        # write your code here\n",
    "        C = [[0] * len(B[0]) for _ in range(len(A))]\n",
    "        \n",
    "        for i in range(len(C)):\n",
    "            for k in range(len(B)):\n",
    "                if A[i][k] != 0:\n",
    "                    for j in range(len(C[0])):\n",
    "                        C[i][j] += A[i][k] * B[k][j]\n",
    "        return C"
   ]
  },
  {
   "cell_type": "code",
   "execution_count": 11,
   "metadata": {},
   "outputs": [],
   "source": [
    "A = [\n",
    "  [ 1, 0, 0],\n",
    "  [-1, 0, 3]\n",
    "]\n",
    "\n",
    "B = [\n",
    "  [ 7, 0, 0 ],\n",
    "  [ 0, 0, 0 ],\n",
    "  [ 0, 0, 1 ]\n",
    "]"
   ]
  },
  {
   "cell_type": "code",
   "execution_count": 12,
   "metadata": {},
   "outputs": [
    {
     "data": {
      "text/plain": [
       "[[7, 0, 0], [-7, 0, 3]]"
      ]
     },
     "execution_count": 12,
     "metadata": {},
     "output_type": "execute_result"
    }
   ],
   "source": [
    "multiply(A, B)"
   ]
  },
  {
   "cell_type": "markdown",
   "metadata": {},
   "source": [
    "## Take A and B 's Sparse into Account"
   ]
  },
  {
   "cell_type": "code",
   "execution_count": 13,
   "metadata": {},
   "outputs": [],
   "source": [
    "def multiply(A, B):\n",
    "        # write your code here\n",
    "        ma = len(A)\n",
    "        na = len(A[0])\n",
    "        mb = len(B)\n",
    "        nb = len(B[0])\n",
    "        \n",
    "        C = [[0] * nb for _ in range(ma)]\n",
    "        \n",
    "        A_not_zero = []\n",
    "        for i in range(ma):\n",
    "            for j in range(na):\n",
    "                if A[i][j] != 0:\n",
    "                    A_not_zero.append((i, j))\n",
    "        B_not_zero = []\n",
    "        for i in range(mb):\n",
    "            for j in range(nb):\n",
    "                if B[i][j] != 0:\n",
    "                    B_not_zero.append((i, j))\n",
    "        \n",
    "        for Ai, Aj in A_not_zero:\n",
    "            for Bi, Bj in B_not_zero:\n",
    "                if Aj == Bi:\n",
    "                    C[Ai][Bj] += A[Ai][Aj] * B[Bi][Bj]\n",
    "\n",
    "    \n",
    "        return C"
   ]
  },
  {
   "cell_type": "code",
   "execution_count": 14,
   "metadata": {},
   "outputs": [],
   "source": [
    "A = [\n",
    "  [ 1, 0, 0],\n",
    "  [-1, 0, 3]\n",
    "]\n",
    "\n",
    "B = [\n",
    "  [ 7, 0, 0 ],\n",
    "  [ 0, 0, 0 ],\n",
    "  [ 0, 0, 1 ]\n",
    "]"
   ]
  },
  {
   "cell_type": "code",
   "execution_count": 15,
   "metadata": {},
   "outputs": [
    {
     "data": {
      "text/plain": [
       "[[7, 0, 0], [-7, 0, 3]]"
      ]
     },
     "execution_count": 15,
     "metadata": {},
     "output_type": "execute_result"
    }
   ],
   "source": [
    "multiply(A, B)"
   ]
  },
  {
   "cell_type": "code",
   "execution_count": null,
   "metadata": {},
   "outputs": [],
   "source": []
  }
 ],
 "metadata": {
  "kernelspec": {
   "display_name": "Python 3",
   "language": "python",
   "name": "python3"
  },
  "language_info": {
   "codemirror_mode": {
    "name": "ipython",
    "version": 3
   },
   "file_extension": ".py",
   "mimetype": "text/x-python",
   "name": "python",
   "nbconvert_exporter": "python",
   "pygments_lexer": "ipython3",
   "version": "3.7.3"
  }
 },
 "nbformat": 4,
 "nbformat_minor": 2
}
