{
 "cells": [
  {
   "cell_type": "markdown",
   "metadata": {},
   "source": [
    "## log(min(m, n)) method, amazing!"
   ]
  },
  {
   "cell_type": "code",
   "execution_count": 1,
   "metadata": {},
   "outputs": [],
   "source": [
    "def findMedianSortedArrays(A, B):\n",
    "        # write your code here\n",
    "        m, n = len(A), len(B)\n",
    "        if m > n:\n",
    "            A, B, m, n = B, A, n, m\n",
    "        if n == 0:\n",
    "            raise ValueError\n",
    "        \n",
    "        imin, imax, target_k = 0, m, (m + n + 1) // 2\n",
    "        \n",
    "        while imin <= imax:\n",
    "            i = (imin + imax) // 2\n",
    "            j = target_k - i\n",
    "            \n",
    "            if i > 0 and A[i - 1] > B[j]:\n",
    "                imax = i - 1\n",
    "            elif i < m and A[i] < B[j - 1]:\n",
    "                imin = i + 1\n",
    "            else:\n",
    "                if i == 0: max_of_left = B[j - 1]\n",
    "                elif j == 0: max_of_left = A[i - 1]\n",
    "                else: max_of_left = max(A[i - 1], B[j - 1])\n",
    "                \n",
    "                if (m + n) % 2 == 1:\n",
    "                    return max_of_left\n",
    "    \n",
    "                if i == m: min_of_right = B[j]\n",
    "                elif j == n: min_of_right = A[i]\n",
    "                else: min_of_right = min(A[i], B[j])\n",
    "                return (max_of_left + min_of_right) / 2.0"
   ]
  },
  {
   "cell_type": "code",
   "execution_count": 2,
   "metadata": {},
   "outputs": [
    {
     "data": {
      "text/plain": [
       "3.5"
      ]
     },
     "execution_count": 2,
     "metadata": {},
     "output_type": "execute_result"
    }
   ],
   "source": [
    "A = [1,2,3,4,5,6]\n",
    "B = [2,3,4,5]\n",
    "findMedianSortedArrays(A, B)"
   ]
  },
  {
   "cell_type": "code",
   "execution_count": 3,
   "metadata": {},
   "outputs": [
    {
     "data": {
      "text/plain": [
       "3"
      ]
     },
     "execution_count": 3,
     "metadata": {},
     "output_type": "execute_result"
    }
   ],
   "source": [
    "A = [1,2,3]\n",
    "B = [4,5]\n",
    "findMedianSortedArrays(A, B)"
   ]
  },
  {
   "cell_type": "code",
   "execution_count": null,
   "metadata": {},
   "outputs": [],
   "source": []
  }
 ],
 "metadata": {
  "kernelspec": {
   "display_name": "Python 3",
   "language": "python",
   "name": "python3"
  },
  "language_info": {
   "codemirror_mode": {
    "name": "ipython",
    "version": 3
   },
   "file_extension": ".py",
   "mimetype": "text/x-python",
   "name": "python",
   "nbconvert_exporter": "python",
   "pygments_lexer": "ipython3",
   "version": "3.7.3"
  }
 },
 "nbformat": 4,
 "nbformat_minor": 2
}
