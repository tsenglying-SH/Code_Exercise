{
 "cells": [
  {
   "cell_type": "code",
   "execution_count": 1,
   "metadata": {},
   "outputs": [],
   "source": [
    "\"\"\"\n",
    "Definition of Interval.\n",
    "class Interval(object):\n",
    "    def __init__(self, start, end):\n",
    "        self.start = start\n",
    "        self.end = end\n",
    "\"\"\"\n",
    "\n",
    "class Solution:\n",
    "    \"\"\"\n",
    "    @param list1: one of the given list\n",
    "    @param list2: another list\n",
    "    @return: the new sorted list of interval\n",
    "    \"\"\"\n",
    "    def mergeTwoInterval(self, list1, list2):\n",
    "        # write your code here\n",
    "        result = []\n",
    "        i, j = 0, 0\n",
    "        while i < len(list1) and j < len(list2):\n",
    "            if list1[i].start < list2[j].start:\n",
    "                self.push_back(result, list1[i])\n",
    "                i += 1\n",
    "            else:\n",
    "                self.push_back(result, list2[j])\n",
    "                j += 1\n",
    "        while i >= len(list1) and j < len(list2):\n",
    "            self.push_back(result, list2[j])\n",
    "            j += 1\n",
    "        while j >= len(list2) and i < len(list1):\n",
    "            self.push_back(result, list1[i])\n",
    "            i += 1\n",
    "        return result\n",
    "                \n",
    "    def push_back(self, result, interval):\n",
    "        if not result or result[-1].end < interval.start:\n",
    "            result.append(interval)\n",
    "            \n",
    "        if result[-1].end >= interval.start:\n",
    "            result_last = result.pop()\n",
    "            new_interval_start = result_last.start\n",
    "            new_interval_end = max(result_last.end, interval.end)\n",
    "            result.append(Interval(new_interval_start, new_interval_end))"
   ]
  },
  {
   "cell_type": "code",
   "execution_count": null,
   "metadata": {},
   "outputs": [],
   "source": []
  }
 ],
 "metadata": {
  "kernelspec": {
   "display_name": "Python 3",
   "language": "python",
   "name": "python3"
  },
  "language_info": {
   "codemirror_mode": {
    "name": "ipython",
    "version": 3
   },
   "file_extension": ".py",
   "mimetype": "text/x-python",
   "name": "python",
   "nbconvert_exporter": "python",
   "pygments_lexer": "ipython3",
   "version": "3.7.3"
  }
 },
 "nbformat": 4,
 "nbformat_minor": 2
}
