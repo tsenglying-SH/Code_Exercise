{
 "cells": [
  {
   "cell_type": "markdown",
   "metadata": {},
   "source": [
    "## 树状数组 我头晕=。="
   ]
  },
  {
   "cell_type": "code",
   "execution_count": 82,
   "metadata": {},
   "outputs": [],
   "source": [
    "class NumArray:\n",
    "\n",
    "    def __init__(self, nums):\n",
    "        self.array = nums\n",
    "        self.n = len(nums)\n",
    "        self.bit = [0] * (self.n + 1)\n",
    "        for i in range(self.n):\n",
    "            self.add(i, self.array[i])\n",
    "    \n",
    "    def lowbit(self, x):\n",
    "        return x & (-x)\n",
    "    \n",
    "    def add(self, idx, val):\n",
    "        idx += 1\n",
    "        while idx <= self.n:\n",
    "            self.bit[idx] += val\n",
    "            idx += self.lowbit(idx)\n",
    "    \n",
    "    def sum(self, idx):\n",
    "        idx += 1\n",
    "        res = 0\n",
    "        while idx > 0:\n",
    "            res += self.bit[idx]\n",
    "            idx -= self.lowbit(idx)\n",
    "        return res\n",
    "    \n",
    "    def update(self, i: int, val: int) -> None:\n",
    "        self.add(i, val - self.array[i])\n",
    "        self.array[i] = val\n",
    "            \n",
    "    def sumRange(self, i: int, j: int) -> int:\n",
    "        return self.sum(j) - self.sum(i - 1)\n",
    "\n",
    "\n",
    "# Your NumArray object will be instantiated and called as such:\n",
    "# obj = NumArray(nums)\n",
    "# obj.update(i,val)\n",
    "# param_2 = obj.sumRange(i,j)"
   ]
  },
  {
   "cell_type": "code",
   "execution_count": 83,
   "metadata": {},
   "outputs": [],
   "source": [
    "a = NumArray([1, 3, 5])"
   ]
  },
  {
   "cell_type": "code",
   "execution_count": 84,
   "metadata": {},
   "outputs": [
    {
     "data": {
      "text/plain": [
       "9"
      ]
     },
     "execution_count": 84,
     "metadata": {},
     "output_type": "execute_result"
    }
   ],
   "source": [
    "a.sumRange(0, 2) "
   ]
  },
  {
   "cell_type": "code",
   "execution_count": 85,
   "metadata": {},
   "outputs": [],
   "source": [
    "a.update(1, 2)"
   ]
  },
  {
   "cell_type": "code",
   "execution_count": 86,
   "metadata": {},
   "outputs": [
    {
     "data": {
      "text/plain": [
       "8"
      ]
     },
     "execution_count": 86,
     "metadata": {},
     "output_type": "execute_result"
    }
   ],
   "source": [
    "a.sumRange(0, 2)"
   ]
  }
 ],
 "metadata": {
  "kernelspec": {
   "display_name": "Python 3",
   "language": "python",
   "name": "python3"
  },
  "language_info": {
   "codemirror_mode": {
    "name": "ipython",
    "version": 3
   },
   "file_extension": ".py",
   "mimetype": "text/x-python",
   "name": "python",
   "nbconvert_exporter": "python",
   "pygments_lexer": "ipython3",
   "version": "3.7.3"
  }
 },
 "nbformat": 4,
 "nbformat_minor": 2
}
