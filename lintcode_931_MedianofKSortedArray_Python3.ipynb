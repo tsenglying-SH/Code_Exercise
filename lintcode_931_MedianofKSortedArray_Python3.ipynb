{
 "cells": [
  {
   "cell_type": "code",
   "execution_count": 1,
   "metadata": {},
   "outputs": [],
   "source": [
    "def findMedian(nums):\n",
    "        # write your code here\n",
    "        if not nums: return 0\n",
    "        \n",
    "        n = sum(len(num) for num in nums)\n",
    "        if n == 0:\n",
    "            return 0\n",
    "        \n",
    "        if n & 1:\n",
    "            return find_kth(nums, n // 2 + 1) * 1.0\n",
    "        return (find_kth(nums, n // 2) + find_kth(nums, n // 2 + 1)) / 2.0\n",
    "        \n",
    "def find_kth(nums, k):\n",
    "    start = min(num[0] for num in nums if num)\n",
    "    end = max(num[-1] for num in nums if num)\n",
    "\n",
    "    while start + 1 < end:\n",
    "        mid = (start + end) // 2\n",
    "        if count_smaller_or_equal(nums, mid) >= k:\n",
    "            end = mid\n",
    "        else:\n",
    "            start = mid\n",
    "\n",
    "    if count_smaller_or_equal(nums, start) >= k:\n",
    "        return start\n",
    "    return end\n",
    "\n",
    "def count_smaller_or_equal(nums, val):\n",
    "    count = 0\n",
    "    for num in nums:\n",
    "        count += count_smaller_or_equal_in_arr(num, val)\n",
    "    return count\n",
    "\n",
    "def count_smaller_or_equal_in_arr(num, val):\n",
    "    if not num:\n",
    "        return 0\n",
    "\n",
    "    start, end = 0, len(num) - 1\n",
    "    while start + 1 < end:\n",
    "        mid = (start + end) // 2\n",
    "        if num[mid] > val:\n",
    "            end = mid\n",
    "        else:\n",
    "            start = mid\n",
    "\n",
    "    if num[start] > val:\n",
    "        return start\n",
    "    if num[end] > val:\n",
    "        return end\n",
    "    return end + 1"
   ]
  },
  {
   "cell_type": "code",
   "execution_count": 3,
   "metadata": {},
   "outputs": [
    {
     "data": {
      "text/plain": [
       "6.5"
      ]
     },
     "execution_count": 3,
     "metadata": {},
     "output_type": "execute_result"
    }
   ],
   "source": [
    "nums = [[1, 5, 10], [2, 9, 19], [3, 5, 8, 11]]\n",
    "findMedian(nums)"
   ]
  },
  {
   "cell_type": "code",
   "execution_count": null,
   "metadata": {},
   "outputs": [],
   "source": []
  }
 ],
 "metadata": {
  "kernelspec": {
   "display_name": "Python 3",
   "language": "python",
   "name": "python3"
  },
  "language_info": {
   "codemirror_mode": {
    "name": "ipython",
    "version": 3
   },
   "file_extension": ".py",
   "mimetype": "text/x-python",
   "name": "python",
   "nbconvert_exporter": "python",
   "pygments_lexer": "ipython3",
   "version": "3.7.3"
  }
 },
 "nbformat": 4,
 "nbformat_minor": 2
}
