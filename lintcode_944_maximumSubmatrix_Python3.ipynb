{
 "cells": [
  {
   "cell_type": "code",
   "execution_count": 1,
   "metadata": {},
   "outputs": [],
   "source": [
    "def maxSubmatrix(matrix):\n",
    "    # write your code here\n",
    "    if not matrix or not matrix[0]:\n",
    "        return 0\n",
    "\n",
    "    res = matrix[0][0]\n",
    "    cur_sum = 0\n",
    "    rows, cols = len(matrix), len(matrix[0])\n",
    "    for start_row in range(rows):\n",
    "        compressed_cols = [0] * cols\n",
    "        for end_row in range(start_row, rows):\n",
    "            cur_sum = 0\n",
    "            for col in range(cols):\n",
    "                compressed_cols[col] += matrix[end_row][col]\n",
    "                if cur_sum < 0:\n",
    "                    cur_sum = 0\n",
    "                cur_sum += compressed_cols[col]\n",
    "                res = max(res, cur_sum)\n",
    "    return res"
   ]
  },
  {
   "cell_type": "code",
   "execution_count": 2,
   "metadata": {},
   "outputs": [],
   "source": [
    "matrix = [\n",
    "    [1,3,-1],\n",
    "    [2,3,-2],\n",
    "    [-1,-2,-3]\n",
    "]"
   ]
  },
  {
   "cell_type": "code",
   "execution_count": 3,
   "metadata": {},
   "outputs": [
    {
     "data": {
      "text/plain": [
       "9"
      ]
     },
     "execution_count": 3,
     "metadata": {},
     "output_type": "execute_result"
    }
   ],
   "source": [
    "maxSubmatrix(matrix)"
   ]
  },
  {
   "cell_type": "code",
   "execution_count": null,
   "metadata": {},
   "outputs": [],
   "source": []
  }
 ],
 "metadata": {
  "kernelspec": {
   "display_name": "Python 3",
   "language": "python",
   "name": "python3"
  },
  "language_info": {
   "codemirror_mode": {
    "name": "ipython",
    "version": 3
   },
   "file_extension": ".py",
   "mimetype": "text/x-python",
   "name": "python",
   "nbconvert_exporter": "python",
   "pygments_lexer": "ipython3",
   "version": "3.7.3"
  }
 },
 "nbformat": 4,
 "nbformat_minor": 2
}
