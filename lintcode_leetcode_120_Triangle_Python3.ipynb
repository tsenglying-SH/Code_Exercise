{
 "cells": [
  {
   "cell_type": "code",
   "execution_count": 1,
   "metadata": {},
   "outputs": [],
   "source": [
    "import sys"
   ]
  },
  {
   "cell_type": "code",
   "execution_count": 5,
   "metadata": {},
   "outputs": [],
   "source": [
    "def minimumTotal(triangle):\n",
    "    # write your code here\n",
    "    if not triangle or not triangle[-1]:\n",
    "        return 0\n",
    "\n",
    "    n = len(triangle)\n",
    "\n",
    "    dp_array = [sys.maxsize] * n\n",
    "    dp_array[0] = triangle[0][0]\n",
    "    for i in range(1, n):\n",
    "        dp_array[i] = dp_array[i - 1] + triangle[i][i]\n",
    "        for j in range(i - 1, 0, -1):\n",
    "            left = dp_array[j - 1] + triangle[i][j]\n",
    "            right = dp_array[j] + triangle[i][j]\n",
    "            dp_array[j] = min(left, right)\n",
    "\n",
    "        dp_array[0] = dp_array[0] + triangle[i][0]\n",
    "        print(dp_array)\n",
    "    return min(dp_array)"
   ]
  },
  {
   "cell_type": "code",
   "execution_count": 6,
   "metadata": {},
   "outputs": [],
   "source": [
    "triangle = [\n",
    "[2],\n",
    "[3,4],\n",
    "[6,5,7],\n",
    "[4,1,8,3]\n",
    "]"
   ]
  },
  {
   "cell_type": "code",
   "execution_count": 7,
   "metadata": {},
   "outputs": [
    {
     "name": "stdout",
     "output_type": "stream",
     "text": [
      "[5, 6, 9223372036854775807, 9223372036854775807]\n",
      "[11, 10, 13, 9223372036854775807]\n",
      "[15, 11, 18, 16]\n"
     ]
    },
    {
     "data": {
      "text/plain": [
       "11"
      ]
     },
     "execution_count": 7,
     "metadata": {},
     "output_type": "execute_result"
    }
   ],
   "source": [
    "minimumTotal(triangle)"
   ]
  },
  {
   "cell_type": "code",
   "execution_count": null,
   "metadata": {},
   "outputs": [],
   "source": []
  }
 ],
 "metadata": {
  "kernelspec": {
   "display_name": "Python 3",
   "language": "python",
   "name": "python3"
  },
  "language_info": {
   "codemirror_mode": {
    "name": "ipython",
    "version": 3
   },
   "file_extension": ".py",
   "mimetype": "text/x-python",
   "name": "python",
   "nbconvert_exporter": "python",
   "pygments_lexer": "ipython3",
   "version": "3.7.3"
  }
 },
 "nbformat": 4,
 "nbformat_minor": 2
}
