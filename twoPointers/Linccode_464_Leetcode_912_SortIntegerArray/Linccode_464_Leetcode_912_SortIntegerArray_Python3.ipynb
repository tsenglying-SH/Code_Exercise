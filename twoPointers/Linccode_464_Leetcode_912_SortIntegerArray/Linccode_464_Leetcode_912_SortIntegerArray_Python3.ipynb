{
 "cells": [
  {
   "cell_type": "markdown",
   "metadata": {},
   "source": [
    "### Inplace QuickSort, Time O(nlogn), Space O(1). You may remember the template clearly!"
   ]
  },
  {
   "cell_type": "code",
   "execution_count": 5,
   "metadata": {},
   "outputs": [],
   "source": [
    "def sortIntegers2(A):\n",
    "    # write your code here\n",
    "    partition(A, 0, len(A) - 1)\n",
    "\n",
    "def partition(A, start, end):\n",
    "    if start > end:\n",
    "        return\n",
    "\n",
    "    left, right = start, end\n",
    "    mid = left + (right - left) // 2\n",
    "    pivot = A[mid]\n",
    "\n",
    "    while left <= right:\n",
    "        while left <= right and A[left] < pivot:\n",
    "            left += 1\n",
    "        while left <= right and A[right] > pivot:\n",
    "            right -= 1\n",
    "        if left <= right:\n",
    "            A[left], A[right] = A[right], A[left]\n",
    "            left += 1\n",
    "            right -= 1\n",
    "\n",
    "    partition(A, start, right)\n",
    "    partition(A, left, end)"
   ]
  },
  {
   "cell_type": "code",
   "execution_count": 6,
   "metadata": {},
   "outputs": [],
   "source": [
    "A = [8,4,2,4,1,4,3,2,9,4,6,4]"
   ]
  },
  {
   "cell_type": "code",
   "execution_count": 7,
   "metadata": {},
   "outputs": [],
   "source": [
    "B = [10,9,8,3,2,5,4,5,5,7,6,9,1]"
   ]
  },
  {
   "cell_type": "code",
   "execution_count": 8,
   "metadata": {
    "scrolled": true
   },
   "outputs": [
    {
     "data": {
      "text/plain": [
       "[1, 2, 2, 3, 4, 4, 4, 4, 4, 6, 8, 9]"
      ]
     },
     "execution_count": 8,
     "metadata": {},
     "output_type": "execute_result"
    }
   ],
   "source": [
    "sortIntegers2(A)\n",
    "A"
   ]
  },
  {
   "cell_type": "code",
   "execution_count": 9,
   "metadata": {
    "scrolled": true
   },
   "outputs": [],
   "source": [
    "sortIntegers2(B)"
   ]
  },
  {
   "cell_type": "code",
   "execution_count": 12,
   "metadata": {},
   "outputs": [],
   "source": [
    "C = [3,2,3,3,4,3,3,2,4,4,1,2,1,1,1,3,4,3,4,2]"
   ]
  },
  {
   "cell_type": "code",
   "execution_count": 13,
   "metadata": {
    "scrolled": true
   },
   "outputs": [],
   "source": [
    "sortIntegers2(C)"
   ]
  },
  {
   "cell_type": "code",
   "execution_count": 10,
   "metadata": {},
   "outputs": [
    {
     "data": {
      "text/plain": [
       "[1, 1, 1, 1, 2, 2, 2, 2, 3, 3, 3, 3, 3, 3, 3, 4, 4, 4, 4, 4]"
      ]
     },
     "execution_count": 10,
     "metadata": {},
     "output_type": "execute_result"
    }
   ],
   "source": [
    "C"
   ]
  },
  {
   "cell_type": "markdown",
   "metadata": {},
   "source": [
    "### merge sort Time O(nlogn), Space O(n). You may remember the template clearly!"
   ]
  },
  {
   "cell_type": "code",
   "execution_count": 1,
   "metadata": {},
   "outputs": [],
   "source": [
    "def sortIntegers2(A):\n",
    "    # write your code here\n",
    "    if not A:\n",
    "        return \n",
    "    helper = [0] * len(A)\n",
    "    merge_sort(A, 0, len(A) - 1, helper)\n",
    "\n",
    "def merge_sort(A, start, end, helper):\n",
    "    if start >= end:\n",
    "        return\n",
    "\n",
    "    mid = start + (end - start) // 2\n",
    "    merge_sort(A, start, mid, helper)\n",
    "    merge_sort(A, mid + 1, end, helper)\n",
    "\n",
    "    merge(A, start, end, helper)\n",
    "\n",
    "def merge(A, start, end, helper):\n",
    "    if start >= end:\n",
    "        return\n",
    "\n",
    "    mid = start + (end - start) // 2\n",
    "    l, r, k = start, mid + 1, start\n",
    "    while l <= mid and r <= end:\n",
    "        if A[l] < A[r]:\n",
    "            helper[k] = A[l]\n",
    "            l += 1\n",
    "            k += 1\n",
    "        else:\n",
    "            helper[k] = A[r]\n",
    "            r += 1\n",
    "            k += 1\n",
    "\n",
    "    while l <= mid:\n",
    "        helper[k] = A[l]\n",
    "        l += 1\n",
    "        k += 1\n",
    "\n",
    "    while r <= end:\n",
    "        helper[k] = A[r]\n",
    "        r += 1\n",
    "        k += 1\n",
    "\n",
    "    for i in range(start, end + 1):\n",
    "        A[i] = helper[i]\n"
   ]
  },
  {
   "cell_type": "code",
   "execution_count": 2,
   "metadata": {},
   "outputs": [],
   "source": [
    "A = [8,4,2,4,1,4,3,2,9,4,6,4]"
   ]
  },
  {
   "cell_type": "code",
   "execution_count": 3,
   "metadata": {},
   "outputs": [],
   "source": [
    "B = [10,9,8,3,2,5,4,5,5,7,6,9,1]"
   ]
  },
  {
   "cell_type": "code",
   "execution_count": 4,
   "metadata": {},
   "outputs": [],
   "source": [
    "C = [3,2,3,3,4,3,3,2,4,4,1,2,1,1,1,3,4,3,4,2]"
   ]
  },
  {
   "cell_type": "code",
   "execution_count": 5,
   "metadata": {
    "scrolled": false
   },
   "outputs": [
    {
     "data": {
      "text/plain": [
       "[1, 2, 2, 3, 4, 4, 4, 4, 4, 6, 8, 9]"
      ]
     },
     "execution_count": 5,
     "metadata": {},
     "output_type": "execute_result"
    }
   ],
   "source": [
    "sortIntegers2(A)\n",
    "A"
   ]
  },
  {
   "cell_type": "code",
   "execution_count": 6,
   "metadata": {},
   "outputs": [
    {
     "data": {
      "text/plain": [
       "[1, 2, 3, 4, 5, 5, 5, 6, 7, 8, 9, 9, 10]"
      ]
     },
     "execution_count": 6,
     "metadata": {},
     "output_type": "execute_result"
    }
   ],
   "source": [
    "sortIntegers2(B)\n",
    "B"
   ]
  },
  {
   "cell_type": "code",
   "execution_count": 7,
   "metadata": {},
   "outputs": [
    {
     "data": {
      "text/plain": [
       "[1, 1, 1, 1, 2, 2, 2, 2, 3, 3, 3, 3, 3, 3, 3, 4, 4, 4, 4, 4]"
      ]
     },
     "execution_count": 7,
     "metadata": {},
     "output_type": "execute_result"
    }
   ],
   "source": [
    "sortIntegers2(C)\n",
    "C"
   ]
  },
  {
   "cell_type": "markdown",
   "metadata": {},
   "source": [
    "## heap sort, heapify O(n), total O(nlogn)"
   ]
  },
  {
   "cell_type": "code",
   "execution_count": 90,
   "metadata": {},
   "outputs": [],
   "source": [
    "def sortIntegers2(A):\n",
    "    # write your code here\n",
    "    if not A:\n",
    "        return\n",
    "    # build heap\n",
    "    for i in range(len(A) // 2, -1, -1):\n",
    "        down_filt(A, i, len(A) - 1)\n",
    "    # heap sort\n",
    "    for i in range(len(A) - 1, -1, -1):\n",
    "        A[0], A[i] = A[i], A[0]\n",
    "        down_filt(A, 0, i - 1)\n",
    "    return A\n",
    "\"\"\"\n",
    "def down_filt(A, i, end):\n",
    "    origin = A[i]\n",
    "    maximum = i\n",
    "    while i <= end:\n",
    "        left = 2 * i + 1\n",
    "        right = 2 * i + 2\n",
    "        if left <= end and A[left] > origin:\n",
    "            maximum = left\n",
    "        if right <= end and A[right] > origin and A[right] > A[left]:\n",
    "            maximum = right\n",
    "        if maximum == i:\n",
    "            break\n",
    "        A[i] = A[maximum]\n",
    "        i = maximum\n",
    "    A[i] = origin\n",
    "\"\"\"\n",
    "\n",
    "def down_filt(A, i, end):\n",
    "    origin = A[i]\n",
    "    child = i * 2 + 1\n",
    "    while child <= end:\n",
    "        if child + 1 <= end and A[child + 1] > A[child]:\n",
    "            child += 1\n",
    "        if A[child] <= origin:\n",
    "            break\n",
    "        A[i] = A[child]\n",
    "        i = child\n",
    "        child = 2 * i + 1\n",
    "    A[i] = origin\n"
   ]
  },
  {
   "cell_type": "code",
   "execution_count": 91,
   "metadata": {},
   "outputs": [],
   "source": [
    "A = [8,4,2,4,1,4,3,2,9,4,6,4]"
   ]
  },
  {
   "cell_type": "code",
   "execution_count": 92,
   "metadata": {},
   "outputs": [],
   "source": [
    "B = [10,9,8,3,2,5,4,5,5,7,6,9,1]"
   ]
  },
  {
   "cell_type": "code",
   "execution_count": 93,
   "metadata": {},
   "outputs": [],
   "source": [
    "C = [3,2,3,3,4,3,3,2,4,4,1,2,1,1,1,3,4,3,4,2]"
   ]
  },
  {
   "cell_type": "code",
   "execution_count": 97,
   "metadata": {
    "scrolled": false
   },
   "outputs": [
    {
     "data": {
      "text/plain": [
       "[1, 2, 2, 3, 4, 4, 4, 4, 4, 6, 8, 9]"
      ]
     },
     "execution_count": 97,
     "metadata": {},
     "output_type": "execute_result"
    }
   ],
   "source": [
    "sortIntegers2(A)"
   ]
  },
  {
   "cell_type": "code",
   "execution_count": 98,
   "metadata": {},
   "outputs": [
    {
     "data": {
      "text/plain": [
       "[1, 2, 3, 4, 5, 5, 5, 6, 7, 8, 9, 9, 10]"
      ]
     },
     "execution_count": 98,
     "metadata": {},
     "output_type": "execute_result"
    }
   ],
   "source": [
    "sortIntegers2(B)"
   ]
  },
  {
   "cell_type": "code",
   "execution_count": 99,
   "metadata": {},
   "outputs": [
    {
     "data": {
      "text/plain": [
       "[1, 1, 1, 1, 2, 2, 2, 2, 3, 3, 3, 3, 3, 3, 3, 4, 4, 4, 4, 4]"
      ]
     },
     "execution_count": 99,
     "metadata": {},
     "output_type": "execute_result"
    }
   ],
   "source": [
    "sortIntegers2(C)"
   ]
  },
  {
   "cell_type": "code",
   "execution_count": 100,
   "metadata": {},
   "outputs": [],
   "source": [
    "A = [19,-10,-2,40,3,36,57,25,66,51,5,40,-8,43,9,-5,0,4,55,28,63,67,-2,35,57,0,0,30,17,55,22,34,-4,42,57,52,4,65,6,-2,8,12,31,43,26,34,31,19,-3,36,34,11,58,23,13,7,17,10,33,-5,10,53,14,56,18,8,-6,-2,37,7]"
   ]
  },
  {
   "cell_type": "code",
   "execution_count": 101,
   "metadata": {},
   "outputs": [
    {
     "data": {
      "text/plain": [
       "[-10,\n",
       " -8,\n",
       " -6,\n",
       " -5,\n",
       " -5,\n",
       " -4,\n",
       " -3,\n",
       " -2,\n",
       " -2,\n",
       " -2,\n",
       " -2,\n",
       " 0,\n",
       " 0,\n",
       " 0,\n",
       " 3,\n",
       " 4,\n",
       " 4,\n",
       " 5,\n",
       " 6,\n",
       " 7,\n",
       " 7,\n",
       " 8,\n",
       " 8,\n",
       " 9,\n",
       " 10,\n",
       " 10,\n",
       " 11,\n",
       " 12,\n",
       " 13,\n",
       " 14,\n",
       " 17,\n",
       " 17,\n",
       " 18,\n",
       " 19,\n",
       " 19,\n",
       " 22,\n",
       " 23,\n",
       " 25,\n",
       " 26,\n",
       " 28,\n",
       " 30,\n",
       " 31,\n",
       " 31,\n",
       " 33,\n",
       " 34,\n",
       " 34,\n",
       " 34,\n",
       " 35,\n",
       " 36,\n",
       " 36,\n",
       " 37,\n",
       " 40,\n",
       " 40,\n",
       " 42,\n",
       " 43,\n",
       " 43,\n",
       " 51,\n",
       " 52,\n",
       " 53,\n",
       " 55,\n",
       " 55,\n",
       " 56,\n",
       " 57,\n",
       " 57,\n",
       " 57,\n",
       " 58,\n",
       " 63,\n",
       " 65,\n",
       " 66,\n",
       " 67]"
      ]
     },
     "execution_count": 101,
     "metadata": {},
     "output_type": "execute_result"
    }
   ],
   "source": [
    "sortIntegers2(A)"
   ]
  },
  {
   "cell_type": "code",
   "execution_count": null,
   "metadata": {},
   "outputs": [],
   "source": []
  },
  {
   "cell_type": "code",
   "execution_count": null,
   "metadata": {},
   "outputs": [],
   "source": []
  }
 ],
 "metadata": {
  "kernelspec": {
   "display_name": "Python 3",
   "language": "python",
   "name": "python3"
  },
  "language_info": {
   "codemirror_mode": {
    "name": "ipython",
    "version": 3
   },
   "file_extension": ".py",
   "mimetype": "text/x-python",
   "name": "python",
   "nbconvert_exporter": "python",
   "pygments_lexer": "ipython3",
   "version": "3.7.3"
  }
 },
 "nbformat": 4,
 "nbformat_minor": 2
}
