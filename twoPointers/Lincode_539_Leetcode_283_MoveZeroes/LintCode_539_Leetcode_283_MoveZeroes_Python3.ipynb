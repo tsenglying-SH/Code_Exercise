{
 "cells": [
  {
   "cell_type": "markdown",
   "metadata": {},
   "source": [
    "## do write operation as few as possible"
   ]
  },
  {
   "cell_type": "code",
   "execution_count": 1,
   "metadata": {},
   "outputs": [],
   "source": [
    "def moveZeroes(nums):\n",
    "    # write your code here\n",
    "    if not nums:\n",
    "        return []\n",
    "\n",
    "    slow, fast = 0, 0\n",
    "    while fast < len(nums):\n",
    "        \n",
    "        if nums[fast] != 0:\n",
    "            if slow != fast:\n",
    "                nums[slow] = nums[fast]\n",
    "            slow += 1\n",
    "        fast += 1\n",
    "\n",
    "    while slow < len(nums):\n",
    "        if nums[slow] != 0:\n",
    "            nums[slow] = 0\n",
    "        slow += 1\n",
    "        print(nums)"
   ]
  },
  {
   "cell_type": "code",
   "execution_count": 2,
   "metadata": {},
   "outputs": [
    {
     "name": "stdout",
     "output_type": "stream",
     "text": [
      "[1, 1, 3, 12, 0, 12]\n",
      "[1, 1, 3, 12, 0, 0]\n"
     ]
    }
   ],
   "source": [
    "moveZeroes([1,0, 1, 0, 3, 12])"
   ]
  },
  {
   "cell_type": "code",
   "execution_count": 3,
   "metadata": {
    "scrolled": true
   },
   "outputs": [
    {
     "name": "stdout",
     "output_type": "stream",
     "text": [
      "[3, 1, 0, 3, 1]\n",
      "[3, 1, 0, 0, 1]\n",
      "[3, 1, 0, 0, 0]\n"
     ]
    }
   ],
   "source": [
    "moveZeroes([0, 0, 0, 3, 1])"
   ]
  },
  {
   "cell_type": "code",
   "execution_count": null,
   "metadata": {},
   "outputs": [],
   "source": []
  }
 ],
 "metadata": {
  "kernelspec": {
   "display_name": "Python 3",
   "language": "python",
   "name": "python3"
  },
  "language_info": {
   "codemirror_mode": {
    "name": "ipython",
    "version": 3
   },
   "file_extension": ".py",
   "mimetype": "text/x-python",
   "name": "python",
   "nbconvert_exporter": "python",
   "pygments_lexer": "ipython3",
   "version": "3.7.3"
  }
 },
 "nbformat": 4,
 "nbformat_minor": 2
}
