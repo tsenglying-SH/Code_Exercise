{
 "cells": [
  {
   "cell_type": "markdown",
   "metadata": {},
   "source": [
    "## Time O(n), Space O(n)"
   ]
  },
  {
   "cell_type": "code",
   "execution_count": 5,
   "metadata": {},
   "outputs": [],
   "source": [
    "def deduplication(nums):\n",
    "    # write your code here\n",
    "    if not nums:\n",
    "        return 0\n",
    "\n",
    "    elements = set()\n",
    "    slow, fast = 0, 0\n",
    "\n",
    "    while fast < len(nums):\n",
    "        if nums[fast] not in elements:\n",
    "            elements.add(nums[fast])\n",
    "            if fast != slow:\n",
    "                nums[slow] = nums[fast]\n",
    "            slow += 1\n",
    "        fast += 1\n",
    "    print(nums)\n",
    "    return slow"
   ]
  },
  {
   "cell_type": "code",
   "execution_count": 6,
   "metadata": {
    "scrolled": false
   },
   "outputs": [
    {
     "name": "stdout",
     "output_type": "stream",
     "text": [
      "[1, 3, 4, 2, 5, 2, 2, 2, 5, 3]\n"
     ]
    },
    {
     "data": {
      "text/plain": [
       "5"
      ]
     },
     "execution_count": 6,
     "metadata": {},
     "output_type": "execute_result"
    }
   ],
   "source": [
    "deduplication([1,3,1,4,4,2,2,2,5,3])"
   ]
  },
  {
   "cell_type": "markdown",
   "metadata": {},
   "source": [
    "## Time O(nlogn), Space O(1)"
   ]
  },
  {
   "cell_type": "code",
   "execution_count": 7,
   "metadata": {},
   "outputs": [],
   "source": [
    "def deduplication(nums):\n",
    "    # write your code here\n",
    "    if not nums:\n",
    "        return 0\n",
    "\n",
    "    if len(nums) == 1:\n",
    "        return 1\n",
    "\n",
    "    nums.sort()\n",
    "\n",
    "    slow, fast = 1, 1\n",
    "\n",
    "    while fast < len(nums):\n",
    "        if nums[fast] != nums[fast - 1]:\n",
    "            if fast != slow:\n",
    "                nums[slow] = nums[fast]\n",
    "            slow += 1\n",
    "        fast += 1\n",
    "    return slow"
   ]
  },
  {
   "cell_type": "code",
   "execution_count": 8,
   "metadata": {},
   "outputs": [
    {
     "data": {
      "text/plain": [
       "5"
      ]
     },
     "execution_count": 8,
     "metadata": {},
     "output_type": "execute_result"
    }
   ],
   "source": [
    "deduplication([1,3,1,4,4,2,2,2,5,3])"
   ]
  },
  {
   "cell_type": "code",
   "execution_count": null,
   "metadata": {},
   "outputs": [],
   "source": []
  }
 ],
 "metadata": {
  "kernelspec": {
   "display_name": "Python 3",
   "language": "python",
   "name": "python3"
  },
  "language_info": {
   "codemirror_mode": {
    "name": "ipython",
    "version": 3
   },
   "file_extension": ".py",
   "mimetype": "text/x-python",
   "name": "python",
   "nbconvert_exporter": "python",
   "pygments_lexer": "ipython3",
   "version": "3.7.3"
  }
 },
 "nbformat": 4,
 "nbformat_minor": 2
}
