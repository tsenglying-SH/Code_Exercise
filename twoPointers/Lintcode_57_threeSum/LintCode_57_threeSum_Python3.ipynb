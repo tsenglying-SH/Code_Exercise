{
 "cells": [
  {
   "cell_type": "markdown",
   "metadata": {},
   "source": [
    "## For every elements in array, do two pointers to the elements after it. Time O(n ^ 2)"
   ]
  },
  {
   "cell_type": "code",
   "execution_count": 31,
   "metadata": {},
   "outputs": [],
   "source": [
    "def threeSum(numbers):\n",
    "    # write your code here\n",
    "    if len(numbers) <= 2:\n",
    "        return []\n",
    "\n",
    "    numbers.sort()\n",
    "    res = []\n",
    "\n",
    "    for i in range(len(numbers) - 1):\n",
    "        if i > 0  and numbers[i] == numbers[i - 1]: # to eliminate the duplicate\n",
    "            continue\n",
    "\n",
    "        l, r = i + 1, len(numbers) - 1\n",
    "        target_sum = -numbers[i]\n",
    "\n",
    "        while l < r:\n",
    "            if numbers[l] + numbers[r] == target_sum:\n",
    "                if l == i + 1 or numbers[l] != numbers[l - 1]: # to eliminate the duplicate\n",
    "                    res.append([numbers[i], numbers[l], numbers[r]])\n",
    "                l += 1\n",
    "            elif numbers[l] + numbers[r] > target_sum:\n",
    "                r -= 1\n",
    "            else:\n",
    "                l += 1\n",
    "    return res"
   ]
  },
  {
   "cell_type": "code",
   "execution_count": 32,
   "metadata": {},
   "outputs": [
    {
     "data": {
      "text/plain": [
       "[[-11, 4, 7],\n",
       " [-7, 2, 5],\n",
       " [-7, 3, 4],\n",
       " [-5, -2, 7],\n",
       " [-5, 1, 4],\n",
       " [-5, 2, 3],\n",
       " [-4, -3, 7],\n",
       " [-4, -1, 5],\n",
       " [-4, 1, 3],\n",
       " [-3, -2, 5],\n",
       " [-3, -1, 4],\n",
       " [-3, 1, 2],\n",
       " [-2, -2, 4],\n",
       " [-2, -1, 3],\n",
       " [-1, -1, 2]]"
      ]
     },
     "execution_count": 32,
     "metadata": {},
     "output_type": "execute_result"
    }
   ],
   "source": [
    "threeSum([-2,-3,5,-1,-4,5,-11,7,1,2,3,4,-7,-1,-2,-3,-4,-5])"
   ]
  },
  {
   "cell_type": "code",
   "execution_count": 35,
   "metadata": {},
   "outputs": [],
   "source": [
    "A = [-2,-3,5,-1,-4,5,-11,7,1,2,3,4,-7,-1,-2,-3,-4,-5]"
   ]
  },
  {
   "cell_type": "code",
   "execution_count": 36,
   "metadata": {},
   "outputs": [],
   "source": [
    "A.sort()"
   ]
  },
  {
   "cell_type": "code",
   "execution_count": 37,
   "metadata": {},
   "outputs": [
    {
     "data": {
      "text/plain": [
       "[-11, -7, -5, -4, -4, -3, -3, -2, -2, -1, -1, 1, 2, 3, 4, 5, 5, 7]"
      ]
     },
     "execution_count": 37,
     "metadata": {},
     "output_type": "execute_result"
    }
   ],
   "source": [
    "A"
   ]
  }
 ],
 "metadata": {
  "kernelspec": {
   "display_name": "Python 3",
   "language": "python",
   "name": "python3"
  },
  "language_info": {
   "codemirror_mode": {
    "name": "ipython",
    "version": 3
   },
   "file_extension": ".py",
   "mimetype": "text/x-python",
   "name": "python",
   "nbconvert_exporter": "python",
   "pygments_lexer": "ipython3",
   "version": "3.7.3"
  }
 },
 "nbformat": 4,
 "nbformat_minor": 2
}
